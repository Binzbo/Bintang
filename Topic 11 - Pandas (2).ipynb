{
 "cells": [
  {
   "cell_type": "markdown",
   "id": "1d2431a1",
   "metadata": {},
   "source": [
    "# Pembacaan Data dari File di Pandas\n",
    "\n",
    "Pandas memiliki kelebihan yaitu dapat menampung data hasil bacaan dari file yang kemudian nilainya akan diproses dalam struktur data series atau dataframe. Ada beberapa jenis file yang didukung oleh pandas dan dua di antaranya yang paling sering digunakan adalah file CSV dan Excel. Berikut adalah pembahasan tentang bagaimana suatu file dibaca oleh pandas."
   ]
  },
  {
   "cell_type": "markdown",
   "id": "afd545f8",
   "metadata": {},
   "source": [
    "## File CSV\n",
    "\n",
    "Salah satu tipe file yang paling populer dalam data science adalah file csv. File csv berstruktur mirip seperti tabel (secara logika) dengan memanfaatkan karakter ``,`` (koma) atau ``;`` (titik koma) sebagai pemisah data antar kolom. Sebagai contoh, silakan perhatikan contoh file CSV berikut:\n",
    "\n",
    "<b>produk.csv</b>\n",
    "\n",
    "```csv\n",
    "kode_produk,nama_produk,jumlah\n",
    "A,AC,10\n",
    "B,Becak,3\n",
    "C,Charger,25\n",
    "D,Dadu,100\n",
    "E,Engsel Pintu,5\n",
    "\n",
    "```\n",
    "\n",
    "atau bisa juga seperti ini:\n",
    "\n",
    "<b>product2.csv</b>\n",
    "\n",
    "```csv\n",
    "kode_produk;nama_produk;jumlah\n",
    "A;AC;10\n",
    "B;Becak;3\n",
    "C;Charger;25\n",
    "D;Dadu;100\n",
    "E;Engsel Pintu;5\n",
    "\n",
    "```\n",
    "\n",
    "File csv biasanya diawali dengan baris header untuk menyatakan nama kolom dan diikuti dengan baris data setelahnya. Untuk memisahkan antar baris data, file csv menggunakan 1 karakter enter. Perhatikan juga bahwa pemberian karakter enter diberikan juga pada baris data terakhir. Penggunaan delimiter harus seragam dalam sebuah CSV. Pandas mempunyai fungsi ``read_csv()`` untuk melakukan pembacaan data dari file CSV. Berikut contoh penggunaannya:\n",
    "\n",
    "><b>Catatan:</b> Buat dahulu file product.csv dan product2.csv (copy-paste saja datanya termasuk enter) menggunakan data yang sudah disebutkan sebelumnya dan simpan di folder yang sama dengan file .ipynb atau .py anda untuk mempermudah pengaksesan."
   ]
  },
  {
   "cell_type": "code",
   "execution_count": 1,
   "id": "0a6a2ee5",
   "metadata": {},
   "outputs": [
    {
     "data": {
      "text/html": [
       "<div>\n",
       "<style scoped>\n",
       "    .dataframe tbody tr th:only-of-type {\n",
       "        vertical-align: middle;\n",
       "    }\n",
       "\n",
       "    .dataframe tbody tr th {\n",
       "        vertical-align: top;\n",
       "    }\n",
       "\n",
       "    .dataframe thead th {\n",
       "        text-align: right;\n",
       "    }\n",
       "</style>\n",
       "<table border=\"1\" class=\"dataframe\">\n",
       "  <thead>\n",
       "    <tr style=\"text-align: right;\">\n",
       "      <th></th>\n",
       "      <th>kode_produk</th>\n",
       "      <th>nama_produk</th>\n",
       "      <th>jumlah</th>\n",
       "    </tr>\n",
       "  </thead>\n",
       "  <tbody>\n",
       "    <tr>\n",
       "      <th>0</th>\n",
       "      <td>A</td>\n",
       "      <td>AC</td>\n",
       "      <td>10</td>\n",
       "    </tr>\n",
       "    <tr>\n",
       "      <th>1</th>\n",
       "      <td>B</td>\n",
       "      <td>Becak</td>\n",
       "      <td>3</td>\n",
       "    </tr>\n",
       "    <tr>\n",
       "      <th>2</th>\n",
       "      <td>C</td>\n",
       "      <td>Charger</td>\n",
       "      <td>25</td>\n",
       "    </tr>\n",
       "    <tr>\n",
       "      <th>3</th>\n",
       "      <td>D</td>\n",
       "      <td>Dadu</td>\n",
       "      <td>100</td>\n",
       "    </tr>\n",
       "    <tr>\n",
       "      <th>4</th>\n",
       "      <td>E</td>\n",
       "      <td>Engsel Pintu</td>\n",
       "      <td>5</td>\n",
       "    </tr>\n",
       "  </tbody>\n",
       "</table>\n",
       "</div>"
      ],
      "text/plain": [
       "  kode_produk   nama_produk  jumlah\n",
       "0           A            AC      10\n",
       "1           B         Becak       3\n",
       "2           C       Charger      25\n",
       "3           D          Dadu     100\n",
       "4           E  Engsel Pintu       5"
      ]
     },
     "execution_count": 1,
     "metadata": {},
     "output_type": "execute_result"
    }
   ],
   "source": [
    "import pandas as pd\n",
    "\n",
    "file_path = 'product.csv'\n",
    "data_produk = pd.read_csv(file_path)\n",
    "\n",
    "data_produk"
   ]
  },
  {
   "cell_type": "markdown",
   "id": "3bb07aab",
   "metadata": {},
   "source": [
    "Untuk mengakses data pada file CSV yang memiliki delimiter berupa tanda ``;``, maka kita menambahkan parameter ``delimiter`` sebagai berikut:"
   ]
  },
  {
   "cell_type": "code",
   "execution_count": 2,
   "id": "bc350ce5",
   "metadata": {},
   "outputs": [
    {
     "data": {
      "text/html": [
       "<div>\n",
       "<style scoped>\n",
       "    .dataframe tbody tr th:only-of-type {\n",
       "        vertical-align: middle;\n",
       "    }\n",
       "\n",
       "    .dataframe tbody tr th {\n",
       "        vertical-align: top;\n",
       "    }\n",
       "\n",
       "    .dataframe thead th {\n",
       "        text-align: right;\n",
       "    }\n",
       "</style>\n",
       "<table border=\"1\" class=\"dataframe\">\n",
       "  <thead>\n",
       "    <tr style=\"text-align: right;\">\n",
       "      <th></th>\n",
       "      <th>kode_produk</th>\n",
       "      <th>nama_produk</th>\n",
       "      <th>jumlah</th>\n",
       "    </tr>\n",
       "  </thead>\n",
       "  <tbody>\n",
       "    <tr>\n",
       "      <th>0</th>\n",
       "      <td>A</td>\n",
       "      <td>AC</td>\n",
       "      <td>10</td>\n",
       "    </tr>\n",
       "    <tr>\n",
       "      <th>1</th>\n",
       "      <td>B</td>\n",
       "      <td>Becak</td>\n",
       "      <td>3</td>\n",
       "    </tr>\n",
       "    <tr>\n",
       "      <th>2</th>\n",
       "      <td>C</td>\n",
       "      <td>Charger</td>\n",
       "      <td>25</td>\n",
       "    </tr>\n",
       "    <tr>\n",
       "      <th>3</th>\n",
       "      <td>D</td>\n",
       "      <td>Dadu</td>\n",
       "      <td>100</td>\n",
       "    </tr>\n",
       "    <tr>\n",
       "      <th>4</th>\n",
       "      <td>E</td>\n",
       "      <td>Engsel Pintu</td>\n",
       "      <td>5</td>\n",
       "    </tr>\n",
       "  </tbody>\n",
       "</table>\n",
       "</div>"
      ],
      "text/plain": [
       "  kode_produk   nama_produk  jumlah\n",
       "0           A            AC      10\n",
       "1           B         Becak       3\n",
       "2           C       Charger      25\n",
       "3           D          Dadu     100\n",
       "4           E  Engsel Pintu       5"
      ]
     },
     "execution_count": 2,
     "metadata": {},
     "output_type": "execute_result"
    }
   ],
   "source": [
    "file_path = 'product2.csv'\n",
    "data_produk = pd.read_csv(file_path, delimiter = ';')\n",
    "\n",
    "data_produk"
   ]
  },
  {
   "cell_type": "code",
   "execution_count": null,
   "id": "a6dfc8fe",
   "metadata": {},
   "outputs": [],
   "source": []
  }
 ],
 "metadata": {
  "kernelspec": {
   "display_name": "Python 3",
   "language": "python",
   "name": "python3"
  },
  "language_info": {
   "codemirror_mode": {
    "name": "ipython",
    "version": 3
   },
   "file_extension": ".py",
   "mimetype": "text/x-python",
   "name": "python",
   "nbconvert_exporter": "python",
   "pygments_lexer": "ipython3",
   "version": "3.8.10"
  }
 },
 "nbformat": 4,
 "nbformat_minor": 5
}
