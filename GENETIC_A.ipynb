{
  "nbformat": 4,
  "nbformat_minor": 0,
  "metadata": {
    "colab": {
      "provenance": [],
      "authorship_tag": "ABX9TyOviLuQaEBocseA0/aqq6+m",
      "include_colab_link": true
    },
    "kernelspec": {
      "name": "python3",
      "display_name": "Python 3"
    },
    "language_info": {
      "name": "python"
    }
  },
  "cells": [
    {
      "cell_type": "markdown",
      "metadata": {
        "id": "view-in-github",
        "colab_type": "text"
      },
      "source": [
        "<a href=\"https://colab.research.google.com/github/Binzbo/Bintang/blob/master/GENETIC_A.ipynb\" target=\"_parent\"><img src=\"https://colab.research.google.com/assets/colab-badge.svg\" alt=\"Open In Colab\"/></a>"
      ]
    },
    {
      "cell_type": "code",
      "source": [
        "import numpy as np\n",
        "import random\n",
        "\n",
        "# Define the starting point and the points dictionary\n",
        "start_point = 'H'\n",
        "points = {\n",
        "    'A': (5, 15),\n",
        "    'B': (30, 10),\n",
        "    'C': (10, 5),\n",
        "    'D': (20, 15),\n",
        "    'E': (10, 25),\n",
        "    'F': (20, 30),  # Yellow customer (Priority)\n",
        "    'G': (5, 45),\n",
        "    'H': (30, 35),  # Starting point\n",
        "    'I': (25, 45),  # Red customer (Special)\n",
        "    'J': (40, 10)\n",
        "}\n",
        "\n",
        "# Calculate distances\n",
        "distances = {}\n",
        "for key1, coord1 in points.items():\n",
        "    for key2, coord2 in points.items():\n",
        "        if key1 != key2:\n",
        "            distance = np.sqrt((coord1[0] - coord2[0])**2 + (coord1[1] - coord2[1])**2)\n",
        "            distances[(key1, key2)] = distance\n",
        "\n",
        "# Population size and other GA parameters\n",
        "n_population = 10  # Number of paths in the population\n",
        "n_iterations = 100  # Number of iterations of the GA\n",
        "\n",
        "# Initialize population with random paths\n",
        "def initialize_population(pop_size, points):\n",
        "    population = []\n",
        "    fixed_points = list(points.keys())\n",
        "    fixed_points.remove(start_point)  # Remove the starting point to fix it at the beginning of each path\n",
        "    for _ in range(pop_size):\n",
        "        path = fixed_points[:]\n",
        "        random.shuffle(path)\n",
        "        path.insert(0, start_point)  # Start each path from the starting point\n",
        "        population.append(path)\n",
        "    return population\n",
        "\n",
        "# Calculate the fitness of a path\n",
        "def calculate_cost(path):\n",
        "    cost = 0\n",
        "    bonus = 15000 * len(path)  # Rp 15,000 bonus for each delivery\n",
        "    total_time = calculate_time(path)\n",
        "    fuel_cost = total_time * 1000  # Rp 1,000 per KM\n",
        "\n",
        "    time_tracker = 0\n",
        "    for i in range(1, len(path)):\n",
        "        time_tracker += distances[(path[i-1], path[i])]\n",
        "        if path[i] == 'F' and time_tracker > 120:  # Yellow customer priority\n",
        "            cost -= ((time_tracker - 120) // 30) * 5000\n",
        "        elif path[i] == 'I':\n",
        "            if time_tracker <= 180:\n",
        "                bonus += 25000  # Red customer special bonus\n",
        "            else:\n",
        "                cost -= ((time_tracker - 180) // 30) * 10000\n",
        "\n",
        "    net_gain = 50000 + bonus - cost - fuel_cost  # Initial Rp 50,000\n",
        "    return net_gain\n",
        "\n",
        "def fitness(path):\n",
        "    return calculate_cost(path)  # Higher cost indicates a better path\n",
        "\n",
        "# Genetic Algorithm Main Execution\n",
        "population = initialize_population(n_population, points)\n",
        "for _ in range(n_iterations):\n",
        "    # Continue with selection, crossover, mutation, and replacing old population with the new\n",
        "    # This will require you to define or adjust your selection, crossover, and mutation functions as needed\n",
        "    pass\n",
        "\n",
        "# Determine the best path and its gain\n",
        "best_path = max(population, key=fitness)\n",
        "best_path_gain = fitness(best_path)\n",
        "\n",
        "print(\"Best Path:\", best_path)\n",
        "print(\"Total Pendapatan Abang hari itu:\", best_path_gain)\n"
      ],
      "metadata": {
        "colab": {
          "base_uri": "https://localhost:8080/"
        },
        "id": "AGNONIK2j56s",
        "outputId": "4eac5662-2716-4c64-c675-684338511f14"
      },
      "execution_count": 34,
      "outputs": [
        {
          "output_type": "stream",
          "name": "stdout",
          "text": [
            "Best Path: ['H', 'I', 'A', 'C', 'F', 'G', 'E', 'D', 'J', 'B']\n",
            "Total Pendapatan Abang hari itu: 53071.58811918573\n"
          ]
        }
      ]
    }
  ]
}