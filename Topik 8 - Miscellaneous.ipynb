{
  "nbformat": 4,
  "nbformat_minor": 0,
  "metadata": {
    "colab": {
      "name": "Topik 8 - Miscellaneous.ipynb",
      "provenance": [],
      "toc_visible": true
    },
    "kernelspec": {
      "name": "python3",
      "display_name": "Python 3"
    },
    "language_info": {
      "name": "python"
    }
  },
  "cells": [
    {
      "cell_type": "markdown",
      "metadata": {
        "id": "XU3Ef-TkyGYi"
      },
      "source": [
        "#Topik 8 - Miscellaneous\n",
        "\n",
        "Topik ini merupakan topik tambahan yang bisa menambah pengetahuan tentang fitur-fitur yang ada di Python.\n",
        "\n",
        "Fokus bahasannya adalah:\n",
        "\n",
        "1. Generators, iterators, dan closures\n",
        "2. Bekerja dengan file-system, directory tree dan files.\n",
        "3. Membahas beberapa Python Standard Library modules, yaitu: os, datetime, time, dan calendar.\n"
      ]
    },
    {
      "cell_type": "markdown",
      "metadata": {
        "id": "xQpRbVxf0c2I"
      },
      "source": [
        "## Generators\n",
        "\n",
        "<b>Generator</b> di Python adalah sebuah kode yang dispesialisasi dan memiliki kemampuan untuk membuat sekumpulan nilai dan mengontrol proses iterasinya. Dikarenakan mengurus masalah iterasi juga, generator sering disebut sebagai iterators.\n",
        "\n",
        "Fungsi ``range()`` adalah sebuah generator (atau iterator)."
      ]
    },
    {
      "cell_type": "markdown",
      "metadata": {
        "id": "1J3AD4NP5LoT"
      },
      "source": [
        "### Iterator\n",
        "\n",
        "Sebuah iterator harus mengikuti standar iterator protocol. Iterator protocol adalah sebuah cara bagaimana sebuah object harus bertindak untuk mengukuti aturan yang timbul di konteks statement ``for`` dan ``in``. Sebuah iterator harus menyediakan dua method, yaitu:\n",
        "\n",
        "1. <b>``__iter__()``</b> dimana method ini mengembalikan objek iterator itu sendiri dan yang dipanggil oleh objek iterator tersebut sekali.\n",
        "\n",
        "2. <b>``__next__()``</b> dimana method ini mengembalikan next value dari sebuah series. Method ini akan dipanggil di dalam for..in statement. Jika tidak ada nilai yang bisa dipanggil lagi oleh method ini dari series, method akan menimbulkan exception berupa ``StopIteration``.\n",
        "\n",
        "Berikut adalah contoh kasus iterator untuk deret Fibonacci:"
      ]
    },
    {
      "cell_type": "code",
      "metadata": {
        "colab": {
          "base_uri": "https://localhost:8080/"
        },
        "id": "Kww5tkGHoTzu",
        "outputId": "4a34198b-3e4b-41e3-ccc4-8c1f42cc65df"
      },
      "source": [
        "class Fib:\n",
        "  def __init__(self, nn):\n",
        "    print(\"__init__\")\n",
        "    self.__n = nn\n",
        "    self.__i = 0\n",
        "    self.__p1 = self.__p2 = 1\n",
        "\n",
        "  def __iter__(self):\n",
        "    print(\"__iter__\")\n",
        "    return self\n",
        "\n",
        "  def __next__(self):\n",
        "    print(\"__next__\")\t\t\t\t\n",
        "    self.__i += 1\n",
        "        \n",
        "    if self.__i > self.__n:\n",
        "        raise StopIteration\n",
        "    if self.__i in [1, 2]:\n",
        "        return 1\n",
        "    ret = self.__p1 + self.__p2\n",
        "    self.__p1, self.__p2 = self.__p2, ret\n",
        "    return ret\n",
        "\n",
        "\n",
        "for i in Fib(10):\n",
        "  print(i)"
      ],
      "execution_count": null,
      "outputs": [
        {
          "output_type": "stream",
          "text": [
            "__init__\n",
            "__iter__\n",
            "__next__\n",
            "1\n",
            "__next__\n",
            "1\n",
            "__next__\n",
            "2\n",
            "__next__\n",
            "3\n",
            "__next__\n",
            "5\n",
            "__next__\n",
            "8\n",
            "__next__\n",
            "13\n",
            "__next__\n",
            "21\n",
            "__next__\n",
            "34\n",
            "__next__\n",
            "55\n",
            "__next__\n"
          ],
          "name": "stdout"
        }
      ]
    },
    {
      "cell_type": "markdown",
      "metadata": {
        "id": "gt2OwwgUo1t9"
      },
      "source": [
        "Untuk menyederhanakan pemanggilan, mari pusatkan pemanggilan method di ``class Fib`` ke dalam sebuah class yang kita beri nama ``class Class`` sebagai berikut:"
      ]
    },
    {
      "cell_type": "code",
      "metadata": {
        "colab": {
          "base_uri": "https://localhost:8080/"
        },
        "id": "E8ttwNRfo_7D",
        "outputId": "042ae7d6-4a87-49f3-c116-9a74c6b9a6a7"
      },
      "source": [
        "class Fib:\n",
        "  def __init__(self, nn):\n",
        "    print(\"__init__\")\n",
        "    self.__n = nn\n",
        "    self.__i = 0\n",
        "    self.__p1 = self.__p2 = 1\n",
        "\n",
        "  def __iter__(self):\n",
        "    print(\"__iter__\")\n",
        "    return self\n",
        "\n",
        "  def __next__(self):\n",
        "    print(\"__next__\")\t\t\t\t\n",
        "    self.__i += 1\n",
        "        \n",
        "    if self.__i > self.__n:\n",
        "        raise StopIteration\n",
        "    if self.__i in [1, 2]:\n",
        "        return 1\n",
        "    ret = self.__p1 + self.__p2\n",
        "    self.__p1, self.__p2 = self.__p2, ret\n",
        "    return ret\n",
        "\n",
        "class Class:\n",
        "  def __init__(self, n):\n",
        "    self.__iter = Fib(n)\n",
        "\n",
        "  def __iter__(self):\n",
        "    print(\"Class iter\")\n",
        "    return self.__iter;\n",
        "\n",
        "\n",
        "object = Class(8)\n",
        "\n",
        "for i in object:\n",
        "  print(i)"
      ],
      "execution_count": null,
      "outputs": [
        {
          "output_type": "stream",
          "text": [
            "__init__\n",
            "Class iter\n",
            "__next__\n",
            "1\n",
            "__next__\n",
            "1\n",
            "__next__\n",
            "2\n",
            "__next__\n",
            "3\n",
            "__next__\n",
            "5\n",
            "__next__\n",
            "8\n",
            "__next__\n",
            "13\n",
            "__next__\n",
            "21\n",
            "__next__\n"
          ],
          "name": "stdout"
        }
      ]
    },
    {
      "cell_type": "markdown",
      "metadata": {
        "id": "YYi8TGPRpQc5"
      },
      "source": [
        "### Statement yield\n",
        "\n",
        "Perhatikan contoh kode program berikut:"
      ]
    },
    {
      "cell_type": "code",
      "metadata": {
        "colab": {
          "base_uri": "https://localhost:8080/"
        },
        "id": "F2oqpkJ2phJ9",
        "outputId": "110525e4-b691-488d-b60a-b62262731320"
      },
      "source": [
        "def coba(n):\n",
        "  for i in range(n):\n",
        "    return i\n",
        "\n",
        "print(coba(10))"
      ],
      "execution_count": null,
      "outputs": [
        {
          "output_type": "stream",
          "text": [
            "0\n"
          ],
          "name": "stdout"
        }
      ]
    },
    {
      "cell_type": "markdown",
      "metadata": {
        "id": "PPP6Lx8opsva"
      },
      "source": [
        "Ada yang aneh dengan program tersebut? Program tersebut akan selalu mengembalikan nilai 0 untuk nilai integer apapun yang di-passing ke dalam parameternya. Kenapa itu bisa terjadi? \n",
        "\n",
        "Perintah ``return`` hanya bisa mengembalikan satu buah nilai dari sebuah tipe data (baik tipe data primitif maupun tipe koleksi). Biasanya apabila kita ingin me-return banyak nilai, maka kita akan gunakan struktur data koleksi untuk menampung lalu kita kembalikan nilainya melalui ``return``. Ada cara lain yang disediakan oleh Python, yaitu menggunakan kata kunci ``yield``. Kata kunci ini digunakan sebagai pengganti perintah ``return``. \n",
        "\n",
        "Kata kunci ``yield`` akab bertindak sebagai generator untuk mengembalikan nilai runtunan dari sebuah perulangan dalam fungsi. Berikut contoh penggunaannya:"
      ]
    },
    {
      "cell_type": "code",
      "metadata": {
        "colab": {
          "base_uri": "https://localhost:8080/"
        },
        "id": "PLteuzp9qpBd",
        "outputId": "2e1903f2-ae41-42f0-f5b7-c9062e820b0c"
      },
      "source": [
        "def coba(n):\n",
        "  for i in range(n):\n",
        "    yield i\n",
        "\n",
        "for angka in coba(5):\n",
        "  print(angka)"
      ],
      "execution_count": null,
      "outputs": [
        {
          "output_type": "stream",
          "text": [
            "0\n",
            "1\n",
            "2\n",
            "3\n",
            "4\n"
          ],
          "name": "stdout"
        }
      ]
    },
    {
      "cell_type": "markdown",
      "metadata": {
        "id": "UsXKWtUsq0gv"
      },
      "source": [
        "><b>Catatan:</b> Karena yield adalah sebuah generator maka untuk memanggil nilainya dibutuhkan statement for..in."
      ]
    },
    {
      "cell_type": "markdown",
      "metadata": {
        "id": "cQi7IokArCLH"
      },
      "source": [
        "### Hands on Lab 1: Generator bilangan 2<sup>n</sup>\n",
        "\n",
        "Berikut adalah contoh kode program untuk membuat generator deret bilangan 2<sup>n</sup>:"
      ]
    },
    {
      "cell_type": "code",
      "metadata": {
        "colab": {
          "base_uri": "https://localhost:8080/"
        },
        "id": "l6lKMpYZrVI4",
        "outputId": "647f3343-bdef-4a5a-a55a-28bf84fb4ed5"
      },
      "source": [
        "def pangkat_dua(n):\n",
        "  bilangan = 1\n",
        "\n",
        "  for i in range(n):\n",
        "    yield bilangan\n",
        "    bilangan *= 2\n",
        "\n",
        "for bil in pangkat_dua(5):\n",
        "  print(bil, end=\"  \")"
      ],
      "execution_count": null,
      "outputs": [
        {
          "output_type": "stream",
          "text": [
            "1  2  4  8  16  "
          ],
          "name": "stdout"
        }
      ]
    },
    {
      "cell_type": "markdown",
      "metadata": {
        "id": "AR_eCzF0r8fm"
      },
      "source": [
        "Penggunaan ``yield`` juga bisa disandingkan dengan penggunaan list dalam memanggil generator-nya."
      ]
    },
    {
      "cell_type": "code",
      "metadata": {
        "colab": {
          "base_uri": "https://localhost:8080/"
        },
        "id": "-IgBZDmjsD9V",
        "outputId": "645eb41a-da6a-4072-c582-b0956fc79a56"
      },
      "source": [
        "def pangkat_dua(n):\n",
        "  bilangan = 1\n",
        "\n",
        "  for i in range(n):\n",
        "    yield bilangan\n",
        "    bilangan *= 2\n",
        "\n",
        "bil = [x for x in pangkat_dua(5)]\n",
        "print(bil)"
      ],
      "execution_count": null,
      "outputs": [
        {
          "output_type": "stream",
          "text": [
            "[1, 2, 4, 8, 16]\n"
          ],
          "name": "stdout"
        }
      ]
    },
    {
      "cell_type": "markdown",
      "metadata": {
        "id": "nUllCuo2sRdq"
      },
      "source": [
        "Penggunaan list sebagai penampung data dari generator ``yield`` akan mempermudah kita dalam melakukan pengolahan data lanjutan dari hasil generatornya."
      ]
    },
    {
      "cell_type": "markdown",
      "metadata": {
        "id": "2CiktL1QslXt"
      },
      "source": [
        "### Hands on Lab 2: Reminder untuk penyerderhanaan list generator\n",
        "\n",
        "Nilai yang disimpan di dalam sebuah list dapat di-generate dengan cara yang lebih simpel dibandingkan ketika menggunakan perintah perulangan. Mari kita lihat bentuk penyederhanaan list berikut (sudah pernah dibahas pada topik sebelumnya):"
      ]
    },
    {
      "cell_type": "code",
      "metadata": {
        "colab": {
          "base_uri": "https://localhost:8080/"
        },
        "id": "K97-QeSUs8RK",
        "outputId": "448e1c0f-ad8f-411f-b683-0748a7a54d03"
      },
      "source": [
        "list_bil = []\n",
        "\n",
        "#cara konvensional\n",
        "for i in range(11):\n",
        "  list_bil.append(i ** 2)\n",
        "\n",
        "print(list_bil)\n",
        "\n",
        "#cara penyederhaan generate list\n",
        "list_genbil = [i**2 for i in range(11)]\n",
        "print(list_genbil)"
      ],
      "execution_count": null,
      "outputs": [
        {
          "output_type": "stream",
          "text": [
            "[0, 1, 4, 9, 16, 25, 36, 49, 64, 81, 100]\n",
            "[0, 1, 4, 9, 16, 25, 36, 49, 64, 81, 100]\n"
          ],
          "name": "stdout"
        }
      ]
    },
    {
      "cell_type": "markdown",
      "metadata": {
        "id": "J0YfoA3VthEn"
      },
      "source": [
        "Dua perintah tersebut menghasilkan hal yang sama walaupun bentuk statement berbeda. Penggunaan generator list sangat disarankan apabila angka yang disimpan di dalam list memiliki pola deret bilangan tertentu."
      ]
    },
    {
      "cell_type": "markdown",
      "metadata": {
        "id": "1QtRFymht1g8"
      },
      "source": [
        "### Hands on Lab 3: Conditional pada generator list\n",
        "\n",
        "Kita juga bisa menambahkan struktur percabangan di dalam generator list. Berikut adalah contoh kasusnya untuk menampilkan bilangan kuadrat 2 tapi hanya untuk bilangan ganjil saja (bilangan genap diisi dengan 0):"
      ]
    },
    {
      "cell_type": "code",
      "metadata": {
        "colab": {
          "base_uri": "https://localhost:8080/"
        },
        "id": "EAqf2PvBuJhb",
        "outputId": "8ffefd1b-f61e-46c8-c346-93b74e19f2a5"
      },
      "source": [
        "list_bil = []\n",
        "\n",
        "#cara konvensional\n",
        "for i in range(11):\n",
        "  list_bil.append(i ** 2 if i % 2 != 0 else 0)\n",
        "\n",
        "print(list_bil)\n",
        "\n",
        "#cara penyederhaan generate list\n",
        "list_genbil = [i**2 if i % 2 != 0 else 0 for i in range(11)]\n",
        "print(list_genbil)"
      ],
      "execution_count": null,
      "outputs": [
        {
          "output_type": "stream",
          "text": [
            "[0, 1, 0, 9, 0, 25, 0, 49, 0, 81, 0]\n",
            "[0, 1, 0, 9, 0, 25, 0, 49, 0, 81, 0]\n"
          ],
          "name": "stdout"
        }
      ]
    },
    {
      "cell_type": "markdown",
      "metadata": {
        "id": "PxcgaWfpu65P"
      },
      "source": [
        "### Fungsi Lambda\n",
        "\n",
        "Lambda function adalah sebuah konsep yang diambil dari fungsi lambda di matematika dimana pada implementasinya, fungsi ini tidak memiliki nama atau disebut dengan <b>anonymous function</b>. Format umum dari fungsi ini adalah sebagai berikut:\n",
        "\n",
        "```python\n",
        "lambda parameter: expression\n",
        "```\n",
        "\n",
        "Berikut contoh penggunaan lambda function:"
      ]
    },
    {
      "cell_type": "code",
      "metadata": {
        "colab": {
          "base_uri": "https://localhost:8080/"
        },
        "id": "xDzQF2oUv1dD",
        "outputId": "0376bef6-e1b0-4c2e-850a-54f48379ac2f"
      },
      "source": [
        "bil = lambda: 2\n",
        "akar_kuadrat = lambda x: x * x\n",
        "pangkat_xy = lambda x, y: x ** y\n",
        "\n",
        "for a in range(-2, 3):\n",
        "    print(akar_kuadrat(a), end=\" \")\n",
        "    print(pangkat_xy(a, bil()))"
      ],
      "execution_count": null,
      "outputs": [
        {
          "output_type": "stream",
          "text": [
            "4 4\n",
            "1 1\n",
            "0 0\n",
            "1 1\n",
            "4 4\n"
          ],
          "name": "stdout"
        }
      ]
    },
    {
      "cell_type": "markdown",
      "metadata": {
        "id": "EcDkw_3zCK5Q"
      },
      "source": [
        "### Hands on Lab 4: Mari pakai lambda\n",
        "\n",
        "Ubahlah fungsi matematika berikut menjadi fungsi lambda.\n",
        "\n",
        "f(x) = 2x<sup>2</sup> + 4x + 3\n",
        "\n",
        "Berikut kode programnya:"
      ]
    },
    {
      "cell_type": "code",
      "metadata": {
        "colab": {
          "base_uri": "https://localhost:8080/"
        },
        "id": "21brp-ZPCiSH",
        "outputId": "522a627c-ed1a-42f2-e59c-6c29c1b58a29"
      },
      "source": [
        "fx = lambda x: 2*x**2 + 4*x + 3\n",
        "\n",
        "print(fx(10))"
      ],
      "execution_count": null,
      "outputs": [
        {
          "output_type": "stream",
          "text": [
            "243\n"
          ],
          "name": "stdout"
        }
      ]
    },
    {
      "cell_type": "markdown",
      "metadata": {
        "id": "touwpTAwDVM9"
      },
      "source": [
        "Bagaimana kalau kita gabungkan antara penggunaan generator list dengan fungsi lambda dalam kasus tersebut agar bisa menghitung f(0) sampai dengan f(10)? Mari kita coba kode program berikut:"
      ]
    },
    {
      "cell_type": "code",
      "metadata": {
        "colab": {
          "base_uri": "https://localhost:8080/"
        },
        "id": "9aFw82SKDkir",
        "outputId": "8bd579be-6cff-4bc0-acf0-20f8c7e9a7df"
      },
      "source": [
        "def print_function(args, fun):\n",
        "    for x in args:\n",
        "        print('f(', x,')=', fun(x), sep='')\n",
        "\n",
        "print_function([x for x in range(11)], lambda x: 2*x**2 + 4*x + 3)"
      ],
      "execution_count": null,
      "outputs": [
        {
          "output_type": "stream",
          "text": [
            "f(0)=3\n",
            "f(1)=9\n",
            "f(2)=19\n",
            "f(3)=33\n",
            "f(4)=51\n",
            "f(5)=73\n",
            "f(6)=99\n",
            "f(7)=129\n",
            "f(8)=163\n",
            "f(9)=201\n",
            "f(10)=243\n"
          ],
          "name": "stdout"
        }
      ]
    },
    {
      "cell_type": "markdown",
      "metadata": {
        "id": "GehpyQxzFCkz"
      },
      "source": [
        "### Fungsi map() pada Lambda\n",
        "\n",
        "Fungsi ``map()`` digunakan untuk memetakan argumen1 ke argumen lain (argumen2) pada fungsi lambda dalam rangka memberikan pemrosesan pada argumen tersebut. Format umumnya adalah sebagai berikut:\n",
        "\n",
        "```python\n",
        "map(lambda_expression, collection)\n",
        "```\n",
        "\n",
        "Mari kita coba kode program berikut:"
      ]
    },
    {
      "cell_type": "code",
      "metadata": {
        "colab": {
          "base_uri": "https://localhost:8080/"
        },
        "id": "TmRvlOxtGtWL",
        "outputId": "85c2d9f5-d940-4a26-c0cf-f9dbe93c601a"
      },
      "source": [
        "list_bilangan1 = [x for x in range(6)]\n",
        "list_bilangan2 = list(map(lambda x: 2 ** x, list_bilangan1))\n",
        "print(list_bilangan2)\n",
        "\n",
        "for bil in map(lambda x: x + 1, list_bilangan2):\n",
        "  print(bil)"
      ],
      "execution_count": null,
      "outputs": [
        {
          "output_type": "stream",
          "text": [
            "[1, 2, 4, 8, 16, 32]\n",
            "2\n",
            "3\n",
            "5\n",
            "9\n",
            "17\n",
            "33\n"
          ],
          "name": "stdout"
        }
      ]
    },
    {
      "cell_type": "markdown",
      "metadata": {
        "id": "0_7gvrttT3m6"
      },
      "source": [
        "### Fungsi filter() pada Lambda\n",
        "\n",
        "Fungsi ``filter()`` digunakan untuk menseleksi elemen yang di-generate menggunakan generator. Format umumnya adalah sebagai berikut:\n",
        "\n",
        "```python\n",
        "map(lambda_expression, collection)\n",
        "```\n",
        "\n",
        "Lambda expression diisi dengan kondisional yang mau digunakan sebagai filter datanya. Berikut contoh penggunaannya:"
      ]
    },
    {
      "cell_type": "code",
      "metadata": {
        "colab": {
          "base_uri": "https://localhost:8080/"
        },
        "id": "P79jU978UXXi",
        "outputId": "ed37ca0a-8506-4370-b392-c475da3381cf"
      },
      "source": [
        "list_bilangan1 = [x for x in range(6)]\n",
        "list_bilangan_filtered = list(filter(lambda x: x >= 4,list_bilangan1))\n",
        "\n",
        "print(list_bilangan1)\n",
        "print(list_bilangan_filtered)"
      ],
      "execution_count": null,
      "outputs": [
        {
          "output_type": "stream",
          "text": [
            "[0, 1, 2, 3, 4, 5]\n",
            "[4, 5]\n"
          ],
          "name": "stdout"
        }
      ]
    },
    {
      "cell_type": "markdown",
      "metadata": {
        "id": "GdBzaEfIVzob"
      },
      "source": [
        "Pada contoh kode program tersebut, fungsi ``filter()`` digunakan untuk menseleksi elemen pada ``list_bilangan1`` yang lebih dari sama dengan 4."
      ]
    },
    {
      "cell_type": "markdown",
      "metadata": {
        "id": "crBAjfUMWBKz"
      },
      "source": [
        "### Closure\n",
        "\n",
        "Closure adalah teknik yang memungkinkan penyimpanan nilai walaupun konteks yang menciptakan nilai tersebut sudah tidak eksis di memori lagi. Mari kita perhatikan contoh kode program berikut:"
      ]
    },
    {
      "cell_type": "code",
      "metadata": {
        "colab": {
          "base_uri": "https://localhost:8080/"
        },
        "id": "RJU5d39fWiEC",
        "outputId": "36830d3d-ba81-432b-c5ea-ea101b629603"
      },
      "source": [
        "def outer(par):\n",
        "  loc = par\n",
        "\n",
        "  def inner():\n",
        "    return loc\n",
        "  return inner\n",
        "\n",
        "\n",
        "var = 1\n",
        "fun = outer(var)\n",
        "print(fun())"
      ],
      "execution_count": null,
      "outputs": [
        {
          "output_type": "stream",
          "text": [
            "1\n"
          ],
          "name": "stdout"
        }
      ]
    },
    {
      "cell_type": "markdown",
      "metadata": {
        "id": "04XFn4UtW5TA"
      },
      "source": [
        "Penjelasan:\n",
        "\n",
        "1. Fungsi ``inner()`` mengembalikan nilai dari variabel yang diakses dalam scope-nya. Sebagai <b>inner function</b> (fungsi dalam fungsi) maka ``inner()`` bisa menggunakan entity pada fungsi ``outer()``.\n",
        "\n",
        "2. ``outer()`` mengembalikan ``inner()`` sebagai return valuenya.\n",
        "\n",
        "Fungsi yang dikembalikan oleh ``outer()`` ketika dipanggil disebut dengan closure. Mari kita lihat contoh berikutnya:"
      ]
    },
    {
      "cell_type": "code",
      "metadata": {
        "colab": {
          "base_uri": "https://localhost:8080/"
        },
        "id": "VclxGPu_X0KT",
        "outputId": "666afec2-a140-448f-c93a-86b0e877daf4"
      },
      "source": [
        "def make_closure(par):\n",
        "  loc = par\n",
        "\n",
        "  def power(p):\n",
        "    return p ** loc\n",
        "  return power\n",
        "\n",
        "\n",
        "fsqr = make_closure(2)\n",
        "fcub = make_closure(3)\n",
        "\n",
        "for i in range(5):\n",
        "  print(i, fsqr(i), fcub(i))"
      ],
      "execution_count": null,
      "outputs": [
        {
          "output_type": "stream",
          "text": [
            "0 0 0\n",
            "1 1 1\n",
            "2 4 8\n",
            "3 9 27\n",
            "4 16 64\n"
          ],
          "name": "stdout"
        }
      ]
    },
    {
      "cell_type": "markdown",
      "metadata": {
        "id": "F8d93HZ1YZ0V"
      },
      "source": [
        "Di contoh kode program tadi, kita bisa melihat selain untuk mempertahankan data, closure juga bisa menerima parameter dari luar yang digunakan di dalam fungsi tersebut."
      ]
    },
    {
      "cell_type": "markdown",
      "metadata": {
        "id": "Ny1H9JqIaGPc"
      },
      "source": [
        "## Pengaksesan File di Python\n",
        "\n",
        "Python memungkinkan kita melakukan pembacaan dan penulisan data ke dalam file. Hal ini dilakukan agar nilai yang diproses tidak ikut hilang seiring berakhirnya eksekusi kode program. Ada beberapa format file yang bisa digunakan oleh Python, akan tetapi format yang paling sering digunakan, yaitu: txt dan csv.\n",
        "\n",
        "Sebelum masuk ke pembahasan akses file menggunakan Python, mari kita pelajari beberapa konsep perihal nama file."
      ]
    },
    {
      "cell_type": "markdown",
      "metadata": {
        "id": "LZnZpax1axA9"
      },
      "source": [
        "Sebuah file yang disimpan di sistem komputer pasti memiliki nama. Melalui nama inilah kita bisa mengakses file tersebut. File disimpan dalam sebuah direktori. Untuk bisa bisa mengakses file, maka kita perlu mengetahui alamat file yang biasanya terdiri dari nama direktori diikuti nama filenya. Ada perbedaan pengalamatan direktori dan file pada OS Windows dan OS Linux/Mac OS. Contoh perbedaannya adalah sebagai berikut:\n",
        "\n",
        "<b>Windows</b>\n",
        "\n",
        "``C:\\Documents\\file.txt``\n",
        "\n",
        "<b>Linux dan Mac OS</b>\n",
        "\n",
        "``/Documents/file.txt``\n",
        "\n",
        "Setelah kita memahami pengaksesan alamat direktori dan file, mari kita mulai mengakses file menggunakan Python."
      ]
    },
    {
      "cell_type": "markdown",
      "metadata": {
        "id": "gIzWSyA6ch2a"
      },
      "source": [
        "### File Streams\n",
        "\n",
        "Python memiliki beberapa jenis File Streams. Salah satunya adalah <b>Open Mode</b>. Open Mode digunakan untuk membuka sebuah file. Jika proses pembukaan file berhasil, maka program bisa melakukan operasi yang sesuai dengan Open Mode.\n",
        "\n",
        "Dua operasi yang bisa dilakukan di Open Mode, adalah:\n",
        "\n",
        "1. <b>Read from the stream</b> - Data dari sebuah file ditempatkan di memory yang di-manage oleh program.\n",
        "\n",
        "2. <b>Write to the stream</b> - Data dari memory yang di-manage oleh program dikirim ke dalam sebiah file.\n",
        "\n",
        "Dalam python ada tiga mode yang didukung, yaitu:\n",
        "\n",
        "| Mode | Penjelasan |\n",
        "| :--- | :--- |\n",
        "| read mode | sebuah stream dibuka dan stream hanya bisa dibaca saja |\n",
        "| write mode | sebuah stream dibuka dan operasi write saja yang diizinkan untuk dilakukan |\n",
        "| update mode | sebuah stream dibuka dan operasi write dan read bisa dilakukan |\n",
        "\n"
      ]
    },
    {
      "cell_type": "markdown",
      "metadata": {
        "id": "j5hCmHacewt4"
      },
      "source": [
        "### Mode Streams (File)\n",
        "\n",
        "Mode streams dalam Python dapat dilihat pada tabel berikut:\n",
        "\n",
        "| Open Mode | Makna | Penjelasan |\n",
        "| :---: | :--- | :--- |\n",
        "| ``r`` | open mode: read | Stream akan dibuka dalam read mode. File yang dibuka harus eksis dan harus memiliki permission untuk dibaca. |\n",
        "| ``w`` | open mode: write | Stream akan dibuka dalam write mode. Jika stream yang mau ditulis belum ada, maka akan dibuat, jika sudah ada sebelumnya, maka isi sebelumnya akan dihapus. |\n",
        "| ``a`` | open mode: append | Stream akan dibuka dalam  append mode. Jika stream tidak eksis, maka akan dibuat. Jika sudah ada sebelumnya maka pointer ``head`` akan mereferensi ke akhir file (EoF) dan penambahan data akan dilakukan mulai dari posisi tersebut. Isian lama tidak hilang. |\n",
        "| ``r+`` | open mode: read and update | Stream akan dibuka dalam read and update mode. File yang dibaca harus tersedia dan harus memiliki permission untuk ditulisi. |\n",
        "| ``w+`` | open mode: write and update | Stream akan dibuka dalam write and update mode. File yang mau ditulisi tidak perlu eksis. Jika belum ada, file akan dibuat. Isi file yang sudah ada sebelumnya tidak akan hilang. |"
      ]
    },
    {
      "cell_type": "markdown",
      "metadata": {
        "id": "8r0R8A-GhS7h"
      },
      "source": [
        "### Text dan Binary Mode\n",
        "\n",
        "Mode streams bisa diterapkan terhadap seluruh jenis file. Akan tetapi apabila kita ingin fokus dalam melakukan pembacaan file berisi teks, maka kita bisa menggunakan mode text and binary. Mode di dalam text and binary dapat dilihat pada tabel berikut:"
      ]
    },
    {
      "cell_type": "markdown",
      "metadata": {
        "id": "_8kqrBPchtdw"
      },
      "source": [
        "| Text mode\t| Binary mode |\tDeskripsi |\n",
        "| :---: | :---: | :--- |\n",
        "| ``rt`` |\t``rb`` | read |\n",
        "| ``wt`` | ``wb`` | write |\n",
        "| ``at`` | ``ab`` | append |\n",
        "| ``r+t`` | ``r+b`` | read and update|\n",
        "| ``w+t`` | ``w+b`` | write and update |"
      ]
    },
    {
      "cell_type": "markdown",
      "metadata": {
        "id": "aYA7gmICihuH"
      },
      "source": [
        "Suffix t dan b pada mode menandakan modenya. Suffix t berarti text mode sedangkan b berarti binary mode. Jika suffix tidak diberikan, maka mode default yang digunakan adalah Text Mode."
      ]
    },
    {
      "cell_type": "markdown",
      "metadata": {
        "id": "5xR9XkUijLcP"
      },
      "source": [
        "### Membuka File Pertama Kali\n",
        "\n",
        "Untuk melakukan pembukaan file, fungsi yang digunakan adalah ``open()``. Format umum fungsi tersebut adalah sebagai berikut:\n",
        "\n",
        "```python\n",
        "variabel = open(<alamat_file>, <open mode>\n",
        "```\n",
        "\n",
        "Berikut contoh penggunaannya:\n"
      ]
    },
    {
      "cell_type": "code",
      "metadata": {
        "colab": {
          "base_uri": "https://localhost:8080/"
        },
        "id": "yXh7Bu22j887",
        "outputId": "9d8ed408-82a0-4115-a2b6-bf491ee2475b"
      },
      "source": [
        "try:\n",
        "  stream = open(\"/Documents/coba.txt\", \"rt\")\n",
        "  # Processing goes here.\n",
        "  stream.close()\n",
        "except Exception as exc:\n",
        "    print(\"File tidak bisa dibuka dengan pesan:\", exc)"
      ],
      "execution_count": null,
      "outputs": [
        {
          "output_type": "stream",
          "text": [
            "File tidak bisa dibuka dengan pesan: [Errno 2] No such file or directory: '/Documents/coba.txt'\n"
          ],
          "name": "stdout"
        }
      ]
    },
    {
      "cell_type": "markdown",
      "metadata": {
        "id": "EA0vve3NkU1N"
      },
      "source": [
        "Eksekusi kode program tersebut menghasilkan exception karena file tidak ditemukan pada alamat tersebut.\n",
        "\n",
        "><b>Catatan:</b> \n",
        "Silakan sesuaikan pengalamatan file dengan OS yang digunakan. Gunakan lingkungan Python di komputer masing-masing (jangan eksekusi di google colabs) agar mudah melakukan pembacaan filenya."
      ]
    },
    {
      "cell_type": "markdown",
      "metadata": {
        "id": "LDAmsJMSlx90"
      },
      "source": [
        "### Diagnosis Error pada Operasi File\n",
        "\n",
        "Kita bisa mengecek jenis exception yang terjadi pada sebuah file dengan memanfaatkan entity ``strerror`` yang terdapat pada module ``os``. Berikut contoh penggunaannya:"
      ]
    },
    {
      "cell_type": "code",
      "metadata": {
        "colab": {
          "base_uri": "https://localhost:8080/"
        },
        "id": "fILL1EyPmNDt",
        "outputId": "5773c7d8-c3e3-4425-a48b-a2916927ff1d"
      },
      "source": [
        "from os import strerror\n",
        "\n",
        "try:\n",
        "  stream = open(\"/Documents/coba.txt\", \"rt\")\n",
        "  # Processing goes here.\n",
        "  stream.close()\n",
        "except Exception as exc:\n",
        "  print(\"File tidak bisa dibuka dengan pesan:\", strerror(exc.errno))"
      ],
      "execution_count": null,
      "outputs": [
        {
          "output_type": "stream",
          "text": [
            "File tidak bisa dibuka dengan pesan: No such file or directory\n"
          ],
          "name": "stdout"
        }
      ]
    },
    {
      "cell_type": "markdown",
      "metadata": {
        "id": "HfDu903mnQ_O"
      },
      "source": [
        "Dengan memanfaatkan ``strerror()`` exception yang ditangkap lebih mudah dikenali. Kalau diperhatikan dengan baik, exception memiliki sebuah konstanta bernama ``errno``. ``errno`` kita gunakan untuk menspesifikkan jenis error yang ditangkap. Sebagai contoh pada kode program sebelumnya, kita menangkap exception dengan ``errno`` sama dengan 2. ``errno`` 2 menandakan ``no such file or directory``. Ada banyak jenis ``errno`` yang bisa ditangkap. Untuk dokumentasi ``errno``, silakan buka <a href = \"https://docs.python.org/3/library/errno.html?highlight=errno#module-errno\"> LINK BERIKUT</a>.\n",
        "\n",
        "Mari kita coba kode program berikut:"
      ]
    },
    {
      "cell_type": "code",
      "metadata": {
        "colab": {
          "base_uri": "https://localhost:8080/"
        },
        "id": "SAbzGN2tnpJm",
        "outputId": "e940171d-f5cd-4c11-efb7-6f3e556b6b00"
      },
      "source": [
        "import errno\n",
        "\n",
        "try:\n",
        "  stream = open(\"/Documents/coba.txt\", \"rt\")\n",
        "  # Processing goes here.\n",
        "  stream.close()\n",
        "except Exception as exc:\n",
        "  if exc.errno == errno.ENOENT:\n",
        "    print(\"File tidak ditemukan\")\n",
        "  elif exc.errno == errno.EMFILE:\n",
        "    print(\"File yang dibuka terlalu banyak.\")\n",
        "  else:\n",
        "    print(\"Errno yang dihasilkan adalah :\", exc.errno)\n"
      ],
      "execution_count": null,
      "outputs": [
        {
          "output_type": "stream",
          "text": [
            "File tidak ditemukan\n"
          ],
          "name": "stdout"
        }
      ]
    }
  ]
}