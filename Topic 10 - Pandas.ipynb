{
 "cells": [
  {
   "cell_type": "markdown",
   "metadata": {},
   "source": [
    "# Pandas\n",
    "\n",
    "Pandas merupakan library di Python yang digunakan untuk memudahkan kita dalam melakukan pengolahan data dari file (menyediakan sarana berupa struktur data yang powerful) dan analisis data. Pandas merupakan library yang bersifat open-source dan bisa didapatkan secara gratis melalui pip3 atau Anaconda. Dokumentasi dari library ini dapat diakses di https://pandas.pydata.org/.\n",
    "\n",
    "Untuk bisa menjalankan library ini, kita membutuhkan library numpy. Sebelum bisa menggunakannya, ingatlah untuk melakukan instalasi library ini terlebih dahulu. Berikut perintah untuk melakukan instalasinya:\n",
    "\n",
    "\n",
    "<b>Instalasi via pip</b> <br>\n",
    "``pip3 install pandas``\n",
    "\n",
    "<b>Instalasi via conda</b> (secara default sudah tersedia ketika instalasi Anaconda atau Miniconda) <br>\n",
    "``conda install pandas``"
   ]
  },
  {
   "cell_type": "code",
   "execution_count": 119,
   "metadata": {},
   "outputs": [
    {
     "name": "stdout",
     "output_type": "stream",
     "text": [
      "Name: pandas\r\n",
      "Version: 1.3.1\r\n",
      "Summary: Powerful data structures for data analysis, time series, and statistics\r\n",
      "Home-page: https://pandas.pydata.org\r\n",
      "Author: The Pandas Development Team\r\n",
      "Author-email: pandas-dev@python.org\r\n",
      "License: BSD-3-Clause\r\n",
      "Location: /usr/local/anaconda3/lib/python3.8/site-packages\r\n",
      "Requires: numpy, python-dateutil, pytz\r\n",
      "Required-by: statsmodels, seaborn, mariadb-kernel\r\n"
     ]
    }
   ],
   "source": [
    "!pip3 show pandas"
   ]
  },
  {
   "cell_type": "code",
   "execution_count": 120,
   "metadata": {},
   "outputs": [
    {
     "data": {
      "text/plain": [
       "['BooleanDtype',\n",
       " 'Categorical',\n",
       " 'CategoricalDtype',\n",
       " 'CategoricalIndex',\n",
       " 'DataFrame',\n",
       " 'DateOffset',\n",
       " 'DatetimeIndex',\n",
       " 'DatetimeTZDtype',\n",
       " 'ExcelFile',\n",
       " 'ExcelWriter',\n",
       " 'Flags',\n",
       " 'Float32Dtype',\n",
       " 'Float64Dtype',\n",
       " 'Float64Index',\n",
       " 'Grouper',\n",
       " 'HDFStore',\n",
       " 'Index',\n",
       " 'IndexSlice',\n",
       " 'Int16Dtype',\n",
       " 'Int32Dtype',\n",
       " 'Int64Dtype',\n",
       " 'Int64Index',\n",
       " 'Int8Dtype',\n",
       " 'Interval',\n",
       " 'IntervalDtype',\n",
       " 'IntervalIndex',\n",
       " 'MultiIndex',\n",
       " 'NA',\n",
       " 'NaT',\n",
       " 'NamedAgg',\n",
       " 'Period',\n",
       " 'PeriodDtype',\n",
       " 'PeriodIndex',\n",
       " 'RangeIndex',\n",
       " 'Series',\n",
       " 'SparseDtype',\n",
       " 'StringDtype',\n",
       " 'Timedelta',\n",
       " 'TimedeltaIndex',\n",
       " 'Timestamp',\n",
       " 'UInt16Dtype',\n",
       " 'UInt32Dtype',\n",
       " 'UInt64Dtype',\n",
       " 'UInt64Index',\n",
       " 'UInt8Dtype',\n",
       " '__builtins__',\n",
       " '__cached__',\n",
       " '__doc__',\n",
       " '__docformat__',\n",
       " '__file__',\n",
       " '__getattr__',\n",
       " '__git_version__',\n",
       " '__loader__',\n",
       " '__name__',\n",
       " '__package__',\n",
       " '__path__',\n",
       " '__spec__',\n",
       " '__version__',\n",
       " '_config',\n",
       " '_hashtable',\n",
       " '_is_numpy_dev',\n",
       " '_lib',\n",
       " '_libs',\n",
       " '_np_version_under1p18',\n",
       " '_testing',\n",
       " '_tslib',\n",
       " '_typing',\n",
       " '_version',\n",
       " 'api',\n",
       " 'array',\n",
       " 'arrays',\n",
       " 'bdate_range',\n",
       " 'compat',\n",
       " 'concat',\n",
       " 'core',\n",
       " 'crosstab',\n",
       " 'cut',\n",
       " 'date_range',\n",
       " 'describe_option',\n",
       " 'errors',\n",
       " 'eval',\n",
       " 'factorize',\n",
       " 'get_dummies',\n",
       " 'get_option',\n",
       " 'infer_freq',\n",
       " 'interval_range',\n",
       " 'io',\n",
       " 'isna',\n",
       " 'isnull',\n",
       " 'json_normalize',\n",
       " 'lreshape',\n",
       " 'melt',\n",
       " 'merge',\n",
       " 'merge_asof',\n",
       " 'merge_ordered',\n",
       " 'notna',\n",
       " 'notnull',\n",
       " 'offsets',\n",
       " 'option_context',\n",
       " 'options',\n",
       " 'pandas',\n",
       " 'period_range',\n",
       " 'pivot',\n",
       " 'pivot_table',\n",
       " 'plotting',\n",
       " 'qcut',\n",
       " 'read_clipboard',\n",
       " 'read_csv',\n",
       " 'read_excel',\n",
       " 'read_feather',\n",
       " 'read_fwf',\n",
       " 'read_gbq',\n",
       " 'read_hdf',\n",
       " 'read_html',\n",
       " 'read_json',\n",
       " 'read_orc',\n",
       " 'read_parquet',\n",
       " 'read_pickle',\n",
       " 'read_sas',\n",
       " 'read_spss',\n",
       " 'read_sql',\n",
       " 'read_sql_query',\n",
       " 'read_sql_table',\n",
       " 'read_stata',\n",
       " 'read_table',\n",
       " 'read_xml',\n",
       " 'reset_option',\n",
       " 'set_eng_float_format',\n",
       " 'set_option',\n",
       " 'show_versions',\n",
       " 'test',\n",
       " 'testing',\n",
       " 'timedelta_range',\n",
       " 'to_datetime',\n",
       " 'to_numeric',\n",
       " 'to_pickle',\n",
       " 'to_timedelta',\n",
       " 'tseries',\n",
       " 'unique',\n",
       " 'util',\n",
       " 'value_counts',\n",
       " 'wide_to_long']"
      ]
     },
     "execution_count": 120,
     "metadata": {},
     "output_type": "execute_result"
    }
   ],
   "source": [
    "import pandas as pd\n",
    "\n",
    "dir(pd)"
   ]
  },
  {
   "cell_type": "markdown",
   "metadata": {},
   "source": [
    "Ada beberapa bahasan perihal library ``pandas``, di antaranya:\n",
    "\n",
    "1. Series (tipe data di pandas)\n",
    "2. DataFrames (tipe data di pandas)\n",
    "3. Pemrosesan Missing Data\n",
    "4. GroupBy\n",
    "5. Merging, Joining, dan Konkatenasi\n",
    "6. Operasi di pandas\n",
    "7. Data Input dan Output.\n",
    "\n",
    "Mari kita mulai pembahasannya. Dokumentasi perihal pandas dapat diakses di https://pandas.pydata.org/docs/user_guide/index.html#user-guide."
   ]
  },
  {
   "cell_type": "markdown",
   "metadata": {},
   "source": [
    "# Tipe Series\n",
    "\n",
    "Tipe series pada pandas bekerja mirip seperti array pada numpy. Perbedaannya terletak pada pengaksesan series yang menggunakan label. Berikut adalah format pembentukan Series menggunakan pandas:\n",
    "\n",
    "```python\n",
    "import pandas as pd\n",
    "\n",
    "pd.series(data = <data>, index = <index/label>)\n",
    "```\n",
    "\n",
    "Berikut perbedaan antara numpy array dengan pandas series:"
   ]
  },
  {
   "cell_type": "code",
   "execution_count": 121,
   "metadata": {},
   "outputs": [
    {
     "name": "stdout",
     "output_type": "stream",
     "text": [
      "[100  90  80]\n",
      "{'a': 100, 'b': 90, 'c': 80}\n"
     ]
    }
   ],
   "source": [
    "import numpy as np\n",
    "\n",
    "label = ['a', 'b', 'c']\n",
    "list_bilangan = [100, 90, 80]\n",
    "\n",
    "array = np.array(list_bilangan)\n",
    "print(array)\n",
    "\n",
    "# mapping label to list_bilangan\n",
    "dictionary = {'a': 100, 'b': 90, 'c': 80}\n",
    "print(dictionary)"
   ]
  },
  {
   "cell_type": "code",
   "execution_count": 122,
   "metadata": {},
   "outputs": [
    {
     "name": "stdout",
     "output_type": "stream",
     "text": [
      "0    100\n",
      "1     90\n",
      "2     80\n",
      "dtype: int64\n",
      "\n",
      "a    100\n",
      "b     90\n",
      "c     80\n",
      "dtype: int64\n",
      "\n",
      "a    100\n",
      "b     90\n",
      "c     80\n",
      "dtype: int64\n"
     ]
    }
   ],
   "source": [
    "import pandas as pd\n",
    "\n",
    "label = ['a', 'b', 'c']\n",
    "list_bilangan = [100, 90, 80]\n",
    "\n",
    "series = pd.Series(data = list_bilangan)\n",
    "print(series)\n",
    "\n",
    "print()\n",
    "\n",
    "#keyword argument\n",
    "series = pd.Series(data = list_bilangan, index = label)\n",
    "print(series)\n",
    "\n",
    "print()\n",
    "\n",
    "# positional argument\n",
    "series = pd.Series(list_bilangan, label)\n",
    "print(series)"
   ]
  },
  {
   "cell_type": "markdown",
   "metadata": {},
   "source": [
    "Dengan menggunakan Series di pandas, pemberian indeks menjadi customable. Tentunya ini mempermudah kita dalam melakukan manipulasi data atau operasi data yang lebih baik. Apabila kita sudah mempunyai numpy array, maka kita bisa melakukan type casting numpy array menjadi Series di pandas. Berikut contoh penggunaannya:"
   ]
  },
  {
   "cell_type": "code",
   "execution_count": 123,
   "metadata": {},
   "outputs": [
    {
     "name": "stdout",
     "output_type": "stream",
     "text": [
      "[100  90  80]\n",
      "<class 'numpy.ndarray'>\n",
      "\n",
      "0    100\n",
      "1     90\n",
      "2     80\n",
      "dtype: int64\n",
      "<class 'pandas.core.series.Series'>\n",
      "\n",
      "a    100\n",
      "b     90\n",
      "c     80\n",
      "dtype: int64\n",
      "<class 'pandas.core.series.Series'>\n",
      "\n"
     ]
    }
   ],
   "source": [
    "import numpy as np\n",
    "import pandas as pd\n",
    "\n",
    "label = ['a', 'b', 'c']\n",
    "list_bilangan = [100, 90, 80]\n",
    "\n",
    "array = np.array(list_bilangan)\n",
    "print(array)\n",
    "print(type(array))\n",
    "\n",
    "print()\n",
    "\n",
    "series = pd.Series(array)\n",
    "print(series)\n",
    "print(type(series))\n",
    "print()\n",
    "\n",
    "series = pd.Series(array, label)\n",
    "print(series)\n",
    "print(type(series))\n",
    "print()"
   ]
  },
  {
   "cell_type": "markdown",
   "metadata": {},
   "source": [
    "Selain itu juga kita bisa melakukan type casting dari Dictionary menjadi pandas Series. Berikut contoh penggunaannya:"
   ]
  },
  {
   "cell_type": "code",
   "execution_count": 124,
   "metadata": {},
   "outputs": [
    {
     "name": "stdout",
     "output_type": "stream",
     "text": [
      "{'a': 100, 'b': 90, 'c': 80}\n",
      "<class 'dict'>\n",
      "\n",
      "a    100\n",
      "b     90\n",
      "c     80\n",
      "dtype: int64\n",
      "<class 'pandas.core.series.Series'>\n"
     ]
    }
   ],
   "source": [
    "import pandas as pd\n",
    "\n",
    "dictionary = {'a': 100, 'b': 90, 'c': 80}\n",
    "print(dictionary)\n",
    "print(type(dictionary))\n",
    "\n",
    "print()\n",
    "\n",
    "series = pd.Series(dictionary)\n",
    "print(series)\n",
    "print(type(series))\n"
   ]
  },
  {
   "cell_type": "markdown",
   "metadata": {},
   "source": [
    "Kita juga bisa langsung menginisialisasi Series seperti cara berikut:"
   ]
  },
  {
   "cell_type": "code",
   "execution_count": 125,
   "metadata": {},
   "outputs": [
    {
     "name": "stdout",
     "output_type": "stream",
     "text": [
      "Jawa Barat            Bandung\n",
      "Sulawesi Selatan     Makassar\n",
      "Sumatra Selatan     Palembang\n",
      "dtype: object\n"
     ]
    }
   ],
   "source": [
    "import pandas as pd\n",
    "\n",
    "ibukota = pd.Series(['Bandung', 'Makassar', 'Palembang'], [\n",
    "                    'Jawa Barat', 'Sulawesi Selatan', 'Sumatra Selatan'])\n",
    "print(ibukota)\n"
   ]
  },
  {
   "cell_type": "markdown",
   "metadata": {},
   "source": [
    "Setiap data akan dipetakan kepada label yang sesuai dengan urutan indeksnya. Bagaimana jika jumlah antara label dengan data tidak sama? Mari kita coba:"
   ]
  },
  {
   "cell_type": "code",
   "execution_count": 126,
   "metadata": {},
   "outputs": [
    {
     "ename": "ValueError",
     "evalue": "Length of values (3) does not match length of index (4)",
     "output_type": "error",
     "traceback": [
      "\u001b[0;31m---------------------------------------------------------------------------\u001b[0m",
      "\u001b[0;31mValueError\u001b[0m                                Traceback (most recent call last)",
      "\u001b[0;32m<ipython-input-126-cea8f4e0d0e7>\u001b[0m in \u001b[0;36m<module>\u001b[0;34m\u001b[0m\n\u001b[1;32m      4\u001b[0m \u001b[0mdata\u001b[0m \u001b[0;34m=\u001b[0m \u001b[0;34m[\u001b[0m\u001b[0;36m1\u001b[0m\u001b[0;34m,\u001b[0m \u001b[0;36m2\u001b[0m\u001b[0;34m,\u001b[0m \u001b[0;36m3\u001b[0m\u001b[0;34m]\u001b[0m\u001b[0;34m\u001b[0m\u001b[0;34m\u001b[0m\u001b[0m\n\u001b[1;32m      5\u001b[0m \u001b[0;34m\u001b[0m\u001b[0m\n\u001b[0;32m----> 6\u001b[0;31m \u001b[0mseries\u001b[0m \u001b[0;34m=\u001b[0m \u001b[0;34m[\u001b[0m\u001b[0mpd\u001b[0m\u001b[0;34m.\u001b[0m\u001b[0mSeries\u001b[0m\u001b[0;34m(\u001b[0m\u001b[0mdata\u001b[0m\u001b[0;34m,\u001b[0m \u001b[0mlabel\u001b[0m\u001b[0;34m)\u001b[0m\u001b[0;34m]\u001b[0m\u001b[0;34m\u001b[0m\u001b[0;34m\u001b[0m\u001b[0m\n\u001b[0m\u001b[1;32m      7\u001b[0m \u001b[0mprint\u001b[0m\u001b[0;34m(\u001b[0m\u001b[0mseries\u001b[0m\u001b[0;34m)\u001b[0m\u001b[0;34m\u001b[0m\u001b[0;34m\u001b[0m\u001b[0m\n",
      "\u001b[0;32m/usr/local/anaconda3/lib/python3.8/site-packages/pandas/core/series.py\u001b[0m in \u001b[0;36m__init__\u001b[0;34m(self, data, index, dtype, name, copy, fastpath)\u001b[0m\n\u001b[1;32m    428\u001b[0m                 \u001b[0mindex\u001b[0m \u001b[0;34m=\u001b[0m \u001b[0mibase\u001b[0m\u001b[0;34m.\u001b[0m\u001b[0mdefault_index\u001b[0m\u001b[0;34m(\u001b[0m\u001b[0mlen\u001b[0m\u001b[0;34m(\u001b[0m\u001b[0mdata\u001b[0m\u001b[0;34m)\u001b[0m\u001b[0;34m)\u001b[0m\u001b[0;34m\u001b[0m\u001b[0;34m\u001b[0m\u001b[0m\n\u001b[1;32m    429\u001b[0m             \u001b[0;32melif\u001b[0m \u001b[0mis_list_like\u001b[0m\u001b[0;34m(\u001b[0m\u001b[0mdata\u001b[0m\u001b[0;34m)\u001b[0m\u001b[0;34m:\u001b[0m\u001b[0;34m\u001b[0m\u001b[0;34m\u001b[0m\u001b[0m\n\u001b[0;32m--> 430\u001b[0;31m                 \u001b[0mcom\u001b[0m\u001b[0;34m.\u001b[0m\u001b[0mrequire_length_match\u001b[0m\u001b[0;34m(\u001b[0m\u001b[0mdata\u001b[0m\u001b[0;34m,\u001b[0m \u001b[0mindex\u001b[0m\u001b[0;34m)\u001b[0m\u001b[0;34m\u001b[0m\u001b[0;34m\u001b[0m\u001b[0m\n\u001b[0m\u001b[1;32m    431\u001b[0m \u001b[0;34m\u001b[0m\u001b[0m\n\u001b[1;32m    432\u001b[0m             \u001b[0;31m# create/copy the manager\u001b[0m\u001b[0;34m\u001b[0m\u001b[0;34m\u001b[0m\u001b[0;34m\u001b[0m\u001b[0m\n",
      "\u001b[0;32m/usr/local/anaconda3/lib/python3.8/site-packages/pandas/core/common.py\u001b[0m in \u001b[0;36mrequire_length_match\u001b[0;34m(data, index)\u001b[0m\n\u001b[1;32m    529\u001b[0m     \"\"\"\n\u001b[1;32m    530\u001b[0m     \u001b[0;32mif\u001b[0m \u001b[0mlen\u001b[0m\u001b[0;34m(\u001b[0m\u001b[0mdata\u001b[0m\u001b[0;34m)\u001b[0m \u001b[0;34m!=\u001b[0m \u001b[0mlen\u001b[0m\u001b[0;34m(\u001b[0m\u001b[0mindex\u001b[0m\u001b[0;34m)\u001b[0m\u001b[0;34m:\u001b[0m\u001b[0;34m\u001b[0m\u001b[0;34m\u001b[0m\u001b[0m\n\u001b[0;32m--> 531\u001b[0;31m         raise ValueError(\n\u001b[0m\u001b[1;32m    532\u001b[0m             \u001b[0;34m\"Length of values \"\u001b[0m\u001b[0;34m\u001b[0m\u001b[0;34m\u001b[0m\u001b[0m\n\u001b[1;32m    533\u001b[0m             \u001b[0;34mf\"({len(data)}) \"\u001b[0m\u001b[0;34m\u001b[0m\u001b[0;34m\u001b[0m\u001b[0m\n",
      "\u001b[0;31mValueError\u001b[0m: Length of values (3) does not match length of index (4)"
     ]
    }
   ],
   "source": [
    "import pandas as pd\n",
    "\n",
    "label = ['a', 'b', 'c', 'd']\n",
    "data = [1, 2, 3]\n",
    "\n",
    "series = [pd.Series(data, label)]\n",
    "print(series)"
   ]
  },
  {
   "cell_type": "markdown",
   "metadata": {},
   "source": [
    "Proses ini akan menimbulkan exception berupa ``ValueError`` yang diakibatkan panjang dari label dan panjang dari data berbeda."
   ]
  },
  {
   "cell_type": "markdown",
   "metadata": {},
   "source": [
    "## Pengaksesas Elemen di Series\n",
    "\n",
    "Setelah mempelajari cara mendeklarasikan Series pada pandas, maka langkah berikutnya adalah mengakses elemen di Series. Seperti yang sudah disebutkan sebelumnya, Series bisa diakses menggunakan label. Apabila label menggunakan label default maka kita bisa menggunakan konsep slicing pada list. Sebagai contoh, silakan coba kode program berikut:"
   ]
  },
  {
   "cell_type": "code",
   "execution_count": null,
   "metadata": {},
   "outputs": [],
   "source": [
    "import pandas as panda\n",
    "\n",
    "data = [100, 200, 300, 400, 500]\n",
    "\n",
    "series = pd.Series(data)\n",
    "print(series)\n",
    "print(series[1:])\n",
    "print()\n",
    "print(series[:3])\n",
    "print()\n",
    "print(series[1:3])\n",
    "print()\n",
    "print(series[:3])\n",
    "print()"
   ]
  },
  {
   "cell_type": "markdown",
   "metadata": {},
   "source": [
    "><b>Catatan:</b> Walaupun slicing mirip seperti list akan tetapi kita tidak bisa mengakses menggunakan slicing indeks negatif karena indeks yang bisa dipakai hanya yang terdaftar di series.\n",
    "\n",
    "Bagaimana kalau kita meng-custom labelnya? Berikut cara aksesnya:"
   ]
  },
  {
   "cell_type": "code",
   "execution_count": null,
   "metadata": {},
   "outputs": [],
   "source": [
    "import pandas as pd\n",
    "\n",
    "ibukota = pd.Series(['Bandung', 'Makassar', 'Palembang'], ['Jawa Barat', 'Sulawesi Selatan', 'Sumatra Selatan'])\n",
    "print(ibukota)\n",
    "print()\n",
    "print(ibukota['Sulawesi Selatan'])"
   ]
  },
  {
   "cell_type": "markdown",
   "metadata": {},
   "source": [
    "## Operasi di Series\n",
    "\n",
    "Kita bisa melakukan beberapa operasi pada Series di pandas. Berikut contohnya:"
   ]
  },
  {
   "cell_type": "code",
   "execution_count": null,
   "metadata": {},
   "outputs": [],
   "source": [
    "import pandas as pd\n",
    "\n",
    "series1 = pd.Series([1, 2, 3])\n",
    "series2 = pd.Series([10, 20, 30])\n",
    "\n",
    "series_hasil1 = series1 + series2\n",
    "series_hasil2 = series1 - series2\n",
    "series_hasil3 = series1 * series2\n",
    "series_hasil4 = series1 / series2\n",
    "\n",
    "print(series_hasil1)\n",
    "print()\n",
    "print(series_hasil2)\n",
    "print()\n",
    "print(series_hasil3)\n",
    "print()\n",
    "print(series_hasil4)\n",
    "print()\n"
   ]
  },
  {
   "cell_type": "markdown",
   "metadata": {},
   "source": [
    "Apa yang terjadi jika series menggunakan label dan jumlah data antar series tidak sama? Mari kita coba kode program berikut:"
   ]
  },
  {
   "cell_type": "code",
   "execution_count": null,
   "metadata": {},
   "outputs": [],
   "source": [
    "data1 = [100, 200, 300]\n",
    "label1 = ['Budi', 'Andi', 'Ani']\n",
    "\n",
    "series1 = pd.Series(data1, label1)\n",
    "print(series1)"
   ]
  },
  {
   "cell_type": "code",
   "execution_count": null,
   "metadata": {},
   "outputs": [],
   "source": [
    "data2 = [100, 200, 300, 400]\n",
    "label2 = ['Budi', 'Andi', 'Ani', 'Suci']\n",
    "\n",
    "series2 = pd.Series(data2,label2)\n",
    "print(series2)"
   ]
  },
  {
   "cell_type": "code",
   "execution_count": null,
   "metadata": {},
   "outputs": [],
   "source": [
    "series_hasil = series1 + series2\n",
    "print(series_hasil)"
   ]
  },
  {
   "cell_type": "markdown",
   "metadata": {},
   "source": [
    "Untuk label yang ada di kedua series, maka nilai yang diwakilinya akan langsung dioperasikan sesuai dengan operator yang digunakan. Akan tetapi untuk yang labelnya hanya ada di satu series saja maka nilainya akan diisi dengan NaN (Not a Number). Jumlah elemen series hasil adalah jumlah elemen Unique hasil penggabungan dua series."
   ]
  },
  {
   "cell_type": "markdown",
   "metadata": {},
   "source": [
    "# DataFrames\n",
    "\n",
    "Tipe kedua yang didukung oleh pandas adalah dataframe. Bentuk data pada dataframe menyerupai tabel. Tipe data ini memiliki banyak dukungan operasi untuk menganalisis data. Dataframe bekerja layaknya seperti array dua dimensi atau matriks pada numpy. Bentuk deklarasi umum dari dataframe pada pandas adalah sebagai berikut:\n",
    "\n",
    "```python\n",
    "import pandas as pd\n",
    "\n",
    "pd.DataFrame(data=<data>, index=<index/label_baris>, columns=<index/label_kolom>, dtype=None, copy=None)\n",
    "```\n",
    "Biasanya dataframe digunakan untuk menampung data hasil pembacaan file .csv atau excel. Operasi-operasi pada tabel (seperti pada umumnya) didukung oleh tipe data pandas ini. Berikut contoh pendeklarasian dataframe pada pandas."
   ]
  },
  {
   "cell_type": "code",
   "execution_count": null,
   "metadata": {},
   "outputs": [],
   "source": [
    "import pandas as pd\n",
    "\n",
    "nim = [10101010, 10101011, 10101012]\n",
    "data = [['Budi', 100], ['Andi', 90], ['Ani', 80]]\n",
    "kolom = ['nama', 'nilai']\n",
    "\n",
    "df = pd.DataFrame(data, columns = kolom)\n",
    "print(df)\n",
    "print()\n",
    "\n",
    "df = pd.DataFrame(data, nim, kolom)\n",
    "print(df)\n",
    "print()"
   ]
  },
  {
   "cell_type": "code",
   "execution_count": null,
   "metadata": {},
   "outputs": [],
   "source": [
    "import pandas as pd\n",
    "\n",
    "data = [[10101010, 'Budi', 100], [10101011, 'Andi', 90], [10101012, 'Ani', 80]]\n",
    "kolom = ['nim', 'nama', 'nilai']\n",
    "\n",
    "df = pd.DataFrame(data, columns=kolom)\n",
    "print(df)\n",
    "print()"
   ]
  },
  {
   "cell_type": "markdown",
   "metadata": {},
   "source": [
    "Apa perbedaan dari kedua kode program tersebut? Pada kode program yang pertama, NIM dijadikan indeks baris smenetara pada kode program kedua NIM dijadikan data (salah satu kolom) yang ditunjuk oleh indeks/label default (0, 1, 2, dan seterusnya, mirip dengan konsep auto-increment di konsep database). Kita juga bisa mendeklarasian dataframe menggunakan dictionary. Berikut contoh penggunaanya"
   ]
  },
  {
   "cell_type": "code",
   "execution_count": null,
   "metadata": {},
   "outputs": [],
   "source": [
    "import pandas as pd\n",
    "\n",
    "dict = {10101010: ['Budi', 100], 10101011: ['Andi', 90], 10101012: ['Ani', 80]}\n",
    "kolom = ['nama','nilai']\n",
    "\n",
    "df = pd.DataFrame(dict.values(), dict.keys())\n",
    "print(df)\n",
    "print()\n",
    "\n",
    "df = pd.DataFrame(dict.values(), dict.keys(), kolom)\n",
    "print(df)\n"
   ]
  },
  {
   "cell_type": "markdown",
   "metadata": {},
   "source": [
    "## Pengaksesan Elemen di DataFrame\n",
    "\n",
    "Setelah dideklarasikan, elemen-elemen di dalam DataFrame bisa diakses. Pengaksesan elemen di dataframe bisa memiliki banyak konsep. Berikut contoh pengaksesan elemen di dataframe:"
   ]
  },
  {
   "cell_type": "markdown",
   "metadata": {},
   "source": [
    "### Pengaksesan Kolom\n",
    "\n",
    "Untuk bisa mengakses data pada kolom, kita bisa menggunakan format berikut:\n",
    "\n",
    "```python\n",
    "nama_dataframe[label_kolom]\n",
    "```\n",
    "\n",
    "Berikut contoh pengaksesan kolom pada dataframe:"
   ]
  },
  {
   "cell_type": "code",
   "execution_count": null,
   "metadata": {},
   "outputs": [],
   "source": [
    "import pandas as pd\n",
    "\n",
    "nim = [10101010, 10101011, 10101012]\n",
    "data = [['Budi', 100], ['Andi', 90], ['Ani', 80]]\n",
    "kolom = ['nama', 'nilai']\n",
    "\n",
    "df = pd.DataFrame(data, nim, kolom)\n",
    "\n",
    "print(df['nama'])\n",
    "print()\n",
    "print(df['nilai'])"
   ]
  },
  {
   "cell_type": "markdown",
   "metadata": {},
   "source": [
    "><b>Catatan:</b> Apabila dilihat 1 kolom pada dataframe merupakan 1 series."
   ]
  },
  {
   "cell_type": "markdown",
   "metadata": {},
   "source": [
    "### Pengaksesan Multi Kolom\n",
    "\n",
    "Kita bisa mengakses beberapa kolom dalam satu kali pengaksesan. Contoh penggunaannya adalah sebagai berikut:"
   ]
  },
  {
   "cell_type": "code",
   "execution_count": null,
   "metadata": {},
   "outputs": [],
   "source": [
    "data = [[10101010, 'Budi', 100], [10101011, 'Andi', 90], [10101012, 'Ani', 80]]\n",
    "kolom = ['nim', 'nama', 'nilai']\n",
    "\n",
    "df = pd.DataFrame(data, columns=kolom)\n",
    "\n",
    "print(df[['nim','nilai']])"
   ]
  },
  {
   "cell_type": "markdown",
   "metadata": {},
   "source": [
    "><b>Catatan:</b> label kolom yang mau dimunculkan, disimpan dalam sebuah list dan dijadikan indeks akses di dataframe untuk multi kolom."
   ]
  },
  {
   "cell_type": "markdown",
   "metadata": {},
   "source": [
    "### Pengaksesan Baris\n",
    "\n",
    "Mirip seperti pengaksesan kolom, pengaksesan baris dapat dilakukan dengan cara sebagai berikut:\n",
    "\n",
    "```python\n",
    "nama_dataframe.loc[label_baris]\n",
    "```\n",
    "\n",
    "Berikut contoh pengaksesan baris pada dataframe:"
   ]
  },
  {
   "cell_type": "code",
   "execution_count": null,
   "metadata": {},
   "outputs": [],
   "source": [
    "import pandas as pd\n",
    "\n",
    "data = [[10101010, 'Budi', 100], [10101011, 'Andi', 90], [10101012, 'Ani', 80],\n",
    "        [10101013, 'Melodi', 85], [10101014, 'Siska', 100], [10101015, 'Yono', 60]]\n",
    "kolom = ['nim', 'nama', 'nilai']\n",
    "\n",
    "df = pd.DataFrame(data, columns=kolom)\n",
    "print(df.loc[1])\n"
   ]
  },
  {
   "cell_type": "markdown",
   "metadata": {},
   "source": [
    "><b>Catatan:</b> Gunakan fungsi ``iloc`` jika ingin mengakses label baris default (0, 1, 2, dan seterusnya) jika label baris sudah di-custom.\n",
    "\n",
    "Selain menggunakan ``loc[]`` untuk menampilkan baris, pandas juga menyediakan sarana berupa ``head()`` yang bisa digunakan untuk memunculkan 5 baris pertama dalam dataframe dan juga ``tail()`` untuk menampilkan 5 baris data terakhir di dataframe. Penggunaannya adalah sebagai berikut:"
   ]
  },
  {
   "cell_type": "code",
   "execution_count": null,
   "metadata": {},
   "outputs": [],
   "source": [
    "import pandas as pd\n",
    "\n",
    "data = [[10101010, 'Budi', 100], [10101011, 'Andi', 90], [10101012, 'Ani', 80],\n",
    "        [10101013, 'Melodi', 85], [10101014, 'Siska', 100], [10101015, 'Yono', 60]]\n",
    "kolom = ['nim', 'nama', 'nilai']\n",
    "\n",
    "df = pd.DataFrame(data, columns=kolom)\n",
    "print(df.head())\n",
    "print()\n",
    "\n",
    "print(df.tail())\n"
   ]
  },
  {
   "cell_type": "markdown",
   "metadata": {},
   "source": [
    "Apabila ingin menampilkan multibaris, kita bisa menyebutkan list label baris pada fungsi ``loc``. Berikut contoh penggunaannya:"
   ]
  },
  {
   "cell_type": "code",
   "execution_count": null,
   "metadata": {},
   "outputs": [],
   "source": [
    "import pandas as pd\n",
    "\n",
    "data = [[10101010, 'Budi', 100], [10101011, 'Andi', 90], [10101012, 'Ani', 80],\n",
    "        [10101013, 'Melodi', 85], [10101014, 'Siska', 100], [10101015, 'Yono', 60]]\n",
    "kolom = ['nim', 'nama', 'nilai']\n",
    "\n",
    "df = pd.DataFrame(data, columns=kolom)\n",
    "print(df.loc[[0,3]])"
   ]
  },
  {
   "cell_type": "markdown",
   "metadata": {},
   "source": [
    "### Pengaksesan Baris dan Kolom\n",
    "\n",
    "Pandas juga menyediakan cara untuk kita mengakses data pada suatu baris dan kolom tertentu pada saat yang bersamaan. Format pengaksesannya adalah sebagai berikut:\n",
    "\n",
    "```python\n",
    "nama_dataframe[label_kolom][batas_baris_bawah:batas_baris_bawah]\n",
    "```\n",
    "\n",
    "Berikut contoh penggunaanya:"
   ]
  },
  {
   "cell_type": "code",
   "execution_count": null,
   "metadata": {},
   "outputs": [],
   "source": [
    "import pandas as pd\n",
    "\n",
    "data = [[10101010, 'Budi', 100], [10101011, 'Andi', 90], [10101012, 'Ani', 80],\n",
    "        [10101013, 'Melodi', 85], [10101014, 'Siska', 100], [10101015, 'Yono', 60]]\n",
    "kolom = ['nim', 'nama', 'nilai']\n",
    "\n",
    "df = pd.DataFrame(data, columns = kolom)\n",
    "print(df['nama'][2])"
   ]
  },
  {
   "cell_type": "markdown",
   "metadata": {},
   "source": [
    "Apabila kita ingin menggunakan multilabel pada kolom atau baris, penggunaannya adalah sebagai berikut:"
   ]
  },
  {
   "cell_type": "code",
   "execution_count": null,
   "metadata": {},
   "outputs": [],
   "source": [
    "import pandas as pd\n",
    "\n",
    "data = [[10101010, 'Budi', 100], [10101011, 'Andi', 90], [10101012, 'Ani', 80],\n",
    "        [10101013, 'Melodi', 85], [10101014, 'Siska', 100], [10101015, 'Yono', 60]]\n",
    "kolom = ['nim', 'nama', 'nilai']\n",
    "\n",
    "df = pd.DataFrame(data, columns=kolom)\n",
    "print(df[['nim','nilai']][2:3])\n",
    "print()\n",
    "\n",
    "print(df[['nama','nilai']][2:])\n"
   ]
  },
  {
   "cell_type": "markdown",
   "metadata": {},
   "source": [
    "## Operasi pada DataFrame\n",
    "\n",
    "Ada beberapa operasi pada dataframe selain pengaksesan elemennya. Berikut kita akan membahas perihal operasi apa saja yang bisa dilakukan pada dataframe."
   ]
  },
  {
   "cell_type": "markdown",
   "metadata": {},
   "source": [
    "### Mengetahui Tipe Data Datum di DataFrame\n",
    "\n",
    "Datum adalah satuan terkecil pada data. Ilustrasinya dapat dilihat pada gambar berikut:\n",
    "\n",
    "<img src = \"https://i1.wp.com/www.kanalinfo.web.id/wp-content/uploads/2016/10/datum-data.jpg?resize=500%2C333\" alt = \"Ilustrasi Datum\">\n",
    "\n",
    "Dataframe mempunyai entity berupa ``dtypes`` yang berguna untuk memunculkan data dari setiap datum yang ada di dataframe. Berikut contoh penggunaanya:"
   ]
  },
  {
   "cell_type": "code",
   "execution_count": null,
   "metadata": {},
   "outputs": [],
   "source": [
    "import pandas as pd\n",
    "\n",
    "data = [[10101010, 'Budi', 100], [10101011, 'Andi', 90], [10101012, 'Ani', 80],\n",
    "        [10101013, 'Melodi', 85], [10101014, 'Siska', 100], [10101015, 'Yono', 60]]\n",
    "kolom = ['nim', 'nama', 'nilai']\n",
    "\n",
    "df = pd.DataFrame(data, columns=kolom)\n",
    "print(df.dtypes)"
   ]
  },
  {
   "cell_type": "markdown",
   "metadata": {},
   "source": [
    "### Penambahan Kolom pada DataFrame\n",
    "\n",
    "Kita bisa melakukan penambahan kolom pada dataframe dengan cara berikut:\n",
    "\n",
    "```python\n",
    "nama_dataframe[label_kolom_baru] = [nilai_baru]\n",
    "```\n",
    "\n",
    "Sebagai contoh, silakan coba kode program berikut:"
   ]
  },
  {
   "cell_type": "code",
   "execution_count": null,
   "metadata": {},
   "outputs": [],
   "source": [
    "import pandas as pd\n",
    "\n",
    "data = [[10101010, 'Budi', 100], [10101011, 'Andi', 90], [10101012, 'Ani', 80],\n",
    "        [10101013, 'Melodi', 85], [10101014, 'Siska', 100], [10101015, 'Yono', 60]]\n",
    "kolom = ['nim', 'nama', 'nilai']\n",
    "\n",
    "df = pd.DataFrame(data, columns=kolom)\n",
    "print(df)\n",
    "\n",
    "df['jenis_kelamin'] = ['Pria', 'Pria', 'Wanita', 'Wanita', 'Wanita', 'Pria']\n",
    "print()\n",
    "print(df)\n",
    "\n",
    "df['nilai_akhir'] = df['nilai'] - 10\n",
    "print()\n",
    "print(df)"
   ]
  },
  {
   "cell_type": "markdown",
   "metadata": {},
   "source": [
    "><b>Catatan:</b> Jumlah nilai yang diinput harus sama dengan jumlah baris yang sudah ada sebelumnya pada dataframe yang ditambah kolomnya."
   ]
  },
  {
   "cell_type": "markdown",
   "metadata": {},
   "source": [
    "### Menghapus Kolom pada DataFrame\n",
    "\n",
    "Selain menambah kolom baru, kita juga bisa menghapus kolom dari dataframe. Fungsi yang digunakan adalah fungsi ``drop(label_kolom)``. Berikut contoh penggunaannya:"
   ]
  },
  {
   "cell_type": "code",
   "execution_count": null,
   "metadata": {},
   "outputs": [],
   "source": [
    "import pandas as pd\n",
    "\n",
    "data = [[10101010, 'Budi', 100, 'Pria'], [10101011, 'Andi', 90, 'Pria'], [10101012, 'Ani', 80, 'Wanita'],\n",
    "        [10101013, 'Melodi', 85, 'Wanita'], [10101014, 'Siska', 100, 'Wanita'], [10101015, 'Yono', 60, 'Pria']]\n",
    "kolom = ['nim', 'nama', 'nilai', 'jenis_kelamin']\n",
    "\n",
    "df = pd.DataFrame(data, columns=kolom)\n",
    "print(df)\n",
    "\n",
    "print()\n",
    "print(df.drop('jenis_kelamin', axis = 1))"
   ]
  },
  {
   "cell_type": "markdown",
   "metadata": {},
   "source": [
    "><b>Catatan:</b> parameter axis digunakan untuk menandakan apakah yang dihapus adalah baris atau kolom. Apabila mau menghapus kolom, gunakan nilai 1 pada parameter axis.\n",
    "\n",
    "Fungsi ``drop()`` tidak benar-benar menghapus secara fisik kolom yang disebutkan. Fungsi ini hanya memproyeksikan dataframe tanpa menampilkan kolom yang ada di parameter fungsi tersebut. Berikut buktinya:"
   ]
  },
  {
   "cell_type": "code",
   "execution_count": null,
   "metadata": {},
   "outputs": [],
   "source": [
    "import pandas as pd\n",
    "\n",
    "data = [[10101010, 'Budi', 100, 'Pria'], [10101011, 'Andi', 90, 'Pria'], [10101012, 'Ani', 80, 'Wanita'],\n",
    "        [10101013, 'Melodi', 85, 'Wanita'], [10101014, 'Siska', 100, 'Wanita'], [10101015, 'Yono', 60, 'Pria']]\n",
    "kolom = ['nim', 'nama', 'nilai', 'jenis_kelamin']\n",
    "\n",
    "df = pd.DataFrame(data, columns=kolom)\n",
    "print(df)\n",
    "\n",
    "print()\n",
    "print(df.drop('jenis_kelamin', axis=1))\n",
    "\n",
    "print()\n",
    "print(df)"
   ]
  },
  {
   "cell_type": "markdown",
   "metadata": {},
   "source": [
    "Jika kita ingin benar-benar menghapus kolom tersebut, kita bisa menambahkan parameter ``inplace = True`` di dalam fungsi drop. Berikut contoh penggunaannya:"
   ]
  },
  {
   "cell_type": "code",
   "execution_count": null,
   "metadata": {},
   "outputs": [],
   "source": [
    "import pandas as pd\n",
    "\n",
    "data = [[10101010, 'Budi', 100, 'Pria'], [10101011, 'Andi', 90, 'Pria'], [10101012, 'Ani', 80, 'Wanita'],\n",
    "        [10101013, 'Melodi', 85, 'Wanita'], [10101014, 'Siska', 100, 'Wanita'], [10101015, 'Yono', 60, 'Pria']]\n",
    "kolom = ['nim', 'nama', 'nilai', 'jenis_kelamin']\n",
    "\n",
    "df = pd.DataFrame(data, columns=kolom)\n",
    "print(df)\n",
    "\n",
    "print()\n",
    "df.drop('jenis_kelamin', axis=1, inplace = True)\n",
    "\n",
    "print()\n",
    "print(df)"
   ]
  },
  {
   "cell_type": "markdown",
   "metadata": {},
   "source": [
    "### Menghapus Baris\n",
    "\n",
    "Mirip seperti konsep penghapusan kolom, untuk menghapus baris, kita tinggal mengganti nilai parameter ```axis`` menjadi 0. Berikut contoh penggunaannya:"
   ]
  },
  {
   "cell_type": "code",
   "execution_count": null,
   "metadata": {},
   "outputs": [],
   "source": [
    "import pandas as pd\n",
    "\n",
    "data = [[10101010, 'Budi', 100, 'Pria'], [10101011, 'Andi', 90, 'Pria'], [10101012, 'Ani', 80, 'Wanita'],\n",
    "        [10101013, 'Melodi', 85, 'Wanita'], [10101014, 'Siska', 100, 'Wanita'], [10101015, 'Yono', 60, 'Pria']]\n",
    "kolom = ['nim', 'nama', 'nilai', 'jenis_kelamin']\n",
    "\n",
    "df = pd.DataFrame(data, columns=kolom)\n",
    "print(df)\n",
    "\n",
    "print()\n",
    "print(df.drop(2, axis=0))\n",
    "\n",
    "print()\n",
    "print(df)"
   ]
  },
  {
   "cell_type": "markdown",
   "metadata": {},
   "source": [
    "Untuk benar-benar menghapus secara fisik baris yang mau dihapus, kita gunakan parameter ``inplace = True``. Berikut contoh penggunaannya:"
   ]
  },
  {
   "cell_type": "code",
   "execution_count": null,
   "metadata": {},
   "outputs": [],
   "source": [
    "import pandas as pd\n",
    "\n",
    "data = [[10101010, 'Budi', 100, 'Pria'], [10101011, 'Andi', 90, 'Pria'], [10101012, 'Ani', 80, 'Wanita'],\n",
    "        [10101013, 'Melodi', 85, 'Wanita'], [10101014, 'Siska', 100, 'Wanita'], [10101015, 'Yono', 60, 'Pria']]\n",
    "kolom = ['nim', 'nama', 'nilai', 'jenis_kelamin']\n",
    "\n",
    "df = pd.DataFrame(data, columns=kolom)\n",
    "print(df)\n",
    "\n",
    "print()\n",
    "df.drop(2, axis=0, inplace=True)\n",
    "\n",
    "print()\n",
    "print(df)"
   ]
  },
  {
   "cell_type": "markdown",
   "metadata": {},
   "source": [
    "### Dimensi DataFrame\n",
    "\n",
    "Untuk mengetahui dimensi pada suatu dataframe, kita bisa menggunakan atribut ``shape``. Dimensi dari dataframe adalah baris x kolom. Berikut contoh penggunaannya:"
   ]
  },
  {
   "cell_type": "code",
   "execution_count": null,
   "metadata": {},
   "outputs": [],
   "source": [
    "import pandas as pd\n",
    "\n",
    "data = [[10101010, 'Budi', 100, 'Pria'], [10101011, 'Andi', 90, 'Pria'], [10101012, 'Ani', 80, 'Wanita'],\n",
    "        [10101013, 'Melodi', 85, 'Wanita'], [10101014, 'Siska', 100, 'Wanita'], [10101015, 'Yono', 60, 'Pria']]\n",
    "kolom = ['nim', 'nama', 'nilai', 'jenis_kelamin']\n",
    "\n",
    "df = pd.DataFrame(data, columns=kolom)\n",
    "print(df.drop())\n",
    "print(df.shape)"
   ]
  },
  {
   "cell_type": "markdown",
   "metadata": {},
   "source": [
    "## Data Selection di DataFrame\n",
    "\n",
    "Seperti halnya tabel pada suatu DBMS Relational, data pada DataFrame dapat diseleksi menggunakan fungsi-fungsi yang disediakan oleh pandas. Berikut adalah beberapa pembahasan perihal operasil selection di dataframe."
   ]
  },
  {
   "cell_type": "markdown",
   "metadata": {},
   "source": [
    "### Penggunaan Operator Relasional\n",
    "\n",
    "Salah satu cara menseleksi data pada dataframe adalah menggunakan operator relasional. Jenis operator relasional yang digunakan sama dengan pembahasan topik sebelumnya. Berikut adalah beberapa cara contoh seleksi data menggunakan operator relasional:"
   ]
  },
  {
   "cell_type": "code",
   "execution_count": null,
   "metadata": {},
   "outputs": [],
   "source": [
    "import pandas as pd\n",
    "\n",
    "data = [[10101010, 'Budi', 100, 'Pria'], [10101011, 'Andi', 90, 'Pria'], [10101012, 'Ani', 80, 'Wanita'],\n",
    "        [10101013, 'Melodi', 85, 'Wanita'], [10101014, 'Siska', 100, 'Wanita'], [10101015, 'Yono', 60, 'Pria']]\n",
    "kolom = ['nim', 'nama', 'nilai', 'jenis_kelamin']\n",
    "\n",
    "df = pd.DataFrame(data, columns=kolom)\n",
    "\n",
    "seleksi_nim = df['nim'] > 10101012\n",
    "print(seleksi_nim)"
   ]
  },
  {
   "cell_type": "markdown",
   "metadata": {},
   "source": [
    "Untuk memunculkan isi dari hasil seleksi tersebut, kita gunakan hasil seleksi sebagai indeks/label pada dataframe seperti berikut:"
   ]
  },
  {
   "cell_type": "code",
   "execution_count": null,
   "metadata": {},
   "outputs": [],
   "source": [
    "import pandas as pd\n",
    "\n",
    "data = [[10101010, 'Budi', 100, 'Pria'], [10101011, 'Andi', 90, 'Pria'], [10101012, 'Ani', 80, 'Wanita'],\n",
    "        [10101013, 'Melodi', 85, 'Wanita'], [10101014, 'Siska', 100, 'Wanita'], [10101015, 'Yono', 60, 'Pria']]\n",
    "kolom = ['nim', 'nama', 'nilai', 'jenis_kelamin']\n",
    "\n",
    "df = pd.DataFrame(data, columns=kolom)\n",
    "\n",
    "# Cara 1\n",
    "seleksi_nim = df['nim'] > 10101012\n",
    "print(df[seleksi_nim])\n",
    "\n",
    "print()\n",
    "\n",
    "# Cara 2\n",
    "print(df[df['nim'] > 10101012])"
   ]
  },
  {
   "cell_type": "markdown",
   "metadata": {},
   "source": [
    "Kita tetap bisa men-slicing hasil seleksi tersebut dengan konsep slicing yang sama dengan sebelumnya. Berikut contoh penggunaannya:"
   ]
  },
  {
   "cell_type": "code",
   "execution_count": null,
   "metadata": {},
   "outputs": [],
   "source": [
    "import pandas as pd\n",
    "\n",
    "data = [[10101010, 'Budi', 100, 'Pria'], [10101011, 'Andi', 90, 'Pria'], [10101012, 'Ani', 80, 'Wanita'],\n",
    "        [10101013, 'Melodi', 85, 'Wanita'], [10101014, 'Siska', 100, 'Wanita'], [10101015, 'Yono', 60, 'Pria']]\n",
    "kolom = ['nim', 'nama', 'nilai', 'jenis_kelamin']\n",
    "\n",
    "df = pd.DataFrame(data, columns=kolom)\n",
    "\n",
    "# Cara 1\n",
    "seleksi_nim = df['nim'] > 10101012\n",
    "print(df[seleksi_nim]['nama'])\n",
    "\n",
    "print()\n",
    "\n",
    "# Cara 2\n",
    "print(df[df['nim'] > 10101012]['nama'])"
   ]
  },
  {
   "cell_type": "markdown",
   "metadata": {},
   "source": [
    "Selain itu kita juga bisa menggunakan multikolom dengan cara yang sama seperti berikut:"
   ]
  },
  {
   "cell_type": "code",
   "execution_count": null,
   "metadata": {},
   "outputs": [],
   "source": [
    "import pandas as pd\n",
    "\n",
    "data = [[10101010, 'Budi', 100, 'Pria'], [10101011, 'Andi', 90, 'Pria'], [10101012, 'Ani', 80, 'Wanita'],\n",
    "        [10101013, 'Melodi', 85, 'Wanita'], [10101014, 'Siska', 100, 'Wanita'], [10101015, 'Yono', 60, 'Pria']]\n",
    "kolom = ['nim', 'nama', 'nilai', 'jenis_kelamin']\n",
    "\n",
    "df = pd.DataFrame(data, columns=kolom)\n",
    "\n",
    "# Cara 1\n",
    "seleksi_nim = df['nim'] > 10101012\n",
    "print(df[seleksi_nim][['nama', 'nilai']])\n",
    "\n",
    "print()\n",
    "\n",
    "# Cara 2\n",
    "print(df[df['nim'] > 10101012][['nama', 'nilai']])"
   ]
  },
  {
   "cell_type": "markdown",
   "metadata": {},
   "source": [
    "### Hands on Lab 1: Mencoba seleksi operator relasional\n",
    "\n",
    "Silakan coba operator relasional lainnya dan juga kolom lainnya untuk proses seleksi."
   ]
  },
  {
   "cell_type": "code",
   "execution_count": null,
   "metadata": {},
   "outputs": [],
   "source": [
    "import pandas as pd\n",
    "\n",
    "data = [[10101010, 'Budi', 100, 'Pria'], [10101011, 'Andi', 90, 'Pria'], [10101012, 'Ani', 80, 'Wanita'],\n",
    "        [10101013, 'Melodi', 85, 'Wanita'], [10101014, 'Siska', 100, 'Wanita'], [10101015, 'Yono', 60, 'Pria']]\n",
    "kolom = ['nim', 'nama', 'nilai', 'jenis_kelamin']\n",
    "\n",
    "df = pd.DataFrame(data, columns=kolom)\n",
    "\n",
    "# Ganti operator maupun kolom\n",
    "seleksi_nim = df['nim'] > 10101012\n",
    "print(df[seleksi_nim])\n",
    "\n",
    "print()\n",
    "\n",
    "# Ganti operator maupun kolom\n",
    "print(df[df['nim'] > 10101012])"
   ]
  },
  {
   "cell_type": "markdown",
   "metadata": {},
   "source": [
    "### Seleksi dengan Multikondisional\n",
    "\n",
    "Contoh sebelumnya selalu membahas seleksi dataframe dengan 1 buah kondisional. Bagaimana cara seleksi jika kondisional yang diperiksa lebih dari satu? Kita bisa menggunakan operator logika untuk mengkombinasikan kondisional yang ada. Sebagai contoh pada kasus data mahasiswa sebelumnya, mari kita seleksi data dimana nim > 10101012 dan nilai >= 90. Berikut kode programnya:"
   ]
  },
  {
   "cell_type": "code",
   "execution_count": null,
   "metadata": {},
   "outputs": [],
   "source": [
    "import pandas as pd\n",
    "\n",
    "data = [[10101010, 'Budi', 100, 'Pria'], [10101011, 'Andi', 90, 'Pria'], [10101012, 'Ani', 80, 'Wanita'],\n",
    "        [10101013, 'Melodi', 85, 'Wanita'], [10101014, 'Siska', 100, 'Wanita'], [10101015, 'Yono', 60, 'Pria']]\n",
    "kolom = ['nim', 'nama', 'nilai', 'jenis_kelamin']\n",
    "\n",
    "df = pd.DataFrame(data, columns=kolom)\n",
    "\n",
    "seleksi_nim = (df['nim'] > 10101012) & (df['nilai'] >= 80)\n",
    "print(df[seleksi_nim])"
   ]
  },
  {
   "cell_type": "markdown",
   "metadata": {},
   "source": [
    "### Hands on Lab 2: Seleksi Multikondisional\n",
    "\n",
    "Silakan coba operator logika lainnya dan juga kombinasi kondisional lainnya untuk proses seleksi."
   ]
  },
  {
   "cell_type": "code",
   "execution_count": null,
   "metadata": {},
   "outputs": [],
   "source": [
    "import pandas as pd\n",
    "\n",
    "data = [[10101010, 'Budi', 100, 'Pria'], [10101011, 'Andi', 90, 'Pria'], [10101012, 'Ani', 80, 'Wanita'],\n",
    "        [10101013, 'Melodi', 85, 'Wanita'], [10101014, 'Siska', 100, 'Wanita'], [10101015, 'Yono', 60, 'Pria']]\n",
    "kolom = ['nim', 'nama', 'nilai', 'jenis_kelamin']\n",
    "\n",
    "df = pd.DataFrame(data, columns=kolom)\n",
    "\n",
    "# Ganti operator logika dan kombinasi kondisionalnya\n",
    "seleksi_nim = (df['nim'] > 10101012) & (df['nilai'] >= 80)\n",
    "print(df[seleksi_nim])"
   ]
  },
  {
   "cell_type": "markdown",
   "metadata": {},
   "source": [
    "## Fungsi reset_index()\n",
    "\n",
    "Fungsi ``reset_index()`` digunakan untuk mengembalikan indeks/label baris ke kondisi default (0, 1, 2, dan seterusnya). Apabila sudah ada custom label pada baris, maka label tersebut akan dijadikan kolom baru di dalam dataframe. Berikut contoh penggunaannya:"
   ]
  },
  {
   "cell_type": "code",
   "execution_count": null,
   "metadata": {},
   "outputs": [],
   "source": [
    "import pandas as pd\n",
    "\n",
    "nim = [10101010, 10101011, 10101012]\n",
    "data = [['Budi', 100], ['Andi', 90], ['Ani', 80]]\n",
    "kolom = ['nama', 'nilai']\n",
    "\n",
    "df = pd.DataFrame(data, nim, kolom)\n",
    "\n",
    "print(df)\n",
    "print()\n",
    "\n",
    "print(df.reset_index())\n",
    "print()\n",
    "print(df)\n"
   ]
  },
  {
   "cell_type": "markdown",
   "metadata": {},
   "source": [
    "Jika kita mau me-reset indeks secara permanen, maka gunakan parameter ``inplace = True`` di dalam parameter fungsi tersebut. Berikut contoh penggunaanya:"
   ]
  },
  {
   "cell_type": "code",
   "execution_count": null,
   "metadata": {},
   "outputs": [],
   "source": [
    "import pandas as pd\n",
    "\n",
    "nim = [10101010, 10101011, 10101012]\n",
    "data = [['Budi', 100], ['Andi', 90], ['Ani', 80]]\n",
    "kolom = ['nama', 'nilai']\n",
    "\n",
    "df = pd.DataFrame(data, nim, kolom)\n",
    "\n",
    "print(df)\n",
    "print()\n",
    "\n",
    "df.reset_index(inplace= True)\n",
    "print()\n",
    "print(df)"
   ]
  },
  {
   "cell_type": "markdown",
   "metadata": {},
   "source": [
    "## Fungsi set_index()\n",
    "\n",
    "Kita bisa menggunakan fungsi ``set_index()`` untuk mengganti label/indeks baris yang ada pada dataframe. Berikut contoh penggunaannya:"
   ]
  },
  {
   "cell_type": "code",
   "execution_count": null,
   "metadata": {},
   "outputs": [],
   "source": [
    "import pandas as pd\n",
    "\n",
    "nim = [10101010, 10101011, 10101012]\n",
    "data = [['Budi', 100], ['Andi', 90], ['Ani', 80]]\n",
    "kolom = ['nama', 'nilai']\n",
    "\n",
    "df = pd.DataFrame(data, nim, kolom)\n",
    "print(df)\n",
    "\n",
    "\n",
    "print(df.set_index('nilai'))\n",
    "print()\n",
    "print(df)"
   ]
  },
  {
   "cell_type": "markdown",
   "metadata": {},
   "source": [
    "Gunakan parameter ``inplace = True`` agar efeknya permanen."
   ]
  },
  {
   "cell_type": "code",
   "execution_count": null,
   "metadata": {},
   "outputs": [],
   "source": [
    "import pandas as pd\n",
    "\n",
    "nim = [10101010, 10101011, 10101012]\n",
    "data = [['Budi', 100], ['Andi', 90], ['Ani', 80]]\n",
    "kolom = ['nama', 'nilai']\n",
    "\n",
    "df = pd.DataFrame(data, nim, kolom)\n",
    "print(df)\n",
    "\n",
    "\n",
    "df.set_index('nilai', inplace= True)\n",
    "print()\n",
    "print(df)"
   ]
  },
  {
   "cell_type": "markdown",
   "metadata": {},
   "source": [
    "## Multilevel Indeks\n",
    "\n",
    "Dataframe pada pandas mendukung multilevel indeks untuk mendukung multidimensional data. Berikut contoh penggunaan multilevel indeks:"
   ]
  },
  {
   "cell_type": "code",
   "execution_count": null,
   "metadata": {},
   "outputs": [],
   "source": [
    "import pandas as pd\n",
    "\n",
    "data = [[10, 20], [30 , 40], [10, 20], [30, 40],\n",
    "        [100, 200], [300 , 40], [50, 50], [100, 100]]\n",
    "kolom = ['Jawa Barat', 'Bali']\n",
    "\n",
    "df = pd.DataFrame(data, columns = kolom)\n",
    "print(df)\n",
    "print()\n",
    "\n",
    "tahun = [2020, 2020, 2020, 2020, 2021, 2021, 2021, 2021]\n",
    "kuartal = [1, 2, 3, 4, 1, 2, 3, 4]\n",
    "indeks_baris = list(zip(tahun, kuartal))\n",
    "indeks_baris = pd.MultiIndex.from_tuples(indeks_baris)\n",
    "print(indeks_baris)\n",
    "print()\n",
    "\n",
    "df = pd.DataFrame(data, indeks_baris, kolom)\n",
    "print(df)"
   ]
  },
  {
   "cell_type": "markdown",
   "metadata": {},
   "source": [
    "Cara mengaksesnya pun bisa memanfaatkan indeks yang dibutuhkan. Sebagai contoh kita mau mengakses data di tahun 2020, maka kode programnya sebagai berikut:"
   ]
  },
  {
   "cell_type": "code",
   "execution_count": null,
   "metadata": {},
   "outputs": [],
   "source": [
    "print(df.loc[2020])"
   ]
  },
  {
   "cell_type": "markdown",
   "metadata": {},
   "source": [
    "Jika ingin mengakses indeks di dalam tahun, pengaksesannya adalah sebagai berikut:"
   ]
  },
  {
   "cell_type": "code",
   "execution_count": null,
   "metadata": {},
   "outputs": [],
   "source": [
    "print(df.loc[2021].loc[2])"
   ]
  },
  {
   "cell_type": "markdown",
   "metadata": {},
   "source": [
    "Selain mengakses baris spesifik, kita juga bisa mengakses kolom spesifik di multilevel indeks dataframe dengan cara seperti berikut:"
   ]
  },
  {
   "cell_type": "code",
   "execution_count": null,
   "metadata": {},
   "outputs": [],
   "source": [
    "print(df.loc[2021].loc[2]['Bali'])\n",
    "print(df.loc[2020].loc[1]['Jawa Barat'])"
   ]
  },
  {
   "cell_type": "markdown",
   "metadata": {},
   "source": [
    "Kita juga bisa memberikan penamaan untuk indeks agar pembacaan data menjadi lebih mudah. Caranya sebagai berikut:"
   ]
  },
  {
   "cell_type": "code",
   "execution_count": null,
   "metadata": {},
   "outputs": [],
   "source": [
    "df.index.names = ['Tahun', 'Kuartal']\n",
    "print(df)"
   ]
  },
  {
   "cell_type": "markdown",
   "metadata": {},
   "source": [
    "Setelah memberikan nama pada indeks, maka kita bisa menggunakan fungsi ``xs()`` untuk mengakses elemen cross-section pada dataframe. Fungsi ini memiliki kelebihan dibanding cara slicing biasa karena menggunakan penamaan indeks yang lebih mudah dipahami dan juga bisa mengakses elemen lintas section. Berikut contoh penggunaannya:"
   ]
  },
  {
   "cell_type": "code",
   "execution_count": null,
   "metadata": {},
   "outputs": [],
   "source": [
    "print(df.xs(2, level = 'Kuartal'))"
   ]
  },
  {
   "cell_type": "markdown",
   "metadata": {},
   "source": [
    "><b>Catatan:</b> Dapat dilihat bahwa dengan menggunakan fungsi ``xs()`` maka kita bisa mengakses data pada indeks 2020 dan 2021 secara bersamaan."
   ]
  },
  {
   "cell_type": "markdown",
   "metadata": {},
   "source": [
    "# Menangani Missing Data\n",
    "\n",
    "Salah satu kelebihan dari dataframe adalah kemampuannnya dalam menangani <b>MISSING DATA</b>. Dalam domain data science, missing data (data yang tidak diisi dan biasanya bernilai NaN di dalam dataframe) akan mengganggu proses modeling dalam ekstraksi pengetahuan (biasanya missing data akan ditangani dalam proses data preparation). Kita akan membahas lebih lanjut tentang data sains pada topik berikutnya. Bagaimana cara dataframe menangani missing data? Mari kita lihat dulu bentuk missing data pada dataframe sebagai berikut:"
   ]
  },
  {
   "cell_type": "code",
   "execution_count": null,
   "metadata": {},
   "outputs": [],
   "source": [
    "import pandas as pd\n",
    "import numpy as np\n",
    "\n",
    "data = {10101010:['Budi', 'Pria', np.NaN], 10101011: ['Joo Dan Te', 'Pria', 45], 10101012: ['Cheon So Jin', np.NaN, np.NaN]}\n",
    "\n",
    "df = pd.DataFrame(data)\n",
    "print(df)"
   ]
  },
  {
   "cell_type": "markdown",
   "metadata": {},
   "source": [
    "Salah satu bentuk penanganan missing data adalah kita menghapus missing data baik dari perspektif baris maupun perspektif kolom. Fungsi yang digunakan untuk menghapus missing data adalah:\n",
    "\n",
    "```python\n",
    "nama_dataframe.dropna(axis = None)\n",
    "```\n",
    "\n",
    "><b>Catatan:</b> axis diisi dengan 0 jika mau menangani missing data dari perspektif baris dan diisi dengan 1 jika mau menangani missing data dari perspektif kolom. Nilai axis di dalam berbagai fungsi di pandas berfungsi sama yaitu menyatakan baris atau kolom.\n",
    "\n",
    "Pertama mari kita bersihkan missing data dari perspektif baris. Mari kita coba kode program berikut:"
   ]
  },
  {
   "cell_type": "code",
   "execution_count": null,
   "metadata": {},
   "outputs": [],
   "source": [
    "print(df.dropna())\n",
    "\n",
    "# alternatif lain\n",
    "print()\n",
    "print(df.dropna(axis = 0))"
   ]
  },
  {
   "cell_type": "markdown",
   "metadata": {},
   "source": [
    "Dua eksekusi kode tersebut akan menghasilkan hal yang sama karena nilai default dari parameter axis adalah 0 (mengacu ke baris). Gunakan ``inplace = True`` jika hasilnya ingin permanen:"
   ]
  },
  {
   "cell_type": "code",
   "execution_count": null,
   "metadata": {},
   "outputs": [],
   "source": [
    "df.dropna(inplace = True)\n",
    "print(df)"
   ]
  },
  {
   "cell_type": "markdown",
   "metadata": {},
   "source": [
    "Selanjutnya mari kita lihat penanganan missing data berdasarkan perspektif kolom. Berikut kode programnya:"
   ]
  },
  {
   "cell_type": "code",
   "execution_count": null,
   "metadata": {
    "scrolled": true
   },
   "outputs": [],
   "source": [
    "df = pd.DataFrame(data) # mengembalikan dataframe ke kondisi semula\n",
    "\n",
    "print(df.dropna(axis = 1))"
   ]
  },
  {
   "cell_type": "markdown",
   "metadata": {},
   "source": [
    "Gunakan ``inplace == True`` agar hasil penanganannya permanen:"
   ]
  },
  {
   "cell_type": "code",
   "execution_count": null,
   "metadata": {
    "scrolled": true
   },
   "outputs": [],
   "source": [
    "df.dropna(axis = 1, inplace= True)\n",
    "print(df)"
   ]
  },
  {
   "cell_type": "markdown",
   "metadata": {},
   "source": [
    "Terkadang dalam menangani missing data, kita masih membutuhkan baris atau kolom yang mengandung missing data dengan batas tertentu. Sebagai contoh terkadang kita bisa mentolerir baris atau kolom yang mengandung 1 missing data dalam datanya. Bentuk penanganan missing data ini dapat didukung oleh pandas dengan menambahkan parameter ``thresh`` sebagai threshold (batasan) jumlah missing data. Berikut cara penggunaannya:"
   ]
  },
  {
   "cell_type": "code",
   "execution_count": null,
   "metadata": {},
   "outputs": [],
   "source": [
    "df = pd.DataFrame(data) # mengembalikan dataframe ke kondisi semula\n",
    "\n",
    "print(df.dropna(thresh= 2))"
   ]
  },
  {
   "cell_type": "markdown",
   "metadata": {},
   "source": [
    "><b>Catatan:</b> nilai ``thresh`` menyatakan batas missing data yang tidak boleh dimiliki oleh suatu baris atau kolom. Jika diisi dengan angka 2 maka kita hanya mengizinkan baris atau kolom memiliki maksimal 1 missing data.\n",
    "\n",
    "Bentuk penanganan missing data yang ketiga adalah dengan cara memberikan nilai default untuk menimpa semua missing data. Pandas mendukung hal ini dengan menyediakan fungsi ``fillna`` untuk menimpa missing data dengan default value yang kita tentukan. Berikut contoh penggunaannya:"
   ]
  },
  {
   "cell_type": "code",
   "execution_count": null,
   "metadata": {},
   "outputs": [],
   "source": [
    "df = pd.DataFrame(data) # mengembalikan dataframe ke kondisi semula\n",
    "\n",
    "print(df.fillna(value ='DEFAULT VALUE')) # nilai default value bisa diganti sesuai kebutuhan"
   ]
  },
  {
   "cell_type": "markdown",
   "metadata": {},
   "source": [
    "Gunakan parameter ``inplace = True`` jika mau hasilnya permanen:"
   ]
  },
  {
   "cell_type": "code",
   "execution_count": null,
   "metadata": {},
   "outputs": [],
   "source": [
    "df.fillna(value ='DEFAULT VALUE', inplace= True)\n",
    "print(df)"
   ]
  },
  {
   "cell_type": "markdown",
   "metadata": {},
   "source": [
    "Perintah tadi mengubah semua missing data menjadi nilai yang ditentukan. Apabila kita hanya ingin mengubah baris atau kolom secara parsial, maka kita bisa melakukan slicing di dataframe dahulu sebelum memanggil fungsi ``fillna()``. Berikut contoh penggunaanya:"
   ]
  },
  {
   "cell_type": "code",
   "execution_count": null,
   "metadata": {},
   "outputs": [],
   "source": [
    "df = pd.DataFrame(data) # mengembalikan dataframe ke kondisi semula\n",
    "\n",
    "print(df[10101010].fillna(value = 0))"
   ]
  },
  {
   "cell_type": "markdown",
   "metadata": {},
   "source": [
    "# Group by di Pandas\n",
    "\n",
    "Salah satu fasilitas yang disediakan oleh pandas adalah grouping data. Data dalam 1 group akan bisa diolah secara terpisah dengan grup lainnya. Konsep group by ini mirip seperti konsep pada DBMS Relational umumnya. Ilustrasi group by dapat dilihat pada gambar berikut:\n",
    "\n",
    "<img src = \"https://i.stack.imgur.com/OfrOY.png\" alt = \"Ilustrasi group by\">\n",
    "\n",
    "Setiap group yang terbentuk akan bisa dikenakan operasi agregat secara terpisah. Mari kita coba penerapan group by di pandas. Pertama, mari kita buat dataframe peserta bebras berikut:"
   ]
  },
  {
   "cell_type": "code",
   "execution_count": null,
   "metadata": {},
   "outputs": [],
   "source": [
    "import pandas as pd\n",
    "\n",
    "data = {'universitas':['UNIKOM','UNIKOM','UNPAD','UNPAR','UNPAR','UKM', 'UKM'],\n",
    "       'pic':['Adam','Ginar','Mira','Maresha','Vania','Dian','Angga'],\n",
    "       'peserta_bebras':[500,120,340,124,243,350,134]}\n",
    "\n",
    "df = pd.DataFrame(data)\n",
    "print(df)"
   ]
  },
  {
   "cell_type": "markdown",
   "metadata": {},
   "source": [
    "Kemudian, kita membutuhkan data peserta berdasarkan Universitas. Berarti kita harus mengolah datanya berdasarkan group Universitas-nya. Untuk universitas yang sama harus diolah menjadi satu informasi. Di sinilah fungsi ``groupby`` pada dataframe akan bekerja. Mari kita group data peserta bebras tersebut berdasarkan kolom ``universitas``."
   ]
  },
  {
   "cell_type": "code",
   "execution_count": null,
   "metadata": {},
   "outputs": [],
   "source": [
    "df_group = df.groupby('universitas')\n",
    "print(df_group)"
   ]
  },
  {
   "cell_type": "markdown",
   "metadata": {},
   "source": [
    "Setelah melakukan grouping, maka kita bisa mengenakan operasi agregat pada grup-grup tersebut. Contoh, kita menjalankan fungsi ``sum()``dan ``mean()`` pada ``df_group`` sebagai berikut:"
   ]
  },
  {
   "cell_type": "code",
   "execution_count": null,
   "metadata": {},
   "outputs": [],
   "source": [
    "print(df_group.sum())\n",
    "print()\n",
    "print(df_group.mean())"
   ]
  },
  {
   "cell_type": "markdown",
   "metadata": {},
   "source": [
    "><b>Catatan:</b> Kolom yang tidak berisi numerik akan di-ignore dalam proses ini.\n",
    "\n",
    "Kita bisa mengakses hasil agregat dengan menggunakan slicing. Berikut contoh penggunaanya:"
   ]
  },
  {
   "cell_type": "code",
   "execution_count": null,
   "metadata": {},
   "outputs": [],
   "source": [
    "print(df_group.sum().loc['UNIKOM'])"
   ]
  },
  {
   "cell_type": "markdown",
   "metadata": {},
   "source": [
    "Selain fungsi ``mean()`` dan ``sum()``, kita juga bisa menggunakan fungsi agregat lainnya termasuk fungsi ``count()`` (menghitung jumlah kemunculan data) seperti berikut:"
   ]
  },
  {
   "cell_type": "code",
   "execution_count": null,
   "metadata": {},
   "outputs": [],
   "source": [
    "print(df_group.count())"
   ]
  },
  {
   "cell_type": "markdown",
   "metadata": {},
   "source": [
    "# Fungsi Statistika di Pandas\n",
    "\n",
    "Ada beberapa fungsi dasar statistika yang bisa diakses di pandas. Fungsi dasar tersebut dapat dilihat pada tabel berikut:\n",
    "\n",
    "| Fungsi Statistika | Kegunaan |\n",
    "| :--- | :--- |\n",
    "| count() | Menghitung jumlah kemunculan data non NaN |\n",
    "| sum() | Menghitung hasil penjumlahan elemen data |\n",
    "| mean() | Menghitung nilai mean dari suatu kumpulan data |\n",
    "| mad() | Menghitung mean dari simpangan absolut |\n",
    "| median | Nilai median (nilai tengah) |\n",
    "| min() | Menampilkan nilai terkecil |\n",
    "| max() | Menampilkan nilai terbesar |\n",
    "| mode() | Menampilkan mode |\n",
    "| abs() | Menghitung nilai absolut |\n",
    "| prod() | Product dari kumpulan nilai |\n",
    "| quantile | Sampel dari kuartil (nilai dalam %). Kuartil 1 ditandai dengan nilai 25% |\n",
    "| std() | Menghitung standar deviasi (Bessel-corrected sample) |\n",
    "| var() | Menghitung varian unbiased |\n",
    "| sem() | Standar error dari mean |\n",
    "| skew() | Sampel dari skewness (asimetris) |\n",
    "| kurt() | Sampel kurtosis |\n",
    "| cumsum() | Sum kumulatif |\n",
    "| cumprod() | Prod kumulatif |\n",
    "| cummin() | Min kumulatif |\n",
    "| cummax | Max kumulatif |\n",
    "\n",
    "Kita bisa menggunakan fungsi statistik tersebut secara satuan. Akan tetapi apabila kita ingin mengetahui hasil pengolah statistik dari dataframe secara umum, kita bisa menggunakan fungsi ``describe()``. Berikut contoh penggunaanya:"
   ]
  },
  {
   "cell_type": "code",
   "execution_count": null,
   "metadata": {},
   "outputs": [],
   "source": [
    "import pandas as pd\n",
    "\n",
    "data = {'universitas':['UNIKOM','UNIKOM','UNPAD','UNPAR','UNPAR','UKM', 'UKM'],\n",
    "       'pic':['Adam','Ginar','Mira','Maresha','Vania','Dian','Angga'],\n",
    "       'peserta_bebras':[500,120,340,124,243,350,134]}\n",
    "\n",
    "df = pd.DataFrame(data)\n",
    "print(df)\n",
    "print()\n",
    "\n",
    "print(df.describe())"
   ]
  },
  {
   "cell_type": "markdown",
   "metadata": {},
   "source": [
    "><b>Catatan:</b> 25%, 50%, 75% menyatakan median dari setiap kuartil (25% dari keseluruhan data yang sudah diurutkan). Nilai 25% menyatakankan kuartil 1.\n",
    "\n",
    "Kalau kita perhatikan, fungsi ``describe()`` hanya menampilkan hasil dari pengolahan statistik bagi kolom numerik. Bagaimana dengan yang alphanumeric? Kita bisa menambahkan parameter ``include = 'all'`` di fungsi ``describe()``. Berikut cara penggunaannya:"
   ]
  },
  {
   "cell_type": "code",
   "execution_count": null,
   "metadata": {
    "scrolled": true
   },
   "outputs": [],
   "source": [
    "print(df.describe(include= 'all'))"
   ]
  },
  {
   "cell_type": "markdown",
   "metadata": {},
   "source": [
    "><b>Catatan:</b> <br>\n",
    "1. nilai top menyatakan ``modus`` (nilai yang memiliki kemunculan terbanyak) dan jumlah kemunculannya dinyatakan dalam nilai ``freq``.\n",
    "2. Nilai ``unique`` menyatakan jumlah nilai yang dihitung secara unique."
   ]
  },
  {
   "cell_type": "markdown",
   "metadata": {},
   "source": [
    "# Merging, Joining, dan Concatenating\n",
    "\n",
    "Seperti halnya pengolahan data dalam bentuk tabel, suatu tabel bisa digabungkan dengan tabel lainnya. \n",
    "Sebagai contoh, ada beberapa dataframe sebagai berikut:"
   ]
  },
  {
   "cell_type": "code",
   "execution_count": null,
   "metadata": {},
   "outputs": [],
   "source": [
    "import pandas as pd"
   ]
  },
  {
   "cell_type": "code",
   "execution_count": null,
   "metadata": {},
   "outputs": [],
   "source": [
    "df1 = pd.DataFrame({'A': ['A0', 'A1', 'A2', 'A3'],\n",
    "                    'B': ['B0', 'B1', 'B2', 'B3'],\n",
    "                    'C': ['C0', 'C1', 'C2', 'C3'],\n",
    "                    'D': ['D0', 'D1', 'D2', 'D3']},\n",
    "                    index=[0, 1, 2, 3])\n",
    "\n",
    "print(df1)"
   ]
  },
  {
   "cell_type": "code",
   "execution_count": null,
   "metadata": {},
   "outputs": [],
   "source": [
    "df2 = pd.DataFrame({'A': ['A4', 'A5', 'A6', 'A7'],\n",
    "                    'B': ['B4', 'B5', 'B6', 'B7'],\n",
    "                    'C': ['C4', 'C5', 'C6', 'C7'],\n",
    "                    'D': ['D4', 'D5', 'D6', 'D7']},\n",
    "                    index=[4, 5, 6, 7])\n",
    "\n",
    "print(df2)"
   ]
  },
  {
   "cell_type": "code",
   "execution_count": null,
   "metadata": {},
   "outputs": [],
   "source": [
    "df3 = pd.DataFrame({'A': ['A8', 'A9', 'A10', 'A11'],\n",
    "                    'B': ['B8', 'B9', 'B10', 'B11'],\n",
    "                    'C': ['C8', 'C9', 'C10', 'C11'],\n",
    "                    'D': ['D8', 'D9', 'D10', 'D11']},\n",
    "                    index=[8, 9, 10, 11])\n",
    "\n",
    "print(df3)"
   ]
  },
  {
   "cell_type": "markdown",
   "metadata": {},
   "source": [
    "Kita bisa menggabungkan dataframe tadi dengan berbagai konsep. Mari kita bahas konsep penggabungannya."
   ]
  },
  {
   "cell_type": "markdown",
   "metadata": {},
   "source": [
    "## Concatenating\n",
    "\n",
    "Bentuk penggabungan ini akan menyatukan tiga dataframe tersebut menjadi sebuah dataframe. Yang perlu menjadi perhatian adalah dimensi antar dataframe harus sama. Fungsi yang digunakan adalah ``pd.concat()``. Berikut contoh penggunaanya:"
   ]
  },
  {
   "cell_type": "code",
   "execution_count": null,
   "metadata": {},
   "outputs": [],
   "source": [
    "pd.concat([df1,df2,df3])"
   ]
  },
  {
   "cell_type": "markdown",
   "metadata": {},
   "source": [
    "><b>Catatan:</b> Concatenating tadi merupakan concatenasi di level baris. Artinya baris dataframe 1 ditempelkan bersama dengan baris dari dataframe lainnya.\n",
    "\n",
    "Selain bisa concatenating di level baris, fungsi ini juga bisa melakukan concatenating di level kolom dengan cara menambahkan paramater ``axis = 1`` di fungsi ``concat()``. Berikut contoh penggunaannya:"
   ]
  },
  {
   "cell_type": "code",
   "execution_count": null,
   "metadata": {},
   "outputs": [],
   "source": [
    "pd.concat([df1,df2,df3], axis = 1)"
   ]
  },
  {
   "cell_type": "markdown",
   "metadata": {},
   "source": [
    "Hasil dari concatenating ini akan banyak menghasilkan missing data karena memang kolom pada dataframe yang satu tidak terisi oleh data di kolom dataframe lainnya."
   ]
  },
  {
   "cell_type": "markdown",
   "metadata": {},
   "source": [
    "## Merging\n",
    "\n",
    "Pandas menyediakan fungsi ``merge()`` yang memudahkan kita untuk menggabungkan antar dataframe dengan logika yang mirip seperti ketika kita melakukannya menggunakan query di DBMS Relational (contoh: MySQL, atau MS-SQL). Berikut contohnya:"
   ]
  },
  {
   "cell_type": "code",
   "execution_count": null,
   "metadata": {},
   "outputs": [],
   "source": [
    "import pandas as pd"
   ]
  },
  {
   "cell_type": "code",
   "execution_count": null,
   "metadata": {},
   "outputs": [],
   "source": [
    "left = pd.DataFrame({'key': ['K0', 'K1', 'K2', 'K3'],\n",
    "                     'A': ['A0', 'A1', 'A2', 'A3'],\n",
    "                     'B': ['B0', 'B1', 'B2', 'B3']})\n",
    "\n",
    "print(left)"
   ]
  },
  {
   "cell_type": "code",
   "execution_count": null,
   "metadata": {},
   "outputs": [],
   "source": [
    "right = pd.DataFrame({'key': ['K0', 'K1', 'K2', 'K3'],\n",
    "                      'C': ['C0', 'C1', 'C2', 'C3'],\n",
    "                      'D': ['D0', 'D1', 'D2', 'D3']})\n",
    "\n",
    "print(right)"
   ]
  },
  {
   "cell_type": "markdown",
   "metadata": {},
   "source": [
    "Proses merging melibatkan sebuah atribut sebagai dasar (atau poros) penggabungannya. Atribut yang dipilih harus ada di dataframe yang akan digabung. Biasanya atribut ini berupa atribut kunci. Dalam kasus dua dataframe tadi (left dan right), atribut kuncinya adalah atribut ``key``. Berikut contoh penggunaan merging:"
   ]
  },
  {
   "cell_type": "code",
   "execution_count": null,
   "metadata": {},
   "outputs": [],
   "source": [
    "pd.merge(left,right,how='inner',on='key')"
   ]
  },
  {
   "cell_type": "markdown",
   "metadata": {},
   "source": [
    "Parameter ``how = inner`` menyatakan bahwa merging menggunakan konsep inner-join dan parameter ``on = 'key`` digunakan untuk menyatakan bahwa atribut kunci yang akan digunakan sebagai poros merging adalah atribut ``key`` yang ada pada dua dataframe tersebut. Untuk mempermudah membayangkan innerjoin, silakan lihat gambar berikut:\n",
    "\n",
    "<img src = \"https://i.pinimg.com/originals/52/71/64/5271644b8c3db314b5830d902db361d9.png\" alt = \"Ilustrasi join pada SQL\">"
   ]
  },
  {
   "cell_type": "markdown",
   "metadata": {},
   "source": [
    "Innerjoin hanya akan menggabungkan dataframe jika ada irisan atribut kunci yang sama. Mari kita coba kasus berikut:"
   ]
  },
  {
   "cell_type": "markdown",
   "metadata": {},
   "source": [
    "## Hands on Lab 3: Mencoba merging\n",
    "\n",
    "Diberikan dataframe sebagai berikut:"
   ]
  },
  {
   "cell_type": "code",
   "execution_count": null,
   "metadata": {},
   "outputs": [],
   "source": [
    "import pandas as pd"
   ]
  },
  {
   "cell_type": "code",
   "execution_count": null,
   "metadata": {},
   "outputs": [],
   "source": [
    "left = pd.DataFrame({'key': ['K0', 'K1', 'K2', 'K3', 'K4'],\n",
    "                     'A': ['A0', 'A1', 'A2', 'A3', 'A4'],\n",
    "                     'B': ['B0', 'B1', 'B2', 'B3', 'B4']})\n",
    "\n",
    "print(left)"
   ]
  },
  {
   "cell_type": "code",
   "execution_count": null,
   "metadata": {},
   "outputs": [],
   "source": [
    "right = pd.DataFrame({'key': ['K0', 'K1', 'K2', 'K3'],\n",
    "                      'C': ['C0', 'C1', 'C2', 'C3'],\n",
    "                      'D': ['D0', 'D1', 'D2', 'D3']})\n",
    "\n",
    "print(right)"
   ]
  },
  {
   "cell_type": "markdown",
   "metadata": {},
   "source": [
    "Mari kita gabungkan dengan konsep innerjoin sebagai berikut:"
   ]
  },
  {
   "cell_type": "code",
   "execution_count": null,
   "metadata": {},
   "outputs": [],
   "source": [
    "pd.merge(left,right,how='inner',on='key')"
   ]
  },
  {
   "cell_type": "markdown",
   "metadata": {},
   "source": [
    "Data dengan key ``K4`` di dataframe ``left`` tidak akan digabungkan karena tidak ada irisannya dengan dataframe ``right``. Selain menggunakan innerjoin, mari kita coba dengan left dan right join sebagai berikut:"
   ]
  },
  {
   "cell_type": "code",
   "execution_count": null,
   "metadata": {},
   "outputs": [],
   "source": [
    "pd.merge(left,right,how='left',on='key')"
   ]
  },
  {
   "cell_type": "markdown",
   "metadata": {},
   "source": [
    "Pada left join, penggabungan didasarkan pada atribut kunci di dataframe ``left``. Data pada dataframe ``right`` yang tidak beririsan akan diisi dengan missing data. Berikutnya kita coba right join:"
   ]
  },
  {
   "cell_type": "code",
   "execution_count": null,
   "metadata": {},
   "outputs": [],
   "source": [
    "pd.merge(left,right,how='right',on='key')"
   ]
  },
  {
   "cell_type": "markdown",
   "metadata": {},
   "source": [
    "Atribut kunci yang digunakan sebagai poros merging adalah atribut kunci yang ada pada dataframe ``right``"
   ]
  },
  {
   "cell_type": "markdown",
   "metadata": {},
   "source": [
    "## Join\n",
    "\n",
    "Selain kedua fungsi yang sudah disebutkan sebelumnya, pandas menyediakan fungsi ``join()``. Fungsi ini digunakan sebagai metode penggabungan ketika ada kemungkinan dataframe yang digabungkan memiliki perbedaan indeks. Berikut cara penggunaannya:"
   ]
  },
  {
   "cell_type": "code",
   "execution_count": null,
   "metadata": {},
   "outputs": [],
   "source": [
    "import pandas as pd"
   ]
  },
  {
   "cell_type": "code",
   "execution_count": null,
   "metadata": {},
   "outputs": [],
   "source": [
    "left = pd.DataFrame({'A': ['A0', 'A1', 'A2'],\n",
    "                     'B': ['B0', 'B1', 'B2']},\n",
    "                      index=['K0', 'K1', 'K2'])\n",
    "print(left)"
   ]
  },
  {
   "cell_type": "code",
   "execution_count": null,
   "metadata": {},
   "outputs": [],
   "source": [
    "right = pd.DataFrame({'C': ['C0', 'C2', 'C3'],\n",
    "                      'D': ['D0', 'D2', 'D3']},\n",
    "                      index=['K0', 'K2', 'K3'])\n",
    "\n",
    "print(right)"
   ]
  },
  {
   "cell_type": "code",
   "execution_count": null,
   "metadata": {},
   "outputs": [],
   "source": [
    "left.join(right)"
   ]
  },
  {
   "cell_type": "code",
   "execution_count": null,
   "metadata": {},
   "outputs": [],
   "source": [
    "right.join(left)"
   ]
  },
  {
   "cell_type": "markdown",
   "metadata": {},
   "source": [
    "Kita juga bisa menambahkan paramater ``how = <jenis_join>`` ke dalam fungsi ``join()``. Sebagai contoh, kita gunakan outer join sebagai berikut:"
   ]
  },
  {
   "cell_type": "code",
   "execution_count": null,
   "metadata": {},
   "outputs": [],
   "source": [
    "left.join(right, how = 'outer')"
   ]
  },
  {
   "cell_type": "code",
   "execution_count": null,
   "metadata": {},
   "outputs": [],
   "source": [
    "right.join(left, how = 'outer')"
   ]
  },
  {
   "cell_type": "markdown",
   "metadata": {},
   "source": [
    "# Operasi pada Pandas\n",
    "\n",
    "Ada beberapa operasi tambahan yang bisa membantu kita dalam melakukan pengolahan data menggunakan pandas. Operasi-operasi tersebut adalah:\n",
    "\n",
    "| Operasi pada Pandas | Keterangan |\n",
    "| :--- | :--- |\n",
    "| head() | Memunculkan 5 data pertama pada dataframe dan jumlah data bisa di-custom pada parameter |\n",
    "| unique() | Memunculkan data secara unique (data yang sama hanya dimunculkan sekali) |\n",
    "| nunique() | Mengembalikan jumlah data unique |\n",
    "| value_counts() | Menghitung jumlah kemunculan data pada dataframe per datum |\n",
    "| tail() | Serupa dengan head() tapi untuk memunculkan 5 data terakhir (kecuali di-custom parameternya) |\n",
    "| apply() | Mengaplikasikan fungsi pada suatu series di Dataframe |\n",
    "| del | Digunakan untuk menghapus suatu kolom dalam dataframe secara permanen |\n",
    "| columns | Mendapatkan nama kolom yang ada pada suatu dataframe |\n",
    "| index | Mendapatkan indeks baris pada dataframe |\n",
    "| sort_values() | Mengurutkan data pada dataframe berdasarkan data pada suatu kolom atau lebih |\n",
    "| isnull() | Mengembalikan nilai boolean untuk memeriksa apakah datum berisi null character |\n",
    "\n",
    "\n"
   ]
  },
  {
   "cell_type": "markdown",
   "metadata": {},
   "source": [
    "## Penggunaan ``head()``\n",
    "\n",
    "Berikut contoh penggunaan fungsi ``head()``:"
   ]
  },
  {
   "cell_type": "code",
   "execution_count": null,
   "metadata": {},
   "outputs": [],
   "source": [
    "import pandas as pd\n",
    "df = pd.DataFrame({'col1':[1,2,3,4,5,6],'col2':[444,555,666,444,333,555],'col3':['abc','def','ghi','xyz','mno','jkl']})\n",
    "print(df)\n",
    "print()\n",
    "print(df.head())\n",
    "print()\n",
    "print(df.head(3))"
   ]
  },
  {
   "cell_type": "markdown",
   "metadata": {},
   "source": [
    "## Penggunaan ``unique()`` dan ``nunique()``\n",
    "\n",
    "Berikut contoh penggunaan fungsi ``unique()`` dan ``nunique()``:"
   ]
  },
  {
   "cell_type": "code",
   "execution_count": null,
   "metadata": {},
   "outputs": [],
   "source": [
    "df['col2'].unique()"
   ]
  },
  {
   "cell_type": "code",
   "execution_count": null,
   "metadata": {},
   "outputs": [],
   "source": [
    "df['col2'].nunique()"
   ]
  },
  {
   "cell_type": "markdown",
   "metadata": {},
   "source": [
    "## Penggunaan ``value_counts()``\n",
    "\n",
    "Berikut contoh penggunaan fungsi ``value_counts()``:"
   ]
  },
  {
   "cell_type": "code",
   "execution_count": null,
   "metadata": {},
   "outputs": [],
   "source": [
    "df['col2'].value_counts()"
   ]
  },
  {
   "cell_type": "markdown",
   "metadata": {},
   "source": [
    "## Penggunaan ``apply()``\n",
    "\n",
    "Berikut adalah contoh penggunaan fungsi ``apply()``:"
   ]
  },
  {
   "cell_type": "code",
   "execution_count": null,
   "metadata": {},
   "outputs": [],
   "source": [
    "def kalikan_dua(bilangan):\n",
    "    return 2 * bilangan"
   ]
  },
  {
   "cell_type": "code",
   "execution_count": null,
   "metadata": {},
   "outputs": [],
   "source": [
    "df['col1'].apply(kalikan_dua)"
   ]
  },
  {
   "cell_type": "markdown",
   "metadata": {},
   "source": [
    "Selain bisa untuk mengaplikasikan fungsi buatan sendiri, fungsi ``apply()`` ini juga bisa digunakan untuk mengaplikasikan fungsi built-in. Berikut contoh penggunaannya:"
   ]
  },
  {
   "cell_type": "code",
   "execution_count": null,
   "metadata": {},
   "outputs": [],
   "source": [
    "df['col3'].apply(len)"
   ]
  },
  {
   "cell_type": "markdown",
   "metadata": {},
   "source": [
    "><b>Catatan:</b> ``len`` merupakan fungsi built-in yang digunakan pada tipe data string untuk menghitung panjang karakter."
   ]
  },
  {
   "cell_type": "markdown",
   "metadata": {},
   "source": [
    "## Penggunaan fungsi del\n",
    "\n",
    "Berikut contoh penggunaan fungsi del:"
   ]
  },
  {
   "cell_type": "code",
   "execution_count": null,
   "metadata": {},
   "outputs": [],
   "source": [
    "del df['col1']\n",
    "df"
   ]
  },
  {
   "cell_type": "markdown",
   "metadata": {},
   "source": [
    "## Penggunaan ``columns`` dan ``index``\n",
    "\n",
    "Berikut contoh penggunaan ``columns`` dan ``index``:"
   ]
  },
  {
   "cell_type": "code",
   "execution_count": null,
   "metadata": {},
   "outputs": [],
   "source": [
    "df.columns"
   ]
  },
  {
   "cell_type": "code",
   "execution_count": null,
   "metadata": {},
   "outputs": [],
   "source": [
    "df.index"
   ]
  },
  {
   "cell_type": "markdown",
   "metadata": {},
   "source": [
    "## Pengurutan Data di Dataframe\n",
    "\n",
    "Kita bisa mengurutkan data pada dataframe berdasarkan 1 atau lebih kolom. Pengurutannya bisa dilakukan untuk menghasilkan urutan yang ascending atau pun descending. Untuk bisa mengurutkan data di dataframe, kita menggunakan fungsi ``sort_values()``. Berikut contoh penggunaanya:"
   ]
  },
  {
   "cell_type": "code",
   "execution_count": null,
   "metadata": {},
   "outputs": [],
   "source": [
    "# Kembalikan datframe dalam kondisi semula\n",
    "df = pd.DataFrame({'col1':[1,2,3,4,5,6],'col2':[444,555,666,444,333,555],'col3':['abc','def','ghi','xyz','mno','jkl']})\n",
    "\n",
    "df"
   ]
  },
  {
   "cell_type": "code",
   "execution_count": null,
   "metadata": {},
   "outputs": [],
   "source": [
    "df.sort_values(by = 'col2')"
   ]
  },
  {
   "cell_type": "code",
   "execution_count": null,
   "metadata": {},
   "outputs": [],
   "source": [
    "df.sort_values(by = 'col2', ascending = False)"
   ]
  },
  {
   "cell_type": "code",
   "execution_count": null,
   "metadata": {},
   "outputs": [],
   "source": [
    "df.sort_values(by = 'col3', ascending = False)"
   ]
  },
  {
   "cell_type": "markdown",
   "metadata": {},
   "source": [
    "Kita juga bisa mengurutkan data di dataframe berdasarkan dua kolom atau lebih. Berikut contoh pengurutannya:"
   ]
  },
  {
   "cell_type": "code",
   "execution_count": null,
   "metadata": {},
   "outputs": [],
   "source": [
    "df.sort_values(by = ['col1', 'col2'], ascending = [True, False])"
   ]
  },
  {
   "cell_type": "markdown",
   "metadata": {},
   "source": [
    "## Penggunaan ``isnull()``\n",
    "\n",
    "Berikut contoh penggunaan fungsi ``isnull()``:"
   ]
  },
  {
   "cell_type": "code",
   "execution_count": null,
   "metadata": {},
   "outputs": [],
   "source": [
    "df.isnull()"
   ]
  },
  {
   "cell_type": "markdown",
   "metadata": {},
   "source": [
    "# Pivot Dataframe\n",
    "\n",
    "Sebuah dataframe bisa dikenakan operasi pivot. Pivot merupakan operasi yang mengubah poros baris menjadi kolom dan sebaliknya. Tidak hanya itu, pivot juga bisa membantu kita dalam mengubah perspektif (atau sudut pandang) pembacaan dari suatu dataframe. Penggunaan pivot akan sangat membantu dalam melakukan pengolahan data yang multilevel indeks (atau disebut juga multidimensional). Berikut contoh penggunaannya:"
   ]
  },
  {
   "cell_type": "code",
   "execution_count": null,
   "metadata": {},
   "outputs": [],
   "source": [
    "import pandas as pd"
   ]
  },
  {
   "cell_type": "code",
   "execution_count": null,
   "metadata": {},
   "outputs": [],
   "source": [
    "data = {'A':['foo','foo','foo','bar','bar','bar'],\n",
    "     'B':['one','one','two','two','one','one'],\n",
    "       'C':['x','y','x','y','x','y'],\n",
    "       'D':[1,3,2,5,4,1]}\n",
    "\n",
    "df = pd.DataFrame(data)\n",
    "\n",
    "df"
   ]
  },
  {
   "cell_type": "code",
   "execution_count": null,
   "metadata": {
    "scrolled": true
   },
   "outputs": [],
   "source": [
    "df.pivot_table(values='D',index=['A', 'B'],columns=['C'])"
   ]
  },
  {
   "cell_type": "markdown",
   "metadata": {},
   "source": [
    "<b>Berlanjut ke bagian 2</b>"
   ]
  }
 ],
 "metadata": {
  "interpreter": {
   "hash": "e134e05457d34029b6460cd73bbf1ed73f339b5b6d98c95be70b69eba114fe95"
  },
  "kernelspec": {
   "display_name": "Python 3",
   "language": "python",
   "name": "python3"
  },
  "language_info": {
   "codemirror_mode": {
    "name": "ipython",
    "version": 3
   },
   "file_extension": ".py",
   "mimetype": "text/x-python",
   "name": "python",
   "nbconvert_exporter": "python",
   "pygments_lexer": "ipython3",
   "version": "3.8.10"
  }
 },
 "nbformat": 4,
 "nbformat_minor": 2
}
