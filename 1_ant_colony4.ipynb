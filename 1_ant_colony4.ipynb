{
  "nbformat": 4,
  "nbformat_minor": 0,
  "metadata": {
    "colab": {
      "provenance": [],
      "authorship_tag": "ABX9TyNIJ7KIaeTnzxBdVbkpVSqD",
      "include_colab_link": true
    },
    "kernelspec": {
      "name": "python3",
      "display_name": "Python 3"
    },
    "language_info": {
      "name": "python"
    }
  },
  "cells": [
    {
      "cell_type": "markdown",
      "metadata": {
        "id": "view-in-github",
        "colab_type": "text"
      },
      "source": [
        "<a href=\"https://colab.research.google.com/github/Binzbo/Bintang/blob/master/1_ant_colony4.ipynb\" target=\"_parent\"><img src=\"https://colab.research.google.com/assets/colab-badge.svg\" alt=\"Open In Colab\"/></a>"
      ]
    },
    {
      "cell_type": "markdown",
      "source": [
        "\n",
        "1.\tDefinisikan Feromon: Tiap jalan antar titik memiliki 'feromon' yang menunjukkan keberhasilan jalur tersebut dalam rute sebelumnya. Semakin tinggi feromon, semakin menarik jalur tersebut untuk dipilih.\n",
        "2.\tUpdate Feromon: Setelah setiap perjalanan, feromon di-update berdasarkan keberhasilan mengantarkan paket dengan cepat dan ekonomis.\n",
        "3.\tEvaporasi Feromon: Feromon menguap seiring waktu, sehingga solusi yang tidak optimal akan kurang menarik.\n",
        "4.\tProbabilitas Pemilihan Jalur: Semut memilih jalur berdasarkan probabilitas yang ditentukan oleh jumlah feromon.\n",
        "\n",
        "\n"
      ],
      "metadata": {
        "id": "6qZANM0P9zO7"
      }
    },
    {
      "cell_type": "code",
      "execution_count": null,
      "metadata": {
        "colab": {
          "base_uri": "https://localhost:8080/"
        },
        "id": "7Ou3J1Ne1uMM",
        "outputId": "71dcec40-74ef-4b7e-af96-0ea3e2be71bc"
      },
      "outputs": [
        {
          "output_type": "execute_result",
          "data": {
            "text/plain": [
              "{('A', 'B'): 25.495097567963924,\n",
              " ('A', 'C'): 11.180339887498949,\n",
              " ('A', 'D'): 15.0,\n",
              " ('A', 'E'): 11.180339887498949,\n",
              " ('A', 'F'): 21.213203435596427,\n",
              " ('A', 'G'): 30.0,\n",
              " ('A', 'H'): 32.01562118716424,\n",
              " ('A', 'I'): 36.05551275463989,\n",
              " ('A', 'J'): 35.35533905932738,\n",
              " ('B', 'A'): 25.495097567963924,\n",
              " ('B', 'C'): 20.615528128088304,\n",
              " ('B', 'D'): 11.180339887498949,\n",
              " ('B', 'E'): 25.0,\n",
              " ('B', 'F'): 22.360679774997898,\n",
              " ('B', 'G'): 43.01162633521314,\n",
              " ('B', 'H'): 25.0,\n",
              " ('B', 'I'): 35.35533905932738,\n",
              " ('B', 'J'): 10.0,\n",
              " ('C', 'A'): 11.180339887498949,\n",
              " ('C', 'B'): 20.615528128088304,\n",
              " ('C', 'D'): 14.142135623730951,\n",
              " ('C', 'E'): 20.0,\n",
              " ('C', 'F'): 26.92582403567252,\n",
              " ('C', 'G'): 40.311288741492746,\n",
              " ('C', 'H'): 36.05551275463989,\n",
              " ('C', 'I'): 42.720018726587654,\n",
              " ('C', 'J'): 30.4138126514911,\n",
              " ('D', 'A'): 15.0,\n",
              " ('D', 'B'): 11.180339887498949,\n",
              " ('D', 'C'): 14.142135623730951,\n",
              " ('D', 'E'): 14.142135623730951,\n",
              " ('D', 'F'): 15.0,\n",
              " ('D', 'G'): 33.54101966249684,\n",
              " ('D', 'H'): 22.360679774997898,\n",
              " ('D', 'I'): 30.4138126514911,\n",
              " ('D', 'J'): 20.615528128088304,\n",
              " ('E', 'A'): 11.180339887498949,\n",
              " ('E', 'B'): 25.0,\n",
              " ('E', 'C'): 20.0,\n",
              " ('E', 'D'): 14.142135623730951,\n",
              " ('E', 'F'): 11.180339887498949,\n",
              " ('E', 'G'): 20.615528128088304,\n",
              " ('E', 'H'): 22.360679774997898,\n",
              " ('E', 'I'): 25.0,\n",
              " ('E', 'J'): 33.54101966249684,\n",
              " ('F', 'A'): 21.213203435596427,\n",
              " ('F', 'B'): 22.360679774997898,\n",
              " ('F', 'C'): 26.92582403567252,\n",
              " ('F', 'D'): 15.0,\n",
              " ('F', 'E'): 11.180339887498949,\n",
              " ('F', 'G'): 21.213203435596427,\n",
              " ('F', 'H'): 11.180339887498949,\n",
              " ('F', 'I'): 15.811388300841896,\n",
              " ('F', 'J'): 28.284271247461902,\n",
              " ('G', 'A'): 30.0,\n",
              " ('G', 'B'): 43.01162633521314,\n",
              " ('G', 'C'): 40.311288741492746,\n",
              " ('G', 'D'): 33.54101966249684,\n",
              " ('G', 'E'): 20.615528128088304,\n",
              " ('G', 'F'): 21.213203435596427,\n",
              " ('G', 'H'): 26.92582403567252,\n",
              " ('G', 'I'): 20.0,\n",
              " ('G', 'J'): 49.49747468305833,\n",
              " ('H', 'A'): 32.01562118716424,\n",
              " ('H', 'B'): 25.0,\n",
              " ('H', 'C'): 36.05551275463989,\n",
              " ('H', 'D'): 22.360679774997898,\n",
              " ('H', 'E'): 22.360679774997898,\n",
              " ('H', 'F'): 11.180339887498949,\n",
              " ('H', 'G'): 26.92582403567252,\n",
              " ('H', 'I'): 11.180339887498949,\n",
              " ('H', 'J'): 26.92582403567252,\n",
              " ('I', 'A'): 36.05551275463989,\n",
              " ('I', 'B'): 35.35533905932738,\n",
              " ('I', 'C'): 42.720018726587654,\n",
              " ('I', 'D'): 30.4138126514911,\n",
              " ('I', 'E'): 25.0,\n",
              " ('I', 'F'): 15.811388300841896,\n",
              " ('I', 'G'): 20.0,\n",
              " ('I', 'H'): 11.180339887498949,\n",
              " ('I', 'J'): 38.07886552931954,\n",
              " ('J', 'A'): 35.35533905932738,\n",
              " ('J', 'B'): 10.0,\n",
              " ('J', 'C'): 30.4138126514911,\n",
              " ('J', 'D'): 20.615528128088304,\n",
              " ('J', 'E'): 33.54101966249684,\n",
              " ('J', 'F'): 28.284271247461902,\n",
              " ('J', 'G'): 49.49747468305833,\n",
              " ('J', 'H'): 26.92582403567252,\n",
              " ('J', 'I'): 38.07886552931954}"
            ]
          },
          "metadata": {},
          "execution_count": 17
        }
      ],
      "source": [
        "import numpy as np\n",
        "points = {\n",
        "    'A': (5, 15),\n",
        "    'B': (30, 10),\n",
        "    'C': (10, 5),\n",
        "    'D': (20, 15),\n",
        "    'E': (10, 25),\n",
        "    'F': (20, 30),  # Yellow customer (Priority)\n",
        "    'G': (5, 45),\n",
        "    'H': (30, 35),  # Starting point\n",
        "    'I': (25, 45),  # Red customer (Special)\n",
        "    'J': (40, 10)\n",
        "}\n",
        "\n",
        "# Calculate the Euclidean distances between each pair of points\n",
        "distances = {}\n",
        "for key1, coord1 in points.items():\n",
        "    for key2, coord2 in points.items():\n",
        "        if key1 != key2:\n",
        "            # Using Euclidean distance formula\n",
        "            distance = np.sqrt((coord1[0] - coord2[0])**2 + (coord1[1] - coord2[1])**2)\n",
        "            distances[(key1, key2)] = distance\n",
        "\n",
        "distances  # Display the calculated distances between points\n"
      ]
    },
    {
      "cell_type": "code",
      "source": [
        "import random\n",
        "\n",
        "# Ant Colony Optimization parameters\n",
        "n_ants = 10  # Number of ants to simulate\n",
        "n_best = 5  # Number of best ants who leave pheromone\n",
        "n_iterations = 50  # Number of iterations\n",
        "decay = 0.1  # Rate at which pheromone decays\n",
        "alpha = 1  # Pheromone importance\n",
        "beta = 1  # Distance priority\n",
        "\n",
        "# Initialize pheromones\n",
        "pheromones = {edge: 1 for edge in distances.keys()}  # Start with a pheromone level of 1 on all paths\n",
        "\n",
        "def calculate_probabilities(current_point, visited):\n",
        "    probs = {}\n",
        "    for point in points:\n",
        "        if point not in visited:\n",
        "            edge = (current_point, point)\n",
        "            pheromone = pheromones[edge]\n",
        "            prob = (pheromone ** alpha) * ((1.0 / distances[edge]) ** beta)\n",
        "            probs[point] = prob\n",
        "    sum_probs = sum(probs.values())\n",
        "    return {point: prob / sum_probs for point, prob in probs.items()}\n",
        "\n",
        "def ant_colony_optimization(start_point):\n",
        "    shortest_path = None\n",
        "    shortest_distance = float('inf')\n",
        "\n",
        "    for _ in range(n_iterations):\n",
        "        all_paths = []\n",
        "        for _ in range(n_ants):\n",
        "            visited = [start_point]\n",
        "            current_point = start_point\n",
        "            while len(visited) < len(points):\n",
        "                probabilities = calculate_probabilities(current_point, visited)\n",
        "                next_point = random.choices(list(probabilities.keys()), weights=probabilities.values(), k=1)[0]\n",
        "                visited.append(next_point)\n",
        "                current_point = next_point\n",
        "            path_distance = sum(distances[(visited[i], visited[i + 1])] for i in range(len(visited) - 1))\n",
        "            all_paths.append((visited, path_distance))\n",
        "\n",
        "        all_paths.sort(key=lambda x: x[1])\n",
        "        top_paths = all_paths[:n_best]\n",
        "\n",
        "        # Update pheromones\n",
        "        for path, distance in top_paths:\n",
        "            for i in range(len(path) - 1):\n",
        "                edge = (path[i], path[i + 1])\n",
        "                pheromones[edge] += 10.0 / distance  # Increase is inversely proportional to distance\n",
        "\n",
        "        # Decay pheromones\n",
        "        for edge in pheromones:\n",
        "            pheromones[edge] *= (1 - decay)\n",
        "\n",
        "        # Check for the shortest found path\n",
        "        if top_paths[0][1] < shortest_distance:\n",
        "            shortest_path, shortest_distance = top_paths[0]\n",
        "\n",
        "    return shortest_path, shortest_distance\n",
        "\n",
        "# Run ACO starting from point 'H'\n",
        "aco_result = ant_colony_optimization('H')\n",
        "aco_result\n"
      ],
      "metadata": {
        "colab": {
          "base_uri": "https://localhost:8080/"
        },
        "id": "BtWX8kpR120J",
        "outputId": "d05afe6a-c09b-4df6-dc8a-ca53609e1cf7"
      },
      "execution_count": null,
      "outputs": [
        {
          "output_type": "execute_result",
          "data": {
            "text/plain": [
              "(['H', 'I', 'G', 'F', 'E', 'A', 'C', 'D', 'B', 'J'], 121.2570384968221)"
            ]
          },
          "metadata": {},
          "execution_count": 21
        }
      ]
    },
    {
      "cell_type": "code",
      "source": [
        "def ant_colony_optimization(start_point, n_ants, n_iterations):\n",
        "    # Initialize variables to store the shortest path and its distance\n",
        "    shortest_path = None\n",
        "    shortest_distance = float('inf')\n",
        "\n",
        "    for _ in range(n_iterations):\n",
        "        visited_shortest = None\n",
        "        distance_shortest = float('inf')\n",
        "\n",
        "        for _ in range(n_ants):\n",
        "            visited = [start_point]\n",
        "            current_point = start_point\n",
        "            while len(visited) < len(points):\n",
        "                probabilities = calculate_probabilities(current_point, visited)\n",
        "                next_point = random.choices(list(probabilities.keys()), weights=probabilities.values(), k=1)[0]\n",
        "                visited.append(next_point)\n",
        "                current_point = next_point\n",
        "            path_distance = sum(distances[(visited[i], visited[i + 1])] for i in range(len(visited) - 1))\n",
        "\n",
        "            # Check if the current path is shorter than the shortest path found so far in this iteration\n",
        "            if path_distance < distance_shortest:\n",
        "                visited_shortest = visited.copy()\n",
        "                distance_shortest = path_distance\n",
        "\n",
        "        # Check if the shortest path found in this iteration is shorter than the current shortest path\n",
        "        if distance_shortest < shortest_distance:\n",
        "            shortest_path = visited_shortest.copy()\n",
        "            shortest_distance = distance_shortest\n",
        "\n",
        "    # Return the shortest path and its distance\n",
        "    return shortest_path, shortest_distance\n",
        "\n",
        "# Set the parameters\n",
        "n_ants = 10  # Number of ants to simulate\n",
        "n_iterations = 50  # Number of iterations\n",
        "\n",
        "# Run ACO starting from point 'H'\n",
        "aco_result = ant_colony_optimization('H', n_ants, n_iterations)\n",
        "aco_result\n"
      ],
      "metadata": {
        "colab": {
          "base_uri": "https://localhost:8080/"
        },
        "id": "Mcm_zLFhZJdl",
        "outputId": "63f8ba8b-d9b5-4fcb-c5b5-ec948c9690a7"
      },
      "execution_count": null,
      "outputs": [
        {
          "output_type": "execute_result",
          "data": {
            "text/plain": [
              "(['H', 'I', 'G', 'F', 'E', 'A', 'C', 'D', 'B', 'J'], 121.2570384968221)"
            ]
          },
          "metadata": {},
          "execution_count": 15
        }
      ]
    },
    {
      "cell_type": "markdown",
      "source": [
        "138.KM"
      ],
      "metadata": {
        "id": "3cUz5rK99ilc"
      }
    },
    {
      "cell_type": "code",
      "source": [
        "route = ['H', 'I', 'G', 'F', 'E', 'A', 'C', 'D', 'B', 'J']\n",
        "\n",
        "# Inisialisasi total jarak\n",
        "total_distance = 0\n",
        "\n",
        "# Hitung jarak antara dua node berturut-turut dan tambahkan ke total jarak\n",
        "for i in range(len(route)-1):\n",
        "    node1 = route[i]\n",
        "    node2 = route[i+1]\n",
        "    distance = distances[(node1, node2)]\n",
        "    total_distance += distance\n",
        "    print(f\"Jarak dari {node1} ke {node2}: {distance}\")\n",
        "\n",
        "print(\"Total jarak:\", total_distance, \"km\")\n"
      ],
      "metadata": {
        "colab": {
          "base_uri": "https://localhost:8080/"
        },
        "id": "fgQu88NBLBfg",
        "outputId": "09024447-4d1d-4571-fc79-10424552a8e2"
      },
      "execution_count": 3,
      "outputs": [
        {
          "output_type": "stream",
          "name": "stdout",
          "text": [
            "Jarak dari H ke I: 11.180339887498949\n",
            "Jarak dari I ke G: 20.0\n",
            "Jarak dari G ke F: 21.213203435596427\n",
            "Jarak dari F ke E: 11.180339887498949\n",
            "Jarak dari E ke A: 11.180339887498949\n",
            "Jarak dari A ke C: 11.180339887498949\n",
            "Jarak dari C ke D: 14.142135623730951\n",
            "Jarak dari D ke B: 11.180339887498949\n",
            "Jarak dari B ke J: 10.0\n",
            "Total jarak: 121.2570384968221 km\n"
          ]
        }
      ]
    }
  ]
}