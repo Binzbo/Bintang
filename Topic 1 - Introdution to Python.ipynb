{
 "cells": [
  {
   "cell_type": "markdown",
   "metadata": {},
   "source": [
    "# Topic 1 - Introduction to Python\n",
    "\n",
    "Topik ini berfokus membahas:\n",
    "1. Fundamental dari Pemrograman\n",
    "2. Perbedaan antara Kompilasi dan Interpreter\n",
    "3. Overview dari Python\n",
    "\n",
    "\n",
    "## Bagaimana Program Komputer Bekerja?\n",
    "\n",
    "\"Komputer tanpa program adalah seonggok perangkat keras!\" Itulah kiranya ungkapan sederhana yang menggambarkan pentingnya kehadiran program komputer di dalam sebuah sistem komputer. Komputer dibuat untuk bisa mengeksekusi perintah dari penggunanya tanpa mengenal bosan dan lelah. Memang pada kenyataannya komputer memiliki keterbatasan yang timbul dari spesifikasi perangkat keras yang ada di dalamnya. \n",
    "\n",
    "Dalam sebuah organisasi, sudah sangat lazim untuk seorang pimpinan berharap pekerjanya untuk menjalankan tugasnya. Agar pekerja di organisasi itu bisa menjalankan tugasnya, pimpinan akan menginstruksikan perintah baik secara lisan maupun tulisan kepada pekerjanya untuk melakukan sesuatu. Begitu juga komputer, kita sebagai pengguna komputer harus menginstruksikan pekerjaan yang kita tugaskan untuk komputer. Perintah yang kita berikan disampaikan dalam bentuk program komputer.\n",
    "\n",
    "Dalam kasus perhitungan luas persegi panjang, komputer bisa melakukan perhitungan menggunakan rumus luas yang dibuat oleh Programmer akan tetapi komputer tidak menyadari apa itu panjang, lebar, dan luas persegi panjang. Yang komputer tahu hanyalah:\n",
    "1. Menerima input yang merepresentasikan panjang dari persegi panjang\n",
    "2. Menerima input berupa merepresentasikan lebar dari persegi panjang\n",
    "3. Mengkalikan dua angka input tersebut sesuai yang ada di instruksi dan menyimpan hasilnya dalam memori\n",
    "4. Menampilkan hasil (yang merepresentasikan luas persegi panjang) di dalam format yang bisa terbaca.\n",
    "\n",
    "Keempat langkah tersebut yang kita sebut dengan <B>PROGRAM</B>. Tentunya untuk bisa menyampaikan instruksi ke komputer, Programmer tidak bisa menyampaikan instruksinya dengan asal-asalan. Ada tata cara, aturan, dan susunan instruksi yang khusus bisa dipahami oleh komputer. Ada <B>BAHASA</B> khusus yang bisa digunakan oleh Programmer dalam memberikan intruksi kepada komputer. Bahasa tersebut disebut sebagai <B>BAHASA PEMROGRAMAN</B>.\n"
   ]
  },
  {
   "cell_type": "code",
   "execution_count": null,
   "metadata": {},
   "outputs": [],
   "source": []
  }
 ],
 "metadata": {
  "kernelspec": {
   "display_name": "Python 3",
   "language": "python",
   "name": "python3"
  },
  "language_info": {
   "codemirror_mode": {
    "name": "ipython",
    "version": 3
   },
   "file_extension": ".py",
   "mimetype": "text/x-python",
   "name": "python",
   "nbconvert_exporter": "python",
   "pygments_lexer": "ipython3",
   "version": "3.8.5"
  }
 },
 "nbformat": 4,
 "nbformat_minor": 4
}
