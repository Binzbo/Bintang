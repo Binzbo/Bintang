{
 "cells": [
  {
   "cell_type": "markdown",
   "metadata": {},
   "source": [
    "# Numpy\n",
    "\n",
    "Pada topik ini kita akan membahas sebuah library yang bisa dimanfaatkan untuk mengolah data dalam bentuk array. Library tersebut bernama ``Numpy``. Dokumentasi lengkap perihal numpy dapat dilihat pada https://numpy.org/.\n",
    "\n",
    "Sebelum bisa menggunakan module ``numpy``, pastikan module ini sudah dipasang di lingkungan Python yang digunakan. Perintah instalasinya sebagai berikut:\n",
    "\n",
    "<b>Instalasi via pip</b> <br>\n",
    "``pip3 install numpy``\n",
    "\n",
    "<b>Instalasi via conda</b> (secara default sudah tersedia ketika instalasi Anaconda atau Miniconda) <br>\n",
    "``conda install numpy``\n",
    "\n",
    "Setelah melakukan instalasi, mari kita masuk ke pembahasan module ``numpy`` ini."
   ]
  },
  {
   "cell_type": "code",
   "execution_count": 6,
   "metadata": {},
   "outputs": [
    {
     "name": "stdout",
     "output_type": "stream",
     "text": [
      "Name: numpy\n",
      "Version: 1.20.3\n",
      "Summary: NumPy is the fundamental package for array computing with Python.\n",
      "Home-page: https://www.numpy.org\n",
      "Author: Travis E. Oliphant et al.\n",
      "Author-email: \n",
      "License: BSD\n",
      "Location: /usr/local/anaconda3/lib/python3.8/site-packages\n",
      "Requires: \n",
      "Required-by: tifffile, tables, statsmodels, seaborn, scipy, scikit-learn, scikit-image, PyWavelets, pyerfa, patsy, pandas, numexpr, numba, mkl-random, mkl-fft, matplotlib, imageio, h5py, Bottleneck, bokeh, bkcharts, astropy\n"
     ]
    }
   ],
   "source": [
    "!pip3 show numpy"
   ]
  },
  {
   "cell_type": "code",
   "execution_count": 9,
   "metadata": {},
   "outputs": [
    {
     "name": "stdout",
     "output_type": "stream",
     "text": [
      "['ALLOW_THREADS', 'AxisError', 'BUFSIZE', 'Bytes0', 'CLIP', 'ComplexWarning', 'DataSource', 'Datetime64', 'ERR_CALL', 'ERR_DEFAULT', 'ERR_IGNORE', 'ERR_LOG', 'ERR_PRINT', 'ERR_RAISE', 'ERR_WARN', 'FLOATING_POINT_SUPPORT', 'FPE_DIVIDEBYZERO', 'FPE_INVALID', 'FPE_OVERFLOW', 'FPE_UNDERFLOW', 'False_', 'Inf', 'Infinity', 'MAXDIMS', 'MAY_SHARE_BOUNDS', 'MAY_SHARE_EXACT', 'MachAr', 'ModuleDeprecationWarning', 'NAN', 'NINF', 'NZERO', 'NaN', 'PINF', 'PZERO', 'RAISE', 'RankWarning', 'SHIFT_DIVIDEBYZERO', 'SHIFT_INVALID', 'SHIFT_OVERFLOW', 'SHIFT_UNDERFLOW', 'ScalarType', 'Str0', 'Tester', 'TooHardError', 'True_', 'UFUNC_BUFSIZE_DEFAULT', 'UFUNC_PYVALS_NAME', 'Uint64', 'VisibleDeprecationWarning', 'WRAP', '_NoValue', '_UFUNC_API', '__NUMPY_SETUP__', '__all__', '__builtins__', '__cached__', '__config__', '__deprecated_attrs__', '__dir__', '__doc__', '__expired_functions__', '__file__', '__getattr__', '__git_revision__', '__loader__', '__mkl_version__', '__name__', '__package__', '__path__', '__spec__', '__version__', '_add_newdoc_ufunc', '_distributor_init', '_financial_names', '_globals', '_mat', '_pytesttester', 'abs', 'absolute', 'add', 'add_docstring', 'add_newdoc', 'add_newdoc_ufunc', 'alen', 'all', 'allclose', 'alltrue', 'amax', 'amin', 'angle', 'any', 'append', 'apply_along_axis', 'apply_over_axes', 'arange', 'arccos', 'arccosh', 'arcsin', 'arcsinh', 'arctan', 'arctan2', 'arctanh', 'argmax', 'argmin', 'argpartition', 'argsort', 'argwhere', 'around', 'array', 'array2string', 'array_equal', 'array_equiv', 'array_repr', 'array_split', 'array_str', 'asanyarray', 'asarray', 'asarray_chkfinite', 'ascontiguousarray', 'asfarray', 'asfortranarray', 'asmatrix', 'asscalar', 'atleast_1d', 'atleast_2d', 'atleast_3d', 'average', 'bartlett', 'base_repr', 'binary_repr', 'bincount', 'bitwise_and', 'bitwise_not', 'bitwise_or', 'bitwise_xor', 'blackman', 'block', 'bmat', 'bool8', 'bool_', 'broadcast', 'broadcast_arrays', 'broadcast_shapes', 'broadcast_to', 'busday_count', 'busday_offset', 'busdaycalendar', 'byte', 'byte_bounds', 'bytes0', 'bytes_', 'c_', 'can_cast', 'cast', 'cbrt', 'cdouble', 'ceil', 'cfloat', 'char', 'character', 'chararray', 'choose', 'clip', 'clongdouble', 'clongfloat', 'column_stack', 'common_type', 'compare_chararrays', 'compat', 'complex128', 'complex256', 'complex64', 'complex_', 'complexfloating', 'compress', 'concatenate', 'conj', 'conjugate', 'convolve', 'copy', 'copysign', 'copyto', 'core', 'corrcoef', 'correlate', 'cos', 'cosh', 'count_nonzero', 'cov', 'cross', 'csingle', 'ctypeslib', 'cumprod', 'cumproduct', 'cumsum', 'datetime64', 'datetime_as_string', 'datetime_data', 'deg2rad', 'degrees', 'delete', 'deprecate', 'deprecate_with_doc', 'diag', 'diag_indices', 'diag_indices_from', 'diagflat', 'diagonal', 'diff', 'digitize', 'disp', 'divide', 'divmod', 'dot', 'double', 'dsplit', 'dstack', 'dtype', 'e', 'ediff1d', 'einsum', 'einsum_path', 'emath', 'empty', 'empty_like', 'equal', 'error_message', 'errstate', 'euler_gamma', 'exp', 'exp2', 'expand_dims', 'expm1', 'extract', 'eye', 'fabs', 'fastCopyAndTranspose', 'fft', 'fill_diagonal', 'find_common_type', 'finfo', 'fix', 'flatiter', 'flatnonzero', 'flexible', 'flip', 'fliplr', 'flipud', 'float128', 'float16', 'float32', 'float64', 'float_', 'float_power', 'floating', 'floor', 'floor_divide', 'fmax', 'fmin', 'fmod', 'format_float_positional', 'format_float_scientific', 'format_parser', 'frexp', 'frombuffer', 'fromfile', 'fromfunction', 'fromiter', 'frompyfunc', 'fromregex', 'fromstring', 'full', 'full_like', 'gcd', 'generic', 'genfromtxt', 'geomspace', 'get_array_wrap', 'get_include', 'get_printoptions', 'getbufsize', 'geterr', 'geterrcall', 'geterrobj', 'gradient', 'greater', 'greater_equal', 'half', 'hamming', 'hanning', 'heaviside', 'histogram', 'histogram2d', 'histogram_bin_edges', 'histogramdd', 'hsplit', 'hstack', 'hypot', 'i0', 'identity', 'iinfo', 'imag', 'in1d', 'index_exp', 'indices', 'inexact', 'inf', 'info', 'infty', 'inner', 'insert', 'int0', 'int16', 'int32', 'int64', 'int8', 'int_', 'intc', 'integer', 'interp', 'intersect1d', 'intp', 'invert', 'is_busday', 'isclose', 'iscomplex', 'iscomplexobj', 'isfinite', 'isfortran', 'isin', 'isinf', 'isnan', 'isnat', 'isneginf', 'isposinf', 'isreal', 'isrealobj', 'isscalar', 'issctype', 'issubclass_', 'issubdtype', 'issubsctype', 'iterable', 'ix_', 'kaiser', 'kron', 'lcm', 'ldexp', 'left_shift', 'less', 'less_equal', 'lexsort', 'lib', 'linalg', 'linspace', 'little_endian', 'load', 'loads', 'loadtxt', 'log', 'log10', 'log1p', 'log2', 'logaddexp', 'logaddexp2', 'logical_and', 'logical_not', 'logical_or', 'logical_xor', 'logspace', 'longcomplex', 'longdouble', 'longfloat', 'longlong', 'lookfor', 'ma', 'mafromtxt', 'mask_indices', 'mat', 'math', 'matmul', 'matrix', 'matrixlib', 'max', 'maximum', 'maximum_sctype', 'may_share_memory', 'mean', 'median', 'memmap', 'meshgrid', 'mgrid', 'min', 'min_scalar_type', 'minimum', 'mintypecode', 'mkl', 'mod', 'modf', 'moveaxis', 'msort', 'multiply', 'nan', 'nan_to_num', 'nanargmax', 'nanargmin', 'nancumprod', 'nancumsum', 'nanmax', 'nanmean', 'nanmedian', 'nanmin', 'nanpercentile', 'nanprod', 'nanquantile', 'nanstd', 'nansum', 'nanvar', 'nbytes', 'ndarray', 'ndenumerate', 'ndfromtxt', 'ndim', 'ndindex', 'nditer', 'negative', 'nested_iters', 'newaxis', 'nextafter', 'nonzero', 'not_equal', 'numarray', 'number', 'obj2sctype', 'object0', 'object_', 'ogrid', 'oldnumeric', 'ones', 'ones_like', 'os', 'outer', 'packbits', 'pad', 'partition', 'percentile', 'pi', 'piecewise', 'place', 'poly', 'poly1d', 'polyadd', 'polyder', 'polydiv', 'polyfit', 'polyint', 'polymul', 'polynomial', 'polysub', 'polyval', 'positive', 'power', 'printoptions', 'prod', 'product', 'promote_types', 'ptp', 'put', 'put_along_axis', 'putmask', 'quantile', 'r_', 'rad2deg', 'radians', 'random', 'ravel', 'ravel_multi_index', 'real', 'real_if_close', 'rec', 'recarray', 'recfromcsv', 'recfromtxt', 'reciprocal', 'record', 'remainder', 'repeat', 'require', 'reshape', 'resize', 'result_type', 'right_shift', 'rint', 'roll', 'rollaxis', 'roots', 'rot90', 'round', 'round_', 'row_stack', 's_', 'safe_eval', 'save', 'savetxt', 'savez', 'savez_compressed', 'sctype2char', 'sctypeDict', 'sctypes', 'searchsorted', 'select', 'set_numeric_ops', 'set_printoptions', 'set_string_function', 'setbufsize', 'setdiff1d', 'seterr', 'seterrcall', 'seterrobj', 'setxor1d', 'shape', 'shares_memory', 'short', 'show_config', 'sign', 'signbit', 'signedinteger', 'sin', 'sinc', 'single', 'singlecomplex', 'sinh', 'size', 'sometrue', 'sort', 'sort_complex', 'source', 'spacing', 'split', 'sqrt', 'square', 'squeeze', 'stack', 'std', 'str0', 'str_', 'string_', 'subtract', 'sum', 'swapaxes', 'sys', 'take', 'take_along_axis', 'tan', 'tanh', 'tensordot', 'test', 'testing', 'tile', 'timedelta64', 'trace', 'tracemalloc_domain', 'transpose', 'trapz', 'tri', 'tril', 'tril_indices', 'tril_indices_from', 'trim_zeros', 'triu', 'triu_indices', 'triu_indices_from', 'true_divide', 'trunc', 'typeDict', 'typecodes', 'typename', 'ubyte', 'ufunc', 'uint', 'uint0', 'uint16', 'uint32', 'uint64', 'uint8', 'uintc', 'uintp', 'ulonglong', 'unicode_', 'union1d', 'unique', 'unpackbits', 'unravel_index', 'unsignedinteger', 'unwrap', 'use_hugepage', 'ushort', 'vander', 'var', 'vdot', 'vectorize', 'version', 'void', 'void0', 'vsplit', 'vstack', 'w', 'warnings', 'where', 'who', 'zeros', 'zeros_like']\n"
     ]
    }
   ],
   "source": [
    "import numpy as np\n",
    "\n",
    "print(dir(np))"
   ]
  },
  {
   "cell_type": "markdown",
   "metadata": {},
   "source": [
    "## Numpy Array vs. Python List\n",
    "\n",
    "Numpy memiliki struktur data yang mirip seperti List, yaitu numpy array. Numpy array lebih efisien dalam penggunaan resource dan lebih cepat dalam pengaksesannya. Berikut adalah contoh penggunaan numpy array:"
   ]
  },
  {
   "cell_type": "code",
   "execution_count": 10,
   "metadata": {},
   "outputs": [
    {
     "name": "stdout",
     "output_type": "stream",
     "text": [
      "['1' 'a' '2' 'b']\n",
      "a\n",
      "['a' '2']\n",
      "['1' 'a' '2']\n",
      "['a' '2' 'b']\n",
      "b\n",
      "['b' '2']\n"
     ]
    }
   ],
   "source": [
    "import numpy as np\n",
    "\n",
    "array = np.array([1, 'a', 2, 'b'])\n",
    "print(array)\n",
    "print(array[1])\n",
    "print(array[1:3])\n",
    "print(array[:3])\n",
    "print(array[1:])\n",
    "print(array[-1])\n",
    "print(array[-1:-3:-1])"
   ]
  },
  {
   "cell_type": "markdown",
   "metadata": {},
   "source": [
    "Tampilan array-nya sama dengan list yang ada pada python bahkan operasi slicingnya sama dengan list yang ada di Python. Jadi tidak perlu khawatir untuk menggunakan array dari numpy ini. Kita juga bisa mengkonversi list python menjadi numpy array dengan cara type casting. Berikut cara penggunaannya:"
   ]
  },
  {
   "cell_type": "code",
   "execution_count": 11,
   "metadata": {},
   "outputs": [
    {
     "name": "stdout",
     "output_type": "stream",
     "text": [
      "<class 'numpy.ndarray'>\n"
     ]
    }
   ],
   "source": [
    "import numpy as np\n",
    "\n",
    "list_python = [1, 'a', 2, 'b', 'adam']\n",
    "\n",
    "array_numpy = np.array(list_python)\n",
    "print(type(array_numpy))"
   ]
  },
  {
   "cell_type": "markdown",
   "metadata": {},
   "source": [
    "Sama seperti list, numpy array juga bisa direpresentasikan menjadi array dua dimensi. Berikut adalah contoh penggunaanya:"
   ]
  },
  {
   "cell_type": "code",
   "execution_count": 12,
   "metadata": {},
   "outputs": [
    {
     "name": "stdout",
     "output_type": "stream",
     "text": [
      "[[10, 20, 30], [40, 50, 60], [70, 80, 90]]\n",
      "\n",
      "[[10 20 30]\n",
      " [40 50 60]\n",
      " [70 80 90]]\n"
     ]
    }
   ],
   "source": [
    "import numpy as np\n",
    "\n",
    "list_2d = [[10, 20, 30],[40, 50, 60], [70, 80, 90]]\n",
    "print(list_2d)\n",
    "\n",
    "print()\n",
    "\n",
    "array_2d = np.array(list_2d)\n",
    "print(array_2d)"
   ]
  },
  {
   "cell_type": "markdown",
   "metadata": {},
   "source": [
    "Kita bisa melihat bahwa numpy array lebih representatif untuk kita gunakan."
   ]
  },
  {
   "cell_type": "markdown",
   "metadata": {},
   "source": [
    "### Generate Array di Numpy\n",
    "\n",
    "Numpy memiliki konsep generator yang mirip seperti list di Python. Apabila di list kita menggunakan ``range()`` yang disimpan dalam sebuah struktur perulangan, maka kita bisa menggunakan method ``arange()`` di numpy. Secara konsep, fungsi ini sebagai pengganti generator ``range()``. Berikut contoh penggunaannya:"
   ]
  },
  {
   "cell_type": "code",
   "execution_count": 13,
   "metadata": {},
   "outputs": [
    {
     "name": "stdout",
     "output_type": "stream",
     "text": [
      "[0, 1, 2, 3, 4, 5, 6, 7, 8, 9, 10]\n",
      "[ 0  1  2  3  4  5  6  7  8  9 10]\n",
      "[ 0  2  4  6  8 10]\n"
     ]
    }
   ],
   "source": [
    "import numpy as np\n",
    "\n",
    "# List di Python\n",
    "list_bil = []\n",
    "for i in range(0,11):\n",
    "    list_bil.append(i)\n",
    "\n",
    "print(list_bil)\n",
    "\n",
    "# numpy array\n",
    "array = np.arange(0,11)\n",
    "print(array)\n",
    "\n",
    "array = np.arange(0,11,2)\n",
    "print(array)"
   ]
  },
  {
   "cell_type": "markdown",
   "metadata": {},
   "source": [
    "Selain untuk meng-generate array seperti contoh tadi, numpy memiliki kemampuan untuk membuat array berisi bilangan 0 (berguna untuk operasi matriks). Fungsi yang digunakan adalah ``zeros()``. Berikut cara penggunaannya:"
   ]
  },
  {
   "cell_type": "code",
   "execution_count": 14,
   "metadata": {},
   "outputs": [
    {
     "name": "stdout",
     "output_type": "stream",
     "text": [
      "[0. 0. 0. 0. 0. 0. 0. 0. 0. 0.]\n",
      "\n",
      "[[0. 0. 0. 0. 0. 0. 0. 0. 0. 0.]\n",
      " [0. 0. 0. 0. 0. 0. 0. 0. 0. 0.]\n",
      " [0. 0. 0. 0. 0. 0. 0. 0. 0. 0.]\n",
      " [0. 0. 0. 0. 0. 0. 0. 0. 0. 0.]\n",
      " [0. 0. 0. 0. 0. 0. 0. 0. 0. 0.]\n",
      " [0. 0. 0. 0. 0. 0. 0. 0. 0. 0.]\n",
      " [0. 0. 0. 0. 0. 0. 0. 0. 0. 0.]\n",
      " [0. 0. 0. 0. 0. 0. 0. 0. 0. 0.]\n",
      " [0. 0. 0. 0. 0. 0. 0. 0. 0. 0.]\n",
      " [0. 0. 0. 0. 0. 0. 0. 0. 0. 0.]]\n",
      "\n",
      "[[0 0 0 0 0 0 0 0 0 0]\n",
      " [0 0 0 0 0 0 0 0 0 0]\n",
      " [0 0 0 0 0 0 0 0 0 0]\n",
      " [0 0 0 0 0 0 0 0 0 0]\n",
      " [0 0 0 0 0 0 0 0 0 0]\n",
      " [0 0 0 0 0 0 0 0 0 0]\n",
      " [0 0 0 0 0 0 0 0 0 0]\n",
      " [0 0 0 0 0 0 0 0 0 0]\n",
      " [0 0 0 0 0 0 0 0 0 0]\n",
      " [0 0 0 0 0 0 0 0 0 0]]\n"
     ]
    }
   ],
   "source": [
    "import numpy as np\n",
    "\n",
    "array_nol = np.zeros(10)\n",
    "print(array_nol)\n",
    "\n",
    "print()\n",
    "\n",
    "array_nol_2d = np.zeros((10, 10))\n",
    "print(array_nol_2d)\n",
    "\n",
    "print()\n",
    "\n",
    "array_nol_2d = np.zeros((10, 10), dtype= int)\n",
    "print(array_nol_2d)\n"
   ]
  },
  {
   "cell_type": "markdown",
   "metadata": {},
   "source": [
    "Selain ``zeros()`` numpy juga memiliki method ``ones()`` yang fungsinya mirip seperti ``zeros()`` akan tetapi nilai ynag di-generate adalah 1."
   ]
  },
  {
   "cell_type": "code",
   "execution_count": 15,
   "metadata": {},
   "outputs": [
    {
     "name": "stdout",
     "output_type": "stream",
     "text": [
      "[1. 1. 1. 1. 1. 1. 1. 1. 1. 1.]\n",
      "\n",
      "[[1. 1. 1. 1. 1. 1. 1. 1. 1. 1.]\n",
      " [1. 1. 1. 1. 1. 1. 1. 1. 1. 1.]\n",
      " [1. 1. 1. 1. 1. 1. 1. 1. 1. 1.]\n",
      " [1. 1. 1. 1. 1. 1. 1. 1. 1. 1.]\n",
      " [1. 1. 1. 1. 1. 1. 1. 1. 1. 1.]]\n",
      "\n",
      "[[1 1 1 1 1 1 1 1 1 1]\n",
      " [1 1 1 1 1 1 1 1 1 1]\n",
      " [1 1 1 1 1 1 1 1 1 1]\n",
      " [1 1 1 1 1 1 1 1 1 1]\n",
      " [1 1 1 1 1 1 1 1 1 1]]\n"
     ]
    }
   ],
   "source": [
    "import numpy as np\n",
    "\n",
    "array_satu = np.ones(10)\n",
    "print(array_satu)\n",
    "\n",
    "print()\n",
    "\n",
    "array_satu_2d = np.ones((5, 10))\n",
    "print(array_satu_2d)\n",
    "\n",
    "print()\n",
    "\n",
    "array_satu_2d = np.ones((5, 10),dtype=int)\n",
    "print(array_satu_2d)\n"
   ]
  },
  {
   "cell_type": "markdown",
   "metadata": {},
   "source": [
    "### Generate Spaced Number di Numpy\n",
    "\n",
    "Kita bisa menggunakan fungsi ``linspace()`` untuk generate spaced number pada interval yang ditentukan. Berikut contoh penggunaannya:"
   ]
  },
  {
   "cell_type": "code",
   "execution_count": 16,
   "metadata": {},
   "outputs": [
    {
     "name": "stdout",
     "output_type": "stream",
     "text": [
      "[ 0.          0.20408163  0.40816327  0.6122449   0.81632653  1.02040816\n",
      "  1.2244898   1.42857143  1.63265306  1.83673469  2.04081633  2.24489796\n",
      "  2.44897959  2.65306122  2.85714286  3.06122449  3.26530612  3.46938776\n",
      "  3.67346939  3.87755102  4.08163265  4.28571429  4.48979592  4.69387755\n",
      "  4.89795918  5.10204082  5.30612245  5.51020408  5.71428571  5.91836735\n",
      "  6.12244898  6.32653061  6.53061224  6.73469388  6.93877551  7.14285714\n",
      "  7.34693878  7.55102041  7.75510204  7.95918367  8.16326531  8.36734694\n",
      "  8.57142857  8.7755102   8.97959184  9.18367347  9.3877551   9.59183673\n",
      "  9.79591837 10.        ]\n"
     ]
    }
   ],
   "source": [
    "import numpy as np\n",
    "\n",
    "matriks = np.linspace(0,10)\n",
    "print(matriks)"
   ]
  },
  {
   "cell_type": "code",
   "execution_count": 17,
   "metadata": {},
   "outputs": [
    {
     "name": "stdout",
     "output_type": "stream",
     "text": [
      "[ 0.          0.1010101   0.2020202   0.3030303   0.4040404   0.50505051\n",
      "  0.60606061  0.70707071  0.80808081  0.90909091  1.01010101  1.11111111\n",
      "  1.21212121  1.31313131  1.41414141  1.51515152  1.61616162  1.71717172\n",
      "  1.81818182  1.91919192  2.02020202  2.12121212  2.22222222  2.32323232\n",
      "  2.42424242  2.52525253  2.62626263  2.72727273  2.82828283  2.92929293\n",
      "  3.03030303  3.13131313  3.23232323  3.33333333  3.43434343  3.53535354\n",
      "  3.63636364  3.73737374  3.83838384  3.93939394  4.04040404  4.14141414\n",
      "  4.24242424  4.34343434  4.44444444  4.54545455  4.64646465  4.74747475\n",
      "  4.84848485  4.94949495  5.05050505  5.15151515  5.25252525  5.35353535\n",
      "  5.45454545  5.55555556  5.65656566  5.75757576  5.85858586  5.95959596\n",
      "  6.06060606  6.16161616  6.26262626  6.36363636  6.46464646  6.56565657\n",
      "  6.66666667  6.76767677  6.86868687  6.96969697  7.07070707  7.17171717\n",
      "  7.27272727  7.37373737  7.47474747  7.57575758  7.67676768  7.77777778\n",
      "  7.87878788  7.97979798  8.08080808  8.18181818  8.28282828  8.38383838\n",
      "  8.48484848  8.58585859  8.68686869  8.78787879  8.88888889  8.98989899\n",
      "  9.09090909  9.19191919  9.29292929  9.39393939  9.49494949  9.5959596\n",
      "  9.6969697   9.7979798   9.8989899  10.        ]\n"
     ]
    }
   ],
   "source": [
    "import numpy as np\n",
    "\n",
    "matriks = np.linspace(0, 10, 100)\n",
    "print(matriks)"
   ]
  },
  {
   "cell_type": "markdown",
   "metadata": {},
   "source": [
    "### Matriks Indentitas\n",
    "\n",
    "Numpy memiliki fungsi ``eye()`` yang memungkinkan programmer untuk membuat matriks identitas dengan jumlah tertentu. Pengertian dan kegunaan matriks identitas dapat dipelajari singkat di https://id.wikipedia.org/wiki/Matriks_identitas. Berikut contoh penggunaannya:"
   ]
  },
  {
   "cell_type": "code",
   "execution_count": 18,
   "metadata": {},
   "outputs": [
    {
     "name": "stdout",
     "output_type": "stream",
     "text": [
      "[[1. 0. 0. 0. 0.]\n",
      " [0. 1. 0. 0. 0.]\n",
      " [0. 0. 1. 0. 0.]\n",
      " [0. 0. 0. 1. 0.]\n",
      " [0. 0. 0. 0. 1.]]\n",
      "\n",
      "[[1. 0. 0.]\n",
      " [0. 1. 0.]\n",
      " [0. 0. 1.]]\n"
     ]
    }
   ],
   "source": [
    "import numpy as np\n",
    "\n",
    "matriks_identitas = np.eye(5)\n",
    "print(matriks_identitas)\n",
    "\n",
    "print()\n",
    "\n",
    "matriks_identitas = np.eye(3)\n",
    "print(matriks_identitas)\n"
   ]
  },
  {
   "cell_type": "markdown",
   "metadata": {},
   "source": [
    "### Generate Array Random\n",
    "\n",
    "Numpy memiliki fungsi yang memungkinkan programmer membuat array berisi data random. Konsep random di numpy memiliki mekanisme yang mirip dengan Python. Berikut contoh penggunaannya:"
   ]
  },
  {
   "cell_type": "code",
   "execution_count": 19,
   "metadata": {},
   "outputs": [
    {
     "name": "stdout",
     "output_type": "stream",
     "text": [
      "[9.52680657e-01 6.94873329e-01 6.55970162e-04 8.37550112e-01\n",
      " 9.22603264e-01]\n",
      "\n",
      "[[0.06778392 0.42849386 0.8970842  0.79079473 0.85264962]\n",
      " [0.48593313 0.80013812 0.87072799 0.03459777 0.35590764]\n",
      " [0.66236895 0.89988787 0.52116749 0.01732324 0.20955398]\n",
      " [0.30782611 0.99407114 0.17039466 0.44276317 0.3257748 ]\n",
      " [0.2632885  0.25347162 0.34835578 0.56835171 0.39986205]]\n"
     ]
    }
   ],
   "source": [
    "import numpy as np\n",
    "\n",
    "rand_array = np.random.rand(5)\n",
    "print(rand_array)\n",
    "\n",
    "print()\n",
    "\n",
    "rand_matriks = np.random.rand(5,5)\n",
    "print(rand_matriks)"
   ]
  },
  {
   "cell_type": "markdown",
   "metadata": {},
   "source": [
    "Selain fungsi tersebut, numpy bisa menghasilkan random array yang berisi angka random untuk distribusi normal standar. Berikut contoh penggunaannya:"
   ]
  },
  {
   "cell_type": "code",
   "execution_count": 20,
   "metadata": {},
   "outputs": [
    {
     "name": "stdout",
     "output_type": "stream",
     "text": [
      "[-1.31452967  0.54355762  0.79667224 -0.72417649  0.29087399]\n",
      "\n",
      "[[ 1.30755511  0.7221786   0.81215944  0.50188437]\n",
      " [-1.30168892  0.55670429  0.064297    2.07919693]\n",
      " [ 0.39509241 -0.03141488  1.25798941  0.63463889]\n",
      " [-0.69688348 -0.25724291 -0.41419047  1.20017169]]\n"
     ]
    }
   ],
   "source": [
    "import numpy as np\n",
    "\n",
    "rand_normal_array = np.random.randn(5)\n",
    "print(rand_normal_array)\n",
    "\n",
    "print()\n",
    "\n",
    "rand_normal_matriks = np.random.randn(4,4)\n",
    "print(rand_normal_matriks)"
   ]
  },
  {
   "cell_type": "markdown",
   "metadata": {},
   "source": [
    "Fungsi random dari numpy yang akan dibahas terakhir adalah ``randint()``. Fungsi ini memiliki kemiripan dengan fungsi ``randint()`` di python. Berikut contoh penggunaannya:"
   ]
  },
  {
   "cell_type": "code",
   "execution_count": 21,
   "metadata": {},
   "outputs": [
    {
     "name": "stdout",
     "output_type": "stream",
     "text": [
      "6\n",
      "[6 2 1 6 7 2 3 6 1 5]\n"
     ]
    }
   ],
   "source": [
    "import numpy as np\n",
    "\n",
    "nilai_random = np.random.randint(1,10)\n",
    "print(nilai_random)\n",
    "\n",
    "rand_int_array = np.random.randint(1,10,10)\n",
    "print(rand_int_array)"
   ]
  },
  {
   "cell_type": "markdown",
   "metadata": {},
   "source": [
    "### Fungsi reshape()\n",
    "\n",
    "Fungsi ``reshape()`` memungkinkan kita untuk membentuk suatu array dengan dimensi menjadi array dengan dimensi lain. Berikut contoh penggunaannya:"
   ]
  },
  {
   "cell_type": "code",
   "execution_count": 22,
   "metadata": {},
   "outputs": [
    {
     "name": "stdout",
     "output_type": "stream",
     "text": [
      "[8 6 4 5 6 4 3 1 6 8 8 5 3 2 6 5 3 4 1 5 4 2 2 8 9]\n",
      "\n",
      "[[8 6 4 5 6]\n",
      " [4 3 1 6 8]\n",
      " [8 5 3 2 6]\n",
      " [5 3 4 1 5]\n",
      " [4 2 2 8 9]]\n"
     ]
    }
   ],
   "source": [
    "import numpy as np\n",
    "\n",
    "array = np.random.randint(1,10,25)\n",
    "print(array)\n",
    "\n",
    "print()\n",
    "\n",
    "matriks_55 = array.reshape(5,5)\n",
    "print(matriks_55)"
   ]
  },
  {
   "cell_type": "markdown",
   "metadata": {},
   "source": [
    "><b>Catatan:</b> Jumlah elemen pada array yang mau dibentuk ulang harus sama dengan jumlah elemen pada dimensi array yang baru."
   ]
  },
  {
   "cell_type": "markdown",
   "metadata": {},
   "source": [
    "## Operasi pada Array\n",
    "\n",
    "Numpy bisa kita gunakan untuk mempermudah perhitungan atau operasi-operasi pada array atau matriks. Berikut adalah bahasan tentang operasi pada array dan matriks yang bisa didukung (sering digunakan) oleh numpy."
   ]
  },
  {
   "cell_type": "markdown",
   "metadata": {},
   "source": [
    "### Pertambahan Array\n",
    "\n",
    "Layaknya di ilmu Matematika, array bisa ditambahkan dengan array lainnya. Berikut contoh operasi pertambahan pada array menggunakan numpy:"
   ]
  },
  {
   "cell_type": "code",
   "execution_count": 23,
   "metadata": {},
   "outputs": [
    {
     "name": "stdout",
     "output_type": "stream",
     "text": [
      "[2 3 4]\n",
      "[11 12 13]\n",
      "\n",
      "[[2 3 4]\n",
      " [2 3 4]\n",
      " [2 3 4]]\n"
     ]
    }
   ],
   "source": [
    "import numpy as np\n",
    "\n",
    "array1 = np.array([1, 2, 3])\n",
    "array2 = np.ones(3, dtype = int)\n",
    "\n",
    "array_hasil = array1 + array2\n",
    "array_tambah = array1 + 10\n",
    "\n",
    "print(array_hasil)\n",
    "print(array_tambah)\n",
    "\n",
    "print()\n",
    "\n",
    "array1 = np.array([[1, 2, 3], [1, 2, 3], [1, 2, 3]])\n",
    "array2 = np.ones((1, 3), dtype=int)\n",
    "\n",
    "array_hasil = array1 + array2\n",
    "\n",
    "print(array_hasil)"
   ]
  },
  {
   "cell_type": "markdown",
   "metadata": {},
   "source": [
    "### Pengurangan Array\n",
    "\n",
    "Operasi aritmatika berikutnya yang didukung adalah operasi pengurangan. Berikut adalah contoh penggunaanya:"
   ]
  },
  {
   "cell_type": "code",
   "execution_count": 24,
   "metadata": {},
   "outputs": [
    {
     "name": "stdout",
     "output_type": "stream",
     "text": [
      "[0 1 2]\n",
      "[-9 -8 -7]\n",
      "\n",
      "[[0 1 2]\n",
      " [0 1 2]\n",
      " [0 1 2]]\n"
     ]
    }
   ],
   "source": [
    "import numpy as np\n",
    "\n",
    "array1 = np.array([1, 2, 3])\n",
    "array2 = np.ones(3, dtype=int)\n",
    "\n",
    "array_hasil = array1 - array2\n",
    "array_kurang = array1 - 10\n",
    "\n",
    "print(array_hasil)\n",
    "print(array_kurang)\n",
    "\n",
    "print()\n",
    "\n",
    "array1 = np.array([[1, 2, 3], [1, 2, 3], [1, 2, 3]])\n",
    "array2 = np.ones((1, 3), dtype=int)\n",
    "\n",
    "array_hasil = array1 - array2\n",
    "\n",
    "print(array_hasil)"
   ]
  },
  {
   "cell_type": "markdown",
   "metadata": {},
   "source": [
    "### Perkalian Array\n",
    "\n",
    "Berikutnya adalah operasi perkalian yang bisa dilihat pada contoh kode program berikut:"
   ]
  },
  {
   "cell_type": "code",
   "execution_count": 25,
   "metadata": {},
   "outputs": [
    {
     "name": "stdout",
     "output_type": "stream",
     "text": [
      "[1 2 3]\n",
      "\n",
      "[[1 4 9]\n",
      " [1 4 9]\n",
      " [1 4 9]]\n"
     ]
    }
   ],
   "source": [
    "import numpy as np\n",
    "\n",
    "array1 = np.array([1, 2, 3])\n",
    "array2 = np.ones(3, dtype=int)\n",
    "\n",
    "array_hasil = array1 * array2\n",
    "\n",
    "print(array_hasil)\n",
    "\n",
    "print()\n",
    "\n",
    "array1 = array2 = np.array([[1, 2, 3], [1, 2, 3], [1, 2, 3]])\n",
    "\n",
    "array_hasil = array1 * array2\n",
    "\n",
    "print(array_hasil)"
   ]
  },
  {
   "cell_type": "markdown",
   "metadata": {},
   "source": [
    "### Pembagian Array\n",
    "\n",
    "Mirip seperti perkalian, berikut contoh dari operasi pembagian pada array:"
   ]
  },
  {
   "cell_type": "code",
   "execution_count": 26,
   "metadata": {},
   "outputs": [
    {
     "name": "stdout",
     "output_type": "stream",
     "text": [
      "[1.         0.5        0.33333333]\n",
      "\n",
      "[[1. 1. 1.]\n",
      " [1. 1. 1.]\n",
      " [1. 1. 1.]]\n"
     ]
    }
   ],
   "source": [
    "import numpy as np\n",
    "\n",
    "array1 = np.array([1, 2, 3])\n",
    "array2 = np.ones(3, dtype=int)\n",
    "\n",
    "array_hasil = array2 / array1\n",
    "\n",
    "print(array_hasil)\n",
    "\n",
    "print()\n",
    "\n",
    "array1 = array2 = np.array([[1, 2, 3], [1, 2, 3], [1, 2, 3]])\n",
    "\n",
    "array_hasil = array1 / array2\n",
    "\n",
    "print(array_hasil)\n"
   ]
  },
  {
   "cell_type": "markdown",
   "metadata": {},
   "source": [
    "### Dot Product\n",
    "\n",
    "Perkalian dalam matriks ada dua jenis yaitu cross product dan dot product. Mekanisme perkalian cross product sudah terbahas dalam operasi perkalian array. Bagaimana dengan dot product? Berikut gambaran operasi dot product pada Array:\n",
    "\n",
    "<img src = \"https://arrayfire.org/docs/matrix_vector_dot_product.png\" alt = \"Ilustrasi Dot Product pada Matriks\">\n",
    "\n",
    "><b>Catatan:</b> Tetap perhatikan aturan perkalian pada matriks (dimensi harus memenuhi aturan MxN . NxO). Hasil dot product dari matriks berdimensi MxN . NxO adalah matriks berdimensi MxO\n",
    "\n",
    "Numpy memiliki fungsi ``dot()`` untuk mendukung proses dot product ini. Berikut ini adalah contoh penggunaannya:"
   ]
  },
  {
   "cell_type": "code",
   "execution_count": 27,
   "metadata": {},
   "outputs": [
    {
     "name": "stdout",
     "output_type": "stream",
     "text": [
      "[[14]\n",
      " [14]\n",
      " [14]]\n"
     ]
    }
   ],
   "source": [
    "import numpy as np\n",
    "\n",
    "matriks1 = np.array([[1, 2, 3], [1, 2, 3], [1, 2, 3]])\n",
    "matriks2 = np.array([[1],[2],[3]])\n",
    "\n",
    "dot_product = np.dot(matriks1,matriks2)\n",
    "print(dot_product)"
   ]
  },
  {
   "cell_type": "markdown",
   "metadata": {},
   "source": [
    "### Agregat Fungsi pada Numpy\n",
    "\n",
    "Array pada numpy bisa dikenakan operasi agregat. Tentunya hal ini sangat berguna dalam melakukan pengolahan data. Operasi agregat yang bisa dikenakan pada array numpy dapat dilihat pada tabel berikut:\n",
    "\n",
    "| Operasi Agregat | Penjelasan |\n",
    "| :--- | :--- |\n",
    "| max() | Mengembalikan nilai berupa elemen terbesar di array |\n",
    "| min() | Mengembalikan nilai berupa elemen terkecil di array |\n",
    "| sum() | Menjumlahkan seluruh elemen pada array |\n",
    "| mean() | Menghitung rata-rata elemen pada array |\n",
    "\n",
    "Berikut contoh penggunaannya:"
   ]
  },
  {
   "cell_type": "code",
   "execution_count": 7,
   "metadata": {},
   "outputs": [
    {
     "name": "stdout",
     "output_type": "stream",
     "text": [
      "1\n",
      "110\n",
      "385\n",
      "42.77777777777778\n",
      "\n",
      "1\n",
      "110\n",
      "385\n",
      "42.77777777777778\n"
     ]
    }
   ],
   "source": [
    "import numpy as np\n",
    "\n",
    "array = np.array([1, 2, 3, 30, 21, 15, 110, 101, 102])\n",
    "\n",
    "print(array.min())\n",
    "print(array.max())\n",
    "print(array.sum())\n",
    "print(array.mean())\n",
    "\n",
    "print()\n",
    "\n",
    "array = np.array([[1, 2, 3], [30, 21, 15], [110, 101, 102]])\n",
    "\n",
    "print(array.min())\n",
    "print(array.max())\n",
    "print(array.sum())\n",
    "print(array.mean())"
   ]
  },
  {
   "cell_type": "markdown",
   "metadata": {},
   "source": [
    "### Unique value di Array\n",
    "\n",
    "Apabila kita membutuhkan array yang isinya unique dan juga membutuhkan berapa jumlah elemen unique-nya, kita bisa melakukan mekanisme berikut:"
   ]
  },
  {
   "cell_type": "code",
   "execution_count": 29,
   "metadata": {},
   "outputs": [
    {
     "name": "stdout",
     "output_type": "stream",
     "text": [
      "[11 11 12 13 14 15 16 17 12 13 11 14 18 19 20]\n",
      "[11 12 13 14 15 16 17 18 19 20]\n"
     ]
    }
   ],
   "source": [
    "import numpy as np\n",
    "\n",
    "array = np.array([11, 11, 12, 13, 14, 15, 16, 17, 12, 13, 11, 14, 18, 19, 20])\n",
    "print(array)\n",
    "\n",
    "array_unique = np.unique(array)\n",
    "print(array_unique)\n"
   ]
  },
  {
   "cell_type": "markdown",
   "metadata": {},
   "source": [
    "Kita juga bisa mengetahui posisi/letak dari nilai yang menyatakan indeks pertama dari nilai unique tersebut, kita bisa menggunakan parameter ``return_index = True`` di fungsi ``unique()`` sebagai berikut:"
   ]
  },
  {
   "cell_type": "code",
   "execution_count": 30,
   "metadata": {},
   "outputs": [
    {
     "name": "stdout",
     "output_type": "stream",
     "text": [
      "[11 11 12 13 14 15 16 17 12 13 11 14 18 19 20]\n",
      "[11 12 13 14 15 16 17 18 19 20]\n",
      "[ 0  2  3  4  5  6  7 12 13 14]\n"
     ]
    }
   ],
   "source": [
    "import numpy as np\n",
    "\n",
    "array = np.array([11, 11, 12, 13, 14, 15, 16, 17, 12, 13, 11, 14, 18, 19, 20])\n",
    "print(array)\n",
    "\n",
    "array_unique, index_unique = np.unique(array, return_index = True)\n",
    "print(array_unique)\n",
    "print(index_unique)"
   ]
  },
  {
   "cell_type": "markdown",
   "metadata": {},
   "source": [
    "Selain parameter ``return_index``, kita bisa menambahkan parameter ``return_counts`` untuk mendapatkan jumlah elemen unique pada array. Contohnya sebagai berikut:"
   ]
  },
  {
   "cell_type": "code",
   "execution_count": 31,
   "metadata": {},
   "outputs": [
    {
     "name": "stdout",
     "output_type": "stream",
     "text": [
      "[11 11 12 13 14 15 16 17 12 13 11 14 18 19 20]\n",
      "[11 12 13 14 15 16 17 18 19 20]\n",
      "[3 2 2 2 1 1 1 1 1 1]\n"
     ]
    }
   ],
   "source": [
    "import numpy as np\n",
    "\n",
    "array = np.array([11, 11, 12, 13, 14, 15, 16, 17, 12, 13, 11, 14, 18, 19, 20])\n",
    "print(array)\n",
    "\n",
    "array_unique, jml_elemen = np.unique(array, return_counts = True)\n",
    "print(array_unique)\n",
    "print(jml_elemen)"
   ]
  },
  {
   "cell_type": "markdown",
   "metadata": {},
   "source": [
    "### Transpose Matriks\n",
    "\n",
    "Kita bisa menggunakan fungsi ``reshape()`` pada matriks untuk membantu melakukan operasi transpose matriks. Gambaran operasi transpose pada matriks dapat dilihat pada gambar berikut:\n",
    "\n",
    "<img src = \"https://idschool.net/wp-content/uploads/2017/11/Transpose-Matriks-1-e1510690764387.png\" alt = \"Ilustrasi Transpose Matriks\">\n",
    "\n",
    "Berikut contoh kasusnya:"
   ]
  },
  {
   "cell_type": "code",
   "execution_count": 32,
   "metadata": {},
   "outputs": [
    {
     "name": "stdout",
     "output_type": "stream",
     "text": [
      "[[1 2 3]\n",
      " [4 5 6]]\n",
      "\n",
      "[[1 2]\n",
      " [3 4]\n",
      " [5 6]]\n"
     ]
    }
   ],
   "source": [
    "import numpy as np\n",
    "\n",
    "array = np.array([[1, 2, 3], [4, 5, 6]])\n",
    "print(array)\n",
    "\n",
    "print()\n",
    "\n",
    "array_transpose = array.reshape(3,2)\n",
    "print(array_transpose)"
   ]
  },
  {
   "cell_type": "markdown",
   "metadata": {},
   "source": [
    "### Reverse Array\n",
    "\n",
    "Kita bisa menggunakan fungsi ``flip()`` untuk me-reverse elemen pada array. Berikut contoh penggunaannya:"
   ]
  },
  {
   "cell_type": "code",
   "execution_count": 33,
   "metadata": {},
   "outputs": [
    {
     "name": "stdout",
     "output_type": "stream",
     "text": [
      "[1 2 3 4 5 6 7 8]\n",
      "\n",
      "[8 7 6 5 4 3 2 1]\n"
     ]
    }
   ],
   "source": [
    "import numpy as np\n",
    "\n",
    "array = np.array([1, 2, 3, 4, 5, 6, 7, 8])\n",
    "print(array)\n",
    "\n",
    "print()\n",
    "\n",
    "array_reverse = np.flip(array)\n",
    "print(array_reverse)"
   ]
  },
  {
   "cell_type": "code",
   "execution_count": 34,
   "metadata": {},
   "outputs": [
    {
     "name": "stdout",
     "output_type": "stream",
     "text": [
      "[[ 1  2  3  4]\n",
      " [ 5  6  7  8]\n",
      " [ 9 10 11 12]]\n",
      "\n",
      "[[12 11 10  9]\n",
      " [ 8  7  6  5]\n",
      " [ 4  3  2  1]]\n"
     ]
    }
   ],
   "source": [
    "import numpy as np\n",
    "\n",
    "array = np.array([[1, 2, 3, 4], [5, 6, 7, 8], [9, 10, 11, 12]])\n",
    "print(array)\n",
    "\n",
    "print()\n",
    "\n",
    "array_reverse = np.flip(array)\n",
    "print(array_reverse)\n"
   ]
  },
  {
   "cell_type": "markdown",
   "metadata": {},
   "source": [
    "### Flattening Matrik ke Array\n",
    "\n",
    "Kita bisa membuat matriks (array dua dimensi) menjadi array 1 dimensi dengan menggunakan fungsi ``flatten()``. Berikut contohnya:"
   ]
  },
  {
   "cell_type": "code",
   "execution_count": 35,
   "metadata": {},
   "outputs": [
    {
     "name": "stdout",
     "output_type": "stream",
     "text": [
      "[[ 1  2  3  4]\n",
      " [ 5  6  7  8]\n",
      " [ 9 10 11 12]]\n",
      "\n",
      "[ 1  2  3  4  5  6  7  8  9 10 11 12]\n"
     ]
    }
   ],
   "source": [
    "import numpy as np\n",
    "\n",
    "matriks = np.array([[1, 2, 3, 4], [5, 6, 7, 8], [9, 10, 11, 12]])\n",
    "print(matriks)\n",
    "\n",
    "print()\n",
    "\n",
    "array = matriks.flatten()\n",
    "print(array)\n"
   ]
  },
  {
   "cell_type": "markdown",
   "metadata": {},
   "source": [
    "### Hands on Lab 1: Bermain dengan kecepatan\n",
    "\n",
    "Diberikan data jarak dan waktu tempuh sebagai berikut:\n",
    "\n",
    "| Jarak (Km) | Waktu Tempuh (Jam) |\n",
    "| :--- | :--- |\n",
    "| 100 | 2.5 |\n",
    "| 84 | 2.3 |\n",
    "| 200 | 3.4 |\n",
    "| 5 | 0.1 |\n",
    "\n",
    "Carilah:\n",
    "\n",
    "1. Kecepatan untuk masing-masing perjalanan\n",
    "2. Kecepatan rata-rata dari seluruh perjalanan\n",
    "3. Kecepatan paling cepat dan paling lambat"
   ]
  },
  {
   "cell_type": "code",
   "execution_count": 13,
   "metadata": {},
   "outputs": [
    {
     "name": "stdout",
     "output_type": "stream",
     "text": [
      "[40.         36.52173913 58.82352941 50.        ]\n",
      "46.336317135549876\n",
      "58.82352941176471\n",
      "36.52173913043479\n"
     ]
    }
   ],
   "source": [
    "import numpy as np\n",
    "\n",
    "jarak = np.array([100, 84, 200, 5])\n",
    "waktu = np.array([2.5, 2.3, 3.4, 0.1])\n",
    "\n",
    "kecepatan = jarak / waktu\n",
    "print(kecepatan)\n",
    "\n",
    "kecepatan_rata = kecepatan.mean()\n",
    "print(kecepatan_rata)\n",
    "print(kecepatan.max())\n",
    "print(kecepatan.min())"
   ]
  },
  {
   "cell_type": "markdown",
   "metadata": {},
   "source": [
    "### Hands on Lab 2: Bermain dengan nilai\n",
    "\n",
    "Diberikan data nilai akhir dari kelas IPA 1 (100 siswa) untuk mata kuliah Biologi sebagai berikut:\n",
    "\n",
    "``75, 70, 65, 50, 73, 58, 53, 69, 77, 62, 61, 70, 54, 66, 53, 51, 64,\n",
    "52, 50, 77, 68, 63, 61, 68, 58, 67, 63, 67, 72, 70, 71, 60, 68, 75,\n",
    "74, 62, 61, 76, 52, 54, 73, 72, 66, 56, 76, 60, 54, 51, 70, 70, 51,\n",
    "67, 57, 67, 74, 56, 61, 54, 58, 64, 60, 54, 67, 74, 61, 72, 57, 54,\n",
    "70, 55, 62, 61, 52, 60, 64, 64, 56, 79, 75, 73, 65, 64, 68, 69, 63,\n",
    "76, 76, 76, 56, 51, 61, 70, 79, 55, 66, 66, 58, 53, 52, 57``\n",
    "\n",
    "Hitung:\n",
    "1. Rata-rata nilai\n",
    "2. Hitung berapa kemunculan dari setiap nilai yang ada\n",
    "3. Nilai terbesar dan terkecil\n",
    "4. Bentuk kelompok nilai. Setiap kelompok berisi 10 nilai siswa. Hitung poin 1 sampai 3 untuk setiap kelompoknya."
   ]
  },
  {
   "cell_type": "code",
   "execution_count": null,
   "metadata": {},
   "outputs": [],
   "source": []
  },
  {
   "cell_type": "markdown",
   "metadata": {},
   "source": [
    "# Scipy\n",
    "\n",
    "Scipy adalah library yang memungkinkan kita melakukan perhitungan scientific, di antaranya:\n",
    "\n",
    "1. Integration\n",
    "2. Optimization\n",
    "3. Interpolasi\n",
    "4. Fourier Transform\n",
    "5. Aljabar Linear\n",
    "6. Pengolahan Data Spasial\n",
    "7. Statistika\n",
    "8. Multidimensional Image Processing.\n",
    "\n",
    "Scipy bekerja sama dengan numpy (dibangun berdasarkan numpy) dalam melakukan pemrosesan perhitungan scientific ini. Bahkan module/library ini bisa membantu visualisasi data (menggunakan matplotlib). Seperti biasa, pastikan ``scipy`` sudah diinstall pada environment Python anda. Apabila belum, silakan jalankan perintah berikut:\n",
    "\n",
    "<b>Instalasi via pip</b> <br>\n",
    "``pip3 install scipy``\n",
    "\n",
    "<b>Instalasi via conda</b> (secara default sudah tersedia ketika instalasi Anaconda atau Miniconda) <br>\n",
    "``conda install scipy``\n",
    "\n",
    "Module ``scipy`` ini membutuhkan module ``numpy`` untuk bisa dijalankan (dependencies). \n",
    "\n",
    "Berikut adalah bahasan contoh penggunaan module ``scipy``."
   ]
  },
  {
   "cell_type": "code",
   "execution_count": 1,
   "metadata": {},
   "outputs": [
    {
     "name": "stdout",
     "output_type": "stream",
     "text": [
      "Name: scipy\n",
      "Version: 1.6.2\n",
      "Summary: SciPy: Scientific Library for Python\n",
      "Home-page: https://www.scipy.org\n",
      "Author: \n",
      "Author-email: \n",
      "License: BSD\n",
      "Location: /usr/local/anaconda3/lib/python3.8/site-packages\n",
      "Requires: numpy\n",
      "Required-by: statsmodels, seaborn, scikit-learn, scikit-image\n"
     ]
    }
   ],
   "source": [
    "!pip3 show scipy"
   ]
  },
  {
   "cell_type": "code",
   "execution_count": 36,
   "metadata": {},
   "outputs": [
    {
     "name": "stdout",
     "output_type": "stream",
     "text": [
      "['ALLOW_THREADS', 'AxisError', 'BUFSIZE', 'Bytes0', 'CLIP', 'ComplexWarning', 'DataSource', 'Datetime64', 'ERR_CALL', 'ERR_DEFAULT', 'ERR_IGNORE', 'ERR_LOG', 'ERR_PRINT', 'ERR_RAISE', 'ERR_WARN', 'FLOATING_POINT_SUPPORT', 'FPE_DIVIDEBYZERO', 'FPE_INVALID', 'FPE_OVERFLOW', 'FPE_UNDERFLOW', 'False_', 'Inf', 'Infinity', 'LowLevelCallable', 'MAXDIMS', 'MAY_SHARE_BOUNDS', 'MAY_SHARE_EXACT', 'MachAr', 'ModuleDeprecationWarning', 'NAN', 'NINF', 'NZERO', 'NaN', 'PINF', 'PZERO', 'RAISE', 'RankWarning', 'SHIFT_DIVIDEBYZERO', 'SHIFT_INVALID', 'SHIFT_OVERFLOW', 'SHIFT_UNDERFLOW', 'ScalarType', 'Str0', 'TooHardError', 'True_', 'UFUNC_BUFSIZE_DEFAULT', 'UFUNC_PYVALS_NAME', 'Uint64', 'VisibleDeprecationWarning', 'WRAP', '_UFUNC_API', '__SCIPY_SETUP__', '__all__', '__builtins__', '__cached__', '__config__', '__doc__', '__file__', '__loader__', '__name__', '__numpy_version__', '__package__', '__path__', '__spec__', '__version__', '_add_newdoc_ufunc', '_deprecated', '_distributor_init', '_fun', '_key', '_lib', '_msg', '_sci', 'absolute', 'add', 'add_docstring', 'add_newdoc', 'add_newdoc_ufunc', 'alen', 'all', 'allclose', 'alltrue', 'amax', 'amin', 'angle', 'any', 'append', 'apply_along_axis', 'apply_over_axes', 'arange', 'arccos', 'arccosh', 'arcsin', 'arcsinh', 'arctan', 'arctan2', 'arctanh', 'argmax', 'argmin', 'argpartition', 'argsort', 'argwhere', 'around', 'array', 'array2string', 'array_equal', 'array_equiv', 'array_repr', 'array_split', 'array_str', 'asanyarray', 'asarray', 'asarray_chkfinite', 'ascontiguousarray', 'asfarray', 'asfortranarray', 'asmatrix', 'asscalar', 'atleast_1d', 'atleast_2d', 'atleast_3d', 'average', 'bartlett', 'base_repr', 'binary_repr', 'bincount', 'bitwise_and', 'bitwise_not', 'bitwise_or', 'bitwise_xor', 'blackman', 'block', 'bmat', 'bool8', 'bool_', 'broadcast', 'broadcast_arrays', 'broadcast_shapes', 'broadcast_to', 'busday_count', 'busday_offset', 'busdaycalendar', 'byte', 'byte_bounds', 'bytes0', 'bytes_', 'c_', 'can_cast', 'cast', 'cbrt', 'cdouble', 'ceil', 'cfloat', 'char', 'character', 'chararray', 'choose', 'clip', 'clongdouble', 'clongfloat', 'column_stack', 'common_type', 'compare_chararrays', 'complex128', 'complex256', 'complex64', 'complex_', 'complexfloating', 'compress', 'concatenate', 'conj', 'conjugate', 'convolve', 'copy', 'copysign', 'copyto', 'corrcoef', 'correlate', 'cos', 'cosh', 'count_nonzero', 'cov', 'cross', 'csingle', 'ctypeslib', 'cumprod', 'cumproduct', 'cumsum', 'datetime64', 'datetime_as_string', 'datetime_data', 'deg2rad', 'degrees', 'delete', 'deprecate', 'deprecate_with_doc', 'diag', 'diag_indices', 'diag_indices_from', 'diagflat', 'diagonal', 'diff', 'digitize', 'disp', 'divide', 'divmod', 'dot', 'double', 'dsplit', 'dstack', 'dtype', 'e', 'ediff1d', 'einsum', 'einsum_path', 'emath', 'empty', 'empty_like', 'equal', 'errstate', 'euler_gamma', 'exp', 'exp2', 'expand_dims', 'expm1', 'extract', 'eye', 'fabs', 'fastCopyAndTranspose', 'fill_diagonal', 'find_common_type', 'finfo', 'fix', 'flatiter', 'flatnonzero', 'flexible', 'flip', 'fliplr', 'flipud', 'float128', 'float16', 'float32', 'float64', 'float_', 'float_power', 'floating', 'floor', 'floor_divide', 'fmax', 'fmin', 'fmod', 'format_float_positional', 'format_float_scientific', 'format_parser', 'frexp', 'frombuffer', 'fromfile', 'fromfunction', 'fromiter', 'frompyfunc', 'fromregex', 'fromstring', 'full', 'full_like', 'gcd', 'generic', 'genfromtxt', 'geomspace', 'get_array_wrap', 'get_include', 'get_printoptions', 'getbufsize', 'geterr', 'geterrcall', 'geterrobj', 'gradient', 'greater', 'greater_equal', 'half', 'hamming', 'hanning', 'heaviside', 'histogram', 'histogram2d', 'histogram_bin_edges', 'histogramdd', 'hsplit', 'hstack', 'hypot', 'i0', 'identity', 'ifft', 'iinfo', 'imag', 'in1d', 'index_exp', 'indices', 'inexact', 'inf', 'info', 'infty', 'inner', 'insert', 'int0', 'int16', 'int32', 'int64', 'int8', 'int_', 'intc', 'integer', 'interp', 'intersect1d', 'intp', 'invert', 'is_busday', 'isclose', 'iscomplex', 'iscomplexobj', 'isfinite', 'isfortran', 'isin', 'isinf', 'isnan', 'isnat', 'isneginf', 'isposinf', 'isreal', 'isrealobj', 'isscalar', 'issctype', 'issubclass_', 'issubdtype', 'issubsctype', 'iterable', 'ix_', 'kaiser', 'kron', 'lcm', 'ldexp', 'left_shift', 'less', 'less_equal', 'lexsort', 'linalg', 'linspace', 'little_endian', 'load', 'loads', 'loadtxt', 'log', 'log10', 'log1p', 'log2', 'logaddexp', 'logaddexp2', 'logical_and', 'logical_not', 'logical_or', 'logical_xor', 'logn', 'logspace', 'longcomplex', 'longdouble', 'longfloat', 'longlong', 'lookfor', 'ma', 'mafromtxt', 'mask_indices', 'mat', 'math', 'matmul', 'matrix', 'maximum', 'maximum_sctype', 'may_share_memory', 'mean', 'median', 'memmap', 'meshgrid', 'mgrid', 'min_scalar_type', 'minimum', 'mintypecode', 'mod', 'modf', 'moveaxis', 'msort', 'multiply', 'nan', 'nan_to_num', 'nanargmax', 'nanargmin', 'nancumprod', 'nancumsum', 'nanmax', 'nanmean', 'nanmedian', 'nanmin', 'nanpercentile', 'nanprod', 'nanquantile', 'nanstd', 'nansum', 'nanvar', 'nbytes', 'ndarray', 'ndenumerate', 'ndfromtxt', 'ndim', 'ndindex', 'nditer', 'negative', 'nested_iters', 'newaxis', 'nextafter', 'nonzero', 'not_equal', 'np_maxversion', 'np_minversion', 'number', 'obj2sctype', 'object0', 'object_', 'ogrid', 'ones', 'ones_like', 'outer', 'packbits', 'pad', 'partition', 'percentile', 'pi', 'piecewise', 'place', 'poly', 'poly1d', 'polyadd', 'polyder', 'polydiv', 'polyfit', 'polyint', 'polymul', 'polysub', 'polyval', 'positive', 'power', 'printoptions', 'prod', 'product', 'promote_types', 'ptp', 'put', 'put_along_axis', 'putmask', 'quantile', 'r_', 'rad2deg', 'radians', 'rand', 'randn', 'random', 'ravel', 'ravel_multi_index', 'real', 'real_if_close', 'rec', 'recarray', 'recfromcsv', 'recfromtxt', 'reciprocal', 'record', 'remainder', 'repeat', 'require', 'reshape', 'resize', 'result_type', 'right_shift', 'rint', 'roll', 'rollaxis', 'roots', 'rot90', 'round_', 'row_stack', 's_', 'safe_eval', 'save', 'savetxt', 'savez', 'savez_compressed', 'sctype2char', 'sctypeDict', 'sctypes', 'searchsorted', 'select', 'set_numeric_ops', 'set_printoptions', 'set_string_function', 'setbufsize', 'setdiff1d', 'seterr', 'seterrcall', 'seterrobj', 'setxor1d', 'shape', 'shares_memory', 'short', 'show_config', 'show_numpy_config', 'sign', 'signbit', 'signedinteger', 'sin', 'sinc', 'single', 'singlecomplex', 'sinh', 'size', 'sometrue', 'sort', 'sort_complex', 'source', 'spacing', 'sparse', 'special', 'split', 'sqrt', 'square', 'squeeze', 'stack', 'std', 'str0', 'str_', 'string_', 'subtract', 'sum', 'swapaxes', 'take', 'take_along_axis', 'tan', 'tanh', 'tensordot', 'test', 'tile', 'timedelta64', 'trace', 'tracemalloc_domain', 'transpose', 'trapz', 'tri', 'tril', 'tril_indices', 'tril_indices_from', 'trim_zeros', 'triu', 'triu_indices', 'triu_indices_from', 'true_divide', 'trunc', 'typeDict', 'typecodes', 'typename', 'ubyte', 'ufunc', 'uint', 'uint0', 'uint16', 'uint32', 'uint64', 'uint8', 'uintc', 'uintp', 'ulonglong', 'unicode_', 'union1d', 'unique', 'unpackbits', 'unravel_index', 'unsignedinteger', 'unwrap', 'ushort', 'vander', 'var', 'vdot', 'vectorize', 'version', 'void', 'void0', 'vsplit', 'vstack', 'where', 'who', 'zeros', 'zeros_like']\n"
     ]
    }
   ],
   "source": [
    "import scipy as sc\n",
    "\n",
    "print(dir(sc))"
   ]
  },
  {
   "cell_type": "markdown",
   "metadata": {},
   "source": [
    "## Module Special di Scipy\n",
    "\n",
    "Modul ini digunakan untuk operasi perhitungan beberapa kasus di matematika seperti: exponent dan trigonometri. Dokumentasi perihal entity dari module ini dapat dilihat di https://docs.scipy.org/doc/scipy/reference/special.html. Berikut beberapa contoh penggunaan module ``special``:"
   ]
  },
  {
   "cell_type": "markdown",
   "metadata": {},
   "source": [
    "### Exp10 dan exp2"
   ]
  },
  {
   "cell_type": "code",
   "execution_count": 37,
   "metadata": {},
   "outputs": [
    {
     "name": "stdout",
     "output_type": "stream",
     "text": [
      "1000.0\n",
      "1024.0\n"
     ]
    }
   ],
   "source": [
    "from scipy import special\n",
    "\n",
    "hasil = special.exp10(3)\n",
    "print(hasil)\n",
    "\n",
    "hasil = special.exp2(10)\n",
    "print(hasil)"
   ]
  },
  {
   "cell_type": "markdown",
   "metadata": {},
   "source": [
    "### Fungsi Trigonometri\n",
    "\n",
    "Mirip seperti module ``math`` di Python, module scipy melalui module special-nya menyediakan fasilitas untuk perhitungan trigonometri. Ilustrasi trigonometri untuk sudut spesial dapat dilihat pada gambar berikut:\n",
    "\n",
    "<img src = \"https://lh3.googleusercontent.com/proxy/zjsYoEJSi6jFNRewu1JUxDRE1M7QzF7XJmfEjEOxgeiG1wOVn7wx3JN7bsj4pIT_aLvc0_gg1fPW8WeSG28-NyE6-z9eI0we4QypuatFX6VaVaM5WQ3Dj8NN\" alt = \"Ilsutrasi tabel trigonometri sudut special\">\n",
    "\n",
    "Berikut contoh penggunaanya:"
   ]
  },
  {
   "cell_type": "code",
   "execution_count": 44,
   "metadata": {},
   "outputs": [
    {
     "name": "stdout",
     "output_type": "stream",
     "text": [
      "0.0\n",
      "1.0\n",
      "0.0\n",
      "inf\n",
      "\n",
      "0.49999999999999994\n",
      "0.8660254037844387\n",
      "0.5773502691896256\n",
      "1.7320508075688767\n",
      "\n",
      "0.7071067811865476\n",
      "0.7071067811865475\n",
      "1.0\n",
      "1.0\n",
      "\n",
      "0.8660254037844387\n",
      "0.49999999999999994\n",
      "1.7320508075688767\n",
      "0.5773502691896256\n",
      "\n",
      "1.0\n",
      "-0.0\n",
      "inf\n",
      "0.0\n",
      "\n"
     ]
    }
   ],
   "source": [
    "from scipy import special as sp\n",
    "\n",
    "# Sudut 0\n",
    "print(sp.sindg(0))\n",
    "print(sp.cosdg(0))\n",
    "print(sp.tandg(0))\n",
    "print(sp.cotdg(0))\n",
    "print()\n",
    "\n",
    "# Sudut 30\n",
    "print(sp.sindg(30))\n",
    "print(sp.cosdg(30))\n",
    "print(sp.tandg(30))\n",
    "print(sp.cotdg(30))\n",
    "print()\n",
    "\n",
    "# Sudut 45\n",
    "print(sp.sindg(45))\n",
    "print(sp.cosdg(45))\n",
    "print(sp.tandg(45))\n",
    "print(sp.cotdg(45))\n",
    "print()\n",
    "\n",
    "# Sudut 60\n",
    "print(sp.sindg(60))\n",
    "print(sp.cosdg(60))\n",
    "print(sp.tandg(60))\n",
    "print(sp.cotdg(60))\n",
    "print()\n",
    "\n",
    "# Sudut 90\n",
    "print(sp.sindg(90))\n",
    "print(sp.cosdg(90))\n",
    "print(sp.tandg(90))\n",
    "print(sp.cotdg(90))\n",
    "print()\n"
   ]
  },
  {
   "cell_type": "markdown",
   "metadata": {},
   "source": [
    "## Module Integrate\n",
    "Module ``integrate`` di ``scipy`` bisa membantu kita dalam menghitung fungsi integral baik integral lipat satu, lipat dua, maupun lipat tiga. Sebagai contoh kita mau menghitung fungsi integral berikut:\n",
    "\n",
    "![Integral Terbatas](https://drive.google.com/uc?export=view&id=1e97DeDhkma_Kz0yCWa3sNBoS-fBbIZa3)\n",
    "\n",
    "Misal f(x) = x<sup>2</sup>, berikut contoh programnya:"
   ]
  },
  {
   "cell_type": "code",
   "execution_count": 46,
   "metadata": {},
   "outputs": [
    {
     "name": "stdout",
     "output_type": "stream",
     "text": [
      "(333.33333333333326, 3.700743415417188e-12)\n"
     ]
    }
   ],
   "source": [
    "from scipy import integrate as itg\n",
    "\n",
    "fungsi = lambda x: x**2\n",
    "print(itg.quad(fungsi,0,10))"
   ]
  },
  {
   "cell_type": "markdown",
   "metadata": {},
   "source": [
    "## Module linalg\n",
    "\n",
    "Module ``linalg`` digunakan untuk menyelesaikan permasalahan pada domain Aljabar Linear. Salah satu kasus yang sering ditangani adalah operasi invers matriks. Dokumentasi perihal invers matriks dapat dilihat di https://www.ruangguru.com/blog/cara-mencari-determinan-dan-invers-matriks. Berikut adalah contoh penggunaan module ``linalg`` untuk perhitungan invers matriks dan determinannya:"
   ]
  },
  {
   "cell_type": "code",
   "execution_count": 50,
   "metadata": {},
   "outputs": [
    {
     "name": "stdout",
     "output_type": "stream",
     "text": [
      "[[1 2]\n",
      " [3 4]]\n",
      "\n",
      "[[-2.   1. ]\n",
      " [ 1.5 -0.5]]\n",
      "-2.0\n"
     ]
    }
   ],
   "source": [
    "from scipy import linalg as lg\n",
    "import numpy as np\n",
    "\n",
    "matriks = np.array([[1, 2], [3, 4]])\n",
    "print(matriks)\n",
    "\n",
    "print()\n",
    "\n",
    "invers_matriks = lg.inv(matriks)\n",
    "print(invers_matriks)\n",
    "print(lg.det(matriks))"
   ]
  },
  {
   "cell_type": "markdown",
   "metadata": {},
   "source": [
    "## K-Means Clustering di Scipy\n",
    "\n",
    "Salah satu kelebihan module ``scipy`` adalah module ini mendukung proses Data Mining Clustering. Apakah sudah memahami Data Mining Clustering? Apabila belum, silakan pelajari secara singkat perihal Data Mining Clustering di slide berikut: https://www.slideshare.net/adfbipotter/data-mining-clustering. Algoritma yang didukung oleh ``scipy`` adalah algoritma k-Means. Berikut adalah contoh penggunaan k-Means menggunakan ``scipy``:\n",
    "\n",
    "<b>PROSES 1</b>  - Ubah data menjadi array"
   ]
  },
  {
   "cell_type": "code",
   "execution_count": 82,
   "metadata": {},
   "outputs": [],
   "source": [
    "from numpy import array\n",
    "from scipy.cluster.vq import kmeans2\n",
    "import matplotlib.pyplot as plt\n",
    "\n",
    "# Buat array dari data\n",
    "data_tinggi_berat = array([[179., 79.],\n",
    "                           [170., 70.],\n",
    "                           [175., 79.],\n",
    "                           [178., 78.],\n",
    "                           [175., 77.],\n",
    "                           [175., 75.],\n",
    "                           [180., 80.],\n",
    "                           [182., 80.],\n",
    "                           [179., 89.],\n",
    "                           [178., 78.]])\n"
   ]
  },
  {
   "cell_type": "markdown",
   "metadata": {},
   "source": [
    "<b>PROSES 2</b> - Tentukan berapa cluster yang mau dibentuk dan tentukan centroid-nya. Dalam kasus ini kita akan pakai 3 cluster dan centroid acak"
   ]
  },
  {
   "cell_type": "code",
   "execution_count": 65,
   "metadata": {},
   "outputs": [
    {
     "name": "stdout",
     "output_type": "stream",
     "text": [
      "[[180.33333333  83.        ]\n",
      " [176.66666667  77.66666667]\n",
      " [170.          70.        ]]\n"
     ]
    }
   ],
   "source": [
    "centroid, label = kmeans2(data_tinggi_berat, 3, minit='points')\n",
    "\n",
    "print(centroid)"
   ]
  },
  {
   "cell_type": "markdown",
   "metadata": {},
   "source": [
    "<b>PROSES 3</b> - Dapatkan hasil cluster dan cari karakteristiknya"
   ]
  },
  {
   "cell_type": "code",
   "execution_count": 81,
   "metadata": {},
   "outputs": [
    {
     "name": "stdout",
     "output_type": "stream",
     "text": [
      "Cluster 1:\n",
      "[[180.  80.]\n",
      " [182.  80.]\n",
      " [179.  89.]]\n",
      "\n",
      "Cluster 2:\n",
      "[[179.  79.]\n",
      " [175.  79.]\n",
      " [178.  78.]\n",
      " [175.  77.]\n",
      " [175.  75.]\n",
      " [178.  78.]]\n",
      "\n",
      "Cluster 3:\n",
      "[[170.  70.]]\n",
      "\n",
      "Karakteristik Cluster 1\n",
      "Max: [182.  89.]\n",
      "Min: [179.  80.]\n",
      "Mean: [180.33333333  83.        ]\n",
      "\n",
      "Karakteristik Cluster 2\n",
      "Max: [179.  79.]\n",
      "Min: [175.  75.]\n",
      "Mean: [176.66666667  77.66666667]\n",
      "\n",
      "Karakteristik Cluster 3\n",
      "Max: [170.  70.]\n",
      "Min: [170.  70.]\n",
      "Min: [170.  70.]\n",
      "\n"
     ]
    }
   ],
   "source": [
    "cluster1 = data_tinggi_berat[label == 0]\n",
    "cluster2 = data_tinggi_berat[label == 1]\n",
    "cluster3 = data_tinggi_berat[label == 2]\n",
    "\n",
    "print('Cluster 1:')\n",
    "print(cluster1)\n",
    "print()\n",
    "print('Cluster 2:')\n",
    "print(cluster2)\n",
    "print()\n",
    "print('Cluster 3:')\n",
    "print(cluster3)\n",
    "print()\n",
    "\n",
    "print('Karakteristik Cluster 1')\n",
    "print(\"Max:\",data_tinggi_berat[label == 0].max(axis = 0))\n",
    "print(\"Min:\",data_tinggi_berat[label == 0].min(axis = 0))\n",
    "print(\"Mean:\",data_tinggi_berat[label == 0].mean(axis = 0))\n",
    "print()\n",
    "\n",
    "print('Karakteristik Cluster 2')\n",
    "print(\"Max:\",data_tinggi_berat[label == 1].max(axis=0))\n",
    "print(\"Min:\",data_tinggi_berat[label == 1].min(axis=0))\n",
    "print(\"Mean:\",data_tinggi_berat[label == 1].mean(axis=0))\n",
    "print()\n",
    "\n",
    "print('Karakteristik Cluster 3')\n",
    "print(\"Max:\",data_tinggi_berat[label == 2].max(axis=0))\n",
    "print(\"Min:\",data_tinggi_berat[label == 2].min(axis=0))\n",
    "print(\"Min:\",data_tinggi_berat[label == 2].mean(axis=0))\n",
    "print()\n"
   ]
  },
  {
   "cell_type": "markdown",
   "metadata": {},
   "source": [
    "<b>PROSES 4</b> - Visualisasikan Cluster"
   ]
  },
  {
   "cell_type": "code",
   "execution_count": null,
   "metadata": {},
   "outputs": [],
   "source": [
    "plt.plot(cluster1[:, 0], cluster1[:, 1], 'o', alpha=0.5, label='cluster 1')\n",
    "plt.plot(cluster2[:, 0], cluster2[:, 1], 'd', alpha=0.5, label='cluster 2')\n",
    "plt.plot(cluster3[:, 0], cluster3[:, 1], 's', alpha=0.5, label='cluster 3')\n",
    "plt.plot(centroid[:, 0], centroid[:, 1], 'k*', label='centroids')\n",
    "plt.axis('equal')\n",
    "plt.legend(shadow=True)\n",
    "plt.show()\n"
   ]
  }
 ],
 "metadata": {
  "interpreter": {
   "hash": "e134e05457d34029b6460cd73bbf1ed73f339b5b6d98c95be70b69eba114fe95"
  },
  "kernelspec": {
   "display_name": "Python 3",
   "language": "python",
   "name": "python3"
  },
  "language_info": {
   "codemirror_mode": {
    "name": "ipython",
    "version": 3
   },
   "file_extension": ".py",
   "mimetype": "text/x-python",
   "name": "python",
   "nbconvert_exporter": "python",
   "pygments_lexer": "ipython3",
   "version": "3.8.10"
  }
 },
 "nbformat": 4,
 "nbformat_minor": 2
}
