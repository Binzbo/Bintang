{
 "cells": [
  {
   "cell_type": "markdown",
   "id": "9b4edff1",
   "metadata": {},
   "source": [
    "# Matplotlib\n",
    "\n",
    "Matplotlib adalah salah satu library di Python yang digunakan untuk memvisualisasikan data dalam bentuk grafik atau diagram. Visualisasi data tentunya mempermudah pembaca data dalam melakukan pemahaman data. Sama dengan beberapa library sebelumnya, kita harus menginstal terelbih dahulu library ini sebelum dapat menggunakannya. Untuk melakukan instalasi library matplotlib, silakan gunakan perintah berikut:\n",
    "\n",
    "```python\n",
    "pip3 install matplotlib\n",
    "```\n",
    "\n",
    "atau untuk pengguna Anaconda dapat menggunakan perintah:\n",
    "\n",
    "```python\n",
    "conda install matplotlib\n",
    "```"
   ]
  },
  {
   "cell_type": "code",
   "execution_count": 1,
   "id": "f7a2254d",
   "metadata": {},
   "outputs": [
    {
     "name": "stdout",
     "output_type": "stream",
     "text": [
      "Requirement already satisfied: matplotlib in /usr/local/anaconda3/lib/python3.8/site-packages (3.4.2)\r\n",
      "Requirement already satisfied: kiwisolver>=1.0.1 in /usr/local/anaconda3/lib/python3.8/site-packages (from matplotlib) (1.3.1)\r\n",
      "Requirement already satisfied: pyparsing>=2.2.1 in /usr/local/anaconda3/lib/python3.8/site-packages (from matplotlib) (2.4.7)\r\n",
      "Requirement already satisfied: cycler>=0.10 in /usr/local/anaconda3/lib/python3.8/site-packages (from matplotlib) (0.10.0)\r\n",
      "Requirement already satisfied: pillow>=6.2.0 in /usr/local/anaconda3/lib/python3.8/site-packages (from matplotlib) (8.3.1)\r\n",
      "Requirement already satisfied: python-dateutil>=2.7 in /usr/local/anaconda3/lib/python3.8/site-packages (from matplotlib) (2.8.2)\r\n",
      "Requirement already satisfied: numpy>=1.16 in /usr/local/anaconda3/lib/python3.8/site-packages (from matplotlib) (1.20.3)\r\n",
      "Requirement already satisfied: six in /usr/local/anaconda3/lib/python3.8/site-packages (from cycler>=0.10->matplotlib) (1.16.0)\r\n"
     ]
    }
   ],
   "source": [
    "!pip3 install matplotlib"
   ]
  },
  {
   "cell_type": "code",
   "execution_count": 2,
   "id": "6cc5f07c",
   "metadata": {},
   "outputs": [
    {
     "name": "stdout",
     "output_type": "stream",
     "text": [
      "Collecting package metadata (current_repodata.json): done\n",
      "Solving environment: done\n",
      "\n",
      "# All requested packages already installed.\n",
      "\n"
     ]
    }
   ],
   "source": [
    "!conda install matplotlib"
   ]
  },
  {
   "cell_type": "code",
   "execution_count": 12,
   "id": "aeb80a4c",
   "metadata": {},
   "outputs": [
    {
     "data": {
      "text/plain": [
       "['Annotation',\n",
       " 'Arrow',\n",
       " 'Artist',\n",
       " 'AutoLocator',\n",
       " 'Axes',\n",
       " 'Button',\n",
       " 'Circle',\n",
       " 'Figure',\n",
       " 'FigureCanvasBase',\n",
       " 'FixedFormatter',\n",
       " 'FixedLocator',\n",
       " 'FormatStrFormatter',\n",
       " 'Formatter',\n",
       " 'FuncFormatter',\n",
       " 'GridSpec',\n",
       " 'IndexLocator',\n",
       " 'Line2D',\n",
       " 'LinearLocator',\n",
       " 'Locator',\n",
       " 'LogFormatter',\n",
       " 'LogFormatterExponent',\n",
       " 'LogFormatterMathtext',\n",
       " 'LogLocator',\n",
       " 'MaxNLocator',\n",
       " 'MouseButton',\n",
       " 'MultipleLocator',\n",
       " 'Normalize',\n",
       " 'NullFormatter',\n",
       " 'NullLocator',\n",
       " 'Number',\n",
       " 'PolarAxes',\n",
       " 'Polygon',\n",
       " 'Rectangle',\n",
       " 'ScalarFormatter',\n",
       " 'Slider',\n",
       " 'Subplot',\n",
       " 'SubplotSpec',\n",
       " 'SubplotTool',\n",
       " 'Text',\n",
       " 'TickHelper',\n",
       " 'Widget',\n",
       " '_INSTALL_FIG_OBSERVER',\n",
       " '_IP_REGISTERED',\n",
       " '_IoffContext',\n",
       " '_IonContext',\n",
       " '__builtins__',\n",
       " '__cached__',\n",
       " '__doc__',\n",
       " '__file__',\n",
       " '__loader__',\n",
       " '__name__',\n",
       " '__package__',\n",
       " '__spec__',\n",
       " '_api',\n",
       " '_auto_draw_if_interactive',\n",
       " '_backend_mod',\n",
       " '_code_objs',\n",
       " '_copy_docstring_and_deprecators',\n",
       " '_get_required_interactive_framework',\n",
       " '_interactive_bk',\n",
       " '_log',\n",
       " '_pylab_helpers',\n",
       " '_setup_pyplot_info_docstrings',\n",
       " '_warn_if_gui_out_of_main_thread',\n",
       " '_xkcd',\n",
       " 'acorr',\n",
       " 'angle_spectrum',\n",
       " 'annotate',\n",
       " 'arrow',\n",
       " 'autoscale',\n",
       " 'autumn',\n",
       " 'axes',\n",
       " 'axhline',\n",
       " 'axhspan',\n",
       " 'axis',\n",
       " 'axline',\n",
       " 'axvline',\n",
       " 'axvspan',\n",
       " 'bar',\n",
       " 'bar_label',\n",
       " 'barbs',\n",
       " 'barh',\n",
       " 'bone',\n",
       " 'box',\n",
       " 'boxplot',\n",
       " 'broken_barh',\n",
       " 'cbook',\n",
       " 'cla',\n",
       " 'clabel',\n",
       " 'clf',\n",
       " 'clim',\n",
       " 'close',\n",
       " 'cm',\n",
       " 'cohere',\n",
       " 'colorbar',\n",
       " 'colormaps',\n",
       " 'connect',\n",
       " 'contour',\n",
       " 'contourf',\n",
       " 'cool',\n",
       " 'copper',\n",
       " 'csd',\n",
       " 'cycler',\n",
       " 'delaxes',\n",
       " 'disconnect',\n",
       " 'docstring',\n",
       " 'draw',\n",
       " 'draw_all',\n",
       " 'draw_if_interactive',\n",
       " 'errorbar',\n",
       " 'eventplot',\n",
       " 'figaspect',\n",
       " 'figimage',\n",
       " 'figlegend',\n",
       " 'fignum_exists',\n",
       " 'figtext',\n",
       " 'figure',\n",
       " 'fill',\n",
       " 'fill_between',\n",
       " 'fill_betweenx',\n",
       " 'findobj',\n",
       " 'flag',\n",
       " 'functools',\n",
       " 'gca',\n",
       " 'gcf',\n",
       " 'gci',\n",
       " 'get',\n",
       " 'get_backend',\n",
       " 'get_cmap',\n",
       " 'get_current_fig_manager',\n",
       " 'get_figlabels',\n",
       " 'get_fignums',\n",
       " 'get_plot_commands',\n",
       " 'get_scale_names',\n",
       " 'getp',\n",
       " 'ginput',\n",
       " 'gray',\n",
       " 'grid',\n",
       " 'hexbin',\n",
       " 'hist',\n",
       " 'hist2d',\n",
       " 'hlines',\n",
       " 'hot',\n",
       " 'hsv',\n",
       " 'importlib',\n",
       " 'imread',\n",
       " 'imsave',\n",
       " 'imshow',\n",
       " 'inferno',\n",
       " 'inspect',\n",
       " 'install_repl_displayhook',\n",
       " 'interactive',\n",
       " 'ioff',\n",
       " 'ion',\n",
       " 'isinteractive',\n",
       " 'jet',\n",
       " 'legend',\n",
       " 'locator_params',\n",
       " 'logging',\n",
       " 'loglog',\n",
       " 'magma',\n",
       " 'magnitude_spectrum',\n",
       " 'margins',\n",
       " 'matplotlib',\n",
       " 'matshow',\n",
       " 'minorticks_off',\n",
       " 'minorticks_on',\n",
       " 'mlab',\n",
       " 'new_figure_manager',\n",
       " 'nipy_spectral',\n",
       " 'np',\n",
       " 'pause',\n",
       " 'pcolor',\n",
       " 'pcolormesh',\n",
       " 'phase_spectrum',\n",
       " 'pie',\n",
       " 'pink',\n",
       " 'plasma',\n",
       " 'plot',\n",
       " 'plot_date',\n",
       " 'plotting',\n",
       " 'polar',\n",
       " 'prism',\n",
       " 'psd',\n",
       " 'quiver',\n",
       " 'quiverkey',\n",
       " 'rc',\n",
       " 'rcParams',\n",
       " 'rcParamsDefault',\n",
       " 'rcParamsOrig',\n",
       " 'rc_context',\n",
       " 'rcdefaults',\n",
       " 'rcsetup',\n",
       " 're',\n",
       " 'register_cmap',\n",
       " 'rgrids',\n",
       " 'savefig',\n",
       " 'sca',\n",
       " 'scatter',\n",
       " 'sci',\n",
       " 'semilogx',\n",
       " 'semilogy',\n",
       " 'set_cmap',\n",
       " 'set_loglevel',\n",
       " 'setp',\n",
       " 'show',\n",
       " 'specgram',\n",
       " 'spring',\n",
       " 'spy',\n",
       " 'stackplot',\n",
       " 'stairs',\n",
       " 'stem',\n",
       " 'step',\n",
       " 'streamplot',\n",
       " 'style',\n",
       " 'subplot',\n",
       " 'subplot2grid',\n",
       " 'subplot_mosaic',\n",
       " 'subplot_tool',\n",
       " 'subplots',\n",
       " 'subplots_adjust',\n",
       " 'summer',\n",
       " 'suptitle',\n",
       " 'switch_backend',\n",
       " 'sys',\n",
       " 'table',\n",
       " 'text',\n",
       " 'thetagrids',\n",
       " 'threading',\n",
       " 'tick_params',\n",
       " 'ticklabel_format',\n",
       " 'tight_layout',\n",
       " 'time',\n",
       " 'title',\n",
       " 'tricontour',\n",
       " 'tricontourf',\n",
       " 'tripcolor',\n",
       " 'triplot',\n",
       " 'twinx',\n",
       " 'twiny',\n",
       " 'uninstall_repl_displayhook',\n",
       " 'violinplot',\n",
       " 'viridis',\n",
       " 'vlines',\n",
       " 'waitforbuttonpress',\n",
       " 'winter',\n",
       " 'xcorr',\n",
       " 'xkcd',\n",
       " 'xlabel',\n",
       " 'xlim',\n",
       " 'xscale',\n",
       " 'xticks',\n",
       " 'ylabel',\n",
       " 'ylim',\n",
       " 'yscale',\n",
       " 'yticks']"
      ]
     },
     "execution_count": 12,
     "metadata": {},
     "output_type": "execute_result"
    }
   ],
   "source": [
    "import matplotlib.pyplot as plt\n",
    "\n",
    "dir(plt)"
   ]
  },
  {
   "cell_type": "markdown",
   "id": "16dcb11a",
   "metadata": {},
   "source": [
    "Dokumentasi lengkap perihal matplotlib dapat diakses melalui https://matplotlib.org/. Jenis grafik atau diagram yang didukung oleh matplotlib dapat dilihat di https://matplotlib.org/stable/gallery/index.html. Matplotlib mendukung visualisasi dua dan tiga dimensi.\n",
    "\n",
    "Untuk bisa melihat hasil visualisasi dari matplotlib di Jupyter Notebook, jalankan kode program berikut:"
   ]
  },
  {
   "cell_type": "code",
   "execution_count": 4,
   "id": "5b43a064",
   "metadata": {},
   "outputs": [],
   "source": [
    "%matplotlib inline"
   ]
  },
  {
   "cell_type": "markdown",
   "id": "271a8a80",
   "metadata": {},
   "source": [
    "><b>Catatan:</b> Kode program itu hanya dibutuhkan ketika kita menjalankan matplotlib di Jupyter Notebook. Apabila menjalankan matplotlib di editor lain, silakan gunakan fungsi ``show()`` di bagian paling akhir dari plotting command agar visualisasi muncul secara pop-up di jendela yang lain.\n",
    "\n",
    "Topik ini akan membahas:\n",
    "\n",
    "1. Visualisasi Numpy Array\n",
    "2. Method di matplotlib\n"
   ]
  },
  {
   "cell_type": "markdown",
   "id": "7875d507",
   "metadata": {},
   "source": [
    "# Matplotlib untuk Numpy Array\n",
    "\n",
    "Salah satu struktur data yang didukung oleh matplotlib adalah numpy array (ndarray). Untuk bisa memvisualisasikan diagram dari numpy array, gunakan perintah berikut:\n",
    "\n",
    "```python\n",
    "plot(numpy_array1, numpy_array2, '<nilaiwarna>')\n",
    "```\n",
    "\n",
    "Mari kita coba kode program berikut:"
   ]
  },
  {
   "cell_type": "code",
   "execution_count": 6,
   "id": "eea3eab9",
   "metadata": {},
   "outputs": [],
   "source": [
    "import matplotlib.pyplot as plt\n",
    "import numpy as np"
   ]
  },
  {
   "cell_type": "code",
   "execution_count": 7,
   "id": "797f133f",
   "metadata": {},
   "outputs": [],
   "source": [
    "x = np.linspace(0, 5, 11) # spaced number di numpy array, baca topik 9\n",
    "y = x ** 2"
   ]
  },
  {
   "cell_type": "code",
   "execution_count": 8,
   "id": "4db007d2",
   "metadata": {},
   "outputs": [
    {
     "name": "stdout",
     "output_type": "stream",
     "text": [
      "[0.  0.5 1.  1.5 2.  2.5 3.  3.5 4.  4.5 5. ]\n"
     ]
    }
   ],
   "source": [
    "print(x)"
   ]
  },
  {
   "cell_type": "code",
   "execution_count": 9,
   "id": "3217837b",
   "metadata": {},
   "outputs": [
    {
     "name": "stdout",
     "output_type": "stream",
     "text": [
      "[ 0.    0.25  1.    2.25  4.    6.25  9.   12.25 16.   20.25 25.  ]\n"
     ]
    }
   ],
   "source": [
    "print(y)"
   ]
  },
  {
   "cell_type": "code",
   "execution_count": 13,
   "id": "d94f0383",
   "metadata": {},
   "outputs": [
    {
     "data": {
      "image/png": "[encoded data removed]",
      "text/plain": [
       "<Figure size 432x288 with 1 Axes>"
      ]
     },
     "metadata": {
      "needs_background": "light"
     },
     "output_type": "display_data"
    }
   ],
   "source": [
    "plt.plot(x, y, 'r') # 'r' adalah nilai warna merah\n",
    "plt.xlabel('Judul sumbu X di sini')\n",
    "plt.ylabel('Judul sumbu y di sini')\n",
    "plt.title('Judul Diagram di sini')\n",
    "plt.show()"
   ]
  },
  {
   "cell_type": "markdown",
   "id": "e0d22165",
   "metadata": {},
   "source": [
    "><b>Catatan:</b> Untuk melihat nilai warna di matplotlib, silakan kunjungi https://matplotlib.org/stable/gallery/color/named_colors.html."
   ]
  },
  {
   "cell_type": "markdown",
   "id": "e3c09681",
   "metadata": {},
   "source": [
    "# Multiplot di canvas yang sama\n",
    "\n",
    "Diagram atau grafik dari matplotlib akan ditampilkan dalam sebuah komponen canvas. Seperti yang kita coba sebelumnya, satu canvas bisa menampilkan satu grafik. Bagaimana kalau kita ingin menampilkan lebih dari satu grafik dalam satu buah canvas? Kita bisa menggunakan perintah ``subplot()`` dengan format sebagai berikut:\n",
    "\n",
    "```python\n",
    "plt.subplot(jumlah_baris, jumlah_kolom, plot_number)\n",
    "```\n",
    "\n",
    "Mari kita coba kode program berikut ini:"
   ]
  },
  {
   "cell_type": "code",
   "execution_count": 14,
   "id": "2baf26ac",
   "metadata": {},
   "outputs": [
    {
     "data": {
      "image/png": "[encoded data removed]",
      "text/plain": [
       "<Figure size 432x288 with 2 Axes>"
      ]
     },
     "metadata": {
      "needs_background": "light"
     },
     "output_type": "display_data"
    }
   ],
   "source": [
    "plt.subplot(1,2,1)\n",
    "plt.plot(x, y, 'r--')\n",
    "plt.subplot(1,2,2)\n",
    "plt.plot(y, x, 'g*-');"
   ]
  },
  {
   "cell_type": "markdown",
   "id": "a7113d1d",
   "metadata": {},
   "source": [
    "# Method dari Matplotlib\n",
    "\n",
    "Matplotlib merupakan sebuah class yang di dalamnya terdapat banyak method untuk mendukung proses visualisasi. Berikut adalah beberapa method yang sering digunakan pada matplotlib:\n",
    "\n",
    "| Method | Kegunaan |\n",
    "| :--- | :--- |\n",
    "| figure() | Membuat canvas kosong |\n",
    "| add_axes() | Menambahkan axes (satu set diagram sumbu) pada canvas |\n",
    "| subplots() | Automatic axis manager (mirip seperti figure() tapi memiliki automasi dalam membuat axes) |\n",
    "| tight_layout() | Men-adjust tampilan axes agar tidak saling tumpang tindih (overlapping) |\n",
    "| savefig() | Men-generate output berkualitas tinggi dalam format PNG, JPG, EPS, SVG, PGF and PDF |"
   ]
  },
  {
   "cell_type": "markdown",
   "id": "6c8f3e33",
   "metadata": {},
   "source": [
    "## Penggunaan Methof Figure dan add_axes\n",
    "\n",
    "Berikut adalah contoh dari penggunaan method ``figure()`` dan ``add_axes()``:"
   ]
  },
  {
   "cell_type": "code",
   "execution_count": 38,
   "id": "b61e2199",
   "metadata": {},
   "outputs": [
    {
     "data": {
      "text/plain": [
       "Text(0.5, 1.0, 'Set Title')"
      ]
     },
     "execution_count": 38,
     "metadata": {},
     "output_type": "execute_result"
    },
    {
     "data": {
      "image/png": "[encoded data removed]",
      "text/plain": [
       "<Figure size 432x288 with 1 Axes>"
      ]
     },
     "metadata": {
      "needs_background": "light"
     },
     "output_type": "display_data"
    }
   ],
   "source": [
    "fig = plt.figure()\n",
    "\n",
    "# Menambah axes ke dalam canvas\n",
    "axes = fig.add_axes([0.1, 0.1, 0.8, 0.8]) # left, bottom, width, height (range 0 to 1)\n",
    "\n",
    "# Plotting array x dan y ke dalam axes\n",
    "axes.plot(x, y, 'b')\n",
    "axes.set_xlabel('Set X Label') # Notice the use of set_ to begin methods\n",
    "axes.set_ylabel('Set y Label')\n",
    "axes.set_title('Set Title')"
   ]
  },
  {
   "cell_type": "markdown",
   "id": "330103da",
   "metadata": {},
   "source": [
    "Kita juga bisa memunculkan multiaxes seperti pada kode program berikut:"
   ]
  },
  {
   "cell_type": "code",
   "execution_count": 42,
   "id": "f0eeb8b0",
   "metadata": {},
   "outputs": [
    {
     "data": {
      "image/png": "[encoded data removed]",
      "text/plain": [
       "<Figure size 432x288 with 2 Axes>"
      ]
     },
     "metadata": {
      "needs_background": "light"
     },
     "output_type": "display_data"
    }
   ],
   "source": [
    "fig = plt.figure()\n",
    "\n",
    "axes1 = fig.add_axes([0.1, 0.1, 0.8, 0.8]) # main axes\n",
    "axes2 = fig.add_axes([0.2, 0.5, 0.4, 0.3]) # inset axes\n",
    "\n",
    "# Larger Figure Axes 1\n",
    "axes1.plot(x, y, 'b')\n",
    "axes1.set_xlabel('X_label_axes2')\n",
    "axes1.set_ylabel('Y_label_axes2')\n",
    "axes1.set_title('Axes 2 Title')\n",
    "\n",
    "# Insert Figure Axes 2\n",
    "axes2.plot(y, x, 'r')\n",
    "axes2.set_xlabel('X_label_axes2')\n",
    "axes2.set_ylabel('Y_label_axes2')\n",
    "axes2.set_title('Axes 2 Title');"
   ]
  },
  {
   "cell_type": "markdown",
   "id": "8714f095",
   "metadata": {},
   "source": [
    "## Penggunaan subplots\n",
    "\n",
    "Berikut contoh penggunaan ``subplots()``:"
   ]
  },
  {
   "cell_type": "code",
   "execution_count": 43,
   "id": "6a4bbe1d",
   "metadata": {},
   "outputs": [
    {
     "data": {
      "image/png": "[encoded data removed]",
      "text/plain": [
       "<Figure size 432x288 with 1 Axes>"
      ]
     },
     "metadata": {
      "needs_background": "light"
     },
     "output_type": "display_data"
    }
   ],
   "source": [
    "# Use similar to plt.figure() except use tuple unpacking to grab fig and axes\n",
    "fig, axes = plt.subplots()\n",
    "\n",
    "# Now use the axes object to add stuff to plot\n",
    "axes.plot(x, y, 'r')\n",
    "axes.set_xlabel('x')\n",
    "axes.set_ylabel('y')\n",
    "axes.set_title('title');"
   ]
  },
  {
   "cell_type": "markdown",
   "id": "97c0872a",
   "metadata": {},
   "source": [
    "Jika menggunakan ``subplots()`` maka axes akan di-generate otomatis. Kita juga bisa menentukan jumlah kolom dan baris jika ingin menampilkan multiplot. Mari kita coba kode program berikut:"
   ]
  },
  {
   "cell_type": "code",
   "execution_count": 44,
   "id": "28a10292",
   "metadata": {},
   "outputs": [
    {
     "data": {
      "image/png": "[encoded data removed]",
      "text/plain": [
       "<Figure size 432x288 with 2 Axes>"
      ]
     },
     "metadata": {
      "needs_background": "light"
     },
     "output_type": "display_data"
    }
   ],
   "source": [
    "fig, axes = plt.subplots(nrows=1, ncols=2)"
   ]
  },
  {
   "cell_type": "markdown",
   "id": "8c283754",
   "metadata": {},
   "source": [
    "Penjelasan:\n",
    "\n",
    "1. Kode program tersebut memunculkan dua axes dalam dua kolom dan satu baris sesuai dengan isian paramater. \n",
    "2. Hasil dari ``subplots()`` adalah tuple. Oleh karena itu kita menggunakan dua variabel untuk menampung return value dari fungsi tersebut.\n",
    "\n",
    "Variabel ``axes`` digunakan untuk menampung array axes yang dibentuk dari ``subplots``. Berikut adalah isi dari axes:"
   ]
  },
  {
   "cell_type": "code",
   "execution_count": 45,
   "id": "21add4de",
   "metadata": {},
   "outputs": [
    {
     "data": {
      "text/plain": [
       "array([<AxesSubplot:>, <AxesSubplot:>], dtype=object)"
      ]
     },
     "execution_count": 45,
     "metadata": {},
     "output_type": "execute_result"
    }
   ],
   "source": [
    "axes"
   ]
  },
  {
   "cell_type": "markdown",
   "id": "dd083f95",
   "metadata": {},
   "source": [
    "Dikarenakan axes adalah sebuah numpy array, maka kita bisa melakukan iterasi menggunakan iterator dalam melakukan plotting pada masing-masing axes. Berikut contoh kode programnya:"
   ]
  },
  {
   "cell_type": "code",
   "execution_count": 46,
   "id": "174d16e4",
   "metadata": {},
   "outputs": [
    {
     "data": {
      "image/png": "[encoded data removed]",
      "text/plain": [
       "<Figure size 432x288 with 2 Axes>"
      ]
     },
     "execution_count": 46,
     "metadata": {},
     "output_type": "execute_result"
    }
   ],
   "source": [
    "for ax in axes:\n",
    "    ax.plot(x, y, 'b')\n",
    "    ax.set_xlabel('x')\n",
    "    ax.set_ylabel('y')\n",
    "    ax.set_title('title')\n",
    "\n",
    "# Menampilkan objek figure\n",
    "fig"
   ]
  },
  {
   "cell_type": "markdown",
   "id": "f169d2e6",
   "metadata": {},
   "source": [
    "## Penggunaan tight_layout\n",
    "\n",
    "Masalah yang umum terjadi di matplotlib ketika multiplot adalah adanya objek yang tumpang tindih di dalam canvas atau disebut juga sebagai <b>Overlapping</b>. Untuk menghindari hal tersebut kita bisa menggunakan fungsi ``tight_layout()`` pada figure atau plot. Berikut contoh penggunaanya:"
   ]
  },
  {
   "cell_type": "code",
   "execution_count": 47,
   "id": "aad233bb",
   "metadata": {},
   "outputs": [
    {
     "data": {
      "image/png": "[encoded data removed]",
      "text/plain": [
       "<Figure size 432x288 with 2 Axes>"
      ]
     },
     "metadata": {
      "needs_background": "light"
     },
     "output_type": "display_data"
    }
   ],
   "source": [
    "fig, axes = plt.subplots(nrows=1, ncols=2)\n",
    "\n",
    "for ax in axes:\n",
    "    ax.plot(x, y, 'b')\n",
    "    ax.set_xlabel('x')\n",
    "    ax.set_ylabel('y')\n",
    "    ax.set_title('title')\n",
    "\n",
    "fig\n",
    "plt.tight_layout()"
   ]
  },
  {
   "cell_type": "markdown",
   "id": "217457db",
   "metadata": {},
   "source": [
    "# Ukuran Figure, Aspect Ratio, dan DPI\n",
    "\n",
    "Matplotlib menyediakan fasilitas untuk kita menentukan aspect ratio, DPIm dan ukuran figure ketika object figure dibuat (menggunakan method ``figure()``). \n",
    "\n",
    "Penjelasan:\n",
    "\n",
    "1. ``figsize`` berbentuk tuple yang berisikan width dan height dari sebuah figure dalam satuan inchi.\n",
    "2. ``dpi`` singkatan dari dots-per-inch (jumlah pixel dalam setiap inchi). Makin tinggi dpi makin bagus kualitas tampilan grafiknya.\n",
    "\n",
    "Berikut cara penggunaan parameter-parameter tersebut dalam method ``figure()``:"
   ]
  },
  {
   "cell_type": "code",
   "execution_count": 48,
   "id": "d001633a",
   "metadata": {},
   "outputs": [
    {
     "data": {
      "text/plain": [
       "<Figure size 800x400 with 0 Axes>"
      ]
     },
     "metadata": {},
     "output_type": "display_data"
    }
   ],
   "source": [
    "fig = plt.figure(figsize=(8,4), dpi=100)"
   ]
  },
  {
   "cell_type": "markdown",
   "id": "88e4d8a4",
   "metadata": {},
   "source": [
    "Parameter tersebut juga bisa digunakan pada fungsi ``subplots()``. Berikut contoh penggunaannya:"
   ]
  },
  {
   "cell_type": "code",
   "execution_count": 49,
   "id": "eb2e372a",
   "metadata": {},
   "outputs": [
    {
     "data": {
      "image/png": "[encoded data removed]",
      "text/plain": [
       "<Figure size 864x216 with 1 Axes>"
      ]
     },
     "metadata": {
      "needs_background": "light"
     },
     "output_type": "display_data"
    }
   ],
   "source": [
    "fig, axes = plt.subplots(figsize=(12,3))\n",
    "\n",
    "axes.plot(x, y, 'r')\n",
    "axes.set_xlabel('x')\n",
    "axes.set_ylabel('y')\n",
    "axes.set_title('title');"
   ]
  },
  {
   "cell_type": "markdown",
   "id": "05379967",
   "metadata": {},
   "source": [
    "# Menyimpan Hasil Visualisasi\n",
    "\n",
    "Hasil visualisasi dapat disimpan dalam bentuk file berkualitas tinggi dengan format yang sudah disebutkan sebelumnya. Berikut contoh kasusnya:"
   ]
  },
  {
   "cell_type": "code",
   "execution_count": 50,
   "id": "5f23bb19",
   "metadata": {},
   "outputs": [],
   "source": [
    "fig.savefig(\"gambar1.png\")"
   ]
  },
  {
   "cell_type": "markdown",
   "id": "1133efb3",
   "metadata": {},
   "source": [
    "Berikut hasil keluarannya (file akan di-generate ke dalam folder yang sama dengan project Jupyter Notebook):\n",
    "\n",
    "![Hasil gambar1,png](https://drive.google.com/uc?export=view&id=1f6O9CCmmgYeHVzcxTWD3VtfBgyDirVno)"
   ]
  },
  {
   "cell_type": "markdown",
   "id": "c7a36495",
   "metadata": {},
   "source": [
    "Kita juga bisa mengatur DPI pada hasil keluarannya dengan cara berikut:"
   ]
  },
  {
   "cell_type": "code",
   "execution_count": 51,
   "id": "400dd0f6",
   "metadata": {},
   "outputs": [],
   "source": [
    "fig.savefig(\"gambar1.png\", dpi=300)"
   ]
  },
  {
   "cell_type": "code",
   "execution_count": null,
   "id": "99449dba",
   "metadata": {},
   "outputs": [],
   "source": []
  }
 ],
 "metadata": {
  "kernelspec": {
   "display_name": "Python 3",
   "language": "python",
   "name": "python3"
  },
  "language_info": {
   "codemirror_mode": {
    "name": "ipython",
    "version": 3
   },
   "file_extension": ".py",
   "mimetype": "text/x-python",
   "name": "python",
   "nbconvert_exporter": "python",
   "pygments_lexer": "ipython3",
   "version": "3.8.10"
  }
 },
 "nbformat": 4,
 "nbformat_minor": 5
}
