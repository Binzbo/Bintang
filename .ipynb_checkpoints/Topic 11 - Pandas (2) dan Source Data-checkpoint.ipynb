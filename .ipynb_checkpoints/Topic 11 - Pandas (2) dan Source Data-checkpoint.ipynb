{
 "cells": [
  {
   "cell_type": "markdown",
   "id": "77a64c0c",
   "metadata": {},
   "source": [
    "# Pembacaan Data dari File di Pandas\n",
    "\n",
    "Pandas memiliki kelebihan yaitu dapat menampung data hasil bacaan dari file yang kemudian nilainya akan diproses dalam struktur data series atau dataframe. Ada beberapa jenis file yang didukung oleh pandas dan dua di antaranya yang paling sering digunakan adalah file CSV dan Excel. Berikut adalah pembahasan tentang bagaimana suatu file dibaca oleh pandas."
   ]
  },
  {
   "cell_type": "markdown",
   "id": "ed1b33bb",
   "metadata": {},
   "source": [
    "## File CSV\n",
    "\n",
    "Salah satu tipe file yang paling populer dalam data science adalah file csv. File csv berstruktur mirip seperti tabel (secara logika) dengan memanfaatkan karakter ``,`` (koma) atau ``;`` (titik koma) sebagai pemisah data antar kolom. Sebagai contoh, silakan perhatikan contoh file CSV berikut:\n",
    "\n",
    "<b>produk.csv</b>\n",
    "\n",
    "```csv\n",
    "kode_produk,nama_produk,jumlah\n",
    "A,AC,10\n",
    "B,Becak,3\n",
    "C,Charger,25\n",
    "D,Dadu,100\n",
    "E,Engsel Pintu,5\n",
    "\n",
    "```\n",
    "\n",
    "atau bisa juga seperti ini:\n",
    "\n",
    "<b>product2.csv</b>\n",
    "\n",
    "```csv\n",
    "kode_produk;nama_produk;jumlah\n",
    "A;AC;10\n",
    "B;Becak;3\n",
    "C;Charger;25\n",
    "D;Dadu;100\n",
    "E;Engsel Pintu;5\n",
    "\n",
    "```\n",
    "\n",
    "File csv biasanya diawali dengan baris header untuk menyatakan nama kolom dan diikuti dengan baris data setelahnya. Untuk memisahkan antar baris data, file csv menggunakan 1 karakter enter. Perhatikan juga bahwa pemberian karakter enter diberikan juga pada baris data terakhir. Penggunaan delimiter harus seragam dalam sebuah CSV. Pandas mempunyai fungsi ``read_csv()`` untuk melakukan pembacaan data dari file CSV. Berikut contoh penggunaannya:\n",
    "\n",
    "><b>Catatan:</b> Buat dahulu file product.csv dan product2.csv (copy-paste saja datanya termasuk enter) menggunakan data yang sudah disebutkan sebelumnya dan simpan di folder yang sama dengan file .ipynb atau .py anda untuk mempermudah pengaksesan."
   ]
  },
  {
   "cell_type": "code",
   "execution_count": 1,
   "id": "fe302a86",
   "metadata": {},
   "outputs": [
    {
     "data": {
      "text/html": [
       "<div>\n",
       "<style scoped>\n",
       "    .dataframe tbody tr th:only-of-type {\n",
       "        vertical-align: middle;\n",
       "    }\n",
       "\n",
       "    .dataframe tbody tr th {\n",
       "        vertical-align: top;\n",
       "    }\n",
       "\n",
       "    .dataframe thead th {\n",
       "        text-align: right;\n",
       "    }\n",
       "</style>\n",
       "<table border=\"1\" class=\"dataframe\">\n",
       "  <thead>\n",
       "    <tr style=\"text-align: right;\">\n",
       "      <th></th>\n",
       "      <th>kode_produk</th>\n",
       "      <th>nama_produk</th>\n",
       "      <th>jumlah</th>\n",
       "    </tr>\n",
       "  </thead>\n",
       "  <tbody>\n",
       "    <tr>\n",
       "      <th>0</th>\n",
       "      <td>A</td>\n",
       "      <td>AC</td>\n",
       "      <td>10</td>\n",
       "    </tr>\n",
       "    <tr>\n",
       "      <th>1</th>\n",
       "      <td>B</td>\n",
       "      <td>Becak</td>\n",
       "      <td>3</td>\n",
       "    </tr>\n",
       "    <tr>\n",
       "      <th>2</th>\n",
       "      <td>C</td>\n",
       "      <td>Charger</td>\n",
       "      <td>25</td>\n",
       "    </tr>\n",
       "    <tr>\n",
       "      <th>3</th>\n",
       "      <td>D</td>\n",
       "      <td>Dadu</td>\n",
       "      <td>100</td>\n",
       "    </tr>\n",
       "    <tr>\n",
       "      <th>4</th>\n",
       "      <td>E</td>\n",
       "      <td>Engsel Pintu</td>\n",
       "      <td>5</td>\n",
       "    </tr>\n",
       "  </tbody>\n",
       "</table>\n",
       "</div>"
      ],
      "text/plain": [
       "  kode_produk   nama_produk  jumlah\n",
       "0           A            AC      10\n",
       "1           B         Becak       3\n",
       "2           C       Charger      25\n",
       "3           D          Dadu     100\n",
       "4           E  Engsel Pintu       5"
      ]
     },
     "execution_count": 1,
     "metadata": {},
     "output_type": "execute_result"
    }
   ],
   "source": [
    "import pandas as pd\n",
    "\n",
    "file_path = 'product.csv'\n",
    "data_produk = pd.read_csv(file_path)\n",
    "\n",
    "data_produk"
   ]
  },
  {
   "cell_type": "markdown",
   "id": "0de1d958",
   "metadata": {},
   "source": [
    "Untuk mengakses data pada file CSV yang memiliki delimiter berupa tanda ``;``, maka kita menambahkan parameter ``delimiter`` sebagai berikut:"
   ]
  },
  {
   "cell_type": "code",
   "execution_count": 2,
   "id": "531f8885",
   "metadata": {},
   "outputs": [
    {
     "data": {
      "text/html": [
       "<div>\n",
       "<style scoped>\n",
       "    .dataframe tbody tr th:only-of-type {\n",
       "        vertical-align: middle;\n",
       "    }\n",
       "\n",
       "    .dataframe tbody tr th {\n",
       "        vertical-align: top;\n",
       "    }\n",
       "\n",
       "    .dataframe thead th {\n",
       "        text-align: right;\n",
       "    }\n",
       "</style>\n",
       "<table border=\"1\" class=\"dataframe\">\n",
       "  <thead>\n",
       "    <tr style=\"text-align: right;\">\n",
       "      <th></th>\n",
       "      <th>kode_produk</th>\n",
       "      <th>nama_produk</th>\n",
       "      <th>jumlah</th>\n",
       "    </tr>\n",
       "  </thead>\n",
       "  <tbody>\n",
       "    <tr>\n",
       "      <th>0</th>\n",
       "      <td>A</td>\n",
       "      <td>AC</td>\n",
       "      <td>10</td>\n",
       "    </tr>\n",
       "    <tr>\n",
       "      <th>1</th>\n",
       "      <td>B</td>\n",
       "      <td>Becak</td>\n",
       "      <td>3</td>\n",
       "    </tr>\n",
       "    <tr>\n",
       "      <th>2</th>\n",
       "      <td>C</td>\n",
       "      <td>Charger</td>\n",
       "      <td>25</td>\n",
       "    </tr>\n",
       "    <tr>\n",
       "      <th>3</th>\n",
       "      <td>D</td>\n",
       "      <td>Dadu</td>\n",
       "      <td>100</td>\n",
       "    </tr>\n",
       "    <tr>\n",
       "      <th>4</th>\n",
       "      <td>E</td>\n",
       "      <td>Engsel Pintu</td>\n",
       "      <td>5</td>\n",
       "    </tr>\n",
       "  </tbody>\n",
       "</table>\n",
       "</div>"
      ],
      "text/plain": [
       "  kode_produk   nama_produk  jumlah\n",
       "0           A            AC      10\n",
       "1           B         Becak       3\n",
       "2           C       Charger      25\n",
       "3           D          Dadu     100\n",
       "4           E  Engsel Pintu       5"
      ]
     },
     "execution_count": 2,
     "metadata": {},
     "output_type": "execute_result"
    }
   ],
   "source": [
    "file_path = 'product2.csv'\n",
    "data_produk = pd.read_csv(file_path, delimiter = ';')\n",
    "\n",
    "data_produk"
   ]
  },
  {
   "cell_type": "markdown",
   "id": "f07fa27a",
   "metadata": {},
   "source": [
    "Untuk mengetahui secara lengkap perihal parameter yang ada di read_csv, silakan kunjungi https://pandas.pydata.org/pandas-docs/stable/reference/api/pandas.read_csv.html. Selain melakukan pembacaan, pandas menyediakan cara untuk menuliskan dataframe ke dalam file CSV. fungsi yang digunakan adalah ``to_csv()``. Berikut contoh penggunaannya:"
   ]
  },
  {
   "cell_type": "code",
   "execution_count": 4,
   "id": "d747d8dd",
   "metadata": {},
   "outputs": [],
   "source": [
    "import pandas as pd\n",
    "\n",
    "df = pd.DataFrame({'col1':[1,2,3,4,5,6],'col2':[444,555,666,444,333,555],'col3':['abc','def','ghi','xyz','mno','jkl']})\n",
    "df\n",
    "\n",
    "df.to_csv('coba.csv', index = False)"
   ]
  },
  {
   "cell_type": "markdown",
   "id": "f6da5e2b",
   "metadata": {},
   "source": [
    "Penjelasan:\n",
    "\n",
    "1. Parameter pertama pada fungsi ``to_csv()`` adalah nama file yang mau diberikan untuk menyimpan dataframe.\n",
    "2. Parameter ``index = False`` digunakan untuk menandakan index pada dataframe tidak ikut disimpan ke dalam file CSV.\n",
    "3. Kode program tadi akan menghasilkan file ``coba.csv`` yang isinya dapat dilihat pada gambar berikut:\n",
    "\n",
    "![tampilan coba.csv](https://drive.google.com/uc?export=view&id=1AH_E73_pk-ERyMN6YkQe_AyBfv9Jon0b)"
   ]
  },
  {
   "cell_type": "markdown",
   "id": "90167655",
   "metadata": {},
   "source": [
    "# File Excel\n",
    "\n",
    "Selain file CSV, pandas juga bisa melakukan pengolah data dari dan ke file Excel. Fungsi yang digunakan untuk membaca data dari file excel adalah ``read_excel()``. Yang perlu diingat, fungsi ini hanya membaca data saja dan tidak membaca formula. Berikut contoh penggunaannya:\n",
    "\n",
    "Unduh file product.xlsx dari https://github.com/adammb86/FGAUNIKOM2021/blob/master/product.xlsx"
   ]
  },
  {
   "cell_type": "code",
   "execution_count": 8,
   "id": "40391256",
   "metadata": {},
   "outputs": [
    {
     "data": {
      "text/html": [
       "<div>\n",
       "<style scoped>\n",
       "    .dataframe tbody tr th:only-of-type {\n",
       "        vertical-align: middle;\n",
       "    }\n",
       "\n",
       "    .dataframe tbody tr th {\n",
       "        vertical-align: top;\n",
       "    }\n",
       "\n",
       "    .dataframe thead th {\n",
       "        text-align: right;\n",
       "    }\n",
       "</style>\n",
       "<table border=\"1\" class=\"dataframe\">\n",
       "  <thead>\n",
       "    <tr style=\"text-align: right;\">\n",
       "      <th></th>\n",
       "      <th>kode_produk</th>\n",
       "      <th>nama_produk</th>\n",
       "      <th>jumlah</th>\n",
       "    </tr>\n",
       "  </thead>\n",
       "  <tbody>\n",
       "    <tr>\n",
       "      <th>0</th>\n",
       "      <td>A</td>\n",
       "      <td>AC</td>\n",
       "      <td>10</td>\n",
       "    </tr>\n",
       "    <tr>\n",
       "      <th>1</th>\n",
       "      <td>B</td>\n",
       "      <td>Becak</td>\n",
       "      <td>3</td>\n",
       "    </tr>\n",
       "    <tr>\n",
       "      <th>2</th>\n",
       "      <td>C</td>\n",
       "      <td>Charger</td>\n",
       "      <td>25</td>\n",
       "    </tr>\n",
       "    <tr>\n",
       "      <th>3</th>\n",
       "      <td>D</td>\n",
       "      <td>Dadu</td>\n",
       "      <td>100</td>\n",
       "    </tr>\n",
       "    <tr>\n",
       "      <th>4</th>\n",
       "      <td>E</td>\n",
       "      <td>Engsel Pintu</td>\n",
       "      <td>5</td>\n",
       "    </tr>\n",
       "  </tbody>\n",
       "</table>\n",
       "</div>"
      ],
      "text/plain": [
       "  kode_produk   nama_produk  jumlah\n",
       "0           A            AC      10\n",
       "1           B         Becak       3\n",
       "2           C       Charger      25\n",
       "3           D          Dadu     100\n",
       "4           E  Engsel Pintu       5"
      ]
     },
     "execution_count": 8,
     "metadata": {},
     "output_type": "execute_result"
    }
   ],
   "source": [
    "import pandas as pd\n",
    "\n",
    "data_produk = pd.read_excel('product.xlsx', sheet_name = 'product')\n",
    "data_produk"
   ]
  },
  {
   "cell_type": "markdown",
   "id": "6d54be64",
   "metadata": {},
   "source": [
    "><b>Catatan:</b> Parameter ``sheet_name`` diisi dengan nama sheet yang mau dibaca (dalam 1 file excel bisa terdapat banyak sheet)\n",
    "\n",
    "Untuk melakukan penulisan dataframe ke dalam file excel, pandas menyediakan fungsi ``to_excel()`` yang penggunaanya sebagai berikut:"
   ]
  },
  {
   "cell_type": "code",
   "execution_count": 10,
   "id": "574e872d",
   "metadata": {},
   "outputs": [],
   "source": [
    "import pandas as pd\n",
    "\n",
    "df = pd.DataFrame({'col1':[1,2,3,4,5,6],'col2':[444,555,666,444,333,555],'col3':['abc','def','ghi','xyz','mno','jkl']})\n",
    "df\n",
    "\n",
    "df.to_excel('coba.xlsx', sheet_name = 'coba', index = False)"
   ]
  },
  {
   "cell_type": "markdown",
   "id": "665f8da3",
   "metadata": {},
   "source": [
    "Kode program tersebut akan menghasilkan sebuah file bernama ``coba.xlsx`` yang berisi seperti gambar berikut:\n",
    "\n",
    "![tampilan coba.xlsx](https://drive.google.com/uc?export=view&id=17x3T9OsIGBl1iKLQyfweR3ab_eARZgsy)"
   ]
  },
  {
   "cell_type": "markdown",
   "id": "4c111704",
   "metadata": {},
   "source": [
    "# Source Data\n",
    "\n",
    "Kita sudah mempelajari bagaimana cara membaca data dari file CSV dan Excel ke dalam dataframe begitu pun menulis dataframe ke kedua format file tersebut. Pertanyaan berikutnya yang muncul adalah bagaimana cara mendapatkan data untuk kita olah. Tentunya kita bisa membuat file secara manual ataupun dengan cara melakukan export data dari DBMS. Akan tetapi ada suatu kemungkinan yaitu kita tidak mempunyai sumber data untuk diolah. \n",
    "\n",
    "Di internet tersedia banyak sumber data yang bersifat open dan legal untuk digunakan dalam berlatih pengolahan data di pandas."
   ]
  },
  {
   "cell_type": "code",
   "execution_count": null,
   "id": "cff95f13",
   "metadata": {},
   "outputs": [],
   "source": []
  }
 ],
 "metadata": {
  "kernelspec": {
   "display_name": "Python 3",
   "language": "python",
   "name": "python3"
  },
  "language_info": {
   "codemirror_mode": {
    "name": "ipython",
    "version": 3
   },
   "file_extension": ".py",
   "mimetype": "text/x-python",
   "name": "python",
   "nbconvert_exporter": "python",
   "pygments_lexer": "ipython3",
   "version": "3.8.10"
  }
 },
 "nbformat": 4,
 "nbformat_minor": 5
}
