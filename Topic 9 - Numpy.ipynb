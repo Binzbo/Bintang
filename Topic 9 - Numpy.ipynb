{
 "cells": [
  {
   "cell_type": "markdown",
   "metadata": {},
   "source": [
    "# Numpy\n",
    "\n",
    "Pada topik ini kita akan membahas sebuah library yang bisa dimanfaatkan untuk mengolah data dalam bentuk array. Library tersebut bernama ``Numpy``. Dokumentasi lengkap perihal numpy dapat dilihat pada https://numpy.org/.\n",
    "\n",
    "Sebelum bisa menggunakan module ``numpy``, pastikan module ini sudah dipasang di lingkungan Python yang digunakan. Perintah instalasinya sebagai berikut:\n",
    "\n",
    "<b>Instalasi via pip</b> <br>\n",
    "``pip3 install numpy``\n",
    "\n",
    "<b>Instalasi via conda</b> (secara default sudah tersedia ketika instalasi Anaconda atau Miniconda) <br>\n",
    "``conda install numpy``\n",
    "\n",
    "Setelah melakukan instalasi, mari kita masuk ke pembahasan module ``numpy`` ini."
   ]
  },
  {
   "cell_type": "markdown",
   "metadata": {},
   "source": [
    "## Numpy Array vs. Python List\n",
    "\n",
    "Numpy memiliki struktur data yang mirip seperti List, yaitu numpy array. Numpy array lebih efisien dalam penggunaan resource dan lebih cepat dalam pengaksesannya. Berikut adalah contoh penggunaan numpy array:"
   ]
  },
  {
   "cell_type": "code",
   "execution_count": 54,
   "metadata": {},
   "outputs": [
    {
     "name": "stdout",
     "output_type": "stream",
     "text": [
      "['1' 'a' '2' 'b']\n",
      "a\n",
      "['a' '2']\n",
      "['1' 'a' '2']\n",
      "['a' '2' 'b']\n",
      "b\n",
      "['b' '2']\n"
     ]
    }
   ],
   "source": [
    "import numpy as np\n",
    "\n",
    "array = np.array([1, 'a', 2, 'b'])\n",
    "print(array)\n",
    "print(array[1])\n",
    "print(array[1:3])\n",
    "print(array[:3])\n",
    "print(array[1:])\n",
    "print(array[-1])\n",
    "print(array[-1:-3:-1])"
   ]
  },
  {
   "cell_type": "markdown",
   "metadata": {},
   "source": [
    "Tampilan array-nya sama dengan list yang ada pada python bahkan operasi slicingnya sama dengan list yang ada di Python. Jadi tidak perlu khawatir untuk menggunakan array dari numpy ini. Kita juga bisa mengkonversi list python menjadi numpy array dengan cara type casting. Berikut cara penggunaannya:"
   ]
  },
  {
   "cell_type": "code",
   "execution_count": 55,
   "metadata": {},
   "outputs": [
    {
     "name": "stdout",
     "output_type": "stream",
     "text": [
      "<class 'numpy.ndarray'>\n"
     ]
    }
   ],
   "source": [
    "import numpy as np\n",
    "\n",
    "list_python = [1, 'a', 2, 'b', 'adam']\n",
    "\n",
    "array_numpy = np.array(list_python)\n",
    "print(type(array_numpy))"
   ]
  },
  {
   "cell_type": "markdown",
   "metadata": {},
   "source": [
    "Sama seperti list, numpy array juga bisa direpresentasikan menjadi array dua dimensi. Berikut adalah contoh penggunaanya:"
   ]
  },
  {
   "cell_type": "code",
   "execution_count": 56,
   "metadata": {},
   "outputs": [
    {
     "name": "stdout",
     "output_type": "stream",
     "text": [
      "[[10, 20, 30], [40, 50, 60], [70, 80, 90]]\n",
      "\n",
      "[[10 20 30]\n",
      " [40 50 60]\n",
      " [70 80 90]]\n"
     ]
    }
   ],
   "source": [
    "import numpy as np\n",
    "\n",
    "list_2d = [[10, 20, 30],[40, 50, 60], [70, 80, 90]]\n",
    "print(list_2d)\n",
    "\n",
    "print()\n",
    "\n",
    "array_2d = np.array(list_2d)\n",
    "print(array_2d)"
   ]
  },
  {
   "cell_type": "markdown",
   "metadata": {},
   "source": [
    "Kita bisa melihat bahwa numpy array lebih representatif untuk kita gunakan."
   ]
  },
  {
   "cell_type": "markdown",
   "metadata": {},
   "source": [
    "### Generate Array di Numpy\n",
    "\n",
    "Numpy memiliki konsep generator yang mirip seperti list di Python. Apabila di list kita menggunakan ``range()`` yang disimpan dalam sebuah struktur perulangan, maka kita bisa menggunakan method ``arange()`` di numpy. Secara konsep, fungsi ini sebagai pengganti generator ``range()``. Berikut contoh penggunaannya:"
   ]
  },
  {
   "cell_type": "code",
   "execution_count": 57,
   "metadata": {},
   "outputs": [
    {
     "name": "stdout",
     "output_type": "stream",
     "text": [
      "[0, 1, 2, 3, 4, 5, 6, 7, 8, 9, 10]\n",
      "[ 0  1  2  3  4  5  6  7  8  9 10]\n",
      "[ 0  1  2  3  4  5  6  7  8  9 10]\n",
      "[ 0  2  4  6  8 10]\n"
     ]
    }
   ],
   "source": [
    "import numpy as np\n",
    "\n",
    "# List di Python\n",
    "list_bil = []\n",
    "for i in range(0,11):\n",
    "    list_bil.append(i)\n",
    "\n",
    "print(list_bil)\n",
    "\n",
    "# numpy array\n",
    "array = np.arange(0,11)\n",
    "print(array)\n",
    "\n",
    "array = np.arange(0,11)\n",
    "print(array)\n",
    "\n",
    "array = np.arange(0,11,2)\n",
    "print(array)"
   ]
  },
  {
   "cell_type": "markdown",
   "metadata": {},
   "source": [
    "Selain untuk meng-generate array seperti contoh tadi, numpy memiliki kemampuan untuk membuat array berisi bilangan 0 (berguna untuk operasi matriks). Fungsi yang digunakan adalah ``zeros()``. Berikut cara penggunaannya:"
   ]
  },
  {
   "cell_type": "code",
   "execution_count": 58,
   "metadata": {},
   "outputs": [
    {
     "name": "stdout",
     "output_type": "stream",
     "text": [
      "[0. 0. 0. 0. 0. 0. 0. 0. 0. 0.]\n",
      "\n",
      "[[0. 0. 0. 0. 0. 0. 0. 0. 0. 0.]\n",
      " [0. 0. 0. 0. 0. 0. 0. 0. 0. 0.]\n",
      " [0. 0. 0. 0. 0. 0. 0. 0. 0. 0.]\n",
      " [0. 0. 0. 0. 0. 0. 0. 0. 0. 0.]\n",
      " [0. 0. 0. 0. 0. 0. 0. 0. 0. 0.]\n",
      " [0. 0. 0. 0. 0. 0. 0. 0. 0. 0.]\n",
      " [0. 0. 0. 0. 0. 0. 0. 0. 0. 0.]\n",
      " [0. 0. 0. 0. 0. 0. 0. 0. 0. 0.]\n",
      " [0. 0. 0. 0. 0. 0. 0. 0. 0. 0.]\n",
      " [0. 0. 0. 0. 0. 0. 0. 0. 0. 0.]]\n",
      "\n",
      "[[0 0 0 0 0 0 0 0 0 0]\n",
      " [0 0 0 0 0 0 0 0 0 0]\n",
      " [0 0 0 0 0 0 0 0 0 0]\n",
      " [0 0 0 0 0 0 0 0 0 0]\n",
      " [0 0 0 0 0 0 0 0 0 0]\n",
      " [0 0 0 0 0 0 0 0 0 0]\n",
      " [0 0 0 0 0 0 0 0 0 0]\n",
      " [0 0 0 0 0 0 0 0 0 0]\n",
      " [0 0 0 0 0 0 0 0 0 0]\n",
      " [0 0 0 0 0 0 0 0 0 0]]\n"
     ]
    }
   ],
   "source": [
    "import numpy as np\n",
    "\n",
    "array_nol = np.zeros(10)\n",
    "print(array_nol)\n",
    "\n",
    "print()\n",
    "\n",
    "array_nol_2d = np.zeros((10, 10))\n",
    "print(array_nol_2d)\n",
    "\n",
    "print()\n",
    "\n",
    "array_nol_2d = np.zeros((10, 10), dtype= int)\n",
    "print(array_nol_2d)\n"
   ]
  },
  {
   "cell_type": "markdown",
   "metadata": {},
   "source": [
    "Selain ``zeros()`` numpy juga memiliki method ``ones()`` yang fungsinya mirip seperti ``zeros()`` akan tetapi nilai ynag di-generate adalah 1."
   ]
  },
  {
   "cell_type": "code",
   "execution_count": 59,
   "metadata": {},
   "outputs": [
    {
     "name": "stdout",
     "output_type": "stream",
     "text": [
      "[1. 1. 1. 1. 1. 1. 1. 1. 1. 1.]\n",
      "\n",
      "[[1. 1. 1. 1. 1. 1. 1. 1. 1. 1.]\n",
      " [1. 1. 1. 1. 1. 1. 1. 1. 1. 1.]\n",
      " [1. 1. 1. 1. 1. 1. 1. 1. 1. 1.]\n",
      " [1. 1. 1. 1. 1. 1. 1. 1. 1. 1.]\n",
      " [1. 1. 1. 1. 1. 1. 1. 1. 1. 1.]]\n",
      "\n",
      "[[1 1 1 1 1 1 1 1 1 1]\n",
      " [1 1 1 1 1 1 1 1 1 1]\n",
      " [1 1 1 1 1 1 1 1 1 1]\n",
      " [1 1 1 1 1 1 1 1 1 1]\n",
      " [1 1 1 1 1 1 1 1 1 1]]\n"
     ]
    }
   ],
   "source": [
    "import numpy as np\n",
    "\n",
    "array_satu = np.ones(10)\n",
    "print(array_satu)\n",
    "\n",
    "print()\n",
    "\n",
    "array_satu_2d = np.ones((5, 10))\n",
    "print(array_satu_2d)\n",
    "\n",
    "print()\n",
    "\n",
    "array_satu_2d = np.ones((5, 10),dtype=int)\n",
    "print(array_satu_2d)\n"
   ]
  },
  {
   "cell_type": "markdown",
   "metadata": {},
   "source": [
    "### Generate Spaced Number di Numpy\n",
    "\n",
    "Kita bisa menggunakan fungsi ``linspace()`` untuk generate spaced number pada interval yang ditentukan. Berikut contoh penggunaannya:"
   ]
  },
  {
   "cell_type": "code",
   "execution_count": 60,
   "metadata": {},
   "outputs": [
    {
     "name": "stdout",
     "output_type": "stream",
     "text": [
      "[ 0.          0.20408163  0.40816327  0.6122449   0.81632653  1.02040816\n",
      "  1.2244898   1.42857143  1.63265306  1.83673469  2.04081633  2.24489796\n",
      "  2.44897959  2.65306122  2.85714286  3.06122449  3.26530612  3.46938776\n",
      "  3.67346939  3.87755102  4.08163265  4.28571429  4.48979592  4.69387755\n",
      "  4.89795918  5.10204082  5.30612245  5.51020408  5.71428571  5.91836735\n",
      "  6.12244898  6.32653061  6.53061224  6.73469388  6.93877551  7.14285714\n",
      "  7.34693878  7.55102041  7.75510204  7.95918367  8.16326531  8.36734694\n",
      "  8.57142857  8.7755102   8.97959184  9.18367347  9.3877551   9.59183673\n",
      "  9.79591837 10.        ]\n"
     ]
    }
   ],
   "source": [
    "import numpy as np\n",
    "\n",
    "matriks = np.linspace(0,10)\n",
    "print(matriks)"
   ]
  },
  {
   "cell_type": "code",
   "execution_count": 61,
   "metadata": {},
   "outputs": [
    {
     "name": "stdout",
     "output_type": "stream",
     "text": [
      "[ 0.          0.1010101   0.2020202   0.3030303   0.4040404   0.50505051\n",
      "  0.60606061  0.70707071  0.80808081  0.90909091  1.01010101  1.11111111\n",
      "  1.21212121  1.31313131  1.41414141  1.51515152  1.61616162  1.71717172\n",
      "  1.81818182  1.91919192  2.02020202  2.12121212  2.22222222  2.32323232\n",
      "  2.42424242  2.52525253  2.62626263  2.72727273  2.82828283  2.92929293\n",
      "  3.03030303  3.13131313  3.23232323  3.33333333  3.43434343  3.53535354\n",
      "  3.63636364  3.73737374  3.83838384  3.93939394  4.04040404  4.14141414\n",
      "  4.24242424  4.34343434  4.44444444  4.54545455  4.64646465  4.74747475\n",
      "  4.84848485  4.94949495  5.05050505  5.15151515  5.25252525  5.35353535\n",
      "  5.45454545  5.55555556  5.65656566  5.75757576  5.85858586  5.95959596\n",
      "  6.06060606  6.16161616  6.26262626  6.36363636  6.46464646  6.56565657\n",
      "  6.66666667  6.76767677  6.86868687  6.96969697  7.07070707  7.17171717\n",
      "  7.27272727  7.37373737  7.47474747  7.57575758  7.67676768  7.77777778\n",
      "  7.87878788  7.97979798  8.08080808  8.18181818  8.28282828  8.38383838\n",
      "  8.48484848  8.58585859  8.68686869  8.78787879  8.88888889  8.98989899\n",
      "  9.09090909  9.19191919  9.29292929  9.39393939  9.49494949  9.5959596\n",
      "  9.6969697   9.7979798   9.8989899  10.        ]\n"
     ]
    }
   ],
   "source": [
    "import numpy as np\n",
    "\n",
    "matriks = np.linspace(0, 10, 100)\n",
    "print(matriks)"
   ]
  },
  {
   "cell_type": "markdown",
   "metadata": {},
   "source": [
    "### Matriks Indentitas\n",
    "\n",
    "Numpy memiliki fungsi ``eye()`` yang memungkinkan programmer untuk membuat matriks identitas dengan jumlah tertentu. Pengertian dan kegunaan matriks identitas dapat dipelajari singkat di https://id.wikipedia.org/wiki/Matriks_identitas. Berikut contoh penggunaannya:"
   ]
  },
  {
   "cell_type": "code",
   "execution_count": 62,
   "metadata": {},
   "outputs": [
    {
     "name": "stdout",
     "output_type": "stream",
     "text": [
      "[[1. 0. 0. 0. 0.]\n",
      " [0. 1. 0. 0. 0.]\n",
      " [0. 0. 1. 0. 0.]\n",
      " [0. 0. 0. 1. 0.]\n",
      " [0. 0. 0. 0. 1.]]\n",
      "\n",
      "[[1. 0. 0.]\n",
      " [0. 1. 0.]\n",
      " [0. 0. 1.]]\n"
     ]
    }
   ],
   "source": [
    "import numpy as np\n",
    "\n",
    "matriks_identitas = np.eye(5)\n",
    "print(matriks_identitas)\n",
    "\n",
    "print()\n",
    "\n",
    "matriks_identitas = np.eye(3)\n",
    "print(matriks_identitas)\n"
   ]
  },
  {
   "cell_type": "markdown",
   "metadata": {},
   "source": [
    "### Generate Array Random\n",
    "\n",
    "Numpy memiliki fungsi yang memungkinkan programmer membuat array berisi data random. Konsep random di numpy memiliki mekanisme yang mirip dengan Python. Berikut contoh penggunaannya:"
   ]
  },
  {
   "cell_type": "code",
   "execution_count": 63,
   "metadata": {},
   "outputs": [
    {
     "name": "stdout",
     "output_type": "stream",
     "text": [
      "[0.52225942 0.77136632 0.20063995 0.98574679 0.14381081]\n",
      "\n",
      "[[0.48237973 0.16617865 0.40156018 0.63494413 0.70562708]\n",
      " [0.29306454 0.51360333 0.1723148  0.30917908 0.44439935]\n",
      " [0.9256396  0.5725619  0.90901124 0.8866892  0.57293701]\n",
      " [0.67351231 0.2651699  0.76102096 0.40849587 0.90177462]\n",
      " [0.9071997  0.65953779 0.86025361 0.34868705 0.35453378]]\n"
     ]
    }
   ],
   "source": [
    "import numpy as np\n",
    "\n",
    "rand_array = np.random.rand(5)\n",
    "print(rand_array)\n",
    "\n",
    "print()\n",
    "\n",
    "rand_matriks = np.random.rand(5,5)\n",
    "print(rand_matriks)"
   ]
  },
  {
   "cell_type": "markdown",
   "metadata": {},
   "source": [
    "Selain fungsi tersebut, numpy bisa menghasilkan random array yang berisi angka random untuk distribusi normal standar. Berikut contoh penggunaannya:"
   ]
  },
  {
   "cell_type": "code",
   "execution_count": 64,
   "metadata": {},
   "outputs": [
    {
     "name": "stdout",
     "output_type": "stream",
     "text": [
      "[-0.74033885  1.25878343  1.42331506  0.36543043  2.66486957]\n",
      "\n",
      "[[-0.94526199 -1.90062742 -0.45981376 -0.8306381 ]\n",
      " [-0.85583357 -0.1847662   1.42916689 -2.02005298]\n",
      " [-0.32324644  1.29395179  1.23669254  0.86259919]\n",
      " [-1.19288166 -1.93608011 -0.76375318  1.02649718]]\n"
     ]
    }
   ],
   "source": [
    "import numpy as np\n",
    "\n",
    "rand_normal_array = np.random.randn(5)\n",
    "print(rand_normal_array)\n",
    "\n",
    "print()\n",
    "\n",
    "rand_normal_matriks = np.random.randn(4,4)\n",
    "print(rand_normal_matriks)"
   ]
  },
  {
   "cell_type": "markdown",
   "metadata": {},
   "source": [
    "Fungsi random dari numpy yang akan dibahas terakhir adalah ``randint()``. Fungsi ini memiliki kemiripan dengan fungsi ``randint()`` di python. Berikut contoh penggunaannya:"
   ]
  },
  {
   "cell_type": "code",
   "execution_count": 65,
   "metadata": {},
   "outputs": [
    {
     "name": "stdout",
     "output_type": "stream",
     "text": [
      "4\n",
      "[2 8 1 2 6 9 5 4 5 4]\n"
     ]
    }
   ],
   "source": [
    "import numpy as np\n",
    "\n",
    "nilai_random = np.random.randint(1,10)\n",
    "print(nilai_random)\n",
    "\n",
    "rand_int_array = np.random.randint(1,10,10)\n",
    "print(rand_int_array)"
   ]
  },
  {
   "cell_type": "markdown",
   "metadata": {},
   "source": [
    "### Fungsi reshape()\n",
    "\n",
    "Fungsi ``reshape()`` memungkinkan kita untuk membentuk suatu array dengan dimensi menjadi array dengan dimensi lain. Berikut contoh penggunaannya:"
   ]
  },
  {
   "cell_type": "code",
   "execution_count": 66,
   "metadata": {},
   "outputs": [
    {
     "name": "stdout",
     "output_type": "stream",
     "text": [
      "[4 1 9 4 4 6 3 8 6 7 5 8 4 5 4 2 7 1 8 7 5 3 4 1 8]\n",
      "\n",
      "[[4 1 9 4 4]\n",
      " [6 3 8 6 7]\n",
      " [5 8 4 5 4]\n",
      " [2 7 1 8 7]\n",
      " [5 3 4 1 8]]\n"
     ]
    }
   ],
   "source": [
    "import numpy as np\n",
    "\n",
    "array = np.random.randint(1,10,25)\n",
    "print(array)\n",
    "\n",
    "print()\n",
    "\n",
    "matriks_55 = array.reshape(5,5)\n",
    "print(matriks_55)"
   ]
  },
  {
   "cell_type": "markdown",
   "metadata": {},
   "source": [
    "><b>Catatan:</b> Jumlah elemen pada array yang mau dibentuk ulang harus sama dengan jumlah elemen pada dimensi array yang baru."
   ]
  },
  {
   "cell_type": "markdown",
   "metadata": {},
   "source": [
    "## Operasi pada Array\n",
    "\n",
    "Numpy bisa kita gunakan untuk mempermudah perhitungan atau operasi-operasi pada array atau matriks. Berikut adalah bahasan tentang operasi pada array dan matriks yang bisa didukung (sering digunakan) oleh numpy."
   ]
  },
  {
   "cell_type": "markdown",
   "metadata": {},
   "source": [
    "### Pertambahan Array\n",
    "\n",
    "Layaknya di ilmu Matematika, array bisa ditambahkan dengan array lainnya. Berikut contoh operasi pertambahan pada array menggunakan numpy:"
   ]
  },
  {
   "cell_type": "code",
   "execution_count": 67,
   "metadata": {},
   "outputs": [
    {
     "name": "stdout",
     "output_type": "stream",
     "text": [
      "[2 3 4]\n",
      "\n",
      "[[2 3 4]\n",
      " [2 3 4]\n",
      " [2 3 4]]\n"
     ]
    }
   ],
   "source": [
    "import numpy as np\n",
    "\n",
    "array1 = np.array([1, 2, 3])\n",
    "array2 = np.ones(3, dtype = int)\n",
    "\n",
    "array_hasil = array1 + array2\n",
    "\n",
    "print(array_hasil)\n",
    "\n",
    "print()\n",
    "\n",
    "array1 = np.array([[1, 2, 3], [1, 2, 3], [1, 2, 3]])\n",
    "array2 = np.ones((1, 3), dtype=int)\n",
    "\n",
    "array_hasil = array1 + array2\n",
    "\n",
    "print(array_hasil)"
   ]
  },
  {
   "cell_type": "markdown",
   "metadata": {},
   "source": [
    "### Pengurangan Array\n",
    "\n",
    "Operasi aritmatika berikutnya yang didukung adalah operasi pengurangan. Berikut adalah contoh penggunaanya:"
   ]
  },
  {
   "cell_type": "code",
   "execution_count": 68,
   "metadata": {},
   "outputs": [
    {
     "name": "stdout",
     "output_type": "stream",
     "text": [
      "[0 1 2]\n",
      "\n",
      "[[0 1 2]\n",
      " [0 1 2]\n",
      " [0 1 2]]\n"
     ]
    }
   ],
   "source": [
    "import numpy as np\n",
    "\n",
    "array1 = np.array([1, 2, 3])\n",
    "array2 = np.ones(3, dtype=int)\n",
    "\n",
    "array_hasil = array1 - array2\n",
    "\n",
    "print(array_hasil)\n",
    "\n",
    "print()\n",
    "\n",
    "array1 = np.array([[1, 2, 3], [1, 2, 3], [1, 2, 3]])\n",
    "array2 = np.ones((1, 3), dtype=int)\n",
    "\n",
    "array_hasil = array1 - array2\n",
    "\n",
    "print(array_hasil)"
   ]
  },
  {
   "cell_type": "markdown",
   "metadata": {},
   "source": [
    "### Perkalian Array\n",
    "\n",
    "Berikutnya adalah operasi perkalian yang bisa dilihat pada contoh kode program berikut:"
   ]
  },
  {
   "cell_type": "code",
   "execution_count": 69,
   "metadata": {},
   "outputs": [
    {
     "name": "stdout",
     "output_type": "stream",
     "text": [
      "[1 2 3]\n",
      "\n",
      "[[1 4 9]\n",
      " [1 4 9]\n",
      " [1 4 9]]\n"
     ]
    }
   ],
   "source": [
    "import numpy as np\n",
    "\n",
    "array1 = np.array([1, 2, 3])\n",
    "array2 = np.ones(3, dtype=int)\n",
    "\n",
    "array_hasil = array1 * array2\n",
    "\n",
    "print(array_hasil)\n",
    "\n",
    "print()\n",
    "\n",
    "array1 = array2 = np.array([[1, 2, 3], [1, 2, 3], [1, 2, 3]])\n",
    "\n",
    "array_hasil = array1 * array2\n",
    "\n",
    "print(array_hasil)"
   ]
  },
  {
   "cell_type": "markdown",
   "metadata": {},
   "source": [
    "><b>Catatan:</b> Tetap perhatikan aturan perkalian pada matriks (dimensi harus memenuhi aturan mxn * n*o)"
   ]
  },
  {
   "cell_type": "markdown",
   "metadata": {},
   "source": [
    "### Pembagian Array\n",
    "\n",
    "Mirip seperti perkalian, berikut contoh dari operasi pembagian pada array:"
   ]
  },
  {
   "cell_type": "code",
   "execution_count": 70,
   "metadata": {},
   "outputs": [
    {
     "name": "stdout",
     "output_type": "stream",
     "text": [
      "[1.         0.5        0.33333333]\n",
      "\n",
      "[[1. 1. 1.]\n",
      " [1. 1. 1.]\n",
      " [1. 1. 1.]]\n"
     ]
    }
   ],
   "source": [
    "import numpy as np\n",
    "\n",
    "array1 = np.array([1, 2, 3])\n",
    "array2 = np.ones(3, dtype=int)\n",
    "\n",
    "array_hasil = array2 / array1\n",
    "\n",
    "print(array_hasil)\n",
    "\n",
    "print()\n",
    "\n",
    "array1 = array2 = np.array([[1, 2, 3], [1, 2, 3], [1, 2, 3]])\n",
    "\n",
    "array_hasil = array1 / array2\n",
    "\n",
    "print(array_hasil)\n"
   ]
  },
  {
   "cell_type": "markdown",
   "metadata": {},
   "source": [
    "### Agregat Fungsi pada Numpy\n",
    "\n",
    "Array pada numpy bisa dikenakan operasi agregat. Tentunya hal ini sangat berguna dalam melakukan pengolahan data. Operasi agregat yang bisa dikenakan pada array numpy dapat dilihat pada tabel berikut:\n",
    "\n",
    "| Operasi Agregat | Penjelasan |\n",
    "| max() | Mengembalikan nilai berupa elemen terbesar di array |\n",
    "| min() | Mengembalikan nilai berupa elemen terkecil di array |\n",
    "| sum() | Menjumlahkan seluruh elemen pada array |\n",
    "\n",
    "Berikut contoh penggunaannya:"
   ]
  },
  {
   "cell_type": "code",
   "execution_count": 71,
   "metadata": {},
   "outputs": [
    {
     "name": "stdout",
     "output_type": "stream",
     "text": [
      "1\n",
      "110\n",
      "385\n",
      "\n",
      "1\n",
      "110\n",
      "385\n"
     ]
    }
   ],
   "source": [
    "import numpy as np\n",
    "\n",
    "array = np.array([1, 2, 3, 30, 21, 15, 110, 101, 102])\n",
    "\n",
    "print(array.min())\n",
    "print(array.max())\n",
    "print(array.sum())\n",
    "\n",
    "print()\n",
    "\n",
    "array = np.array([[1, 2, 3], [30, 21, 15], [110, 101, 102]])\n",
    "\n",
    "print(array.min())\n",
    "print(array.max())\n",
    "print(array.sum())\n"
   ]
  },
  {
   "cell_type": "markdown",
   "metadata": {},
   "source": [
    "### Unique value di Array\n",
    "\n",
    "Apabila kita membutuhkan array yang isinya unique dan juga membutuhkan berapa jumlah elemen unique-nya, kita bisa melakukan mekanisme berikut:"
   ]
  },
  {
   "cell_type": "code",
   "execution_count": 72,
   "metadata": {},
   "outputs": [
    {
     "name": "stdout",
     "output_type": "stream",
     "text": [
      "[11 11 12 13 14 15 16 17 12 13 11 14 18 19 20]\n",
      "[11 12 13 14 15 16 17 18 19 20]\n"
     ]
    }
   ],
   "source": [
    "import numpy as np\n",
    "\n",
    "array = np.array([11, 11, 12, 13, 14, 15, 16, 17, 12, 13, 11, 14, 18, 19, 20])\n",
    "print(array)\n",
    "\n",
    "array_unique = np.unique(array)\n",
    "print(array_unique)\n"
   ]
  },
  {
   "cell_type": "markdown",
   "metadata": {},
   "source": [
    "Kita juga bisa mengetahui posisi/letak dari nilai yang menyatakan indeks pertama dari nilai unique tersebut, kita bisa menggunakan parameter ``return_index = True`` di fungsi ``unique()`` sebagai berikut:"
   ]
  },
  {
   "cell_type": "code",
   "execution_count": 73,
   "metadata": {},
   "outputs": [
    {
     "name": "stdout",
     "output_type": "stream",
     "text": [
      "[11 11 12 13 14 15 16 17 12 13 11 14 18 19 20]\n",
      "[11 12 13 14 15 16 17 18 19 20]\n",
      "[ 0  2  3  4  5  6  7 12 13 14]\n"
     ]
    }
   ],
   "source": [
    "import numpy as np\n",
    "\n",
    "array = np.array([11, 11, 12, 13, 14, 15, 16, 17, 12, 13, 11, 14, 18, 19, 20])\n",
    "print(array)\n",
    "\n",
    "array_unique, index_unique = np.unique(array, return_index = True)\n",
    "print(array_unique)\n",
    "print(index_unique)"
   ]
  },
  {
   "cell_type": "markdown",
   "metadata": {},
   "source": [
    "Selain parameter ``return_index``, kita bisa menambahkan parameter ``return_counts`` untuk mendapatkan jumlah elemen unique pada array. Contohnya sebagai berikut:"
   ]
  },
  {
   "cell_type": "code",
   "execution_count": 74,
   "metadata": {},
   "outputs": [
    {
     "name": "stdout",
     "output_type": "stream",
     "text": [
      "[11 11 12 13 14 15 16 17 12 13 11 14 18 19 20]\n",
      "[11 12 13 14 15 16 17 18 19 20]\n",
      "[3 2 2 2 1 1 1 1 1 1]\n"
     ]
    }
   ],
   "source": [
    "import numpy as np\n",
    "\n",
    "array = np.array([11, 11, 12, 13, 14, 15, 16, 17, 12, 13, 11, 14, 18, 19, 20])\n",
    "print(array)\n",
    "\n",
    "array_unique, jml_elemen = np.unique(array, return_counts = True)\n",
    "print(array_unique)\n",
    "print(jml_elemen)\n"
   ]
  },
  {
   "cell_type": "markdown",
   "metadata": {},
   "source": [
    "### Transpose Matriks\n",
    "\n",
    "Kita bisa menggunakan fungsi ``reshape()`` pada matriks untuk membantu melakukan operasi transpose matriks. Gambaran operasi transpose pada matriks dapat dilihat pada gambar berikut:\n",
    "\n",
    "<img src = \"https://idschool.net/wp-content/uploads/2017/11/Transpose-Matriks-1-e1510690764387.png\" alt = \"Ilustrasi Transpose Matriks\">\n",
    "\n",
    "Berikut contoh kasusnya:"
   ]
  },
  {
   "cell_type": "code",
   "execution_count": 75,
   "metadata": {},
   "outputs": [
    {
     "name": "stdout",
     "output_type": "stream",
     "text": [
      "[[1 2 3]\n",
      " [4 5 6]]\n",
      "\n",
      "[[1 2]\n",
      " [3 4]\n",
      " [5 6]]\n"
     ]
    }
   ],
   "source": [
    "import numpy as np\n",
    "\n",
    "array = np.array([[1, 2, 3], [4, 5, 6]])\n",
    "print(array)\n",
    "\n",
    "print()\n",
    "\n",
    "array_transpose = array.reshape(3,2)\n",
    "print(array_transpose)"
   ]
  },
  {
   "cell_type": "markdown",
   "metadata": {},
   "source": [
    "### Reverse Array\n",
    "\n",
    "Kita bisa menggunakan fungsi ``flip()`` untuk me-reverse elemen pada array. Berikut contoh penggunaannya:"
   ]
  },
  {
   "cell_type": "code",
   "execution_count": 76,
   "metadata": {},
   "outputs": [
    {
     "name": "stdout",
     "output_type": "stream",
     "text": [
      "[1 2 3 4 5 6 7 8]\n",
      "\n",
      "[8 7 6 5 4 3 2 1]\n"
     ]
    }
   ],
   "source": [
    "import numpy as np\n",
    "\n",
    "array = np.array([1, 2, 3, 4, 5, 6, 7, 8])\n",
    "print(array)\n",
    "\n",
    "print()\n",
    "\n",
    "array_reverse = np.flip(array)\n",
    "print(array_reverse)"
   ]
  },
  {
   "cell_type": "code",
   "execution_count": 77,
   "metadata": {},
   "outputs": [
    {
     "name": "stdout",
     "output_type": "stream",
     "text": [
      "[[ 1  2  3  4]\n",
      " [ 5  6  7  8]\n",
      " [ 9 10 11 12]]\n",
      "\n",
      "[[12 11 10  9]\n",
      " [ 8  7  6  5]\n",
      " [ 4  3  2  1]]\n"
     ]
    }
   ],
   "source": [
    "import numpy as np\n",
    "\n",
    "array = np.array([[1, 2, 3, 4], [5, 6, 7, 8], [9, 10, 11, 12]])\n",
    "print(array)\n",
    "\n",
    "print()\n",
    "\n",
    "array_reverse = np.flip(array)\n",
    "print(array_reverse)\n"
   ]
  },
  {
   "cell_type": "markdown",
   "metadata": {},
   "source": [
    "### Flattening Matrik ke Array\n",
    "\n",
    "Kita bisa membuat matriks (array dua dimensi) menjadi array 1 dimensi dengan menggunakan fungsi ``flatten()``. Berikut contohnya:"
   ]
  },
  {
   "cell_type": "code",
   "execution_count": 80,
   "metadata": {},
   "outputs": [
    {
     "name": "stdout",
     "output_type": "stream",
     "text": [
      "[[ 1  2  3  4]\n",
      " [ 5  6  7  8]\n",
      " [ 9 10 11 12]]\n",
      "\n",
      "[ 1  2  3  4  5  6  7  8  9 10 11 12]\n"
     ]
    }
   ],
   "source": [
    "import numpy as np\n",
    "\n",
    "matriks = np.array([[1, 2, 3, 4], [5, 6, 7, 8], [9, 10, 11, 12]])\n",
    "print(matriks)\n",
    "\n",
    "print()\n",
    "\n",
    "array = matriks.flatten()\n",
    "print(array)\n"
   ]
  },
  {
   "cell_type": "markdown",
   "metadata": {},
   "source": [
    "### Hands on Lab 1: Bermain dengan kecepatan\n",
    "\n",
    "Diberikan data jarak dan waktu tempuh sebagai berikut:\n",
    "\n",
    "| Jarak (Km) | Waktu Tempuh (Jam) |\n",
    "| :--- | :--- |\n",
    "| 100 | 2.5 |\n",
    "| 84 | 2.3 |\n",
    "| 200 | 3.4 |\n",
    "| 5 | 0.1 |\n",
    "\n",
    "Carilah:\n",
    "\n",
    "1. Kecepatan untuk masing-masing perjalanan\n",
    "2. Kecepatan rata-rata dari seluruh perjalanan\n",
    "3. Kecepatan paling cepat dan paling lambat"
   ]
  },
  {
   "cell_type": "markdown",
   "metadata": {},
   "source": [
    "### Hands on Lab 2: Bermain dengan nilai\n",
    "\n",
    "Diberikan data nilai akhir dari kelas IPA 1 (100 siswa) untuk mata kuliah Biologi sebagai berikut:\n",
    "\n",
    "``75, 70, 65, 50, 73, 58, 53, 69, 77, 62, 61, 70, 54, 66, 53, 51, 64,\n",
    "52, 50, 77, 68, 63, 61, 68, 58, 67, 63, 67, 72, 70, 71, 60, 68, 75,\n",
    "74, 62, 61, 76, 52, 54, 73, 72, 66, 56, 76, 60, 54, 51, 70, 70, 51,\n",
    "67, 57, 67, 74, 56, 61, 54, 58, 64, 60, 54, 67, 74, 61, 72, 57, 54,\n",
    "70, 55, 62, 61, 52, 60, 64, 64, 56, 79, 75, 73, 65, 64, 68, 69, 63,\n",
    "76, 76, 76, 56, 51, 61, 70, 79, 55, 66, 66, 58, 53, 52, 57``\n",
    "\n",
    "Hitung:\n",
    "1. Rata-rata nilai\n",
    "2. Hitung berapa kemunculan dari setiap nilai yang ada\n",
    "3. Nilai terbesar dan terkecil\n",
    "4. Bentuk kelompok nilai. Setiap kelompok berisi 10 nilai siswa. Hitung poin 1 sampai 3 untuk setiap kelompoknya."
   ]
  },
  {
   "cell_type": "code",
   "execution_count": null,
   "metadata": {},
   "outputs": [],
   "source": []
  }
 ],
 "metadata": {
  "interpreter": {
   "hash": "aee8b7b246df8f9039afb4144a1f6fd8d2ca17a180786b69acc140d282b71a49"
  },
  "kernelspec": {
   "display_name": "Python 3",
   "language": "python",
   "name": "python3"
  },
  "language_info": {
   "codemirror_mode": {
    "name": "ipython",
    "version": 3
   },
   "file_extension": ".py",
   "mimetype": "text/x-python",
   "name": "python",
   "nbconvert_exporter": "python",
   "pygments_lexer": "ipython3",
   "version": "3.8.10"
  }
 },
 "nbformat": 4,
 "nbformat_minor": 2
}
