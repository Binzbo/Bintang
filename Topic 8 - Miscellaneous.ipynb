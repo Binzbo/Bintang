{
  "nbformat": 4,
  "nbformat_minor": 2,
  "metadata": {
    "colab": {
      "name": "Topik 8 - Miscellaneous.ipynb",
      "provenance": [],
      "toc_visible": true
    },
    "kernelspec": {
      "name": "python3",
      "display_name": "Python 3.9.6 64-bit"
    },
    "language_info": {
      "name": "python",
      "version": "3.9.6",
      "mimetype": "text/x-python",
      "codemirror_mode": {
        "name": "ipython",
        "version": 3
      },
      "pygments_lexer": "ipython3",
      "nbconvert_exporter": "python",
      "file_extension": ".py"
    },
    "interpreter": {
      "hash": "aee8b7b246df8f9039afb4144a1f6fd8d2ca17a180786b69acc140d282b71a49"
    }
  },
  "cells": [
    {
      "cell_type": "markdown",
      "source": [
        "#Topik 8 - Miscellaneous\n",
        "\n",
        "Topik ini merupakan topik tambahan yang bisa menambah pengetahuan tentang fitur-fitur yang ada di Python.\n",
        "\n",
        "Fokus bahasannya adalah:\n",
        "\n",
        "1. Generators, iterators, dan closures\n",
        "2. Bekerja dengan file-system, directory tree dan files.\n",
        "3. Membahas beberapa Python Standard Library modules, yaitu: os, datetime, time, dan calendar.\n"
      ],
      "metadata": {
        "id": "XU3Ef-TkyGYi"
      }
    },
    {
      "cell_type": "markdown",
      "source": [
        "## Generators\n",
        "\n",
        "<b>Generator</b> di Python adalah sebuah kode yang dispesialisasi dan memiliki kemampuan untuk membuat sekumpulan nilai dan mengontrol proses iterasinya. Dikarenakan mengurus masalah iterasi juga, generator sering disebut sebagai iterators.\n",
        "\n",
        "Fungsi ``range()`` adalah sebuah generator (atau iterator)."
      ],
      "metadata": {
        "id": "xQpRbVxf0c2I"
      }
    },
    {
      "cell_type": "markdown",
      "source": [
        "### Iterator\n",
        "\n",
        "Sebuah iterator harus mengikuti standar iterator protocol. Iterator protocol adalah sebuah cara bagaimana sebuah object harus bertindak untuk mengukuti aturan yang timbul di konteks statement ``for`` dan ``in``. Sebuah iterator harus menyediakan dua method, yaitu:\n",
        "\n",
        "1. <b>``__iter__()``</b> dimana method ini mengembalikan objek iterator itu sendiri dan yang dipanggil oleh objek iterator tersebut sekali.\n",
        "\n",
        "2. <b>``__next__()``</b> dimana method ini mengembalikan next value dari sebuah series. Method ini akan dipanggil di dalam for..in statement. Jika tidak ada nilai yang bisa dipanggil lagi oleh method ini dari series, method akan menimbulkan exception berupa ``StopIteration``.\n",
        "\n",
        "Berikut adalah contoh kasus iterator untuk deret Fibonacci:"
      ],
      "metadata": {
        "id": "1J3AD4NP5LoT"
      }
    },
    {
      "cell_type": "code",
      "execution_count": 167,
      "source": [
        "class Fib:\n",
        "  def __init__(self, nn):\n",
        "    print(\"__init__\")\n",
        "    self.__n = nn\n",
        "    self.__i = 0\n",
        "    self.__p1 = self.__p2 = 1\n",
        "\n",
        "  def __iter__(self):\n",
        "    print(\"__iter__\")\n",
        "    return self\n",
        "\n",
        "  def __next__(self):\n",
        "    print(\"__next__\")\t\t\t\t\n",
        "    self.__i += 1\n",
        "        \n",
        "    if self.__i > self.__n:\n",
        "        raise StopIteration\n",
        "    if self.__i in [1, 2]:\n",
        "        return 1\n",
        "    ret = self.__p1 + self.__p2\n",
        "    self.__p1, self.__p2 = self.__p2, ret\n",
        "    return ret\n",
        "\n",
        "\n",
        "for i in Fib(10):\n",
        "  print(i)"
      ],
      "outputs": [
        {
          "output_type": "stream",
          "name": "stdout",
          "text": [
            "__init__\n",
            "__iter__\n",
            "__next__\n",
            "1\n",
            "__next__\n",
            "1\n",
            "__next__\n",
            "2\n",
            "__next__\n",
            "3\n",
            "__next__\n",
            "5\n",
            "__next__\n",
            "8\n",
            "__next__\n",
            "13\n",
            "__next__\n",
            "21\n",
            "__next__\n",
            "34\n",
            "__next__\n",
            "55\n",
            "__next__\n"
          ]
        }
      ],
      "metadata": {
        "colab": {
          "base_uri": "https://localhost:8080/"
        },
        "id": "Kww5tkGHoTzu",
        "outputId": "4a34198b-3e4b-41e3-ccc4-8c1f42cc65df"
      }
    },
    {
      "cell_type": "markdown",
      "source": [
        "Untuk menyederhanakan pemanggilan, mari pusatkan pemanggilan method di ``class Fib`` ke dalam sebuah class yang kita beri nama ``class Class`` sebagai berikut:"
      ],
      "metadata": {
        "id": "gt2OwwgUo1t9"
      }
    },
    {
      "cell_type": "code",
      "execution_count": 168,
      "source": [
        "class Fib:\n",
        "  def __init__(self, nn):\n",
        "    print(\"__init__\")\n",
        "    self.__n = nn\n",
        "    self.__i = 0\n",
        "    self.__p1 = self.__p2 = 1\n",
        "\n",
        "  def __iter__(self):\n",
        "    print(\"__iter__\")\n",
        "    return self\n",
        "\n",
        "  def __next__(self):\n",
        "    print(\"__next__\")\t\t\t\t\n",
        "    self.__i += 1\n",
        "        \n",
        "    if self.__i > self.__n:\n",
        "        raise StopIteration\n",
        "    if self.__i in [1, 2]:\n",
        "        return 1\n",
        "    ret = self.__p1 + self.__p2\n",
        "    self.__p1, self.__p2 = self.__p2, ret\n",
        "    return ret\n",
        "\n",
        "class Class:\n",
        "  def __init__(self, n):\n",
        "    self.__iter = Fib(n)\n",
        "\n",
        "  def __iter__(self):\n",
        "    print(\"Class iter\")\n",
        "    return self.__iter;\n",
        "\n",
        "\n",
        "object = Class(8)\n",
        "\n",
        "for i in object:\n",
        "  print(i)"
      ],
      "outputs": [
        {
          "output_type": "stream",
          "name": "stdout",
          "text": [
            "__init__\n",
            "Class iter\n",
            "__next__\n",
            "1\n",
            "__next__\n",
            "1\n",
            "__next__\n",
            "2\n",
            "__next__\n",
            "3\n",
            "__next__\n",
            "5\n",
            "__next__\n",
            "8\n",
            "__next__\n",
            "13\n",
            "__next__\n",
            "21\n",
            "__next__\n"
          ]
        }
      ],
      "metadata": {
        "colab": {
          "base_uri": "https://localhost:8080/"
        },
        "id": "E8ttwNRfo_7D",
        "outputId": "042ae7d6-4a87-49f3-c116-9a74c6b9a6a7"
      }
    },
    {
      "cell_type": "markdown",
      "source": [
        "### Statement yield\n",
        "\n",
        "Perhatikan contoh kode program berikut:"
      ],
      "metadata": {
        "id": "YYi8TGPRpQc5"
      }
    },
    {
      "cell_type": "code",
      "execution_count": 169,
      "source": [
        "def coba(n):\n",
        "  for i in range(n):\n",
        "    return i\n",
        "\n",
        "print(coba(10))"
      ],
      "outputs": [
        {
          "output_type": "stream",
          "name": "stdout",
          "text": [
            "0\n"
          ]
        }
      ],
      "metadata": {
        "colab": {
          "base_uri": "https://localhost:8080/"
        },
        "id": "F2oqpkJ2phJ9",
        "outputId": "110525e4-b691-488d-b60a-b62262731320"
      }
    },
    {
      "cell_type": "markdown",
      "source": [
        "Ada yang aneh dengan program tersebut? Program tersebut akan selalu mengembalikan nilai 0 untuk nilai integer apapun yang di-passing ke dalam parameternya. Kenapa itu bisa terjadi? \n",
        "\n",
        "Perintah ``return`` hanya bisa mengembalikan satu buah nilai dari sebuah tipe data (baik tipe data primitif maupun tipe koleksi). Biasanya apabila kita ingin me-return banyak nilai, maka kita akan gunakan struktur data koleksi untuk menampung lalu kita kembalikan nilainya melalui ``return``. Ada cara lain yang disediakan oleh Python, yaitu menggunakan kata kunci ``yield``. Kata kunci ini digunakan sebagai pengganti perintah ``return``. \n",
        "\n",
        "Kata kunci ``yield`` akab bertindak sebagai generator untuk mengembalikan nilai runtunan dari sebuah perulangan dalam fungsi. Berikut contoh penggunaannya:"
      ],
      "metadata": {
        "id": "PPP6Lx8opsva"
      }
    },
    {
      "cell_type": "code",
      "execution_count": 170,
      "source": [
        "def coba(n):\n",
        "  for i in range(n):\n",
        "    yield i\n",
        "\n",
        "for angka in coba(5):\n",
        "  print(angka)"
      ],
      "outputs": [
        {
          "output_type": "stream",
          "name": "stdout",
          "text": [
            "0\n",
            "1\n",
            "2\n",
            "3\n",
            "4\n"
          ]
        }
      ],
      "metadata": {
        "colab": {
          "base_uri": "https://localhost:8080/"
        },
        "id": "PLteuzp9qpBd",
        "outputId": "2e1903f2-ae41-42f0-f5b7-c9062e820b0c"
      }
    },
    {
      "cell_type": "markdown",
      "source": [
        "><b>Catatan:</b> Karena yield adalah sebuah generator maka untuk memanggil nilainya dibutuhkan statement for..in."
      ],
      "metadata": {
        "id": "UsXKWtUsq0gv"
      }
    },
    {
      "cell_type": "markdown",
      "source": [
        "### Hands on Lab 1: Generator bilangan 2<sup>n</sup>\n",
        "\n",
        "Berikut adalah contoh kode program untuk membuat generator deret bilangan 2<sup>n</sup>:"
      ],
      "metadata": {
        "id": "cQi7IokArCLH"
      }
    },
    {
      "cell_type": "code",
      "execution_count": 171,
      "source": [
        "def pangkat_dua(n):\n",
        "  bilangan = 1\n",
        "\n",
        "  for i in range(n):\n",
        "    yield bilangan\n",
        "    bilangan *= 2\n",
        "\n",
        "for bil in pangkat_dua(5):\n",
        "  print(bil, end=\"  \")"
      ],
      "outputs": [
        {
          "output_type": "stream",
          "name": "stdout",
          "text": [
            "1  2  4  8  16  "
          ]
        }
      ],
      "metadata": {
        "colab": {
          "base_uri": "https://localhost:8080/"
        },
        "id": "l6lKMpYZrVI4",
        "outputId": "647f3343-bdef-4a5a-a55a-28bf84fb4ed5"
      }
    },
    {
      "cell_type": "markdown",
      "source": [
        "Penggunaan ``yield`` juga bisa disandingkan dengan penggunaan list dalam memanggil generator-nya."
      ],
      "metadata": {
        "id": "AR_eCzF0r8fm"
      }
    },
    {
      "cell_type": "code",
      "execution_count": 172,
      "source": [
        "def pangkat_dua(n):\n",
        "  bilangan = 1\n",
        "\n",
        "  for i in range(n):\n",
        "    yield bilangan\n",
        "    bilangan *= 2\n",
        "\n",
        "bil = [x for x in pangkat_dua(5)]\n",
        "print(bil)"
      ],
      "outputs": [
        {
          "output_type": "stream",
          "name": "stdout",
          "text": [
            "[1, 2, 4, 8, 16]\n"
          ]
        }
      ],
      "metadata": {
        "colab": {
          "base_uri": "https://localhost:8080/"
        },
        "id": "-IgBZDmjsD9V",
        "outputId": "645eb41a-da6a-4072-c582-b0956fc79a56"
      }
    },
    {
      "cell_type": "markdown",
      "source": [
        "Penggunaan list sebagai penampung data dari generator ``yield`` akan mempermudah kita dalam melakukan pengolahan data lanjutan dari hasil generatornya."
      ],
      "metadata": {
        "id": "nUllCuo2sRdq"
      }
    },
    {
      "cell_type": "markdown",
      "source": [
        "### Hands on Lab 2: Reminder untuk penyerderhanaan list generator\n",
        "\n",
        "Nilai yang disimpan di dalam sebuah list dapat di-generate dengan cara yang lebih simpel dibandingkan ketika menggunakan perintah perulangan. Mari kita lihat bentuk penyederhanaan list berikut (sudah pernah dibahas pada topik sebelumnya):"
      ],
      "metadata": {
        "id": "2CiktL1QslXt"
      }
    },
    {
      "cell_type": "code",
      "execution_count": 173,
      "source": [
        "list_bil = []\n",
        "\n",
        "#cara konvensional\n",
        "for i in range(11):\n",
        "  list_bil.append(i ** 2)\n",
        "\n",
        "print(list_bil)\n",
        "\n",
        "#cara penyederhaan generate list\n",
        "list_genbil = [i**2 for i in range(11)]\n",
        "print(list_genbil)"
      ],
      "outputs": [
        {
          "output_type": "stream",
          "name": "stdout",
          "text": [
            "[0, 1, 4, 9, 16, 25, 36, 49, 64, 81, 100]\n",
            "[0, 1, 4, 9, 16, 25, 36, 49, 64, 81, 100]\n"
          ]
        }
      ],
      "metadata": {
        "colab": {
          "base_uri": "https://localhost:8080/"
        },
        "id": "K97-QeSUs8RK",
        "outputId": "448e1c0f-ad8f-411f-b683-0748a7a54d03"
      }
    },
    {
      "cell_type": "markdown",
      "source": [
        "Dua perintah tersebut menghasilkan hal yang sama walaupun bentuk statement berbeda. Penggunaan generator list sangat disarankan apabila angka yang disimpan di dalam list memiliki pola deret bilangan tertentu."
      ],
      "metadata": {
        "id": "J0YfoA3VthEn"
      }
    },
    {
      "cell_type": "markdown",
      "source": [
        "### Hands on Lab 3: Conditional pada generator list\n",
        "\n",
        "Kita juga bisa menambahkan struktur percabangan di dalam generator list. Berikut adalah contoh kasusnya untuk menampilkan bilangan kuadrat 2 tapi hanya untuk bilangan ganjil saja (bilangan genap diisi dengan 0):"
      ],
      "metadata": {
        "id": "1QtRFymht1g8"
      }
    },
    {
      "cell_type": "code",
      "execution_count": 174,
      "source": [
        "list_bil = []\n",
        "\n",
        "#cara konvensional\n",
        "for i in range(11):\n",
        "  list_bil.append(i ** 2 if i % 2 != 0 else 0)\n",
        "\n",
        "print(list_bil)\n",
        "\n",
        "#cara penyederhaan generate list\n",
        "list_genbil = [i**2 if i % 2 != 0 else 0 for i in range(11)]\n",
        "print(list_genbil)"
      ],
      "outputs": [
        {
          "output_type": "stream",
          "name": "stdout",
          "text": [
            "[0, 1, 0, 9, 0, 25, 0, 49, 0, 81, 0]\n",
            "[0, 1, 0, 9, 0, 25, 0, 49, 0, 81, 0]\n"
          ]
        }
      ],
      "metadata": {
        "colab": {
          "base_uri": "https://localhost:8080/"
        },
        "id": "EAqf2PvBuJhb",
        "outputId": "8ffefd1b-f61e-46c8-c346-93b74e19f2a5"
      }
    },
    {
      "cell_type": "markdown",
      "source": [
        "### Fungsi Lambda\n",
        "\n",
        "Lambda function adalah sebuah konsep yang diambil dari fungsi lambda di matematika dimana pada implementasinya, fungsi ini tidak memiliki nama atau disebut dengan <b>anonymous function</b>. Format umum dari fungsi ini adalah sebagai berikut:\n",
        "\n",
        "```python\n",
        "lambda parameter: expression\n",
        "```\n",
        "\n",
        "Berikut contoh penggunaan lambda function:"
      ],
      "metadata": {
        "id": "PxcgaWfpu65P"
      }
    },
    {
      "cell_type": "code",
      "execution_count": 175,
      "source": [
        "bil = lambda: 2\n",
        "akar_kuadrat = lambda x: x * x\n",
        "pangkat_xy = lambda x, y: x ** y\n",
        "\n",
        "for a in range(-2, 3):\n",
        "    print(akar_kuadrat(a), end=\" \")\n",
        "    print(pangkat_xy(a, bil()))"
      ],
      "outputs": [
        {
          "output_type": "stream",
          "name": "stdout",
          "text": [
            "4 4\n",
            "1 1\n",
            "0 0\n",
            "1 1\n",
            "4 4\n"
          ]
        }
      ],
      "metadata": {
        "colab": {
          "base_uri": "https://localhost:8080/"
        },
        "id": "xDzQF2oUv1dD",
        "outputId": "0376bef6-e1b0-4c2e-850a-54f48379ac2f"
      }
    },
    {
      "cell_type": "markdown",
      "source": [
        "### Hands on Lab 4: Mari pakai lambda\n",
        "\n",
        "Ubahlah fungsi matematika berikut menjadi fungsi lambda.\n",
        "\n",
        "f(x) = 2x<sup>2</sup> + 4x + 3\n",
        "\n",
        "Berikut kode programnya:"
      ],
      "metadata": {
        "id": "EcDkw_3zCK5Q"
      }
    },
    {
      "cell_type": "code",
      "execution_count": 176,
      "source": [
        "fx = lambda x: 2*x**2 + 4*x + 3\n",
        "\n",
        "print(fx(10))"
      ],
      "outputs": [
        {
          "output_type": "stream",
          "name": "stdout",
          "text": [
            "243\n"
          ]
        }
      ],
      "metadata": {
        "colab": {
          "base_uri": "https://localhost:8080/"
        },
        "id": "21brp-ZPCiSH",
        "outputId": "522a627c-ed1a-42f2-e59c-6c29c1b58a29"
      }
    },
    {
      "cell_type": "markdown",
      "source": [
        "Bagaimana kalau kita gabungkan antara penggunaan generator list dengan fungsi lambda dalam kasus tersebut agar bisa menghitung f(0) sampai dengan f(10)? Mari kita coba kode program berikut:"
      ],
      "metadata": {
        "id": "touwpTAwDVM9"
      }
    },
    {
      "cell_type": "code",
      "execution_count": 177,
      "source": [
        "def print_function(args, fun):\n",
        "    for x in args:\n",
        "        print('f(', x,')=', fun(x), sep='')\n",
        "\n",
        "print_function([x for x in range(11)], lambda x: 2*x**2 + 4*x + 3)"
      ],
      "outputs": [
        {
          "output_type": "stream",
          "name": "stdout",
          "text": [
            "f(0)=3\n",
            "f(1)=9\n",
            "f(2)=19\n",
            "f(3)=33\n",
            "f(4)=51\n",
            "f(5)=73\n",
            "f(6)=99\n",
            "f(7)=129\n",
            "f(8)=163\n",
            "f(9)=201\n",
            "f(10)=243\n"
          ]
        }
      ],
      "metadata": {
        "colab": {
          "base_uri": "https://localhost:8080/"
        },
        "id": "9aFw82SKDkir",
        "outputId": "8bd579be-6cff-4bc0-acf0-20f8c7e9a7df"
      }
    },
    {
      "cell_type": "markdown",
      "source": [
        "### Fungsi map() pada Lambda\n",
        "\n",
        "Fungsi ``map()`` digunakan untuk memetakan argumen1 ke argumen lain (argumen2) pada fungsi lambda dalam rangka memberikan pemrosesan pada argumen tersebut. Format umumnya adalah sebagai berikut:\n",
        "\n",
        "```python\n",
        "map(lambda_expression, collection)\n",
        "```\n",
        "\n",
        "Mari kita coba kode program berikut:"
      ],
      "metadata": {
        "id": "GehpyQxzFCkz"
      }
    },
    {
      "cell_type": "code",
      "execution_count": 178,
      "source": [
        "list_bilangan1 = [x for x in range(6)]\n",
        "list_bilangan2 = list(map(lambda x: 2 ** x, list_bilangan1))\n",
        "print(list_bilangan2)\n",
        "\n",
        "for bil in map(lambda x: x + 1, list_bilangan2):\n",
        "  print(bil)"
      ],
      "outputs": [
        {
          "output_type": "stream",
          "name": "stdout",
          "text": [
            "[1, 2, 4, 8, 16, 32]\n",
            "2\n",
            "3\n",
            "5\n",
            "9\n",
            "17\n",
            "33\n"
          ]
        }
      ],
      "metadata": {
        "colab": {
          "base_uri": "https://localhost:8080/"
        },
        "id": "TmRvlOxtGtWL",
        "outputId": "85c2d9f5-d940-4a26-c0cf-f9dbe93c601a"
      }
    },
    {
      "cell_type": "markdown",
      "source": [
        "### Fungsi filter() pada Lambda\n",
        "\n",
        "Fungsi ``filter()`` digunakan untuk menseleksi elemen yang di-generate menggunakan generator. Format umumnya adalah sebagai berikut:\n",
        "\n",
        "```python\n",
        "map(lambda_expression, collection)\n",
        "```\n",
        "\n",
        "Lambda expression diisi dengan kondisional yang mau digunakan sebagai filter datanya. Berikut contoh penggunaannya:"
      ],
      "metadata": {
        "id": "0_7gvrttT3m6"
      }
    },
    {
      "cell_type": "code",
      "execution_count": 179,
      "source": [
        "list_bilangan1 = [x for x in range(6)]\n",
        "list_bilangan_filtered = list(filter(lambda x: x >= 4,list_bilangan1))\n",
        "\n",
        "print(list_bilangan1)\n",
        "print(list_bilangan_filtered)"
      ],
      "outputs": [
        {
          "output_type": "stream",
          "name": "stdout",
          "text": [
            "[0, 1, 2, 3, 4, 5]\n",
            "[4, 5]\n"
          ]
        }
      ],
      "metadata": {
        "colab": {
          "base_uri": "https://localhost:8080/"
        },
        "id": "P79jU978UXXi",
        "outputId": "ed37ca0a-8506-4370-b392-c475da3381cf"
      }
    },
    {
      "cell_type": "markdown",
      "source": [
        "Pada contoh kode program tersebut, fungsi ``filter()`` digunakan untuk menseleksi elemen pada ``list_bilangan1`` yang lebih dari sama dengan 4."
      ],
      "metadata": {
        "id": "GdBzaEfIVzob"
      }
    },
    {
      "cell_type": "markdown",
      "source": [
        "### Closure\n",
        "\n",
        "Closure adalah teknik yang memungkinkan penyimpanan nilai walaupun konteks yang menciptakan nilai tersebut sudah tidak eksis di memori lagi. Mari kita perhatikan contoh kode program berikut:"
      ],
      "metadata": {
        "id": "crBAjfUMWBKz"
      }
    },
    {
      "cell_type": "code",
      "execution_count": 180,
      "source": [
        "def outer(par):\n",
        "  loc = par\n",
        "\n",
        "  def inner():\n",
        "    return loc\n",
        "  return inner\n",
        "\n",
        "\n",
        "var = 1\n",
        "fun = outer(var)\n",
        "print(fun())"
      ],
      "outputs": [
        {
          "output_type": "stream",
          "name": "stdout",
          "text": [
            "1\n"
          ]
        }
      ],
      "metadata": {
        "colab": {
          "base_uri": "https://localhost:8080/"
        },
        "id": "RJU5d39fWiEC",
        "outputId": "36830d3d-ba81-432b-c5ea-ea101b629603"
      }
    },
    {
      "cell_type": "markdown",
      "source": [
        "Penjelasan:\n",
        "\n",
        "1. Fungsi ``inner()`` mengembalikan nilai dari variabel yang diakses dalam scope-nya. Sebagai <b>inner function</b> (fungsi dalam fungsi) maka ``inner()`` bisa menggunakan entity pada fungsi ``outer()``.\n",
        "\n",
        "2. ``outer()`` mengembalikan ``inner()`` sebagai return valuenya.\n",
        "\n",
        "Fungsi yang dikembalikan oleh ``outer()`` ketika dipanggil disebut dengan closure. Mari kita lihat contoh berikutnya:"
      ],
      "metadata": {
        "id": "04XFn4UtW5TA"
      }
    },
    {
      "cell_type": "code",
      "execution_count": 181,
      "source": [
        "def make_closure(par):\n",
        "  loc = par\n",
        "\n",
        "  def power(p):\n",
        "    return p ** loc\n",
        "  return power\n",
        "\n",
        "\n",
        "fsqr = make_closure(2)\n",
        "fcub = make_closure(3)\n",
        "\n",
        "for i in range(5):\n",
        "  print(i, fsqr(i), fcub(i))"
      ],
      "outputs": [
        {
          "output_type": "stream",
          "name": "stdout",
          "text": [
            "0 0 0\n",
            "1 1 1\n",
            "2 4 8\n",
            "3 9 27\n",
            "4 16 64\n"
          ]
        }
      ],
      "metadata": {
        "colab": {
          "base_uri": "https://localhost:8080/"
        },
        "id": "VclxGPu_X0KT",
        "outputId": "666afec2-a140-448f-c93a-86b0e877daf4"
      }
    },
    {
      "cell_type": "markdown",
      "source": [
        "Di contoh kode program tadi, kita bisa melihat selain untuk mempertahankan data, closure juga bisa menerima parameter dari luar yang digunakan di dalam fungsi tersebut."
      ],
      "metadata": {
        "id": "F8d93HZ1YZ0V"
      }
    },
    {
      "cell_type": "markdown",
      "source": [
        "## Pengaksesan File di Python\n",
        "\n",
        "Python memungkinkan kita melakukan pembacaan dan penulisan data ke dalam file. Hal ini dilakukan agar nilai yang diproses tidak ikut hilang seiring berakhirnya eksekusi kode program. Ada beberapa format file yang bisa digunakan oleh Python, akan tetapi format yang paling sering digunakan, yaitu: txt dan csv.\n",
        "\n",
        "Sebelum masuk ke pembahasan akses file menggunakan Python, mari kita pelajari beberapa konsep perihal nama file."
      ],
      "metadata": {
        "id": "Ny1H9JqIaGPc"
      }
    },
    {
      "cell_type": "markdown",
      "source": [
        "Sebuah file yang disimpan di sistem komputer pasti memiliki nama. Melalui nama inilah kita bisa mengakses file tersebut. File disimpan dalam sebuah direktori. Untuk bisa bisa mengakses file, maka kita perlu mengetahui alamat file yang biasanya terdiri dari nama direktori diikuti nama filenya. Ada perbedaan pengalamatan direktori dan file pada OS Windows dan OS Linux/Mac OS. Contoh perbedaannya adalah sebagai berikut:\n",
        "\n",
        "<b>Windows</b>\n",
        "\n",
        "``C:\\Documents\\file.txt``\n",
        "\n",
        "<b>Linux dan Mac OS</b>\n",
        "\n",
        "``/Documents/file.txt``\n",
        "\n",
        "Setelah kita memahami pengaksesan alamat direktori dan file, mari kita mulai mengakses file menggunakan Python."
      ],
      "metadata": {
        "id": "LZnZpax1axA9"
      }
    },
    {
      "cell_type": "markdown",
      "source": [
        "### File Streams\n",
        "\n",
        "Python memiliki beberapa jenis File Streams. Salah satunya adalah <b>Open Mode</b>. Open Mode digunakan untuk membuka sebuah file. Jika proses pembukaan file berhasil, maka program bisa melakukan operasi yang sesuai dengan Open Mode.\n",
        "\n",
        "Dua operasi yang bisa dilakukan di Open Mode, adalah:\n",
        "\n",
        "1. <b>Read from the stream</b> - Data dari sebuah file ditempatkan di memory yang di-manage oleh program.\n",
        "\n",
        "2. <b>Write to the stream</b> - Data dari memory yang di-manage oleh program dikirim ke dalam sebiah file.\n",
        "\n",
        "Dalam python ada tiga mode yang didukung, yaitu:\n",
        "\n",
        "| Mode | Penjelasan |\n",
        "| :--- | :--- |\n",
        "| read mode | sebuah stream dibuka dan stream hanya bisa dibaca saja |\n",
        "| write mode | sebuah stream dibuka dan operasi write saja yang diizinkan untuk dilakukan |\n",
        "| update mode | sebuah stream dibuka dan operasi write dan read bisa dilakukan |\n",
        "\n"
      ],
      "metadata": {
        "id": "gIzWSyA6ch2a"
      }
    },
    {
      "cell_type": "markdown",
      "source": [
        "### Mode Streams (File)\n",
        "\n",
        "Mode streams dalam Python dapat dilihat pada tabel berikut:\n",
        "\n",
        "| Open Mode | Makna | Penjelasan |\n",
        "| :---: | :--- | :--- |\n",
        "| ``r`` | open mode: read | Stream akan dibuka dalam read mode. File yang dibuka harus eksis dan harus memiliki permission untuk dibaca. |\n",
        "| ``w`` | open mode: write | Stream akan dibuka dalam write mode. Jika stream yang mau ditulis belum ada, maka akan dibuat, jika sudah ada sebelumnya, maka isi sebelumnya akan dihapus. |\n",
        "| ``a`` | open mode: append | Stream akan dibuka dalam  append mode. Jika stream tidak eksis, maka akan dibuat. Jika sudah ada sebelumnya maka pointer ``head`` akan mereferensi ke akhir file (EoF) dan penambahan data akan dilakukan mulai dari posisi tersebut. Isian lama tidak hilang. |\n",
        "| ``r+`` | open mode: read and update | Stream akan dibuka dalam read and update mode. File yang dibaca harus tersedia dan harus memiliki permission untuk ditulisi. |\n",
        "| ``w+`` | open mode: write and update | Stream akan dibuka dalam write and update mode. File yang mau ditulisi tidak perlu eksis. Jika belum ada, file akan dibuat. Isi file yang sudah ada sebelumnya tidak akan hilang. |"
      ],
      "metadata": {
        "id": "j5hCmHacewt4"
      }
    },
    {
      "cell_type": "markdown",
      "source": [
        "### Text dan Binary Mode\n",
        "\n",
        "Mode streams bisa diterapkan terhadap seluruh jenis file. Akan tetapi apabila kita ingin fokus dalam melakukan pembacaan file berisi teks, maka kita bisa menggunakan mode text and binary. Mode di dalam text and binary dapat dilihat pada tabel berikut:"
      ],
      "metadata": {
        "id": "8r0R8A-GhS7h"
      }
    },
    {
      "cell_type": "markdown",
      "source": [
        "| Text mode\t| Binary mode |\tDeskripsi |\n",
        "| :---: | :---: | :--- |\n",
        "| ``rt`` |\t``rb`` | read |\n",
        "| ``wt`` | ``wb`` | write |\n",
        "| ``at`` | ``ab`` | append |\n",
        "| ``r+t`` | ``r+b`` | read and update|\n",
        "| ``w+t`` | ``w+b`` | write and update |"
      ],
      "metadata": {
        "id": "_8kqrBPchtdw"
      }
    },
    {
      "cell_type": "markdown",
      "source": [
        "Suffix t dan b pada mode menandakan modenya. Suffix t berarti text mode sedangkan b berarti binary mode. Jika suffix tidak diberikan, maka mode default yang digunakan adalah Text Mode."
      ],
      "metadata": {
        "id": "aYA7gmICihuH"
      }
    },
    {
      "cell_type": "markdown",
      "source": [
        "### Membuka File Pertama Kali\n",
        "\n",
        "Untuk melakukan pembukaan file, fungsi yang digunakan adalah ``open()``. Format umum fungsi tersebut adalah sebagai berikut:\n",
        "\n",
        "```python\n",
        "variabel = open(<alamat_file>, <open mode>\n",
        "```\n",
        "\n",
        "Berikut contoh penggunaannya:\n"
      ],
      "metadata": {
        "id": "5xR9XkUijLcP"
      }
    },
    {
      "cell_type": "code",
      "execution_count": 182,
      "source": [
        "try:\n",
        "  stream = open(\"/Documents/coba.txt\", \"rt\")\n",
        "  # Processing goes here.\n",
        "  stream.close()\n",
        "except Exception as exc:\n",
        "    print(\"File tidak bisa dibuka dengan pesan:\", exc)"
      ],
      "outputs": [
        {
          "output_type": "stream",
          "name": "stdout",
          "text": [
            "File tidak bisa dibuka dengan pesan: [Errno 2] No such file or directory: '/Documents/coba.txt'\n"
          ]
        }
      ],
      "metadata": {
        "colab": {
          "base_uri": "https://localhost:8080/"
        },
        "id": "yXh7Bu22j887",
        "outputId": "9d8ed408-82a0-4115-a2b6-bf491ee2475b"
      }
    },
    {
      "cell_type": "markdown",
      "source": [
        "Eksekusi kode program tersebut menghasilkan exception karena file tidak ditemukan pada alamat tersebut.\n",
        "\n",
        "><b>Catatan:</b> \n",
        "Silakan sesuaikan pengalamatan file dengan OS yang digunakan. Gunakan lingkungan Python di komputer masing-masing (jangan eksekusi di google colabs) agar mudah melakukan pembacaan filenya."
      ],
      "metadata": {
        "id": "EA0vve3NkU1N"
      }
    },
    {
      "cell_type": "markdown",
      "source": [
        "### Diagnosis Error pada Operasi File\n",
        "\n",
        "Kita bisa mengecek jenis exception yang terjadi pada sebuah file dengan memanfaatkan entity ``strerror`` yang terdapat pada module ``os``. Berikut contoh penggunaannya:"
      ],
      "metadata": {
        "id": "LDAmsJMSlx90"
      }
    },
    {
      "cell_type": "code",
      "execution_count": 183,
      "source": [
        "from os import strerror\n",
        "\n",
        "try:\n",
        "  stream = open(\"/Documents/coba.txt\", \"rt\")\n",
        "  # Processing goes here.\n",
        "  stream.close()\n",
        "except Exception as exc:\n",
        "  print(\"File tidak bisa dibuka dengan pesan:\", strerror(exc.errno))"
      ],
      "outputs": [
        {
          "output_type": "stream",
          "name": "stdout",
          "text": [
            "File tidak bisa dibuka dengan pesan: No such file or directory\n"
          ]
        }
      ],
      "metadata": {
        "colab": {
          "base_uri": "https://localhost:8080/"
        },
        "id": "fILL1EyPmNDt",
        "outputId": "5773c7d8-c3e3-4425-a48b-a2916927ff1d"
      }
    },
    {
      "cell_type": "markdown",
      "source": [
        "Dengan memanfaatkan ``strerror()`` exception yang ditangkap lebih mudah dikenali. Kalau diperhatikan dengan baik, exception memiliki sebuah konstanta bernama ``errno``. ``errno`` kita gunakan untuk menspesifikkan jenis error yang ditangkap. Sebagai contoh pada kode program sebelumnya, kita menangkap exception dengan ``errno`` sama dengan 2. ``errno`` 2 menandakan ``no such file or directory``. Ada banyak jenis ``errno`` yang bisa ditangkap. Untuk dokumentasi ``errno``, silakan buka <a href = \"https://docs.python.org/3/library/errno.html?highlight=errno#module-errno\"> LINK BERIKUT</a>.\n",
        "\n",
        "Mari kita coba kode program berikut:"
      ],
      "metadata": {
        "id": "HfDu903mnQ_O"
      }
    },
    {
      "cell_type": "code",
      "execution_count": 184,
      "source": [
        "import errno\n",
        "\n",
        "try:\n",
        "  stream = open(\"/Documents/coba.txt\", \"rt\")\n",
        "  # Processing goes here.\n",
        "  stream.close()\n",
        "except Exception as exc:\n",
        "  if exc.errno == errno.ENOENT:\n",
        "    print(\"File tidak ditemukan\")\n",
        "  elif exc.errno == errno.EMFILE:\n",
        "    print(\"File yang dibuka terlalu banyak.\")\n",
        "  else:\n",
        "    print(\"Errno yang dihasilkan adalah :\", exc.errno)"
      ],
      "outputs": [
        {
          "output_type": "stream",
          "name": "stdout",
          "text": [
            "File tidak ditemukan\n"
          ]
        }
      ],
      "metadata": {
        "colab": {
          "base_uri": "https://localhost:8080/"
        },
        "id": "SAbzGN2tnpJm",
        "outputId": "e940171d-f5cd-4c11-efb7-6f3e556b6b00"
      }
    },
    {
      "cell_type": "markdown",
      "source": [
        "### Hands on Lab 5: Membuka file data.txt\n",
        "\n",
        "Disclaimer:\n",
        "Sebelum menjalankan kode program berikut, silakan copy-paste file halo.txt ke dalam direktori yang sama dengan file .ipynb atau .py anda. Untuk bisa mendapatkan file tersebut, silakan unduh di <a href = \"https://github.com/adammb86/FGAUNIKOM2021/blob/master/halo.txt\">LINK BERIKUT</a> setelah itu simpan di alamat yang mudah anda akses (ingat, ganti alamat pada kode program sesuai dengan alamat tempat Anda menyimpan filenya). Apabila file diletakkan pada folder yang sama, maka kita cukup menyebutkan nama filenya beserta ektensi filenya.\n",
        "\n",
        "Mari kita coba kode program berikut:"
      ],
      "metadata": {}
    },
    {
      "cell_type": "code",
      "execution_count": 185,
      "source": [
        "try:\n",
        "    filehalo = open(\"halo.txt\",\"rt\", encoding = \"UTF-8\")\n",
        "    print(filehalo.read())\n",
        "    filehalo.close()\n",
        "except Exception as exc:\n",
        "    print(exc.errno)"
      ],
      "outputs": [
        {
          "output_type": "stream",
          "name": "stdout",
          "text": [
            "Halo semua!\n",
            "Saya adalah sebuah file bernama halo.\n",
            "Kalian pasti familiar dengan namaku kan?\n",
            "\n",
            "Di topik ini kalian akan bermain bersama teman-temanku yang lain juga loh.\n",
            "Mari SEMANGAT...\n"
          ]
        }
      ],
      "metadata": {}
    },
    {
      "cell_type": "markdown",
      "source": [
        "><b>Catatan:</b> Pada fungsi ``open()`` terdapat parameter encoding yang digunakan untuk menentukan code point yang digunakan dalam menerjemahkan karakter di dalam file. Proses ini sudah dibahas pada topik sebelumnya."
      ],
      "metadata": {}
    },
    {
      "cell_type": "markdown",
      "source": [
        "### Fungsi read()\n",
        "\n",
        "Pada contoh sebelumnya kita sudah menggunakan fungsi ``read()`` untuk membaca isi file. Fungsi ``read()`` apabila diaplikasikan pada file teks maka akan melakukan:\n",
        "\n",
        "1. Membaca sejumlah karakter yang diinginkan (walaupun hanya satu) dari file dan mengembalikan mereka dalam bentuk string.\n",
        "2. Membaca seluruh karakter yang ada pada file dan mengembalikan mereka dalam bentuk string.\n",
        "3. Jika tidak ada lagi yang dibaca (pointer head mencapai End of File), fungsi akan mengembalikan string kosong.\n",
        "\n",
        "Mari kita baca isi file puisi.txt (silakan buat file tersebut di folder yang sama dengan file .ipynb atau .py anda dan beri nama puisi.txt) berikut dan juga menghitung jumlah karakter di dalamnya:\n",
        "\n",
        "```\n",
        "Kalau sampai waktuku\n",
        "'Ku mau tak seorang 'kan merayu\n",
        "Tidak juga kau\n",
        "\n",
        "Tak perlu sedu sedan itu\n",
        "\n",
        "Aku ini binatang jalang\n",
        "Dari kumpulannya terbuang\n",
        "\n",
        "Biar peluru menembus kulitku\n",
        "Aku tetap meradang menerjang\n",
        "\n",
        "Luka dan bisa kubawa berlari\n",
        "Berlari\n",
        "\n",
        "Hingga hilang pedih peri\n",
        "\n",
        "Dan aku akan lebih tidak peduli\n",
        "Aku mau hidup seribu tahun lagi!\n",
        "``"
      ],
      "metadata": {}
    },
    {
      "cell_type": "code",
      "execution_count": 186,
      "source": [
        "from os import strerror\n",
        "\n",
        "try:\n",
        "    jml_karakter = 0\n",
        "    puisiaku = open('puisi.txt', \"rt\")\n",
        "    isi = puisiaku.read(1)\n",
        "    while isi != '':\n",
        "        print(isi, end='')\n",
        "        jml_karakter += 1\n",
        "        isi = puisiaku.read(1)\n",
        "    puisiaku.close()\n",
        "    print(\"\\n\\nJumlah karakter dalam puisi aku:\", jml_karakter)\n",
        "except IOError as e:\n",
        "    print(\"I/O error berupa: \", strerror(e.errno))"
      ],
      "outputs": [
        {
          "output_type": "stream",
          "name": "stdout",
          "text": [
            "Kalau sampai waktuku\n",
            "'Ku mau tak seorang 'kan merayu\n",
            "Tidak juga kau\n",
            "\n",
            "Tak perlu sedu sedan itu\n",
            "\n",
            "Aku ini binatang jalang\n",
            "Dari kumpulannya terbuang\n",
            "\n",
            "Biar peluru menembus kulitku\n",
            "Aku tetap meradang menerjang\n",
            "\n",
            "Luka dan bisa kubawa berlari\n",
            "Berlari\n",
            "\n",
            "Hingga hilang pedih peri\n",
            "\n",
            "Dan aku akan lebih tidak peduli\n",
            "Aku mau hidup seribu tahun lagi!\n",
            "\n",
            "Jumlah karakter dalam puisi aku: 333\n"
          ]
        }
      ],
      "metadata": {}
    },
    {
      "cell_type": "markdown",
      "source": [
        "><b>Catatan:</b> nilai parameter 1 pada fungsi ``read()`` akan melakukan pembacaan pada karakter pertama di file puisi.txt."
      ],
      "metadata": {}
    },
    {
      "cell_type": "markdown",
      "source": [
        "### Hands on Lab 6: Membaca file dengan for\n",
        "\n",
        "Mari kita coba kode program berikut (asumsi file puisi.txt sudah tersedia):"
      ],
      "metadata": {}
    },
    {
      "cell_type": "code",
      "execution_count": 187,
      "source": [
        "from os import strerror\n",
        "\n",
        "try:\n",
        "    jml_karakter = 0\n",
        "    puisiaku = open('puisi.txt', \"rt\")\n",
        "    isipuisi = puisiaku.read()\n",
        "\n",
        "    for isi in isipuisi:\n",
        "        print(isi,end = '')\n",
        "        jml_karakter +=1\n",
        "    \n",
        "    puisiaku.close()\n",
        "    print(\"\\n\\nJumlah karakter dalam puisi aku:\", jml_karakter)\n",
        "except IOError as e:\n",
        "    print(\"I/O error berupa: \", strerror(e.errno))"
      ],
      "outputs": [
        {
          "output_type": "stream",
          "name": "stdout",
          "text": [
            "Kalau sampai waktuku\n",
            "'Ku mau tak seorang 'kan merayu\n",
            "Tidak juga kau\n",
            "\n",
            "Tak perlu sedu sedan itu\n",
            "\n",
            "Aku ini binatang jalang\n",
            "Dari kumpulannya terbuang\n",
            "\n",
            "Biar peluru menembus kulitku\n",
            "Aku tetap meradang menerjang\n",
            "\n",
            "Luka dan bisa kubawa berlari\n",
            "Berlari\n",
            "\n",
            "Hingga hilang pedih peri\n",
            "\n",
            "Dan aku akan lebih tidak peduli\n",
            "Aku mau hidup seribu tahun lagi!\n",
            "\n",
            "Jumlah karakter dalam puisi aku: 333\n"
          ]
        }
      ],
      "metadata": {}
    },
    {
      "cell_type": "markdown",
      "source": [
        "### Fungsi readline\n",
        "\n",
        "Fungsi ``readline()`` bisa digunakan untuk membaca file dan menganggap isi file tersebut adalah kumpulan baris. Fungsi ini akan membaca sebuah baris secara komplit dan mengembalikan isinya sebagai sebuah string. Jika isi file kosong, maka fungsi ini akan mengembalikan string kosong.\n",
        "\n",
        "Mari kita coba kode program berikut:"
      ],
      "metadata": {}
    },
    {
      "cell_type": "code",
      "execution_count": 188,
      "source": [
        "from os import strerror\n",
        "\n",
        "try:\n",
        "    jml_karakter = jml_baris = 0\n",
        "    puisiaku = open('puisi.txt', \"rt\")\n",
        "    barispuisi = puisiaku.readline()\n",
        "\n",
        "    while barispuisi != '':\n",
        "        jml_baris += 1\n",
        "\n",
        "        for baris in barispuisi:\n",
        "            print(baris, end = '')\n",
        "            jml_karakter += 1\n",
        "        \n",
        "        barispuisi = puisiaku.readline()\n",
        "    \n",
        "    puisiaku.close()\n",
        "    print(\"\\n\\nJumlah karakter dalam puisi aku:\", jml_karakter)\n",
        "    print(\"\\n\\nJumlah baris dalam puisi aku:\", jml_baris)\n",
        "except IOError as e:\n",
        "    print(\"I/O error berupa: \", strerror(e.errno))"
      ],
      "outputs": [
        {
          "output_type": "stream",
          "name": "stdout",
          "text": [
            "Kalau sampai waktuku\n",
            "'Ku mau tak seorang 'kan merayu\n",
            "Tidak juga kau\n",
            "\n",
            "Tak perlu sedu sedan itu\n",
            "\n",
            "Aku ini binatang jalang\n",
            "Dari kumpulannya terbuang\n",
            "\n",
            "Biar peluru menembus kulitku\n",
            "Aku tetap meradang menerjang\n",
            "\n",
            "Luka dan bisa kubawa berlari\n",
            "Berlari\n",
            "\n",
            "Hingga hilang pedih peri\n",
            "\n",
            "Dan aku akan lebih tidak peduli\n",
            "Aku mau hidup seribu tahun lagi!\n",
            "\n",
            "Jumlah karakter dalam puisi aku: 333\n",
            "\n",
            "\n",
            "Jumlah baris dalam puisi aku: 19\n"
          ]
        }
      ],
      "metadata": {}
    },
    {
      "cell_type": "markdown",
      "source": [
        "### Fungsi readlines\n",
        "\n",
        "Fungsi ``readlines()`` akan membaca semua isi file dan mengembalikannya dalam sebuah bentuk list dari string. 1 elemen list menampung 1 baris isi file. Mari kita coba contoh kasusnya:"
      ],
      "metadata": {}
    },
    {
      "cell_type": "code",
      "execution_count": 189,
      "source": [
        "from os import strerror\n",
        "\n",
        "try:\n",
        "    jml_karakter = jml_baris = 0\n",
        "    puisiaku = open('puisi.txt', \"rt\")\n",
        "    barispuisi = puisiaku.readlines()\n",
        "\n",
        "    while len(barispuisi) != 0:\n",
        "        for baris in barispuisi:\n",
        "            jml_baris += 1\n",
        "\n",
        "            for karakter in baris:\n",
        "                print(karakter, end = '')\n",
        "                jml_karakter += 1\n",
        "        \n",
        "        barispuisi = puisiaku.readlines()\n",
        "    \n",
        "    puisiaku.close()\n",
        "    print(\"\\n\\nJumlah karakter dalam puisi aku:\", jml_karakter)\n",
        "    print(\"\\n\\nJumlah baris dalam puisi aku:\", jml_baris)\n",
        "except IOError as e:\n",
        "    print(\"I/O error berupa: \", strerror(e.errno))"
      ],
      "outputs": [
        {
          "output_type": "stream",
          "name": "stdout",
          "text": [
            "Kalau sampai waktuku\n",
            "'Ku mau tak seorang 'kan merayu\n",
            "Tidak juga kau\n",
            "\n",
            "Tak perlu sedu sedan itu\n",
            "\n",
            "Aku ini binatang jalang\n",
            "Dari kumpulannya terbuang\n",
            "\n",
            "Biar peluru menembus kulitku\n",
            "Aku tetap meradang menerjang\n",
            "\n",
            "Luka dan bisa kubawa berlari\n",
            "Berlari\n",
            "\n",
            "Hingga hilang pedih peri\n",
            "\n",
            "Dan aku akan lebih tidak peduli\n",
            "Aku mau hidup seribu tahun lagi!\n",
            "\n",
            "Jumlah karakter dalam puisi aku: 333\n",
            "\n",
            "\n",
            "Jumlah baris dalam puisi aku: 19\n"
          ]
        }
      ],
      "metadata": {}
    },
    {
      "cell_type": "markdown",
      "source": [
        "### Object pada fungsi open()\n",
        "\n",
        "Fungsi ``open()`` akan mengembalikan sebuah object iterator. Karena objeknya berupa iterator, maka fungsi ini juga memiliki karakteristik seperti iterator pada umumnya. Method ``__next__`` akan mengembalikan next line read dari sebuah file dan ketika sudah mencapai End of File, maka fungsi ini akan memanggil fungsi ``close()``.\n",
        "\n",
        "Mari kita coba kode program berikut:"
      ],
      "metadata": {}
    },
    {
      "cell_type": "code",
      "execution_count": 190,
      "source": [
        "from os import strerror\n",
        "\n",
        "try:\n",
        "    jml_karakter = jml_baris = 0\n",
        "    \n",
        "    for baris in open('puisi.txt', 'rt'):\n",
        "        jml_baris += 1\n",
        "\n",
        "        for karakter in baris:\n",
        "            print(karakter, end = '')\n",
        "            jml_karakter += 1\n",
        "\n",
        "    print(\"\\n\\nJumlah karakter dalam puisi aku:\", jml_karakter)\n",
        "    print(\"\\n\\nJumlah baris dalam puisi aku:\", jml_baris)\n",
        "except IOError as e:\n",
        "    print(\"I/O error berupa: \", strerror(e.errno))"
      ],
      "outputs": [
        {
          "output_type": "stream",
          "name": "stdout",
          "text": [
            "Kalau sampai waktuku\n",
            "'Ku mau tak seorang 'kan merayu\n",
            "Tidak juga kau\n",
            "\n",
            "Tak perlu sedu sedan itu\n",
            "\n",
            "Aku ini binatang jalang\n",
            "Dari kumpulannya terbuang\n",
            "\n",
            "Biar peluru menembus kulitku\n",
            "Aku tetap meradang menerjang\n",
            "\n",
            "Luka dan bisa kubawa berlari\n",
            "Berlari\n",
            "\n",
            "Hingga hilang pedih peri\n",
            "\n",
            "Dan aku akan lebih tidak peduli\n",
            "Aku mau hidup seribu tahun lagi!\n",
            "\n",
            "Jumlah karakter dalam puisi aku: 333\n",
            "\n",
            "\n",
            "Jumlah baris dalam puisi aku: 19\n"
          ]
        }
      ],
      "metadata": {}
    },
    {
      "cell_type": "markdown",
      "source": [
        "Hasilnya akan sama dengan pemanggilan isi file sebelumnya."
      ],
      "metadata": {}
    },
    {
      "cell_type": "markdown",
      "source": [
        "### Method write\n",
        "\n",
        "Method ``write()`` memiliki sebuah argument berupa string yang akan ditransfer ke dalam sebuah file yang sudah dibuka sebelumnya. Apabila membutuhkan karakter newline maka kita harus menambahkan sendiri.\n",
        "\n",
        "Berikut contoh penggunaan fungsi ``write()``:"
      ],
      "metadata": {}
    },
    {
      "cell_type": "code",
      "execution_count": 191,
      "source": [
        "from os import strerror\n",
        "\n",
        "try:\n",
        "\tfile = open('filebaru.txt', 'wt') # filebaru.txt akan di-create\n",
        "\tfor i in range(10):\n",
        "\t\tisi_file = \"Baris #\" + str(i+1) + \"\\n\" # newline ditambahkan\n",
        "\t\tfor karakter in isi_file:\n",
        "\t\t\tfile.write(karakter)\n",
        "\tfile.close()\n",
        "except IOError as e:\n",
        "\tprint(\"I/O error occurred: \", strerror(e.errno))"
      ],
      "outputs": [],
      "metadata": {}
    },
    {
      "cell_type": "markdown",
      "source": [
        "Berikut hasil eksekusi dari program tersebut:\n",
        "\n",
        "![Isi file filebaru.txt](https://drive.google.com/uc?export=view&id=1Cov-Zy1vipnS2bN15sxV-EDC7JcVZgSu)\n"
      ],
      "metadata": {}
    },
    {
      "cell_type": "markdown",
      "source": [
        "### Baca dan Tulis File Binary\n",
        "\n",
        "Selain file teks, Python juga bisa mengakses file binary. Mari kita coba kode program berikut agar bisa mengetahui perbedaan text file dengan binary file:"
      ],
      "metadata": {}
    },
    {
      "cell_type": "code",
      "execution_count": 192,
      "source": [
        "from os import strerror\n",
        "\n",
        "data = bytearray(10)\n",
        "\n",
        "for i in range(len(data)):\n",
        "    data[i] = 10 + i\n",
        "\n",
        "try:\n",
        "    bin_file = open('binary.bin', 'wb')\n",
        "    bin_file.write(data)\n",
        "    bin_file.close()\n",
        "except IOError as e:\n",
        "    print(\"I/O error berupa:\", strerror(e.errno))\n",
        "\n",
        "# Your code that reads bytes from the stream should go here."
      ],
      "outputs": [],
      "metadata": {}
    },
    {
      "cell_type": "markdown",
      "source": [
        "Apabila isi binary.bin diperiksa, maka kita tidak akan menemukan isi yang readable. Untu bisa membaca isinya, python menyediakan fungsi ``readinto()``. Berikut contoh penggunaannya:"
      ],
      "metadata": {}
    },
    {
      "cell_type": "code",
      "execution_count": 193,
      "source": [
        "from os import strerror\n",
        "\n",
        "data = bytearray(10)\n",
        "\n",
        "try:\n",
        "    bin_file = open('binary.bin', 'rb')\n",
        "    bin_file.readinto(data)\n",
        "    bin_file.close()\n",
        "\n",
        "    for baris in data:\n",
        "        print(hex(baris), end=' ')\n",
        "except IOError as e:\n",
        "    print(\"I/O error occurred:\", strerror(e.errno))"
      ],
      "outputs": [
        {
          "output_type": "stream",
          "name": "stdout",
          "text": [
            "0xa 0xb 0xc 0xd 0xe 0xf 0x10 0x11 0x12 0x13 "
          ]
        }
      ],
      "metadata": {}
    },
    {
      "cell_type": "markdown",
      "source": [
        "Kalau diperhatikan dengan baik maka isi file ``binary.bin`` adalah karakter hexadecimal. Untuk bisa membaca byte dalam file binary, python mempunyai fungsi alternatif berupa ``bytearray(<nama_file>.read())``. Contoh penggunaannya adalah sebagai berikut:"
      ],
      "metadata": {}
    },
    {
      "cell_type": "code",
      "execution_count": 194,
      "source": [
        "from os import strerror\n",
        "\n",
        "try:\n",
        "    bin_file = open('binary.bin', 'rb')\n",
        "    data = bytearray(bin_file.read())\n",
        "    bin_file.close()\n",
        "\n",
        "    for baris in data:\n",
        "        print(hex(baris), end=' ')\n",
        "\n",
        "except IOError as e:\n",
        "    print(\"I/O error occurred:\", strerror(e.errno))\n"
      ],
      "outputs": [
        {
          "output_type": "stream",
          "name": "stdout",
          "text": [
            "0xa 0xb 0xc 0xd 0xe 0xf 0x10 0x11 0x12 0x13 "
          ]
        }
      ],
      "metadata": {}
    },
    {
      "cell_type": "markdown",
      "source": [
        "><b>Catatan:</b> Jangan gunakan fungsi alternatif ini kalau kita tidak yakin dengan sisa memori komputer yang bisa dipesan untuk menyimpan isi file karena fungsi ini akan memindahkan seluruh isi file secara bersamaan ke dalam memori komputer."
      ],
      "metadata": {}
    },
    {
      "cell_type": "markdown",
      "source": [
        "## Module os\n",
        "\n",
        "Module ini sudah sempat dibahas pada topik 5. Secara umum, module ini berfungsi untuk:\n",
        "\n",
        "1. Mendapatkan informasi perihal OS.\n",
        "2. Manajemen proses di OS.\n",
        "3. Mengoperasikan I/O streams menggunakan file descriptors.\n",
        "\n",
        "Berikut beberapa entity yang sering dipakai di module ``os``:\n",
        "\n",
        "| Entity | Penjelasan |\n",
        "| :--- | :--- |\n",
        "| uname() | Menampilkan informasi dari OS berupa:<br>1. systemname - menyimpan nama dari OS<br>2. nodename - menyimpan nama machine  di dalam jaringan<br>3. release - menyimpan informasi release OS<br>4. version - menyimpan versi OS<br>5. machine - menyimpan identifier hardware (contoh: x86_64) |\n",
        "| name() | Menampilkan atribut nama dari OS, contoh:<br>1. psix untuk Unix<br>2. nt untuk Windows<br>3. java untuk kode yang ditulis di Jython. |\n",
        "| mkdir() | Membuat direktori baru di direktori aktif |\n",
        "| listdir() | Menampilkan list isi direktori aktif dan sub direktorinya |\n",
        "| chdir() | Mengganti direktori aktif |\n",
        "| getcwd() | Menampilkan nama direktori aktif |\n",
        "| rmdir() | Menghapus direktori pada parameter |\n",
        "| system() | Memeriksa status dari perintah/command yang dieksekusi pada OS |\n",
        "\n",
        "The os module allows you to quickly distinguish the operating system using the name attribute, which supports one of the following names:\n",
        "\n",
        "posix — you'll get this name if you use Unix;\n",
        "nt — you'll get this name if you use Windows;\n",
        "java — you'll get this name if your code is written in Jython.\n"
      ],
      "metadata": {}
    },
    {
      "cell_type": "markdown",
      "source": [
        "### Fungsi uname() dan name\n",
        "\n",
        "Berikut contoh penggunaan keduanya:"
      ],
      "metadata": {}
    },
    {
      "cell_type": "code",
      "execution_count": 195,
      "source": [
        "import os\n",
        "\n",
        "print(os.uname())\n",
        "print(os.name)"
      ],
      "outputs": [
        {
          "output_type": "stream",
          "name": "stdout",
          "text": [
            "posix.uname_result(sysname='Darwin', nodename='Adams-MacBook-Pro.local', release='20.6.0', version='Darwin Kernel Version 20.6.0: Wed Jun 23 00:26:31 PDT 2021; root:xnu-7195.141.2~5/RELEASE_X86_64', machine='x86_64')\n",
            "posix\n"
          ]
        }
      ],
      "metadata": {}
    },
    {
      "cell_type": "markdown",
      "source": [
        "### Fungsi listdir()\n",
        "\n",
        "Berikut contoh penggunaan fungsi ``listdir()``:"
      ],
      "metadata": {}
    },
    {
      "cell_type": "code",
      "execution_count": 196,
      "source": [
        "import os\n",
        "\n",
        "print(os.listdir())"
      ],
      "outputs": [
        {
          "output_type": "stream",
          "name": "stdout",
          "text": [
            "['Topic 2 - Data Types, Variables, Basic Input-Output Operations, Basic Operators.ipynb', 'Topik 8 - Miscellaneous.ipynb.ab8e8ebc0912fe7ec45b98d4eb8da387.tmp', 'halo.txt', '.DS_Store', 'Topik 8 - Miscellaneous.ipynb', 'filebaru.txt', 'Topic 7 - Object Oriented Programming.ipynb', 'puisi.txt', 'Topic 3 - Boolean Values, Conditional Execution, Loops, Lists and List Processing, Logical and Bitwise Operations.ipynb', 'Topic 5 - Modules, Packages, and PIP.ipynb', '.ipynb_checkpoints', 'Topic 4 - Functions, Tuples, Dictionaries, and Data processing.ipynb', '.git', 'Topic 1 - Introdution to Python.ipynb', '.vscode', 'Topic 6 - String, String and List Method, Exceptions.ipynb', 'binary.bin']\n"
          ]
        }
      ],
      "metadata": {}
    },
    {
      "cell_type": "markdown",
      "source": [
        "### Fungsi chdir() dan getcwd()\n",
        "\n",
        "Berikut contoh penggunaan fungsi ``chdir()`` dan ``getcwd()``:\n"
      ],
      "metadata": {}
    },
    {
      "cell_type": "code",
      "execution_count": 197,
      "source": [
        "import os\n",
        "\n",
        "os.chdir(\"../\")\n",
        "print(os.getcwd())\n",
        "\n",
        "os.chdir(\"/Users/adambachtiar/Documents/FGAUNIKOM2021\")\n",
        "print(os.getcwd())"
      ],
      "outputs": [
        {
          "output_type": "stream",
          "name": "stdout",
          "text": [
            "/Users/adambachtiar/Documents\n",
            "/Users/adambachtiar/Documents/FGAUNIKOM2021\n"
          ]
        }
      ],
      "metadata": {}
    },
    {
      "cell_type": "markdown",
      "source": [
        "><b>Catatan</b>: Ganti alamat pada ``chdir()`` kedua dengan suatu alamat direktori di komputer anda."
      ],
      "metadata": {}
    },
    {
      "cell_type": "markdown",
      "source": [
        "### Fungsi mkdir() dan rmdir()\n",
        "\n",
        "Berikut contoh penggunaan fungsi ``mkdir()`` dan ``listdir()``:"
      ],
      "metadata": {}
    },
    {
      "cell_type": "code",
      "execution_count": 198,
      "source": [
        "import os\n",
        "\n",
        "os.mkdir(\"DirektoriBaru\")\n",
        "print(os.listdir())"
      ],
      "outputs": [
        {
          "output_type": "stream",
          "name": "stdout",
          "text": [
            "['Topic 2 - Data Types, Variables, Basic Input-Output Operations, Basic Operators.ipynb', 'Topik 8 - Miscellaneous.ipynb.ab8e8ebc0912fe7ec45b98d4eb8da387.tmp', 'halo.txt', '.DS_Store', 'Topik 8 - Miscellaneous.ipynb', 'filebaru.txt', 'Topic 7 - Object Oriented Programming.ipynb', 'puisi.txt', 'DirektoriBaru', 'Topic 3 - Boolean Values, Conditional Execution, Loops, Lists and List Processing, Logical and Bitwise Operations.ipynb', 'Topic 5 - Modules, Packages, and PIP.ipynb', '.ipynb_checkpoints', 'Topic 4 - Functions, Tuples, Dictionaries, and Data processing.ipynb', '.git', 'Topic 1 - Introdution to Python.ipynb', '.vscode', 'Topic 6 - String, String and List Method, Exceptions.ipynb', 'binary.bin']\n"
          ]
        }
      ],
      "metadata": {}
    },
    {
      "cell_type": "code",
      "execution_count": 199,
      "source": [
        "import os\n",
        "\n",
        "os.rmdir(\"DirektoriBaru\")\n",
        "print(os.listdir())"
      ],
      "outputs": [
        {
          "output_type": "stream",
          "name": "stdout",
          "text": [
            "['Topic 2 - Data Types, Variables, Basic Input-Output Operations, Basic Operators.ipynb', 'Topik 8 - Miscellaneous.ipynb.ab8e8ebc0912fe7ec45b98d4eb8da387.tmp', 'halo.txt', '.DS_Store', 'Topik 8 - Miscellaneous.ipynb', 'filebaru.txt', 'Topic 7 - Object Oriented Programming.ipynb', 'puisi.txt', 'Topic 3 - Boolean Values, Conditional Execution, Loops, Lists and List Processing, Logical and Bitwise Operations.ipynb', 'Topic 5 - Modules, Packages, and PIP.ipynb', '.ipynb_checkpoints', 'Topic 4 - Functions, Tuples, Dictionaries, and Data processing.ipynb', '.git', 'Topic 1 - Introdution to Python.ipynb', '.vscode', 'Topic 6 - String, String and List Method, Exceptions.ipynb', 'binary.bin']\n"
          ]
        }
      ],
      "metadata": {}
    },
    {
      "cell_type": "markdown",
      "source": [
        "## Module datetime\n",
        "\n",
        "Module kedua yang sering digunakan adalah module ``datetime``. Module ini biasanya dipadupadankan dengan module lain untuk kasus:\n",
        "1. <b>event logging</b> - membuat logs yang di dalamnya ada informasi tanggal dan waktu.\n",
        "2. <b>data validation</b> - module ``datetime`` digunakan untuk memberikan range waktu sebagai kondisional pada suatu aksi yag berhubungan dengan data.\n",
        "3. <b>storing important information</b> - Menyimpan data yang membutuhkan timestamp sebagai data utama (objek temporal).\n",
        "\n",
        "Berikut beberapa entity yang sering dimanfaatkan dalam module ``datetime`` (terdapat 3 common sub module, yaitu: ``date``, ``time``, dan ``datetime``):\n",
        "\n",
        "| Entity | Penjelasan |\n",
        "| :--- | :--- |\n",
        "| date(year, month, day) | Membuat objek tanggal |\n",
        "| today() | Mengembalikan nilai date() dari data hari ini |\n",
        "| fromtimestamp() | Membuat objek datetime dari timestamp (memanfaatkan module time) |\n",
        "| fromisoformat() | Membuat objek date menggunakan ISO 85601 Standard (YYYY-MM-DD) |\n",
        "| replace(year, month, day) | Mengganti data tahun, bulan, dan hari pada suatu objek date |\n",
        "| weekday() | Mengembalikan indeks hari pada suatu minggu. indeks 0 dimulai dari Senin sampai indeks 6 (Minggu) |\n",
        "| isoweekday() | Mirip seperti weekday akan tetapi menggunakan standar ISO 85601. Indeksnya adalah 1 (Senin) sampai dengan indeks 7 (Minggu) |\n",
        "| time(hour, minute, second, microsecond, tzinfo, fold) | Membuat objek waktu(time) |\n",
        "| time.sleep() | Memberikan jeda eksekusi tergantung pada parameter detik |\n",
        "| ctime() | Mengkonversi time menjadi detik yang terhitung mulai dari tanggal 1 Januari 1970 |\n",
        "| datetime(year, month, day, hour, minute, second, microsecond, tzinfo, fold) | Membuat objek date dan time bersamaan dalam satu objek |\n",
        "| today() | Mengembalikan local date dan time hari ini dengan tzinfo diisi None |\n",
        "| now() | Mengembalikan nilai local date dan time hari ini (tzinfo disertakan) |\n",
        "| utcnow() | Mengembalikan UTC date dan time hari ini (tzinfo diisi None) |\n",
        "| datetime.timestamp() | Mendapatkan timestamp dari objek datetime |"
      ],
      "metadata": {}
    },
    {
      "cell_type": "markdown",
      "source": [
        "### Fungsi date(year, month, day) dan today()\n",
        "\n",
        "Berikut contoh penggunaan fungsi ``date()`` dan ``today()``:"
      ],
      "metadata": {}
    },
    {
      "cell_type": "code",
      "execution_count": 200,
      "source": [
        "from datetime import date\n",
        "\n",
        "ri_merdeka = date(1945, 8, 17)\n",
        "print(ri_merdeka)\n",
        "\n",
        "hari_ini = date.today()\n",
        "print(hari_ini)\n",
        "print(hari_ini.day)\n",
        "print(hari_ini.month)\n",
        "print(hari_ini.year)"
      ],
      "outputs": [
        {
          "output_type": "stream",
          "name": "stdout",
          "text": [
            "1945-08-17\n",
            "2021-08-09\n",
            "9\n",
            "8\n",
            "2021\n"
          ]
        }
      ],
      "metadata": {}
    },
    {
      "cell_type": "markdown",
      "source": [
        "### Fungsi fromtimestamp()\n",
        "\n",
        "Berikut cara penggunaan ``fromtimestamp()``:"
      ],
      "metadata": {}
    },
    {
      "cell_type": "code",
      "execution_count": 201,
      "source": [
        "from datetime import date\n",
        "import time # untuk mendapatkan timestamp\n",
        "\n",
        "timestamp = time.time()\n",
        "print(timestamp)\n",
        "\n",
        "date_timestamp = date.fromtimestamp(timestamp)\n",
        "print(date_timestamp)"
      ],
      "outputs": [
        {
          "output_type": "stream",
          "name": "stdout",
          "text": [
            "1628465225.446274\n",
            "2021-08-09\n"
          ]
        }
      ],
      "metadata": {}
    },
    {
      "cell_type": "markdown",
      "source": [
        "### Fungsi weekday() dan isoweekday()\n",
        "\n",
        "Berikut contoh penggunaan fungsi ``weekday()`` dan ``isoweekday()``:"
      ],
      "metadata": {}
    },
    {
      "cell_type": "code",
      "execution_count": 202,
      "source": [
        "from datetime import date\n",
        "\n",
        "hari_ini = date.today()\n",
        "print(hari_ini.weekday())\n",
        "print(hari_ini.isoweekday())"
      ],
      "outputs": [
        {
          "output_type": "stream",
          "name": "stdout",
          "text": [
            "0\n",
            "1\n"
          ]
        }
      ],
      "metadata": {}
    },
    {
      "cell_type": "markdown",
      "source": [
        "### Fungsi time()\n",
        "\n",
        "Berikut contoh penggunaan fungsi ``time()``:"
      ],
      "metadata": {}
    },
    {
      "cell_type": "code",
      "execution_count": 203,
      "source": [
        "from datetime import time\n",
        "\n",
        "waktu = time(14, 53, 20, 1)\n",
        "\n",
        "print(\"Waktu:\", waktu)\n",
        "print(\"Jam:\", waktu.hour)\n",
        "print(\"Menit:\", waktu.minute)\n",
        "print(\"Detik:\", waktu.second)\n",
        "print(\"Millidetik:\", waktu.microsecond)"
      ],
      "outputs": [
        {
          "output_type": "stream",
          "name": "stdout",
          "text": [
            "Waktu: 14:53:20.000001\n",
            "Jam: 14\n",
            "Menit: 53\n",
            "Detik: 20\n",
            "Millidetik: 1\n"
          ]
        }
      ],
      "metadata": {}
    },
    {
      "cell_type": "markdown",
      "source": [
        "### Penggunaan time.sleep()\n",
        "\n",
        "Berikut contoh penggunaan ``time.sleep()``:"
      ],
      "metadata": {}
    },
    {
      "cell_type": "code",
      "execution_count": 204,
      "source": [
        "import time\n",
        "\n",
        "print(\"Halo, aku langsung muncul\")\n",
        "time.sleep(5)\n",
        "print(\"Aku baru muncul setelah 5 detik\")"
      ],
      "outputs": [
        {
          "output_type": "stream",
          "name": "stdout",
          "text": [
            "Halo, aku langsung muncul\n",
            "Aku baru muncul setelah 5 detik\n"
          ]
        }
      ],
      "metadata": {}
    },
    {
      "cell_type": "markdown",
      "source": [
        "### Fungsi ctime()\n",
        "\n",
        "Berikut contoh penggunaan fungsi ``ctime()``:"
      ],
      "metadata": {}
    },
    {
      "cell_type": "code",
      "execution_count": 205,
      "source": [
        "import time\n",
        "\n",
        "waktu = 1572879180\n",
        "print(time.ctime(waktu))"
      ],
      "outputs": [
        {
          "output_type": "stream",
          "name": "stdout",
          "text": [
            "Mon Nov  4 21:53:00 2019\n"
          ]
        }
      ],
      "metadata": {}
    },
    {
      "cell_type": "markdown",
      "source": [
        "### Fungsi today(), now(), dan utcnow()\n",
        "\n",
        "Berikut contoh penggunaan fungsi ``today()``, ``now()``, dan ``utcnow()``:"
      ],
      "metadata": {}
    },
    {
      "cell_type": "code",
      "execution_count": 206,
      "source": [
        "from datetime import datetime\n",
        "\n",
        "print(\"today:\", datetime.today())\n",
        "print(\"now:\", datetime.now())\n",
        "print(\"utcnow:\", datetime.utcnow())"
      ],
      "outputs": [
        {
          "output_type": "stream",
          "name": "stdout",
          "text": [
            "today: 2021-08-09 06:27:10.838116\n",
            "now: 2021-08-09 06:27:10.838517\n",
            "utcnow: 2021-08-08 23:27:10.838605\n"
          ]
        }
      ],
      "metadata": {}
    },
    {
      "cell_type": "markdown",
      "source": [
        "### Fungsi datetime.timestamp()\n",
        "\n",
        "Berikut contoh penggunaan fungsi ``datetime.timestamp()``:"
      ],
      "metadata": {}
    },
    {
      "cell_type": "code",
      "execution_count": 207,
      "source": [
        "from datetime import datetime\n",
        "\n",
        "dt = datetime(2020, 10, 4, 14, 55)\n",
        "print(\"Timestamp:\", dt.timestamp())"
      ],
      "outputs": [
        {
          "output_type": "stream",
          "name": "stdout",
          "text": [
            "Timestamp: 1601798100.0\n"
          ]
        }
      ],
      "metadata": {}
    },
    {
      "cell_type": "markdown",
      "source": [
        "### Memformat Date dan Time\n",
        "\n",
        "Tentunya kita jarang sekali menggunakan format tanggal dan waktu seperti yang dikembalikan oleh entitiy pada module ``datetime``. Python menyediakan fungsi ``strftime()`` yang bisa digunakan untuk memformat tanggal dan waktu sesuai yang dikehendaki penggunanya. Fungsi ``strftime()`` memiliki parameter yang beranekaragam. Parameter tersebut bisa dilihat secara lengkap pada <a href = \"https://docs.python.org/3/library/datetime.html#strftime-and-strptime-format-codes\">LINK BERIKUT</a>.\n",
        "\n",
        "Mari kita coba beberapa contoh penggunaannya:"
      ],
      "metadata": {}
    },
    {
      "cell_type": "code",
      "execution_count": 213,
      "source": [
        "from datetime import date\n",
        "\n",
        "tanggal = date(2020, 1, 4)\n",
        "print(tanggal.strftime('%Y/%m/%d'))\n",
        "print(tanggal.strftime('%d/%m/%Y'))\n",
        "print(tanggal)\n",
        "print(tanggal.strftime('%d %B %Y'))"
      ],
      "outputs": [
        {
          "output_type": "stream",
          "name": "stdout",
          "text": [
            "2020/01/04\n",
            "04/01/2020\n",
            "2020-01-04\n",
            "04 January 2020\n"
          ]
        }
      ],
      "metadata": {}
    },
    {
      "cell_type": "code",
      "execution_count": 212,
      "source": [
        "from datetime import time\n",
        "from datetime import datetime\n",
        "\n",
        "waktu = time(16, 53)\n",
        "print(waktu.strftime(\"%H:%M:%S\"))\n",
        "\n",
        "tanggal = datetime(2020, 11, 4, 14, 53)\n",
        "print(tanggal.strftime(\"%y/%B/%d %H:%M:%S\"))"
      ],
      "outputs": [
        {
          "output_type": "stream",
          "name": "stdout",
          "text": [
            "16:53:00\n",
            "20/November/04 14:53:00\n"
          ]
        }
      ],
      "metadata": {}
    },
    {
      "cell_type": "markdown",
      "source": [
        "Module ``time`` juga memiliki fungsi ``strftime()``. Berikut contoh penggunaanya:"
      ],
      "metadata": {}
    },
    {
      "cell_type": "code",
      "execution_count": 214,
      "source": [
        "import time\n",
        "\n",
        "timestamp = 1572879180\n",
        "st = time.gmtime(timestamp)\n",
        "\n",
        "print(time.strftime(\"%d/%m/%Y %H:%M:%S\", st))\n",
        "print(time.strftime(\"%d/%B/%Y %H:%M:%S\"))"
      ],
      "outputs": [
        {
          "output_type": "stream",
          "name": "stdout",
          "text": [
            "04/11/2019 14:53:00\n",
            "09/August/2021 08:36:25\n"
          ]
        }
      ],
      "metadata": {}
    },
    {
      "cell_type": "markdown",
      "source": [
        "### Method strptime()\n",
        "\n",
        "Method ini digunakan untuk membentuk objek datetime dari sebuah String yang berisi datetime. Berikut contoh penggunaannya:"
      ],
      "metadata": {}
    },
    {
      "cell_type": "code",
      "execution_count": 218,
      "source": [
        "from datetime import datetime\n",
        "\n",
        "print(datetime.strptime(\"2019/11/04 14:53:00\", \"%Y/%m/%d %H:%M:%S\"))\n",
        "print(datetime.strptime(\"04/08/2021 08:35:54\", \"%d/%m/%Y %H:%M:%S\"))"
      ],
      "outputs": [
        {
          "output_type": "stream",
          "name": "stdout",
          "text": [
            "2019-11-04 14:53:00\n",
            "2021-08-04 08:35:54\n"
          ]
        }
      ],
      "metadata": {}
    },
    {
      "cell_type": "markdown",
      "source": [
        "### Timedelta\n",
        "\n",
        "class ``timedelta`` memungkinkan kita melakukan operasi pada datatime. Untuk bisa menggunakan class ini, kita harus melakukan operasi pengurangan pada objek date atau datetime. Berikut contoh kode programnya:"
      ],
      "metadata": {}
    },
    {
      "cell_type": "code",
      "execution_count": 235,
      "source": [
        "from datetime import date\n",
        "from datetime import datetime\n",
        "\n",
        "tanggal_lahir = date(1986, 6, 5)\n",
        "today = date.today()\n",
        "umur = today - tanggal_lahir\n",
        "\n",
        "print(type(umur))\n",
        "print(umur)\n",
        "\n",
        "tanggal_lahir = datetime(1986, 6, 5, 0, 0, 0)\n",
        "today = datetime.now()\n",
        "umur = today - tanggal_lahir\n",
        "\n",
        "print(type(umur))\n",
        "print(umur)"
      ],
      "outputs": [
        {
          "output_type": "stream",
          "name": "stdout",
          "text": [
            "<class 'datetime.timedelta'>\n",
            "12849 days, 0:00:00\n",
            "<class 'datetime.timedelta'>\n",
            "12849 days, 8:54:22.629525\n"
          ]
        }
      ],
      "metadata": {}
    },
    {
      "cell_type": "markdown",
      "source": [
        "fungsi ``timedelta()`` bisa digunakan untuk membuat objek timedelta. Konstruktor dari class ini memiliki parameter berupa:\n",
        "\n",
        "1. days\n",
        "2. seconds\n",
        "3. microseconds\n",
        "4. milliseconds\n",
        "5. minutes\n",
        "6. hours\n",
        "7. weeks\n"
      ],
      "metadata": {}
    },
    {
      "cell_type": "code",
      "execution_count": null,
      "source": [
        "from datetime import timedelta\n",
        "\n",
        "delta = timedelta(weeks=2, days=2, hours=3)\n",
        "print(delta)\n",
        "print(\"Days:\", delta.days)\n",
        "print(\"Seconds:\", delta.seconds)\n",
        "print(\"Microseconds:\", delta.microseconds)"
      ],
      "outputs": [],
      "metadata": {}
    },
    {
      "cell_type": "code",
      "execution_count": 236,
      "source": [
        "from datetime import timedelta\n",
        "from datetime import date\n",
        "from datetime import datetime\n",
        "\n",
        "delta = timedelta(weeks=2, days=2, hours=2)\n",
        "print(delta)\n",
        "\n",
        "delta2 = delta * 2\n",
        "print(delta2)\n",
        "\n",
        "d = date(2019, 10, 4) + delta2\n",
        "print(d)\n",
        "\n",
        "dt = datetime(2019, 10, 4, 14, 53) + delta2\n",
        "print(dt)"
      ],
      "outputs": [
        {
          "output_type": "stream",
          "name": "stdout",
          "text": [
            "16 days, 2:00:00\n",
            "32 days, 4:00:00\n",
            "2019-11-05\n",
            "2019-11-05 18:53:00\n"
          ]
        }
      ],
      "metadata": {}
    },
    {
      "cell_type": "markdown",
      "source": [
        "## Module Calendar\n",
        "\n",
        "Sebagai pelengkap module ``datetime``, Python menyediakan module ``calendar`` sebagai bentuk penamaan dari hal-hal yang terdapat di module ``datetime``. Entity di dalam module ini dapat dilihat di <a href = \"https://docs.python.org/3/library/calendar.html?highlight=calendar#module-calendar\">LINK BERIKUT</a>.\n",
        "\n",
        "Mari kta bahas beberapa contoh penggunaannya."
      ],
      "metadata": {}
    },
    {
      "cell_type": "markdown",
      "source": [
        "### Menampilkan Kalendar\n",
        "\n",
        "Module ``calendar`` dapat digunakan untuk menampilkan kalendar untuk 1 tahun tertentu. Berikut contoh penggunaannya:"
      ],
      "metadata": {}
    },
    {
      "cell_type": "code",
      "execution_count": 243,
      "source": [
        "import calendar\n",
        "from datetime import date\n",
        "\n",
        "print(calendar.calendar(date.today().year))"
      ],
      "outputs": [
        {
          "output_type": "stream",
          "name": "stdout",
          "text": [
            "                                  2021\n",
            "\n",
            "      January                   February                   March\n",
            "Mo Tu We Th Fr Sa Su      Mo Tu We Th Fr Sa Su      Mo Tu We Th Fr Sa Su\n",
            "             1  2  3       1  2  3  4  5  6  7       1  2  3  4  5  6  7\n",
            " 4  5  6  7  8  9 10       8  9 10 11 12 13 14       8  9 10 11 12 13 14\n",
            "11 12 13 14 15 16 17      15 16 17 18 19 20 21      15 16 17 18 19 20 21\n",
            "18 19 20 21 22 23 24      22 23 24 25 26 27 28      22 23 24 25 26 27 28\n",
            "25 26 27 28 29 30 31                                29 30 31\n",
            "\n",
            "       April                      May                       June\n",
            "Mo Tu We Th Fr Sa Su      Mo Tu We Th Fr Sa Su      Mo Tu We Th Fr Sa Su\n",
            "          1  2  3  4                      1  2          1  2  3  4  5  6\n",
            " 5  6  7  8  9 10 11       3  4  5  6  7  8  9       7  8  9 10 11 12 13\n",
            "12 13 14 15 16 17 18      10 11 12 13 14 15 16      14 15 16 17 18 19 20\n",
            "19 20 21 22 23 24 25      17 18 19 20 21 22 23      21 22 23 24 25 26 27\n",
            "26 27 28 29 30            24 25 26 27 28 29 30      28 29 30\n",
            "                          31\n",
            "\n",
            "        July                     August                  September\n",
            "Mo Tu We Th Fr Sa Su      Mo Tu We Th Fr Sa Su      Mo Tu We Th Fr Sa Su\n",
            "          1  2  3  4                         1             1  2  3  4  5\n",
            " 5  6  7  8  9 10 11       2  3  4  5  6  7  8       6  7  8  9 10 11 12\n",
            "12 13 14 15 16 17 18       9 10 11 12 13 14 15      13 14 15 16 17 18 19\n",
            "19 20 21 22 23 24 25      16 17 18 19 20 21 22      20 21 22 23 24 25 26\n",
            "26 27 28 29 30 31         23 24 25 26 27 28 29      27 28 29 30\n",
            "                          30 31\n",
            "\n",
            "      October                   November                  December\n",
            "Mo Tu We Th Fr Sa Su      Mo Tu We Th Fr Sa Su      Mo Tu We Th Fr Sa Su\n",
            "             1  2  3       1  2  3  4  5  6  7             1  2  3  4  5\n",
            " 4  5  6  7  8  9 10       8  9 10 11 12 13 14       6  7  8  9 10 11 12\n",
            "11 12 13 14 15 16 17      15 16 17 18 19 20 21      13 14 15 16 17 18 19\n",
            "18 19 20 21 22 23 24      22 23 24 25 26 27 28      20 21 22 23 24 25 26\n",
            "25 26 27 28 29 30 31      29 30                     27 28 29 30 31\n",
            "\n"
          ]
        }
      ],
      "metadata": {}
    },
    {
      "cell_type": "markdown",
      "source": [
        "Untuk menampilkan kalendar pada bulan tertentu di suatu tahun, kita bisa menggunakan methodd ``month()``. Contoh penggunaannya adalah sebagai berikut:"
      ],
      "metadata": {}
    },
    {
      "cell_type": "code",
      "execution_count": 244,
      "source": [
        "import calendar\n",
        "from datetime import date\n",
        "\n",
        "print(calendar.month(date.today().year, date.today().month))"
      ],
      "outputs": [
        {
          "output_type": "stream",
          "name": "stdout",
          "text": [
            "    August 2021\n",
            "Mo Tu We Th Fr Sa Su\n",
            "                   1\n",
            " 2  3  4  5  6  7  8\n",
            " 9 10 11 12 13 14 15\n",
            "16 17 18 19 20 21 22\n",
            "23 24 25 26 27 28 29\n",
            "30 31\n",
            "\n"
          ]
        }
      ],
      "metadata": {}
    },
    {
      "cell_type": "markdown",
      "source": [
        "### Method setfirstweekday()\n",
        "\n",
        "Method ``setfirstweekday()`` digunakan untuk memilih hari pertama dalam suatu minggu di kalendar. Nilai default-nya adalah Monday. Berikut contoh penggunaannya:"
      ],
      "metadata": {}
    },
    {
      "cell_type": "code",
      "execution_count": 245,
      "source": [
        "import calendar\n",
        "from datetime import date\n",
        "\n",
        "calendar.setfirstweekday(calendar.SUNDAY)\n",
        "print(calendar.month(date.today().year, date.today().month))"
      ],
      "outputs": [
        {
          "output_type": "stream",
          "name": "stdout",
          "text": [
            "    August 2021\n",
            "Su Mo Tu We Th Fr Sa\n",
            " 1  2  3  4  5  6  7\n",
            " 8  9 10 11 12 13 14\n",
            "15 16 17 18 19 20 21\n",
            "22 23 24 25 26 27 28\n",
            "29 30 31\n",
            "\n"
          ]
        }
      ],
      "metadata": {}
    },
    {
      "cell_type": "markdown",
      "source": [
        "Bandingkan dengan hasil eksekusi kode program sebelumnya agar mengetahui perbedaannya."
      ],
      "metadata": {}
    },
    {
      "cell_type": "markdown",
      "source": [
        "### Method weekday()\n",
        "\n",
        "Fungsi ``weekday()`` digunakan untuk memunculkan hari pada suatu minggu dari tanggal di parameter. Mari kita coba penggunaanya:"
      ],
      "metadata": {}
    },
    {
      "cell_type": "code",
      "execution_count": 248,
      "source": [
        "import calendar\n",
        "\n",
        "print(calendar.weekday(2021, 8, 9))"
      ],
      "outputs": [
        {
          "output_type": "stream",
          "name": "stdout",
          "text": [
            "0\n"
          ]
        }
      ],
      "metadata": {}
    },
    {
      "cell_type": "markdown",
      "source": [
        "0 di sini bermakna Monday (Senin)."
      ],
      "metadata": {}
    },
    {
      "cell_type": "markdown",
      "source": [
        "### Fungsi weekheader()\n",
        "\n",
        "Fungsi ``weekheader()`` digunakan untuk menampilkan nama hari sebagai header calendar. Penggantian awal hari menggunakan fungsi ``setfirstweekday()`` akan mempengaruhi hasil eksekusi dari fungsi ``weekheader(). Berikut contoh penggunaannya:"
      ],
      "metadata": {}
    },
    {
      "cell_type": "code",
      "execution_count": 256,
      "source": [
        "import calendar\n",
        "\n",
        "print(calendar.weekheader(2))\n",
        "print(calendar.weekheader(9))\n",
        "\n",
        "calendar.setfirstweekday(calendar.TUESDAY)\n",
        "\n",
        "print(calendar.weekheader(2))\n",
        "print(calendar.weekheader(9))"
      ],
      "outputs": [
        {
          "output_type": "stream",
          "name": "stdout",
          "text": [
            "Mo Tu We Th Fr Sa Su\n",
            "  Monday   Tuesday  Wednesday  Thursday   Friday   Saturday   Sunday \n",
            "Tu We Th Fr Sa Su Mo\n",
            " Tuesday  Wednesday  Thursday   Friday   Saturday   Sunday    Monday \n"
          ]
        }
      ],
      "metadata": {}
    },
    {
      "cell_type": "markdown",
      "source": [
        "### Hands on Lab 6: Tahun kabisat dengan module calendar\n",
        "\n",
        "Kita bisa mengecek apakah suatu tahun merupakan tahun kabisat atau bukan menggunakan module ``calendar``. Berikut cara pengecekannya:"
      ],
      "metadata": {}
    },
    {
      "cell_type": "code",
      "execution_count": 258,
      "source": [
        "import calendar\n",
        "\n",
        "print(calendar.isleap(1986))\n",
        "print(calendar.leapdays(2010, 2021))  # memeriksa berapa tahun kabisat di range terkecuali 2021\n"
      ],
      "outputs": [
        {
          "output_type": "stream",
          "name": "stdout",
          "text": [
            "False\n",
            "3\n",
            "<class 'calendar.HTMLCalendar'>\n"
          ]
        }
      ],
      "metadata": {}
    }
  ]
}