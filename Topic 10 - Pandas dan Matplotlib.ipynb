{
 "cells": [
  {
   "cell_type": "markdown",
   "metadata": {},
   "source": [
    "# Pandas\n",
    "\n",
    "Pandas merupakan library di Python yang digunakan untuk memudahkan kita dalam melakukan pengolahan data dari file (menyediakan sarana berupa struktur data yang powerful) dan analisis data. Pandas merupakan library yang bersifat open-source dan bisa didapatkan secara gratis melalui pip3 atau Anaconda. Dokumentasi dari library ini dapat diakses di https://pandas.pydata.org/.\n",
    "\n",
    "Untuk bisa menjalankan library ini, kita membutuhkan library numpy. Sebelum bisa menggunakannya, ingatlah untuk melakukan instalasi library ini terlebih dahulu. Berikut perintah untuk melakukan instalasinya:\n",
    "\n",
    "\n",
    "<b>Instalasi via pip</b> <br>\n",
    "``pip3 install pandas``\n",
    "\n",
    "<b>Instalasi via conda</b> (secara default sudah tersedia ketika instalasi Anaconda atau Miniconda) <br>\n",
    "``conda install pandas``"
   ]
  },
  {
   "cell_type": "code",
   "execution_count": 31,
   "metadata": {},
   "outputs": [
    {
     "name": "stdout",
     "output_type": "stream",
     "text": [
      "Name: pandas\r\n",
      "Version: 1.3.1\r\n",
      "Summary: Powerful data structures for data analysis, time series, and statistics\r\n",
      "Home-page: https://pandas.pydata.org\r\n",
      "Author: The Pandas Development Team\r\n",
      "Author-email: pandas-dev@python.org\r\n",
      "License: BSD-3-Clause\r\n",
      "Location: /usr/local/anaconda3/lib/python3.8/site-packages\r\n",
      "Requires: numpy, python-dateutil, pytz\r\n",
      "Required-by: statsmodels, seaborn, mariadb-kernel\r\n"
     ]
    }
   ],
   "source": [
    "!pip3 show pandas"
   ]
  },
  {
   "cell_type": "code",
   "execution_count": 32,
   "metadata": {},
   "outputs": [
    {
     "data": {
      "text/plain": [
       "['BooleanDtype',\n",
       " 'Categorical',\n",
       " 'CategoricalDtype',\n",
       " 'CategoricalIndex',\n",
       " 'DataFrame',\n",
       " 'DateOffset',\n",
       " 'DatetimeIndex',\n",
       " 'DatetimeTZDtype',\n",
       " 'ExcelFile',\n",
       " 'ExcelWriter',\n",
       " 'Flags',\n",
       " 'Float32Dtype',\n",
       " 'Float64Dtype',\n",
       " 'Float64Index',\n",
       " 'Grouper',\n",
       " 'HDFStore',\n",
       " 'Index',\n",
       " 'IndexSlice',\n",
       " 'Int16Dtype',\n",
       " 'Int32Dtype',\n",
       " 'Int64Dtype',\n",
       " 'Int64Index',\n",
       " 'Int8Dtype',\n",
       " 'Interval',\n",
       " 'IntervalDtype',\n",
       " 'IntervalIndex',\n",
       " 'MultiIndex',\n",
       " 'NA',\n",
       " 'NaT',\n",
       " 'NamedAgg',\n",
       " 'Period',\n",
       " 'PeriodDtype',\n",
       " 'PeriodIndex',\n",
       " 'RangeIndex',\n",
       " 'Series',\n",
       " 'SparseDtype',\n",
       " 'StringDtype',\n",
       " 'Timedelta',\n",
       " 'TimedeltaIndex',\n",
       " 'Timestamp',\n",
       " 'UInt16Dtype',\n",
       " 'UInt32Dtype',\n",
       " 'UInt64Dtype',\n",
       " 'UInt64Index',\n",
       " 'UInt8Dtype',\n",
       " '__builtins__',\n",
       " '__cached__',\n",
       " '__doc__',\n",
       " '__docformat__',\n",
       " '__file__',\n",
       " '__getattr__',\n",
       " '__git_version__',\n",
       " '__loader__',\n",
       " '__name__',\n",
       " '__package__',\n",
       " '__path__',\n",
       " '__spec__',\n",
       " '__version__',\n",
       " '_config',\n",
       " '_hashtable',\n",
       " '_is_numpy_dev',\n",
       " '_lib',\n",
       " '_libs',\n",
       " '_np_version_under1p18',\n",
       " '_testing',\n",
       " '_tslib',\n",
       " '_typing',\n",
       " '_version',\n",
       " 'api',\n",
       " 'array',\n",
       " 'arrays',\n",
       " 'bdate_range',\n",
       " 'compat',\n",
       " 'concat',\n",
       " 'core',\n",
       " 'crosstab',\n",
       " 'cut',\n",
       " 'date_range',\n",
       " 'describe_option',\n",
       " 'errors',\n",
       " 'eval',\n",
       " 'factorize',\n",
       " 'get_dummies',\n",
       " 'get_option',\n",
       " 'infer_freq',\n",
       " 'interval_range',\n",
       " 'io',\n",
       " 'isna',\n",
       " 'isnull',\n",
       " 'json_normalize',\n",
       " 'lreshape',\n",
       " 'melt',\n",
       " 'merge',\n",
       " 'merge_asof',\n",
       " 'merge_ordered',\n",
       " 'notna',\n",
       " 'notnull',\n",
       " 'offsets',\n",
       " 'option_context',\n",
       " 'options',\n",
       " 'pandas',\n",
       " 'period_range',\n",
       " 'pivot',\n",
       " 'pivot_table',\n",
       " 'plotting',\n",
       " 'qcut',\n",
       " 'read_clipboard',\n",
       " 'read_csv',\n",
       " 'read_excel',\n",
       " 'read_feather',\n",
       " 'read_fwf',\n",
       " 'read_gbq',\n",
       " 'read_hdf',\n",
       " 'read_html',\n",
       " 'read_json',\n",
       " 'read_orc',\n",
       " 'read_parquet',\n",
       " 'read_pickle',\n",
       " 'read_sas',\n",
       " 'read_spss',\n",
       " 'read_sql',\n",
       " 'read_sql_query',\n",
       " 'read_sql_table',\n",
       " 'read_stata',\n",
       " 'read_table',\n",
       " 'read_xml',\n",
       " 'reset_option',\n",
       " 'set_eng_float_format',\n",
       " 'set_option',\n",
       " 'show_versions',\n",
       " 'test',\n",
       " 'testing',\n",
       " 'timedelta_range',\n",
       " 'to_datetime',\n",
       " 'to_numeric',\n",
       " 'to_pickle',\n",
       " 'to_timedelta',\n",
       " 'tseries',\n",
       " 'unique',\n",
       " 'util',\n",
       " 'value_counts',\n",
       " 'wide_to_long']"
      ]
     },
     "execution_count": 32,
     "metadata": {},
     "output_type": "execute_result"
    }
   ],
   "source": [
    "import pandas as pd\n",
    "\n",
    "dir(pd)"
   ]
  },
  {
   "cell_type": "markdown",
   "metadata": {},
   "source": [
    "Ada beberapa bahasan perihal library ``pandas``, di antaranya:\n",
    "\n",
    "1. Series (tipe data di pandas)\n",
    "2. DataFrames (tipe data di pandas)\n",
    "3. Pemrosesan Missing Data\n",
    "4. GroupBy\n",
    "5. Merging, Joining, dan Konkatenasi\n",
    "6. Operasi di pandas\n",
    "7. Data Input dan Output.\n",
    "\n",
    "Mari kita mulai pembahasannya. Dokumentasi perihal pandas dapat diakses di https://pandas.pydata.org/docs/user_guide/index.html#user-guide."
   ]
  },
  {
   "cell_type": "markdown",
   "metadata": {},
   "source": [
    "## Tipe Series\n",
    "\n",
    "Tipe series pada pandas bekerja mirip seperti array pada numpy. Perbedaannya terletak pada pengaksesan series yang menggunakan label. Berikut adalah format pembentukan Series menggunakan pandas:\n",
    "\n",
    "```python\n",
    "import pandas as pd\n",
    "\n",
    "pd.series(data = <data>, index = <index/label>)\n",
    "```\n",
    "\n",
    "Berikut perbedaan antara numpy array dengan pandas series:"
   ]
  },
  {
   "cell_type": "code",
   "execution_count": 33,
   "metadata": {},
   "outputs": [
    {
     "name": "stdout",
     "output_type": "stream",
     "text": [
      "[100  90  80]\n",
      "{'a': 100, 'b': 90, 'c': 80}\n"
     ]
    }
   ],
   "source": [
    "import numpy as np\n",
    "\n",
    "label = ['a', 'b', 'c']\n",
    "list_bilangan = [100, 90, 80]\n",
    "\n",
    "array = np.array(list_bilangan)\n",
    "print(array)\n",
    "\n",
    "# mapping label to list_bilangan\n",
    "dictionary = {'a': 100, 'b': 90, 'c': 80}\n",
    "print(dictionary)"
   ]
  },
  {
   "cell_type": "code",
   "execution_count": 34,
   "metadata": {},
   "outputs": [
    {
     "name": "stdout",
     "output_type": "stream",
     "text": [
      "0    100\n",
      "1     90\n",
      "2     80\n",
      "dtype: int64\n",
      "\n",
      "a    100\n",
      "b     90\n",
      "c     80\n",
      "dtype: int64\n",
      "\n",
      "a    100\n",
      "b     90\n",
      "c     80\n",
      "dtype: int64\n"
     ]
    }
   ],
   "source": [
    "import pandas as pd\n",
    "\n",
    "label = ['a', 'b', 'c']\n",
    "list_bilangan = [100, 90, 80]\n",
    "\n",
    "series = pd.Series(data = list_bilangan)\n",
    "print(series)\n",
    "\n",
    "print()\n",
    "\n",
    "#keyword argument\n",
    "series = pd.Series (data = list_bilangan, index = label)\n",
    "print(series)\n",
    "\n",
    "print()\n",
    "\n",
    "# positional argument\n",
    "series = pd.Series(list_bilangan, label)\n",
    "print(series)"
   ]
  },
  {
   "cell_type": "markdown",
   "metadata": {},
   "source": [
    "Dengan menggunakan Series di pandas, pemberian indeks menjadi customable. Tentunya ini mempermudah kita dalam melakukan manipulasi data atau operasi data yang lebih baik. Apabila kita sudah mempunyai numpy array, maka kita bisa melakukan type casting numpy array menjadi Series di pandas. Berikut contoh penggunaannya:"
   ]
  },
  {
   "cell_type": "code",
   "execution_count": 35,
   "metadata": {},
   "outputs": [
    {
     "name": "stdout",
     "output_type": "stream",
     "text": [
      "[100  90  80]\n",
      "<class 'numpy.ndarray'>\n",
      "\n",
      "0    100\n",
      "1     90\n",
      "2     80\n",
      "dtype: int64\n",
      "<class 'pandas.core.series.Series'>\n",
      "\n",
      "a    100\n",
      "b     90\n",
      "c     80\n",
      "dtype: int64\n",
      "<class 'pandas.core.series.Series'>\n",
      "\n"
     ]
    }
   ],
   "source": [
    "import numpy as np\n",
    "import pandas as pd\n",
    "\n",
    "label = ['a', 'b', 'c']\n",
    "list_bilangan = [100, 90, 80]\n",
    "\n",
    "array = np.array(list_bilangan)\n",
    "print(array)\n",
    "print(type(array))\n",
    "\n",
    "print()\n",
    "\n",
    "series = pd.Series(array)\n",
    "print(series)\n",
    "print(type(series))\n",
    "print()\n",
    "\n",
    "series = pd.Series(array, label)\n",
    "print(series)\n",
    "print(type(series))\n",
    "print()"
   ]
  },
  {
   "cell_type": "markdown",
   "metadata": {},
   "source": [
    "Selain itu juga kita bisa melakukan type casting dari Dictionary menjadi pandas Series. Berikut contoh penggunaannya:"
   ]
  },
  {
   "cell_type": "code",
   "execution_count": 36,
   "metadata": {},
   "outputs": [
    {
     "name": "stdout",
     "output_type": "stream",
     "text": [
      "{'a': 100, 'b': 90, 'c': 80}\n",
      "<class 'dict'>\n",
      "\n",
      "a    100\n",
      "b     90\n",
      "c     80\n",
      "dtype: int64\n",
      "<class 'pandas.core.series.Series'>\n"
     ]
    }
   ],
   "source": [
    "import pandas as pd\n",
    "\n",
    "dictionary = {'a': 100, 'b': 90, 'c': 80}\n",
    "print(dictionary)\n",
    "print(type(dictionary))\n",
    "\n",
    "print()\n",
    "\n",
    "series = pd.Series(dictionary)\n",
    "print(series)\n",
    "print(type(series))\n"
   ]
  },
  {
   "cell_type": "markdown",
   "metadata": {},
   "source": [
    "Kita juga bisa langsung menginisialisasi Series seperti cara berikut:"
   ]
  },
  {
   "cell_type": "code",
   "execution_count": 37,
   "metadata": {},
   "outputs": [
    {
     "name": "stdout",
     "output_type": "stream",
     "text": [
      "Jawa Barat            Bandung\n",
      "Sulawesi Selatan     Makassar\n",
      "Sumatra Selatan     Palembang\n",
      "dtype: object\n"
     ]
    }
   ],
   "source": [
    "import pandas as pd\n",
    "\n",
    "ibukota = pd.Series(['Bandung', 'Makassar', 'Palembang'], [\n",
    "                    'Jawa Barat', 'Sulawesi Selatan', 'Sumatra Selatan'])\n",
    "print(ibukota)\n"
   ]
  },
  {
   "cell_type": "markdown",
   "metadata": {},
   "source": [
    "Setiap data akan dipetakan kepada label yang sesuai dengan urutan indeksnya. Bagaimana jika jumlah antara label dengan data tidak sama? Mari kita coba:"
   ]
  },
  {
   "cell_type": "code",
   "execution_count": 38,
   "metadata": {},
   "outputs": [
    {
     "ename": "ValueError",
     "evalue": "Length of values (3) does not match length of index (4)",
     "output_type": "error",
     "traceback": [
      "\u001b[0;31m---------------------------------------------------------------------------\u001b[0m",
      "\u001b[0;31mValueError\u001b[0m                                Traceback (most recent call last)",
      "\u001b[0;32m<ipython-input-38-cea8f4e0d0e7>\u001b[0m in \u001b[0;36m<module>\u001b[0;34m\u001b[0m\n\u001b[1;32m      4\u001b[0m \u001b[0mdata\u001b[0m \u001b[0;34m=\u001b[0m \u001b[0;34m[\u001b[0m\u001b[0;36m1\u001b[0m\u001b[0;34m,\u001b[0m \u001b[0;36m2\u001b[0m\u001b[0;34m,\u001b[0m \u001b[0;36m3\u001b[0m\u001b[0;34m]\u001b[0m\u001b[0;34m\u001b[0m\u001b[0;34m\u001b[0m\u001b[0m\n\u001b[1;32m      5\u001b[0m \u001b[0;34m\u001b[0m\u001b[0m\n\u001b[0;32m----> 6\u001b[0;31m \u001b[0mseries\u001b[0m \u001b[0;34m=\u001b[0m \u001b[0;34m[\u001b[0m\u001b[0mpd\u001b[0m\u001b[0;34m.\u001b[0m\u001b[0mSeries\u001b[0m\u001b[0;34m(\u001b[0m\u001b[0mdata\u001b[0m\u001b[0;34m,\u001b[0m \u001b[0mlabel\u001b[0m\u001b[0;34m)\u001b[0m\u001b[0;34m]\u001b[0m\u001b[0;34m\u001b[0m\u001b[0;34m\u001b[0m\u001b[0m\n\u001b[0m\u001b[1;32m      7\u001b[0m \u001b[0mprint\u001b[0m\u001b[0;34m(\u001b[0m\u001b[0mseries\u001b[0m\u001b[0;34m)\u001b[0m\u001b[0;34m\u001b[0m\u001b[0;34m\u001b[0m\u001b[0m\n",
      "\u001b[0;32m/usr/local/anaconda3/lib/python3.8/site-packages/pandas/core/series.py\u001b[0m in \u001b[0;36m__init__\u001b[0;34m(self, data, index, dtype, name, copy, fastpath)\u001b[0m\n\u001b[1;32m    428\u001b[0m                 \u001b[0mindex\u001b[0m \u001b[0;34m=\u001b[0m \u001b[0mibase\u001b[0m\u001b[0;34m.\u001b[0m\u001b[0mdefault_index\u001b[0m\u001b[0;34m(\u001b[0m\u001b[0mlen\u001b[0m\u001b[0;34m(\u001b[0m\u001b[0mdata\u001b[0m\u001b[0;34m)\u001b[0m\u001b[0;34m)\u001b[0m\u001b[0;34m\u001b[0m\u001b[0;34m\u001b[0m\u001b[0m\n\u001b[1;32m    429\u001b[0m             \u001b[0;32melif\u001b[0m \u001b[0mis_list_like\u001b[0m\u001b[0;34m(\u001b[0m\u001b[0mdata\u001b[0m\u001b[0;34m)\u001b[0m\u001b[0;34m:\u001b[0m\u001b[0;34m\u001b[0m\u001b[0;34m\u001b[0m\u001b[0m\n\u001b[0;32m--> 430\u001b[0;31m                 \u001b[0mcom\u001b[0m\u001b[0;34m.\u001b[0m\u001b[0mrequire_length_match\u001b[0m\u001b[0;34m(\u001b[0m\u001b[0mdata\u001b[0m\u001b[0;34m,\u001b[0m \u001b[0mindex\u001b[0m\u001b[0;34m)\u001b[0m\u001b[0;34m\u001b[0m\u001b[0;34m\u001b[0m\u001b[0m\n\u001b[0m\u001b[1;32m    431\u001b[0m \u001b[0;34m\u001b[0m\u001b[0m\n\u001b[1;32m    432\u001b[0m             \u001b[0;31m# create/copy the manager\u001b[0m\u001b[0;34m\u001b[0m\u001b[0;34m\u001b[0m\u001b[0;34m\u001b[0m\u001b[0m\n",
      "\u001b[0;32m/usr/local/anaconda3/lib/python3.8/site-packages/pandas/core/common.py\u001b[0m in \u001b[0;36mrequire_length_match\u001b[0;34m(data, index)\u001b[0m\n\u001b[1;32m    529\u001b[0m     \"\"\"\n\u001b[1;32m    530\u001b[0m     \u001b[0;32mif\u001b[0m \u001b[0mlen\u001b[0m\u001b[0;34m(\u001b[0m\u001b[0mdata\u001b[0m\u001b[0;34m)\u001b[0m \u001b[0;34m!=\u001b[0m \u001b[0mlen\u001b[0m\u001b[0;34m(\u001b[0m\u001b[0mindex\u001b[0m\u001b[0;34m)\u001b[0m\u001b[0;34m:\u001b[0m\u001b[0;34m\u001b[0m\u001b[0;34m\u001b[0m\u001b[0m\n\u001b[0;32m--> 531\u001b[0;31m         raise ValueError(\n\u001b[0m\u001b[1;32m    532\u001b[0m             \u001b[0;34m\"Length of values \"\u001b[0m\u001b[0;34m\u001b[0m\u001b[0;34m\u001b[0m\u001b[0m\n\u001b[1;32m    533\u001b[0m             \u001b[0;34mf\"({len(data)}) \"\u001b[0m\u001b[0;34m\u001b[0m\u001b[0;34m\u001b[0m\u001b[0m\n",
      "\u001b[0;31mValueError\u001b[0m: Length of values (3) does not match length of index (4)"
     ]
    }
   ],
   "source": [
    "import pandas as pd\n",
    "\n",
    "label = ['a', 'b', 'c', 'd']\n",
    "data = [1, 2, 3]\n",
    "\n",
    "series = [pd.Series(data, label)]\n",
    "print(series)"
   ]
  },
  {
   "cell_type": "markdown",
   "metadata": {},
   "source": [
    "Proses ini akan menimbulkan exception berupa ``ValueError`` yang diakibatkan panjang dari label dan panjang dari data berbeda."
   ]
  },
  {
   "cell_type": "markdown",
   "metadata": {},
   "source": [
    "### Pengaksesas Elemen di Series\n",
    "\n",
    "Setelah mempelajari cara mendeklarasikan Series pada pandas, maka langkah berikutnya adalah mengakses elemen di Series. Seperti yang sudah disebutkan sebelumnya, Series bisa diakses menggunakan label. Apabila label menggunakan label default maka kita bisa menggunakan konsep slicing pada list. Sebagai contoh, silakan coba kode program berikut:"
   ]
  },
  {
   "cell_type": "code",
   "execution_count": null,
   "metadata": {},
   "outputs": [],
   "source": [
    "import pandas as panda\n",
    "\n",
    "data = [100, 200, 300, 400, 500]\n",
    "\n",
    "series = pd.Series(data)\n",
    "print(series)\n",
    "print()\n",
    "print()\n",
    "print()\n",
    "print(series[1:3])\n",
    "print()\n",
    "print(series[:3])"
   ]
  },
  {
   "cell_type": "markdown",
   "metadata": {},
   "source": [
    "><b>Catatan:</b> Walaupun slicing mirip seperti list akan tetapi kita tidak bisa mengakses menggunakan slicing indeks negatif karena indeks yang bisa dipakai hanya yang terdaftar di series.\n",
    "\n",
    "Bagaimana kalau kita meng-custom labelnya? Berikut cara aksesnya:"
   ]
  },
  {
   "cell_type": "code",
   "execution_count": null,
   "metadata": {},
   "outputs": [],
   "source": [
    "import pandas as pd\n",
    "\n",
    "ibukota = pd.Series(['Bandung', 'Makassar', 'Palembang'], [\n",
    "kolom = ['nama', 'nilai']\n",
    "print(ibukota)\n",
    "print()\n",
    "print(ibukota['Sulawesi Selatan'])"
   ]
  },
  {
   "cell_type": "markdown",
   "metadata": {},
   "source": [
    "### Operasi di Series\n",
    "\n",
    "Kita bisa melakukan beberapa operasi pada Series di pandas. Berikut contohnya:"
   ]
  },
  {
   "cell_type": "code",
   "execution_count": null,
   "metadata": {},
   "outputs": [],
   "source": [
    "import pandas as pd\n",
    "\n",
    "series1 = pd.Series([1, 2, 3])\n",
    "series2 = pd.Series([10, 20, 30])\n",
    "\n",
    "series_hasil1 = series1 + series2\n",
    "series_hasil2 = series1 - series2\n",
    "series_hasil3 = series1 * series2\n",
    "series_hasil4 = series1 / series2\n",
    "\n",
    "print(series_hasil1)\n",
    "print()\n",
    "print(series_hasil2)\n",
    "print()\n",
    "print(series_hasil3)\n",
    "print()\n",
    "print(series_hasil4)\n",
    "print()\n"
   ]
  },
  {
   "cell_type": "markdown",
   "metadata": {},
   "source": [
    "Apa yang terjadi apabila label diubah? Mari kita coba kode program berikut:"
   ]
  },
  {
   "cell_type": "code",
   "execution_count": null,
   "metadata": {},
   "outputs": [],
   "source": [
    "data = [100, 200, 300]\n",
    "label = ['Budi', 'Andi', 'Ani']\n",
    "\n",
    "series1 = pd.Series(data, label)\n",
    "print(series1)\n",
    "print()\n",
    "\n",
    "data2 = [100, 200, 300]\n",
    "label2 = ['Budi', 'Andi', 'Suci']\n",
    "\n",
    "print(df['nilai'])\n",
    "print(series2)\n",
    "print()\n",
    "\n",
    "series_hasil1 = series1 + series2\n",
    "series_hasil2 = series1 - series2\n",
    "series_hasil3 = series1 * series2\n",
    "series_hasil4 = series1 / series2\n",
    "\n",
    "print(series_hasil1)\n",
    "print()\n",
    "print(series_hasil2)\n",
    "print()\n",
    "print(series_hasil3)\n",
    "print()\n",
    "print(series_hasil4)\n",
    "print()\n"
   ]
  },
  {
   "cell_type": "markdown",
   "metadata": {},
   "source": [
    "Untuk label yang ada di kedua series, maka nilai yang diwakilinya akan langsung dioperasikan sesuai dengan operator yang digunakan. Akan tetapi untuk yang labelnya hanya ada di satu series saja maka nilainya akan diisi dengan NaN (Not a Number). Jumlah elemen series hasil adalah jumlah elemen Unique hasil penggabungan dua series."
   ]
  },
  {
   "cell_type": "markdown",
   "metadata": {},
   "source": [
    "## DataFrames\n",
    "\n",
    "Tipe kedua yang didukung oleh pandas adalah dataframe. Bentuk data pada dataframe menyerupai tabel. Tipe data ini memiliki banyak dukungan operasi untuk menganalisis data. Dataframe bekerja layaknya seperti array dua dimensi atau matriks pada numpy. Bentuk deklarasi umum dari dataframe pada pandas adalah sebagai berikut:\n",
    "\n",
    "```python\n",
    "import pandas as pd\n",
    "\n",
    "pd.DataFrame(data=<data>, index=<index/label_baris>, columns=<index/label_kolom>, dtype=None, copy=None)\n",
    "```\n",
    "Biasanya dataframe digunakan untuk menampung data hasil pembacaan file .csv atau excel. Operasi-operasi pada tabel (seperti pada umumnya) didukung oleh tipe data pandas ini. Berikut contoh pendeklarasian dataframe pada pandas."
   ]
  },
  {
   "cell_type": "code",
   "execution_count": null,
   "metadata": {},
   "outputs": [],
   "source": [
    "import pandas as pd\n",
    "\n",
    "nim = [10101010, 10101011, 10101012]\n",
    "data = [['Budi', 100], ['Andi', 90], ['Ani', 80]]\n",
    "kolom = ['nama', 'nilai']\n",
    "\n",
    "df = pd.DataFrame(data, columns = kolom)\n",
    "print(df)\n",
    "print()\n",
    "\n",
    "df = pd.DataFrame(data, nim, kolom)\n",
    "print(df)\n",
    "print()"
   ]
  },
  {
   "cell_type": "code",
   "execution_count": null,
   "metadata": {},
   "outputs": [],
   "source": [
    "import pandas as pd\n",
    "\n",
    "data = [[10101010, 'Budi', 100], [10101011, 'Andi', 90], [10101012, 'Ani', 80]]\n",
    "kolom = ['nim', 'nama', 'nilai']\n",
    "\n",
    "df = pd.DataFrame(data, columns=kolom)\n",
    "print(df)\n",
    "print()"
   ]
  },
  {
   "cell_type": "markdown",
   "metadata": {},
   "source": [
    "Apa perbedaan dari kedua kode program tersebut? Pada kode program yang pertama, NIM dijadikan indeks baris smenetara pada kode program kedua NIM dijadikan data (salah satu kolom) yang ditunjuk oleh indeks/label default (0, 1, 2, dan seterusnya, mirip dengan konsep auto-increment di konsep database). Kita juga bisa mendeklarasian dataframe menggunakan dictionary. Berikut contoh penggunaanya"
   ]
  },
  {
   "cell_type": "code",
   "execution_count": null,
   "metadata": {},
   "outputs": [],
   "source": [
    "import pandas as pd\n",
    "\n",
    "dict = {10101010: ['Budi', 100], 10101011: ['Andi', 90], 10101012: ['Ani', 80]}\n",
    "kolom = ['nama','nilai']\n",
    "\n",
    "df = pd.DataFrame(dict.values(), dict.keys())\n",
    "print(df)\n",
    "print()\n",
    "\n",
    "df = pd.DataFrame(dict.values(), dict.keys(), kolom)\n",
    "print(df)\n"
   ]
  },
  {
   "cell_type": "markdown",
   "metadata": {},
   "source": [
    "### Pengaksesan Elemen di DataFrame\n",
    "\n",
    "Setelah dideklarasikan, elemen-elemen di dalam DataFrame bisa diakses. Pengaksesan elemen di dataframe bisa memiliki banyak konsep. Berikut contoh pengaksesan elemen di dataframe:\n",
    "\n",
    "#### Pengaksesan Kolom\n",
    "\n",
    "Untuk bisa mengakses data pada kolom, kita bisa menggunakan format berikut:\n",
    "\n",
    "```python\n",
    "nama_dataframe[label_kolom]\n",
    "```\n",
    "\n",
    "Berikut contoh pengaksesan kolom pada dataframe:"
   ]
  },
  {
   "cell_type": "code",
   "execution_count": null,
   "metadata": {},
   "outputs": [],
   "source": [
    "import pandas as pd\n",
    "\n",
    "nim = [10101010, 10101011, 10101012]\n",
    "data = [['Budi', 100], ['Andi', 90], ['Ani', 80]]\n",
    "kolom = ['nama', 'nilai']\n",
    "\n",
    "df = pd.DataFrame(data, nim, kolom)\n",
    "\n",
    "print(df['nama'])\n",
    "print()\n",
    "print(df['nilai'])"
   ]
  },
  {
   "cell_type": "markdown",
   "metadata": {},
   "source": [
    "><b>Catatan:</b> Apabila dilihat 1 kolom pada dataframe merupakan 1 series.\n",
    "\n",
    "Pengaksesan kolom juga bisa dilakukan dengan mekanisme sebagai berikut:"
   ]
  },
  {
   "cell_type": "code",
   "execution_count": null,
   "metadata": {},
   "outputs": [],
   "source": [
    "import pandas as pd\n",
    "\n",
    "nim = [10101010, 10101011, 10101012]\n",
    "data = [['Budi', 100], ['Andi', 90], ['Ani', 80]]\n",
    "kolom = ['nama', 'nilai']\n",
    "\n",
    "df = pd.DataFrame(data, nim, kolom)\n",
    "print(df[['nim', 'nilai']][2:3])\n",
    "print(df.nama)\n",
    "print()\n",
    "print(df[['nama', 'nilai']][2:])\n"
   ]
  },
  {
   "cell_type": "markdown",
   "metadata": {},
   "source": [
    "><b>Catatan:</b> Cara pengaksesan seperti ini kurang disarankan karena akan ada kemungkinan tertukarnya pengaksesan data dengan nama method built-in dari pandas."
   ]
  },
  {
   "cell_type": "markdown",
   "metadata": {},
   "source": [
    "#### Pengaksesan Multi Kolom\n",
    "\n",
    "Kita bisa mengakses beberapa kolom dalam satu kali pengaksesan. Contoh penggunaannya adalah sebagai berikut:"
   ]
  },
  {
   "cell_type": "code",
   "execution_count": null,
   "metadata": {},
   "outputs": [],
   "source": [
    "data = [[10101010, 'Budi', 100], [10101011, 'Andi', 90], [10101012, 'Ani', 80]]\n",
    "kolom = ['nim', 'nama', 'nilai']\n",
    "\n",
    "df = pd.DataFrame(data, columns=kolom)\n",
    "\n",
    "print(df[['nim','nilai']])"
   ]
  },
  {
   "cell_type": "markdown",
   "metadata": {},
   "source": [
    "><b>Catatan:</b> label kolom yang mau dimunculkan, disimpan dalam sebuah list dan dijadikan indeks akses di dataframe untuk multi kolom."
   ]
  },
  {
   "cell_type": "markdown",
   "metadata": {},
   "source": [
    "#### Pengaksesan Baris\n",
    "\n",
    "Mirip seperti pengaksesan kolom, pengaksesan baris dapat dilakukan dengan cara sebagai berikut:\n",
    "\n",
    "```python\n",
    "nama_dataframe.loc[label_baris]\n",
    "```\n",
    "\n",
    "Berikut contoh pengaksesan baris pada dataframe:"
   ]
  },
  {
   "cell_type": "code",
   "execution_count": null,
   "metadata": {},
   "outputs": [],
   "source": [
    "import pandas as pd\n",
    "\n",
    "data = [[10101010, 'Budi', 100], [10101011, 'Andi', 90], [10101012, 'Ani', 80],\n",
    "        [10101013, 'Melodi', 85], [10101014, 'Siska', 100], [10101015, 'Yono', 60]]\n",
    "kolom = ['nim', 'nama', 'nilai']\n",
    "\n",
    "df = pd.DataFrame(data, columns=kolom)\n",
    "print(df.loc[1])\n"
   ]
  },
  {
   "cell_type": "markdown",
   "metadata": {},
   "source": [
    "><b>Catatan:</b> Gunakan fungsi ``iloc`` jika ingin mengakses label baris default (0, 1, 2, dan seterusnya) jika label baris sudah di-custom.\n",
    "\n",
    "Selain menggunakan ``loc[]`` untuk menampilkan baris, pandas juga menyediakan sarana berupa ``head()`` yang bisa digunakan untuk memunculkan 5 baris pertama dalam dataframe dan juga ``tail()`` untuk menampilkan 5 baris data terakhir di dataframe. Penggunaannya adalah sebagai berikut:"
   ]
  },
  {
   "cell_type": "code",
   "execution_count": null,
   "metadata": {},
   "outputs": [],
   "source": [
    "import pandas as pd\n",
    "\n",
    "data = [[10101010, 'Budi', 100], [10101011, 'Andi', 90], [10101012, 'Ani', 80],\n",
    "        [10101013, 'Melodi', 85], [10101014, 'Siska', 100], [10101015, 'Yono', 60]]\n",
    "kolom = ['nim', 'nama', 'nilai']\n",
    "\n",
    "df = pd.DataFrame(data, columns=kolom)\n",
    "print(df.head())\n",
    "print()\n",
    "\n",
    "print(df.tail())\n"
   ]
  },
  {
   "cell_type": "markdown",
   "metadata": {},
   "source": [
    "Apabila ingin menampilkan multibaris, kita bisa menyebutkan list label baris pada fungsi ``loc``. Berikut contoh penggunaannya:"
   ]
  },
  {
   "cell_type": "code",
   "execution_count": null,
   "metadata": {},
   "outputs": [],
   "source": [
    "import pandas as pd\n",
    "\n",
    "data = [[10101010, 'Budi', 100], [10101011, 'Andi', 90], [10101012, 'Ani', 80],\n",
    "        [10101013, 'Melodi', 85], [10101014, 'Siska', 100], [10101015, 'Yono', 60]]\n",
    "kolom = ['nim', 'nama', 'nilai']\n",
    "\n",
    "df = pd.DataFrame(data, columns=kolom)\n",
    "print(df.loc[[0,3]])"
   ]
  },
  {
   "cell_type": "markdown",
   "metadata": {},
   "source": [
    "#### Pengaksesan Baris dan Kolom\n",
    "\n",
    "Pandas juga menyediakan cara untuk kita mengakses data pada suatu baris dan kolom tertentu pada saat yang bersamaan. Format pengaksesannya adalah sebagai berikut:\n",
    "\n",
    "```python\n",
    "nama_dataframe[label_kolom][batas_baris_bawah:batas_baris_bawah]\n",
    "```\n",
    "\n",
    "Berikut contoh penggunaanya:"
   ]
  },
  {
   "cell_type": "code",
   "execution_count": null,
   "metadata": {},
   "outputs": [],
   "source": [
    "import pandas as pd\n",
    "\n",
    "data = [[10101010, 'Budi', 100], [10101011, 'Andi', 90], [10101012, 'Ani', 80],\n",
    "        [10101013, 'Melodi', 85], [10101014, 'Siska', 100], [10101015, 'Yono', 60]]\n",
    "kolom = ['nim', 'nama', 'nilai']\n",
    "\n",
    "df = pd.DataFrame(data, columns = kolom)\n",
    "print(df['nama'][2])"
   ]
  },
  {
   "cell_type": "markdown",
   "metadata": {},
   "source": [
    "Apabila kita ingin menggunakan multilabel pada kolom atau baris, penggunaannya adalah sebagai berikut:"
   ]
  },
  {
   "cell_type": "code",
   "execution_count": null,
   "metadata": {},
   "outputs": [],
   "source": [
    "import pandas as pd\n",
    "\n",
    "data = [[10101010, 'Budi', 100], [10101011, 'Andi', 90], [10101012, 'Ani', 80],\n",
    "        [10101013, 'Melodi', 85], [10101014, 'Siska', 100], [10101015, 'Yono', 60]]\n",
    "kolom = ['nim', 'nama', 'nilai']\n",
    "\n",
    "df = pd.DataFrame(data, columns=kolom)\n",
    "print(df[['nim','nilai']][2:3])\n",
    "print()\n",
    "\n",
    "print(df[['nama','nilai']][2:])\n"
   ]
  },
  {
   "cell_type": "markdown",
   "metadata": {},
   "source": [
    "### Operasi pada DataFrame\n",
    "\n",
    "Ada beberapa operasi pada dataframe selain pengaksesan elemennya. Berikut kita akan membahas perihal operasi apa saja yang bisa dilakukan pada dataframe."
   ]
  },
  {
   "cell_type": "markdown",
   "metadata": {},
   "source": [
    "#### Penambahan Kolom pada DataFrame\n",
    "\n",
    "Kita bisa melakukan penambahan kolom pada dataframe dengan cara berikut:\n",
    "\n",
    "```python\n",
    "nama_dataframe[label_kolom_baru] = [nilai_baru]\n",
    "```\n",
    "\n",
    "Sebagai contoh, silakan coba kode program berikut:"
   ]
  },
  {
   "cell_type": "code",
   "execution_count": null,
   "metadata": {},
   "outputs": [],
   "source": [
    "import pandas as pd\n",
    "\n",
    "data = [[10101010, 'Budi', 100], [10101011, 'Andi', 90], [10101012, 'Ani', 80],\n",
    "        [10101013, 'Melodi', 85], [10101014, 'Siska', 100], [10101015, 'Yono', 60]]\n",
    "kolom = ['nim', 'nama', 'nilai']\n",
    "\n",
    "df = pd.DataFrame(data, columns=kolom)\n",
    "print(df)\n",
    "\n",
    "df['jenis_kelamin'] = ['Pria', 'Pria', 'Wanita', 'Wanita', 'Siska', 'Pria']\n",
    "print()\n",
    "print(df)"
   ]
  },
  {
   "cell_type": "markdown",
   "metadata": {},
   "source": [
    "><b>Catatan:</b> Jumlah nilai yang diinput harus sama dengan jumlah baris yang sudah ada sebelumnya pada dataframe yang ditambah kolomnya."
   ]
  },
  {
   "cell_type": "markdown",
   "metadata": {},
   "source": [
    "#### Menghapus Kolom pada DataFrame\n",
    "\n",
    "Selain menambah kolom baru, kita juga bisa menghapus kolom dari dataframe. Fungsi yang digunakan adalah fungsi ``drop(label_kolom)``. Berikut contoh penggunaannya:"
   ]
  },
  {
   "cell_type": "code",
   "execution_count": null,
   "metadata": {},
   "outputs": [],
   "source": [
    "import pandas as pd\n",
    "\n",
    "data = [[10101010, 'Budi', 100, 'Pria'], [10101011, 'Andi', 90, 'Pria'], [10101012, 'Ani', 80, 'Wanita'],\n",
    "        [10101013, 'Melodi', 85, 'Wanita'], [10101014, 'Siska', 100, 'Wanita'], [10101015, 'Yono', 60, 'Pria']]\n",
    "kolom = ['nim', 'nama', 'nilai', 'jenis_kelamin']\n",
    "\n",
    "df = pd.DataFrame(data, columns=kolom)\n",
    "print(df)\n",
    "\n",
    "print()\n",
    "print(df.drop('jenis_kelamin', axis = 1))"
   ]
  },
  {
   "cell_type": "markdown",
   "metadata": {},
   "source": [
    "><b>Catatan:</b> parameter axis digunakan untuk menandakan apakah yang dihapus adalah baris atau kolom. Apabila mau menghapus kolom, gunakan nilai 1 pada parameter axis.\n",
    "\n",
    "Fungsi ``drop()`` tidak benar-benar menghapus secara fisik kolom yang disebutkan. Fungsi ini hanya memproyeksikan dataframe tanpa menampilkan kolom yang ada di parameter fungsi tersebut. Berikut buktinya:"
   ]
  },
  {
   "cell_type": "code",
   "execution_count": null,
   "metadata": {},
   "outputs": [],
   "source": [
    "import pandas as pd\n",
    "\n",
    "data = [[10101010, 'Budi', 100, 'Pria'], [10101011, 'Andi', 90, 'Pria'], [10101012, 'Ani', 80, 'Wanita'],\n",
    "        [10101013, 'Melodi', 85, 'Wanita'], [10101014, 'Siska', 100, 'Wanita'], [10101015, 'Yono', 60, 'Pria']]\n",
    "kolom = ['nim', 'nama', 'nilai', 'jenis_kelamin']\n",
    "\n",
    "df = pd.DataFrame(data, columns=kolom)\n",
    "print(df)\n",
    "\n",
    "print()\n",
    "print(df.drop('jenis_kelamin', axis=1))\n",
    "\n",
    "print()\n",
    "print(df)"
   ]
  },
  {
   "cell_type": "markdown",
   "metadata": {},
   "source": [
    "Jika kita ingin benar-benar menghapus kolom tersebut, kita bisa menambahkan parameter ``inplace = True`` di dalam fungsi drop. Berikut contoh penggunaannya:"
   ]
  },
  {
   "cell_type": "code",
   "execution_count": null,
   "metadata": {},
   "outputs": [],
   "source": [
    "import pandas as pd\n",
    "\n",
    "data = [[10101010, 'Budi', 100, 'Pria'], [10101011, 'Andi', 90, 'Pria'], [10101012, 'Ani', 80, 'Wanita'],\n",
    "        [10101013, 'Melodi', 85, 'Wanita'], [10101014, 'Siska', 100, 'Wanita'], [10101015, 'Yono', 60, 'Pria']]\n",
    "kolom = ['nim', 'nama', 'nilai', 'jenis_kelamin']\n",
    "\n",
    "df = pd.DataFrame(data, columns=kolom)\n",
    "print(df)\n",
    "\n",
    "print()\n",
    "df.drop('jenis_kelamin', axis=1, inplace = True)\n",
    "\n",
    "print()\n",
    "print(df)"
   ]
  },
  {
   "cell_type": "markdown",
   "metadata": {},
   "source": [
    "#### Menghapus Baris\n",
    "\n",
    "Mirip seperti konsep penghapusan kolom, untuk menghapus baris, kita tinggal mengganti nilai parameter ```axis`` menjadi 0. Berikut contoh penggunaannya:"
   ]
  },
  {
   "cell_type": "code",
   "execution_count": null,
   "metadata": {},
   "outputs": [],
   "source": [
    "import pandas as pd\n",
    "\n",
    "data = [[10101010, 'Budi', 100, 'Pria'], [10101011, 'Andi', 90, 'Pria'], [10101012, 'Ani', 80, 'Wanita'],\n",
    "        [10101013, 'Melodi', 85, 'Wanita'], [10101014, 'Siska', 100, 'Wanita'], [10101015, 'Yono', 60, 'Pria']]\n",
    "kolom = ['nim', 'nama', 'nilai', 'jenis_kelamin']\n",
    "\n",
    "df = pd.DataFrame(data, columns=kolom)\n",
    "print(df)\n",
    "\n",
    "print()\n",
    "print(df.drop(2, axis=0))\n",
    "\n",
    "print()\n",
    "print(df)"
   ]
  },
  {
   "cell_type": "markdown",
   "metadata": {},
   "source": [
    "Untuk benar-benar menghapus secara fisik baris yang mau dihapus, kita gunakan parameter ``inplace = True``. Berikut contoh penggunaannya:"
   ]
  },
  {
   "cell_type": "code",
   "execution_count": null,
   "metadata": {},
   "outputs": [],
   "source": [
    "import pandas as pd\n",
    "\n",
    "data = [[10101010, 'Budi', 100, 'Pria'], [10101011, 'Andi', 90, 'Pria'], [10101012, 'Ani', 80, 'Wanita'],\n",
    "        [10101013, 'Melodi', 85, 'Wanita'], [10101014, 'Siska', 100, 'Wanita'], [10101015, 'Yono', 60, 'Pria']]\n",
    "kolom = ['nim', 'nama', 'nilai', 'jenis_kelamin']\n",
    "\n",
    "df = pd.DataFrame(data, columns=kolom)\n",
    "print(df)\n",
    "\n",
    "print()\n",
    "df.drop(2, axis=0, inplace=True)\n",
    "\n",
    "print()\n",
    "print(df)"
   ]
  },
  {
   "cell_type": "markdown",
   "metadata": {},
   "source": [
    "#### Dimensi DataFrame\n",
    "\n",
    "Untuk mengetahui dimensi pada suatu dataframe, kita bisa menggunakan atribut ``shape``. Dimensi dari dataframe adalah baris x kolom. Berikut contoh penggunaannya:"
   ]
  },
  {
   "cell_type": "code",
   "execution_count": null,
   "metadata": {},
   "outputs": [],
   "source": [
    "import pandas as pd\n",
    "\n",
    "data = [[10101010, 'Budi', 100, 'Pria'], [10101011, 'Andi', 90, 'Pria'], [10101012, 'Ani', 80, 'Wanita'],\n",
    "        [10101013, 'Melodi', 85, 'Wanita'], [10101014, 'Siska', 100, 'Wanita'], [10101015, 'Yono', 60, 'Pria']]\n",
    "kolom = ['nim', 'nama', 'nilai', 'jenis_kelamin']\n",
    "\n",
    "df = pd.DataFrame(data, columns=kolom)\n",
    "print(df.drop())\n",
    "print(df.shape)"
   ]
  },
  {
   "cell_type": "markdown",
   "metadata": {},
   "source": [
    "### Data Selection di DataFrame\n",
    "\n",
    "Seperti halnya tabel pada suatu DBMS Relational, data pada DataFrame dapat diseleksi menggunakan fungsi-fungsi yang disediakan oleh pandas. Berikut adalah beberapa pembahasan perihal operasil selection di dataframe."
   ]
  },
  {
   "cell_type": "markdown",
   "metadata": {},
   "source": [
    "#### Penggunaan Operator Relasional\n",
    "\n",
    "Salah satu cara menseleksi data pada dataframe adalah menggunakan operator relasional. Jenis operator relasional yang digunakan sama dengan pembahasan topik sebelumnya. Berikut adalah beberapa cara contoh seleksi data menggunakan operator relasional:"
   ]
  },
  {
   "cell_type": "code",
   "execution_count": null,
   "metadata": {},
   "outputs": [],
   "source": [
    "import pandas as pd\n",
    "\n",
    "data = [[10101010, 'Budi', 100, 'Pria'], [10101011, 'Andi', 90, 'Pria'], [10101012, 'Ani', 80, 'Wanita'],\n",
    "        [10101013, 'Melodi', 85, 'Wanita'], [10101014, 'Siska', 100, 'Wanita'], [10101015, 'Yono', 60, 'Pria']]\n",
    "kolom = ['nim', 'nama', 'nilai', 'jenis_kelamin']\n",
    "\n",
    "df = pd.DataFrame(data, columns=kolom)\n",
    "\n",
    "seleksi_nim = df['nim'] > 10101012\n",
    "print(seleksi_nim)"
   ]
  },
  {
   "cell_type": "markdown",
   "metadata": {},
   "source": [
    "Untuk memunculkan isi dari hasil seleksi tersebut, kita gunakan hasil seleksi sebagai indeks/label pada dataframe seperti berikut:"
   ]
  },
  {
   "cell_type": "code",
   "execution_count": null,
   "metadata": {},
   "outputs": [],
   "source": [
    "import pandas as pd\n",
    "\n",
    "data = [[10101010, 'Budi', 100, 'Pria'], [10101011, 'Andi', 90, 'Pria'], [10101012, 'Ani', 80, 'Wanita'],\n",
    "        [10101013, 'Melodi', 85, 'Wanita'], [10101014, 'Siska', 100, 'Wanita'], [10101015, 'Yono', 60, 'Pria']]\n",
    "kolom = ['nim', 'nama', 'nilai', 'jenis_kelamin']\n",
    "\n",
    "df = pd.DataFrame(data, columns=kolom)\n",
    "\n",
    "# Cara 1\n",
    "seleksi_nim = df['nim'] > 10101012\n",
    "print(df[seleksi_nim])\n",
    "\n",
    "print()\n",
    "\n",
    "# Cara 2\n",
    "print(df[df['nim'] > 10101012])"
   ]
  },
  {
   "cell_type": "markdown",
   "metadata": {},
   "source": [
    "Kita tetap bisa men-slicing hasil seleksi tersebut dengan konsep slicing yang sama dengan sebelumnya. Berikut contoh penggunaannya:"
   ]
  },
  {
   "cell_type": "code",
   "execution_count": null,
   "metadata": {},
   "outputs": [],
   "source": [
    "import pandas as pd\n",
    "\n",
    "data = [[10101010, 'Budi', 100, 'Pria'], [10101011, 'Andi', 90, 'Pria'], [10101012, 'Ani', 80, 'Wanita'],\n",
    "        [10101013, 'Melodi', 85, 'Wanita'], [10101014, 'Siska', 100, 'Wanita'], [10101015, 'Yono', 60, 'Pria']]\n",
    "kolom = ['nim', 'nama', 'nilai', 'jenis_kelamin']\n",
    "\n",
    "df = pd.DataFrame(data, columns=kolom)\n",
    "\n",
    "# Cara 1\n",
    "seleksi_nim = df['nim'] > 10101012\n",
    "print(df[seleksi_nim]['nama'])\n",
    "\n",
    "print()\n",
    "\n",
    "# Cara 2\n",
    "print(df[df['nim'] > 10101012]['nama'])"
   ]
  },
  {
   "cell_type": "markdown",
   "metadata": {},
   "source": [
    "Selain itu kita juga bisa menggunakan multikolom dengan cara yang sama seperti berikut:"
   ]
  },
  {
   "cell_type": "code",
   "execution_count": null,
   "metadata": {},
   "outputs": [],
   "source": [
    "import pandas as pd\n",
    "\n",
    "data = [[10101010, 'Budi', 100, 'Pria'], [10101011, 'Andi', 90, 'Pria'], [10101012, 'Ani', 80, 'Wanita'],\n",
    "        [10101013, 'Melodi', 85, 'Wanita'], [10101014, 'Siska', 100, 'Wanita'], [10101015, 'Yono', 60, 'Pria']]\n",
    "kolom = ['nim', 'nama', 'nilai', 'jenis_kelamin']\n",
    "\n",
    "df = pd.DataFrame(data, columns=kolom)\n",
    "\n",
    "# Cara 1\n",
    "seleksi_nim = df['nim'] > 10101012\n",
    "print(df[seleksi_nim][['nama', 'nilai']])\n",
    "\n",
    "print()\n",
    "\n",
    "# Cara 2\n",
    "print(df[df['nim'] > 10101012][['nama', 'nilai']])"
   ]
  },
  {
   "cell_type": "markdown",
   "metadata": {},
   "source": [
    "#### Hands on Lab 1: Mencoba seleksi operator relasional\n",
    "\n",
    "Silakan coba operator relasional lainnya dan juga kolom lainnya untuk proses seleksi."
   ]
  },
  {
   "cell_type": "code",
   "execution_count": null,
   "metadata": {},
   "outputs": [],
   "source": [
    "import pandas as pd\n",
    "\n",
    "data = [[10101010, 'Budi', 100, 'Pria'], [10101011, 'Andi', 90, 'Pria'], [10101012, 'Ani', 80, 'Wanita'],\n",
    "        [10101013, 'Melodi', 85, 'Wanita'], [10101014, 'Siska', 100, 'Wanita'], [10101015, 'Yono', 60, 'Pria']]\n",
    "kolom = ['nim', 'nama', 'nilai', 'jenis_kelamin']\n",
    "\n",
    "df = pd.DataFrame(data, columns=kolom)\n",
    "\n",
    "# Ganti operator maupun kolom\n",
    "seleksi_nim = df['nim'] > 10101012\n",
    "print(df[seleksi_nim])\n",
    "\n",
    "print()\n",
    "\n",
    "# Ganti operator maupun kolom\n",
    "print(df[df['nim'] > 10101012])"
   ]
  },
  {
   "cell_type": "markdown",
   "metadata": {},
   "source": [
    "#### Seleksi dengan Multikondisional\n",
    "\n",
    "Contoh sebelumnya selalu membahas seleksi dataframe dengan 1 buah kondisional. Bagaimana cara seleksi jika kondisional yang diperiksa lebih dari satu? Kita bisa menggunakan operator logika untuk mengkombinasikan kondisional yang ada. Sebagai contoh pada kasus data mahasiswa sebelumnya, mari kita seleksi data dimana nim > 10101012 dan nilai >= 90. Berikut kode programnya:"
   ]
  },
  {
   "cell_type": "code",
   "execution_count": null,
   "metadata": {},
   "outputs": [],
   "source": [
    "import pandas as pd\n",
    "\n",
    "data = [[10101010, 'Budi', 100, 'Pria'], [10101011, 'Andi', 90, 'Pria'], [10101012, 'Ani', 80, 'Wanita'],\n",
    "        [10101013, 'Melodi', 85, 'Wanita'], [10101014, 'Siska', 100, 'Wanita'], [10101015, 'Yono', 60, 'Pria']]\n",
    "kolom = ['nim', 'nama', 'nilai', 'jenis_kelamin']\n",
    "\n",
    "df = pd.DataFrame(data, columns=kolom)\n",
    "\n",
    "seleksi_nim = (df['nim'] > 10101012) & (df['nilai'] >= 80)\n",
    "print(df[seleksi_nim])"
   ]
  },
  {
   "cell_type": "markdown",
   "metadata": {},
   "source": [
    "#### Hands on Lab 2: Seleksi Multikondisional\n",
    "\n",
    "Silakan coba operator logika lainnya dan juga kombinasi kondisional lainnya untuk proses seleksi."
   ]
  },
  {
   "cell_type": "code",
   "execution_count": null,
   "metadata": {},
   "outputs": [],
   "source": [
    "import pandas as pd\n",
    "\n",
    "data = [[10101010, 'Budi', 100, 'Pria'], [10101011, 'Andi', 90, 'Pria'], [10101012, 'Ani', 80, 'Wanita'],\n",
    "        [10101013, 'Melodi', 85, 'Wanita'], [10101014, 'Siska', 100, 'Wanita'], [10101015, 'Yono', 60, 'Pria']]\n",
    "kolom = ['nim', 'nama', 'nilai', 'jenis_kelamin']\n",
    "\n",
    "df = pd.DataFrame(data, columns=kolom)\n",
    "\n",
    "# Ganti operator logika dan kombinasi kondisionalnya\n",
    "seleksi_nim = (df['nim'] > 10101012) & (df['nilai'] >= 80)\n",
    "print(df[seleksi_nim])"
   ]
  },
  {
   "cell_type": "markdown",
   "metadata": {},
   "source": [
    "### Fungsi reset_index()\n",
    "\n",
    "Fungsi ``reset_index()`` digunakan untuk mengembalikan indeks/label baris ke kondisi default (0, 1, 2, dan seterusnya). Apabila sudah ada custom label pada baris, maka label tersebut akan dijadikan kolom baru di dalam dataframe. Berikut contoh penggunaannya:"
   ]
  },
  {
   "cell_type": "code",
   "execution_count": 43,
   "metadata": {},
   "outputs": [
    {
     "name": "stdout",
     "output_type": "stream",
     "text": [
      "          nama  nilai\n",
      "10101010  Budi    100\n",
      "10101011  Andi     90\n",
      "10101012   Ani     80\n",
      "\n",
      "      index  nama  nilai\n",
      "0  10101010  Budi    100\n",
      "1  10101011  Andi     90\n",
      "2  10101012   Ani     80\n",
      "\n",
      "          nama  nilai\n",
      "10101010  Budi    100\n",
      "10101011  Andi     90\n",
      "10101012   Ani     80\n"
     ]
    }
   ],
   "source": [
    "import pandas as pd\n",
    "\n",
    "nim = [10101010, 10101011, 10101012]\n",
    "data = [['Budi', 100], ['Andi', 90], ['Ani', 80]]\n",
    "kolom = ['nama', 'nilai']\n",
    "\n",
    "df = pd.DataFrame(data, nim, kolom)\n",
    "\n",
    "print(df)\n",
    "print()\n",
    "\n",
    "print(df.reset_index())\n",
    "print()\n",
    "print(df)\n"
   ]
  },
  {
   "cell_type": "markdown",
   "metadata": {},
   "source": [
    "Jika kita mau me-reset indeks secara permanen, maka gunakan parameter ``inplace = True`` di dalam parameter fungsi tersebut. Berikut contoh penggunaanya:"
   ]
  },
  {
   "cell_type": "code",
   "execution_count": 45,
   "metadata": {},
   "outputs": [
    {
     "name": "stdout",
     "output_type": "stream",
     "text": [
      "          nama  nilai\n",
      "10101010  Budi    100\n",
      "10101011  Andi     90\n",
      "10101012   Ani     80\n",
      "\n",
      "\n",
      "      index  nama  nilai\n",
      "0  10101010  Budi    100\n",
      "1  10101011  Andi     90\n",
      "2  10101012   Ani     80\n"
     ]
    }
   ],
   "source": [
    "import pandas as pd\n",
    "\n",
    "nim = [10101010, 10101011, 10101012]\n",
    "data = [['Budi', 100], ['Andi', 90], ['Ani', 80]]\n",
    "kolom = ['nama', 'nilai']\n",
    "\n",
    "df = pd.DataFrame(data, nim, kolom)\n",
    "\n",
    "print(df)\n",
    "print()\n",
    "\n",
    "df.reset_index(inplace= True)\n",
    "print()\n",
    "print(df)"
   ]
  },
  {
   "cell_type": "markdown",
   "metadata": {},
   "source": [
    "### Fungsi set_index()\n",
    "\n",
    "Kita bisa menggunakan fungsi ``set_index()`` untuk mengganti label/indeks baris yang ada pada dataframe. Berikut contoh penggunaannya:"
   ]
  },
  {
   "cell_type": "code",
   "execution_count": 50,
   "metadata": {},
   "outputs": [
    {
     "name": "stdout",
     "output_type": "stream",
     "text": [
      "          nama  nilai\n",
      "10101010  Budi    100\n",
      "10101011  Andi     90\n",
      "10101012   Ani     80\n",
      "       nama\n",
      "nilai      \n",
      "100    Budi\n",
      "90     Andi\n",
      "80      Ani\n",
      "\n",
      "          nama  nilai\n",
      "10101010  Budi    100\n",
      "10101011  Andi     90\n",
      "10101012   Ani     80\n"
     ]
    }
   ],
   "source": [
    "import pandas as pd\n",
    "\n",
    "nim = [10101010, 10101011, 10101012]\n",
    "data = [['Budi', 100], ['Andi', 90], ['Ani', 80]]\n",
    "kolom = ['nama', 'nilai']\n",
    "\n",
    "df = pd.DataFrame(data, nim, kolom)\n",
    "print(df)\n",
    "\n",
    "\n",
    "print(df.set_index('nilai'))\n",
    "print()\n",
    "print(df)"
   ]
  },
  {
   "cell_type": "markdown",
   "metadata": {},
   "source": [
    "Gunakan parameter ``inplace = True`` agar efeknya permanen."
   ]
  },
  {
   "cell_type": "code",
   "execution_count": 51,
   "metadata": {},
   "outputs": [
    {
     "name": "stdout",
     "output_type": "stream",
     "text": [
      "          nama  nilai\n",
      "10101010  Budi    100\n",
      "10101011  Andi     90\n",
      "10101012   Ani     80\n",
      "\n",
      "       nama\n",
      "nilai      \n",
      "100    Budi\n",
      "90     Andi\n",
      "80      Ani\n"
     ]
    }
   ],
   "source": [
    "import pandas as pd\n",
    "\n",
    "nim = [10101010, 10101011, 10101012]\n",
    "data = [['Budi', 100], ['Andi', 90], ['Ani', 80]]\n",
    "kolom = ['nama', 'nilai']\n",
    "\n",
    "df = pd.DataFrame(data, nim, kolom)\n",
    "print(df)\n",
    "\n",
    "\n",
    "df.set_index('nilai', inplace= True)\n",
    "print()\n",
    "print(df)"
   ]
  },
  {
   "cell_type": "markdown",
   "metadata": {},
   "source": [
    "### Multilevel Indeks\n",
    "\n",
    "Dataframe pada pandas mendukung multilevel indeks untuk mendukung multidimensional data. Berikut contoh penggunaan multilevel indeks:"
   ]
  },
  {
   "cell_type": "code",
   "execution_count": 63,
   "metadata": {},
   "outputs": [
    {
     "name": "stdout",
     "output_type": "stream",
     "text": [
      "   Jawa Barat  Bali\n",
      "0          10    20\n",
      "1          30    40\n",
      "2          10    20\n",
      "3          30    40\n",
      "4         100   200\n",
      "5         300    40\n",
      "6          50    50\n",
      "7         100   100\n",
      "\n",
      "MultiIndex([(2020, 1),\n",
      "            (2020, 2),\n",
      "            (2020, 3),\n",
      "            (2020, 4),\n",
      "            (2021, 1),\n",
      "            (2021, 2),\n",
      "            (2021, 3),\n",
      "            (2021, 4)],\n",
      "           )\n",
      "\n",
      "        Jawa Barat  Bali\n",
      "2020 1          10    20\n",
      "     2          30    40\n",
      "     3          10    20\n",
      "     4          30    40\n",
      "2021 1         100   200\n",
      "     2         300    40\n",
      "     3          50    50\n",
      "     4         100   100\n"
     ]
    }
   ],
   "source": [
    "import pandas as pd\n",
    "\n",
    "data = [[10, 20], [30 , 40], [10, 20], [30, 40],\n",
    "        [100, 200], [300 , 40], [50, 50], [100, 100]]\n",
    "kolom = ['Jawa Barat', 'Bali']\n",
    "\n",
    "df = pd.DataFrame(data, columns = kolom)\n",
    "print(df)\n",
    "print()\n",
    "\n",
    "tahun = [2020, 2020, 2020, 2020, 2021, 2021, 2021, 2021]\n",
    "kuartal = [1, 2, 3, 4, 1, 2, 3, 4]\n",
    "indeks_baris = list(zip(tahun, kuartal))\n",
    "indeks_baris = pd.MultiIndex.from_tuples(indeks_baris)\n",
    "print(indeks_baris)\n",
    "print()\n",
    "\n",
    "df = pd.DataFrame(data, indeks_baris, kolom)\n",
    "print(df)"
   ]
  },
  {
   "cell_type": "markdown",
   "metadata": {},
   "source": [
    "Cara mengaksesnya pun bisa memanfaatkan indeks yang dibutuhkan. Sebagai contoh kita mau mengakses data di tahun 2020, maka kode programnya sebagai berikut:"
   ]
  },
  {
   "cell_type": "code",
   "execution_count": 64,
   "metadata": {},
   "outputs": [
    {
     "name": "stdout",
     "output_type": "stream",
     "text": [
      "   Jawa Barat  Bali\n",
      "1          10    20\n",
      "2          30    40\n",
      "3          10    20\n",
      "4          30    40\n"
     ]
    }
   ],
   "source": [
    "print(df.loc[2020])"
   ]
  },
  {
   "cell_type": "code",
   "execution_count": null,
   "metadata": {},
   "outputs": [],
   "source": []
  }
 ],
 "metadata": {
  "interpreter": {
   "hash": "e134e05457d34029b6460cd73bbf1ed73f339b5b6d98c95be70b69eba114fe95"
  },
  "kernelspec": {
   "display_name": "Python 3",
   "language": "python",
   "name": "python3"
  },
  "language_info": {
   "codemirror_mode": {
    "name": "ipython",
    "version": 3
   },
   "file_extension": ".py",
   "mimetype": "text/x-python",
   "name": "python",
   "nbconvert_exporter": "python",
   "pygments_lexer": "ipython3",
   "version": "3.8.10"
  }
 },
 "nbformat": 4,
 "nbformat_minor": 2
}
